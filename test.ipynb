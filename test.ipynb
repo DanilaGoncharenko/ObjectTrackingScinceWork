{
 "cells": [
  {
   "cell_type": "code",
   "execution_count": 11,
   "id": "19b1afd7",
   "metadata": {},
   "outputs": [],
   "source": [
    "import cv2\n",
    "import os\n",
    "from ultralytics import YOLO    \n",
    "from ultralytics.data.converter import convert_coco"
   ]
  },
  {
   "cell_type": "code",
   "execution_count": 22,
   "id": "33f5cc13",
   "metadata": {},
   "outputs": [],
   "source": [
    "from ultralytics import SAM"
   ]
  },
  {
   "cell_type": "code",
   "execution_count": 30,
   "id": "2c381c06",
   "metadata": {},
   "outputs": [
    {
     "name": "stdout",
     "output_type": "stream",
     "text": [
      "\n",
      "0: 640x640 8 persons, 383.3ms\n",
      "Speed: 11.0ms preprocess, 383.3ms inference, 13.9ms postprocess per image at shape (1, 3, 640, 640)\n",
      "\n",
      "0: 640x640 8 persons, 127.9ms\n",
      "Speed: 7.4ms preprocess, 127.9ms inference, 3.9ms postprocess per image at shape (1, 3, 640, 640)\n",
      "\n",
      "0: 640x640 8 persons, 107.5ms\n",
      "Speed: 5.1ms preprocess, 107.5ms inference, 2.4ms postprocess per image at shape (1, 3, 640, 640)\n",
      "\n",
      "0: 640x640 8 persons, 107.9ms\n",
      "Speed: 5.8ms preprocess, 107.9ms inference, 2.0ms postprocess per image at shape (1, 3, 640, 640)\n",
      "\n",
      "0: 640x640 8 persons, 179.9ms\n",
      "Speed: 5.5ms preprocess, 179.9ms inference, 2.7ms postprocess per image at shape (1, 3, 640, 640)\n",
      "\n",
      "0: 640x640 8 persons, 140.1ms\n",
      "Speed: 6.6ms preprocess, 140.1ms inference, 1.8ms postprocess per image at shape (1, 3, 640, 640)\n",
      "\n",
      "0: 640x640 8 persons, 118.3ms\n",
      "Speed: 5.8ms preprocess, 118.3ms inference, 1.6ms postprocess per image at shape (1, 3, 640, 640)\n",
      "\n",
      "0: 640x640 8 persons, 98.4ms\n",
      "Speed: 5.3ms preprocess, 98.4ms inference, 2.0ms postprocess per image at shape (1, 3, 640, 640)\n",
      "\n",
      "0: 640x640 8 persons, 123.3ms\n",
      "Speed: 6.5ms preprocess, 123.3ms inference, 1.5ms postprocess per image at shape (1, 3, 640, 640)\n",
      "\n",
      "0: 640x640 8 persons, 109.7ms\n",
      "Speed: 4.6ms preprocess, 109.7ms inference, 1.6ms postprocess per image at shape (1, 3, 640, 640)\n",
      "\n",
      "0: 640x640 8 persons, 134.1ms\n",
      "Speed: 6.8ms preprocess, 134.1ms inference, 4.0ms postprocess per image at shape (1, 3, 640, 640)\n",
      "\n",
      "0: 640x640 8 persons, 152.6ms\n",
      "Speed: 7.1ms preprocess, 152.6ms inference, 2.0ms postprocess per image at shape (1, 3, 640, 640)\n",
      "\n",
      "0: 640x640 8 persons, 122.4ms\n",
      "Speed: 6.4ms preprocess, 122.4ms inference, 2.4ms postprocess per image at shape (1, 3, 640, 640)\n",
      "\n",
      "0: 640x640 8 persons, 114.4ms\n",
      "Speed: 6.8ms preprocess, 114.4ms inference, 1.4ms postprocess per image at shape (1, 3, 640, 640)\n",
      "\n",
      "0: 640x640 7 persons, 108.2ms\n",
      "Speed: 5.7ms preprocess, 108.2ms inference, 3.1ms postprocess per image at shape (1, 3, 640, 640)\n",
      "\n",
      "0: 640x640 7 persons, 128.0ms\n",
      "Speed: 7.1ms preprocess, 128.0ms inference, 1.5ms postprocess per image at shape (1, 3, 640, 640)\n",
      "\n",
      "0: 640x640 9 persons, 103.1ms\n",
      "Speed: 5.8ms preprocess, 103.1ms inference, 1.9ms postprocess per image at shape (1, 3, 640, 640)\n",
      "\n",
      "0: 640x640 6 persons, 118.7ms\n",
      "Speed: 4.9ms preprocess, 118.7ms inference, 2.2ms postprocess per image at shape (1, 3, 640, 640)\n",
      "\n",
      "0: 640x640 4 persons, 104.8ms\n",
      "Speed: 5.9ms preprocess, 104.8ms inference, 1.8ms postprocess per image at shape (1, 3, 640, 640)\n",
      "\n",
      "0: 640x640 2 persons, 99.0ms\n",
      "Speed: 5.8ms preprocess, 99.0ms inference, 1.5ms postprocess per image at shape (1, 3, 640, 640)\n",
      "\n",
      "0: 640x640 1 person, 130.5ms\n",
      "Speed: 5.5ms preprocess, 130.5ms inference, 3.6ms postprocess per image at shape (1, 3, 640, 640)\n",
      "\n",
      "0: 640x640 3 persons, 138.0ms\n",
      "Speed: 6.3ms preprocess, 138.0ms inference, 2.5ms postprocess per image at shape (1, 3, 640, 640)\n",
      "\n",
      "0: 640x640 2 persons, 2 snowboards, 145.2ms\n",
      "Speed: 6.8ms preprocess, 145.2ms inference, 1.9ms postprocess per image at shape (1, 3, 640, 640)\n",
      "\n",
      "0: 640x640 4 persons, 1 skis, 151.6ms\n",
      "Speed: 7.2ms preprocess, 151.6ms inference, 3.1ms postprocess per image at shape (1, 3, 640, 640)\n",
      "\n",
      "0: 640x640 2 persons, 140.6ms\n",
      "Speed: 6.1ms preprocess, 140.6ms inference, 1.7ms postprocess per image at shape (1, 3, 640, 640)\n",
      "\n",
      "0: 640x640 2 persons, 2 skiss, 1 snowboard, 150.9ms\n",
      "Speed: 7.2ms preprocess, 150.9ms inference, 1.7ms postprocess per image at shape (1, 3, 640, 640)\n",
      "\n",
      "0: 640x640 3 persons, 2 skiss, 1 snowboard, 102.0ms\n",
      "Speed: 5.1ms preprocess, 102.0ms inference, 1.4ms postprocess per image at shape (1, 3, 640, 640)\n",
      "\n",
      "0: 640x640 2 persons, 128.4ms\n",
      "Speed: 6.2ms preprocess, 128.4ms inference, 1.5ms postprocess per image at shape (1, 3, 640, 640)\n",
      "\n",
      "0: 640x640 3 persons, 1 skis, 151.4ms\n",
      "Speed: 6.4ms preprocess, 151.4ms inference, 2.2ms postprocess per image at shape (1, 3, 640, 640)\n",
      "\n",
      "0: 640x640 2 persons, 2 skiss, 1 snowboard, 173.4ms\n",
      "Speed: 6.7ms preprocess, 173.4ms inference, 2.0ms postprocess per image at shape (1, 3, 640, 640)\n",
      "\n",
      "0: 640x640 2 persons, 1 snowboard, 112.0ms\n",
      "Speed: 6.6ms preprocess, 112.0ms inference, 1.2ms postprocess per image at shape (1, 3, 640, 640)\n",
      "\n",
      "0: 640x640 2 persons, 1 snowboard, 100.9ms\n",
      "Speed: 5.5ms preprocess, 100.9ms inference, 1.5ms postprocess per image at shape (1, 3, 640, 640)\n",
      "\n",
      "0: 640x640 4 persons, 225.4ms\n",
      "Speed: 5.3ms preprocess, 225.4ms inference, 1.6ms postprocess per image at shape (1, 3, 640, 640)\n",
      "\n",
      "0: 640x640 4 persons, 169.0ms\n",
      "Speed: 6.5ms preprocess, 169.0ms inference, 2.2ms postprocess per image at shape (1, 3, 640, 640)\n",
      "\n",
      "0: 640x640 4 persons, 1 snowboard, 126.7ms\n",
      "Speed: 6.7ms preprocess, 126.7ms inference, 1.7ms postprocess per image at shape (1, 3, 640, 640)\n",
      "\n",
      "0: 640x640 4 persons, 156.3ms\n",
      "Speed: 6.5ms preprocess, 156.3ms inference, 1.5ms postprocess per image at shape (1, 3, 640, 640)\n",
      "\n",
      "0: 640x640 4 persons, 1 snowboard, 116.0ms\n",
      "Speed: 6.3ms preprocess, 116.0ms inference, 2.3ms postprocess per image at shape (1, 3, 640, 640)\n",
      "\n",
      "0: 640x640 3 persons, 1 snowboard, 107.3ms\n",
      "Speed: 6.0ms preprocess, 107.3ms inference, 1.2ms postprocess per image at shape (1, 3, 640, 640)\n",
      "\n",
      "0: 640x640 4 persons, 1 snowboard, 127.1ms\n",
      "Speed: 5.3ms preprocess, 127.1ms inference, 1.6ms postprocess per image at shape (1, 3, 640, 640)\n",
      "\n",
      "0: 640x640 4 persons, 1 skis, 1 snowboard, 113.4ms\n",
      "Speed: 5.3ms preprocess, 113.4ms inference, 2.9ms postprocess per image at shape (1, 3, 640, 640)\n",
      "\n",
      "0: 640x640 4 persons, 2 skiss, 1 snowboard, 114.0ms\n",
      "Speed: 6.1ms preprocess, 114.0ms inference, 1.9ms postprocess per image at shape (1, 3, 640, 640)\n",
      "\n",
      "0: 640x640 4 persons, 2 skiss, 1 snowboard, 108.6ms\n",
      "Speed: 6.1ms preprocess, 108.6ms inference, 1.2ms postprocess per image at shape (1, 3, 640, 640)\n",
      "\n",
      "0: 640x640 5 persons, 1 snowboard, 1 surfboard, 105.4ms\n",
      "Speed: 5.9ms preprocess, 105.4ms inference, 1.6ms postprocess per image at shape (1, 3, 640, 640)\n",
      "\n",
      "0: 640x640 3 persons, 1 skis, 1 surfboard, 111.3ms\n",
      "Speed: 6.1ms preprocess, 111.3ms inference, 1.6ms postprocess per image at shape (1, 3, 640, 640)\n",
      "\n",
      "0: 640x640 5 persons, 1 snowboard, 1 surfboard, 104.9ms\n",
      "Speed: 5.7ms preprocess, 104.9ms inference, 1.3ms postprocess per image at shape (1, 3, 640, 640)\n",
      "\n",
      "0: 640x640 1 person, 102.7ms\n",
      "Speed: 5.8ms preprocess, 102.7ms inference, 1.4ms postprocess per image at shape (1, 3, 640, 640)\n",
      "\n",
      "0: 640x640 1 person, 1 snowboard, 114.3ms\n",
      "Speed: 5.4ms preprocess, 114.3ms inference, 1.4ms postprocess per image at shape (1, 3, 640, 640)\n",
      "\n",
      "0: 640x640 4 persons, 2 snowboards, 1 surfboard, 130.0ms\n",
      "Speed: 6.5ms preprocess, 130.0ms inference, 2.6ms postprocess per image at shape (1, 3, 640, 640)\n",
      "\n",
      "0: 640x640 3 persons, 2 snowboards, 1 surfboard, 126.4ms\n",
      "Speed: 4.8ms preprocess, 126.4ms inference, 2.0ms postprocess per image at shape (1, 3, 640, 640)\n",
      "\n",
      "0: 640x640 6 persons, 1 snowboard, 4 surfboards, 110.8ms\n",
      "Speed: 6.2ms preprocess, 110.8ms inference, 1.6ms postprocess per image at shape (1, 3, 640, 640)\n",
      "\n",
      "0: 640x640 6 persons, 3 surfboards, 104.2ms\n",
      "Speed: 6.1ms preprocess, 104.2ms inference, 1.4ms postprocess per image at shape (1, 3, 640, 640)\n",
      "\n",
      "0: 640x640 1 person, 1 surfboard, 114.5ms\n",
      "Speed: 6.4ms preprocess, 114.5ms inference, 1.4ms postprocess per image at shape (1, 3, 640, 640)\n",
      "\n",
      "0: 640x640 1 surfboard, 106.4ms\n",
      "Speed: 5.2ms preprocess, 106.4ms inference, 1.5ms postprocess per image at shape (1, 3, 640, 640)\n",
      "\n",
      "0: 640x640 1 surfboard, 103.7ms\n",
      "Speed: 5.7ms preprocess, 103.7ms inference, 1.2ms postprocess per image at shape (1, 3, 640, 640)\n",
      "\n",
      "0: 640x640 1 surfboard, 98.9ms\n",
      "Speed: 4.5ms preprocess, 98.9ms inference, 1.2ms postprocess per image at shape (1, 3, 640, 640)\n",
      "\n",
      "0: 640x640 1 surfboard, 97.6ms\n",
      "Speed: 5.3ms preprocess, 97.6ms inference, 1.5ms postprocess per image at shape (1, 3, 640, 640)\n",
      "\n",
      "0: 640x640 1 person, 2 surfboards, 108.8ms\n",
      "Speed: 4.7ms preprocess, 108.8ms inference, 1.7ms postprocess per image at shape (1, 3, 640, 640)\n",
      "\n",
      "0: 640x640 1 surfboard, 115.9ms\n",
      "Speed: 5.8ms preprocess, 115.9ms inference, 1.7ms postprocess per image at shape (1, 3, 640, 640)\n",
      "\n",
      "0: 640x640 1 person, 1 surfboard, 115.2ms\n",
      "Speed: 5.9ms preprocess, 115.2ms inference, 1.8ms postprocess per image at shape (1, 3, 640, 640)\n",
      "\n",
      "0: 640x640 1 surfboard, 114.6ms\n",
      "Speed: 5.7ms preprocess, 114.6ms inference, 4.0ms postprocess per image at shape (1, 3, 640, 640)\n",
      "\n",
      "0: 640x640 1 surfboard, 120.2ms\n",
      "Speed: 6.3ms preprocess, 120.2ms inference, 2.6ms postprocess per image at shape (1, 3, 640, 640)\n",
      "\n",
      "0: 640x640 1 surfboard, 136.5ms\n",
      "Speed: 5.7ms preprocess, 136.5ms inference, 1.5ms postprocess per image at shape (1, 3, 640, 640)\n",
      "\n",
      "0: 640x640 1 surfboard, 112.0ms\n",
      "Speed: 5.8ms preprocess, 112.0ms inference, 1.6ms postprocess per image at shape (1, 3, 640, 640)\n",
      "\n",
      "0: 640x640 1 person, 100.0ms\n",
      "Speed: 6.4ms preprocess, 100.0ms inference, 1.9ms postprocess per image at shape (1, 3, 640, 640)\n",
      "\n",
      "0: 640x640 1 skis, 99.7ms\n",
      "Speed: 5.7ms preprocess, 99.7ms inference, 1.6ms postprocess per image at shape (1, 3, 640, 640)\n",
      "\n",
      "0: 640x640 1 person, 1 surfboard, 108.2ms\n",
      "Speed: 4.7ms preprocess, 108.2ms inference, 2.2ms postprocess per image at shape (1, 3, 640, 640)\n",
      "\n",
      "0: 640x640 2 persons, 260.3ms\n",
      "Speed: 5.6ms preprocess, 260.3ms inference, 23.8ms postprocess per image at shape (1, 3, 640, 640)\n",
      "\n",
      "0: 640x640 1 person, 1 snowboard, 138.9ms\n",
      "Speed: 6.0ms preprocess, 138.9ms inference, 2.4ms postprocess per image at shape (1, 3, 640, 640)\n",
      "\n",
      "0: 640x640 3 persons, 119.5ms\n",
      "Speed: 5.5ms preprocess, 119.5ms inference, 1.5ms postprocess per image at shape (1, 3, 640, 640)\n",
      "\n",
      "0: 640x640 3 persons, 143.0ms\n",
      "Speed: 5.8ms preprocess, 143.0ms inference, 1.3ms postprocess per image at shape (1, 3, 640, 640)\n",
      "\n",
      "0: 640x640 3 persons, 111.2ms\n",
      "Speed: 5.6ms preprocess, 111.2ms inference, 1.3ms postprocess per image at shape (1, 3, 640, 640)\n",
      "\n",
      "0: 640x640 2 persons, 106.1ms\n",
      "Speed: 5.3ms preprocess, 106.1ms inference, 2.1ms postprocess per image at shape (1, 3, 640, 640)\n",
      "\n",
      "0: 640x640 3 persons, 177.9ms\n",
      "Speed: 7.5ms preprocess, 177.9ms inference, 2.3ms postprocess per image at shape (1, 3, 640, 640)\n",
      "\n",
      "0: 640x640 3 persons, 124.0ms\n",
      "Speed: 6.7ms preprocess, 124.0ms inference, 1.5ms postprocess per image at shape (1, 3, 640, 640)\n",
      "\n",
      "0: 640x640 2 persons, 121.5ms\n",
      "Speed: 7.6ms preprocess, 121.5ms inference, 1.4ms postprocess per image at shape (1, 3, 640, 640)\n",
      "\n",
      "0: 640x640 1 person, 109.5ms\n",
      "Speed: 6.0ms preprocess, 109.5ms inference, 1.9ms postprocess per image at shape (1, 3, 640, 640)\n",
      "\n",
      "0: 640x640 11 persons, 1 bird, 1 skis, 108.5ms\n",
      "Speed: 6.5ms preprocess, 108.5ms inference, 1.4ms postprocess per image at shape (1, 3, 640, 640)\n",
      "\n",
      "0: 640x640 1 person, 126.4ms\n",
      "Speed: 6.2ms preprocess, 126.4ms inference, 2.4ms postprocess per image at shape (1, 3, 640, 640)\n",
      "\n",
      "0: 640x640 2 persons, 107.3ms\n",
      "Speed: 4.7ms preprocess, 107.3ms inference, 1.6ms postprocess per image at shape (1, 3, 640, 640)\n",
      "\n",
      "0: 640x640 2 persons, 116.2ms\n",
      "Speed: 5.1ms preprocess, 116.2ms inference, 2.4ms postprocess per image at shape (1, 3, 640, 640)\n",
      "\n",
      "0: 640x640 1 person, 121.4ms\n",
      "Speed: 8.6ms preprocess, 121.4ms inference, 1.9ms postprocess per image at shape (1, 3, 640, 640)\n",
      "\n",
      "0: 640x640 2 persons, 1 skis, 125.2ms\n",
      "Speed: 4.8ms preprocess, 125.2ms inference, 1.8ms postprocess per image at shape (1, 3, 640, 640)\n",
      "\n",
      "0: 640x640 1 person, 115.6ms\n",
      "Speed: 4.5ms preprocess, 115.6ms inference, 2.4ms postprocess per image at shape (1, 3, 640, 640)\n",
      "\n",
      "0: 640x640 3 persons, 1 bird, 1 skis, 1 kite, 132.5ms\n",
      "Speed: 8.2ms preprocess, 132.5ms inference, 1.5ms postprocess per image at shape (1, 3, 640, 640)\n",
      "\n",
      "0: 640x640 8 persons, 1 skis, 125.5ms\n",
      "Speed: 6.1ms preprocess, 125.5ms inference, 1.7ms postprocess per image at shape (1, 3, 640, 640)\n",
      "\n",
      "0: 640x640 4 persons, 2 skiss, 116.2ms\n",
      "Speed: 5.9ms preprocess, 116.2ms inference, 1.9ms postprocess per image at shape (1, 3, 640, 640)\n",
      "\n",
      "0: 640x640 2 persons, 1 skis, 115.2ms\n",
      "Speed: 6.0ms preprocess, 115.2ms inference, 1.5ms postprocess per image at shape (1, 3, 640, 640)\n",
      "\n",
      "0: 640x640 1 person, 124.0ms\n",
      "Speed: 6.4ms preprocess, 124.0ms inference, 2.1ms postprocess per image at shape (1, 3, 640, 640)\n",
      "\n",
      "0: 640x640 7 persons, 1 bird, 3 skiss, 109.2ms\n",
      "Speed: 6.1ms preprocess, 109.2ms inference, 2.0ms postprocess per image at shape (1, 3, 640, 640)\n",
      "\n",
      "0: 640x640 2 persons, 2 skiss, 112.3ms\n",
      "Speed: 6.1ms preprocess, 112.3ms inference, 1.6ms postprocess per image at shape (1, 3, 640, 640)\n",
      "\n",
      "0: 640x640 3 persons, 1 skis, 110.0ms\n",
      "Speed: 5.6ms preprocess, 110.0ms inference, 1.5ms postprocess per image at shape (1, 3, 640, 640)\n",
      "\n",
      "0: 640x640 3 persons, 1 skis, 115.7ms\n",
      "Speed: 6.4ms preprocess, 115.7ms inference, 1.7ms postprocess per image at shape (1, 3, 640, 640)\n",
      "\n",
      "0: 640x640 4 persons, 106.6ms\n",
      "Speed: 5.7ms preprocess, 106.6ms inference, 1.5ms postprocess per image at shape (1, 3, 640, 640)\n",
      "\n",
      "0: 640x640 1 person, 106.2ms\n",
      "Speed: 5.6ms preprocess, 106.2ms inference, 1.5ms postprocess per image at shape (1, 3, 640, 640)\n",
      "\n",
      "0: 640x640 1 person, 107.7ms\n",
      "Speed: 5.7ms preprocess, 107.7ms inference, 1.3ms postprocess per image at shape (1, 3, 640, 640)\n",
      "\n",
      "0: 640x640 1 person, 118.9ms\n",
      "Speed: 4.6ms preprocess, 118.9ms inference, 2.2ms postprocess per image at shape (1, 3, 640, 640)\n",
      "\n",
      "0: 640x640 1 person, 186.2ms\n",
      "Speed: 49.4ms preprocess, 186.2ms inference, 1.6ms postprocess per image at shape (1, 3, 640, 640)\n",
      "\n",
      "0: 640x640 1 person, 140.1ms\n",
      "Speed: 6.4ms preprocess, 140.1ms inference, 1.5ms postprocess per image at shape (1, 3, 640, 640)\n",
      "\n",
      "0: 640x640 1 person, 155.7ms\n",
      "Speed: 7.1ms preprocess, 155.7ms inference, 1.5ms postprocess per image at shape (1, 3, 640, 640)\n",
      "\n",
      "0: 640x640 1 person, 120.5ms\n",
      "Speed: 7.9ms preprocess, 120.5ms inference, 1.5ms postprocess per image at shape (1, 3, 640, 640)\n",
      "\n",
      "0: 640x640 1 person, 135.8ms\n",
      "Speed: 6.2ms preprocess, 135.8ms inference, 1.5ms postprocess per image at shape (1, 3, 640, 640)\n",
      "\n",
      "0: 640x640 1 person, 112.7ms\n",
      "Speed: 6.9ms preprocess, 112.7ms inference, 1.5ms postprocess per image at shape (1, 3, 640, 640)\n",
      "\n",
      "0: 640x640 1 person, 117.4ms\n",
      "Speed: 6.2ms preprocess, 117.4ms inference, 1.8ms postprocess per image at shape (1, 3, 640, 640)\n",
      "\n",
      "0: 640x640 1 person, 114.9ms\n",
      "Speed: 6.1ms preprocess, 114.9ms inference, 2.2ms postprocess per image at shape (1, 3, 640, 640)\n",
      "\n",
      "0: 640x640 1 person, 106.7ms\n",
      "Speed: 5.7ms preprocess, 106.7ms inference, 1.8ms postprocess per image at shape (1, 3, 640, 640)\n",
      "\n",
      "0: 640x640 1 person, 100.8ms\n",
      "Speed: 5.4ms preprocess, 100.8ms inference, 1.6ms postprocess per image at shape (1, 3, 640, 640)\n",
      "\n",
      "0: 640x640 1 person, 145.9ms\n",
      "Speed: 5.9ms preprocess, 145.9ms inference, 1.8ms postprocess per image at shape (1, 3, 640, 640)\n",
      "\n",
      "0: 640x640 1 person, 118.7ms\n",
      "Speed: 6.5ms preprocess, 118.7ms inference, 1.3ms postprocess per image at shape (1, 3, 640, 640)\n",
      "\n",
      "0: 640x640 1 person, 111.0ms\n",
      "Speed: 4.5ms preprocess, 111.0ms inference, 1.9ms postprocess per image at shape (1, 3, 640, 640)\n",
      "\n",
      "0: 640x640 1 person, 192.6ms\n",
      "Speed: 11.0ms preprocess, 192.6ms inference, 1.7ms postprocess per image at shape (1, 3, 640, 640)\n",
      "\n",
      "0: 640x640 1 person, 153.6ms\n",
      "Speed: 6.6ms preprocess, 153.6ms inference, 2.8ms postprocess per image at shape (1, 3, 640, 640)\n",
      "\n",
      "0: 640x640 1 person, 154.6ms\n",
      "Speed: 10.7ms preprocess, 154.6ms inference, 2.0ms postprocess per image at shape (1, 3, 640, 640)\n",
      "\n",
      "0: 640x640 1 person, 182.5ms\n",
      "Speed: 7.4ms preprocess, 182.5ms inference, 2.1ms postprocess per image at shape (1, 3, 640, 640)\n",
      "\n",
      "0: 640x640 1 person, 140.3ms\n",
      "Speed: 10.2ms preprocess, 140.3ms inference, 1.5ms postprocess per image at shape (1, 3, 640, 640)\n",
      "\n",
      "0: 640x640 1 person, 151.5ms\n",
      "Speed: 8.1ms preprocess, 151.5ms inference, 1.6ms postprocess per image at shape (1, 3, 640, 640)\n",
      "\n",
      "0: 640x640 1 person, 126.2ms\n",
      "Speed: 6.5ms preprocess, 126.2ms inference, 2.1ms postprocess per image at shape (1, 3, 640, 640)\n",
      "\n",
      "0: 640x640 1 person, 146.2ms\n",
      "Speed: 5.5ms preprocess, 146.2ms inference, 1.4ms postprocess per image at shape (1, 3, 640, 640)\n",
      "\n",
      "0: 640x640 1 person, 115.7ms\n",
      "Speed: 6.4ms preprocess, 115.7ms inference, 1.6ms postprocess per image at shape (1, 3, 640, 640)\n",
      "\n",
      "0: 640x640 1 person, 110.8ms\n",
      "Speed: 6.9ms preprocess, 110.8ms inference, 1.7ms postprocess per image at shape (1, 3, 640, 640)\n",
      "\n",
      "0: 640x640 1 person, 105.6ms\n",
      "Speed: 5.7ms preprocess, 105.6ms inference, 1.2ms postprocess per image at shape (1, 3, 640, 640)\n",
      "\n",
      "0: 640x640 1 person, 109.9ms\n",
      "Speed: 5.7ms preprocess, 109.9ms inference, 1.7ms postprocess per image at shape (1, 3, 640, 640)\n",
      "\n",
      "0: 640x640 1 person, 98.1ms\n",
      "Speed: 5.5ms preprocess, 98.1ms inference, 1.3ms postprocess per image at shape (1, 3, 640, 640)\n",
      "\n",
      "0: 640x640 1 person, 109.9ms\n",
      "Speed: 6.7ms preprocess, 109.9ms inference, 1.3ms postprocess per image at shape (1, 3, 640, 640)\n",
      "\n",
      "0: 640x640 1 person, 138.5ms\n",
      "Speed: 5.4ms preprocess, 138.5ms inference, 1.5ms postprocess per image at shape (1, 3, 640, 640)\n",
      "\n",
      "0: 640x640 1 person, 107.8ms\n",
      "Speed: 6.7ms preprocess, 107.8ms inference, 1.5ms postprocess per image at shape (1, 3, 640, 640)\n",
      "\n",
      "0: 640x640 1 person, 107.3ms\n",
      "Speed: 6.1ms preprocess, 107.3ms inference, 1.8ms postprocess per image at shape (1, 3, 640, 640)\n",
      "\n",
      "0: 640x640 1 person, 104.1ms\n",
      "Speed: 4.3ms preprocess, 104.1ms inference, 1.4ms postprocess per image at shape (1, 3, 640, 640)\n",
      "\n",
      "0: 640x640 1 person, 104.5ms\n",
      "Speed: 5.1ms preprocess, 104.5ms inference, 1.6ms postprocess per image at shape (1, 3, 640, 640)\n",
      "\n",
      "0: 640x640 1 person, 124.3ms\n",
      "Speed: 5.6ms preprocess, 124.3ms inference, 1.4ms postprocess per image at shape (1, 3, 640, 640)\n",
      "\n",
      "0: 640x640 1 person, 135.3ms\n",
      "Speed: 5.4ms preprocess, 135.3ms inference, 1.5ms postprocess per image at shape (1, 3, 640, 640)\n",
      "\n",
      "0: 640x640 1 person, 111.8ms\n",
      "Speed: 6.1ms preprocess, 111.8ms inference, 1.8ms postprocess per image at shape (1, 3, 640, 640)\n",
      "\n",
      "0: 640x640 1 person, 107.2ms\n",
      "Speed: 6.1ms preprocess, 107.2ms inference, 1.5ms postprocess per image at shape (1, 3, 640, 640)\n",
      "\n",
      "0: 640x640 1 person, 142.6ms\n",
      "Speed: 5.3ms preprocess, 142.6ms inference, 2.0ms postprocess per image at shape (1, 3, 640, 640)\n",
      "\n",
      "0: 640x640 1 person, 153.6ms\n",
      "Speed: 8.3ms preprocess, 153.6ms inference, 1.4ms postprocess per image at shape (1, 3, 640, 640)\n",
      "\n",
      "0: 640x640 1 person, 106.8ms\n",
      "Speed: 5.9ms preprocess, 106.8ms inference, 1.5ms postprocess per image at shape (1, 3, 640, 640)\n",
      "\n",
      "0: 640x640 1 person, 132.3ms\n",
      "Speed: 6.0ms preprocess, 132.3ms inference, 2.6ms postprocess per image at shape (1, 3, 640, 640)\n",
      "\n",
      "0: 640x640 1 person, 125.2ms\n",
      "Speed: 6.1ms preprocess, 125.2ms inference, 1.9ms postprocess per image at shape (1, 3, 640, 640)\n",
      "\n",
      "0: 640x640 1 person, 113.2ms\n",
      "Speed: 6.3ms preprocess, 113.2ms inference, 1.6ms postprocess per image at shape (1, 3, 640, 640)\n",
      "\n",
      "0: 640x640 1 person, 108.6ms\n",
      "Speed: 5.9ms preprocess, 108.6ms inference, 1.4ms postprocess per image at shape (1, 3, 640, 640)\n",
      "\n",
      "0: 640x640 1 person, 109.0ms\n",
      "Speed: 5.8ms preprocess, 109.0ms inference, 1.5ms postprocess per image at shape (1, 3, 640, 640)\n",
      "\n",
      "0: 640x640 1 person, 106.3ms\n",
      "Speed: 5.9ms preprocess, 106.3ms inference, 1.8ms postprocess per image at shape (1, 3, 640, 640)\n",
      "\n",
      "0: 640x640 1 person, 116.9ms\n",
      "Speed: 5.9ms preprocess, 116.9ms inference, 1.5ms postprocess per image at shape (1, 3, 640, 640)\n",
      "\n",
      "0: 640x640 1 person, 118.9ms\n",
      "Speed: 5.7ms preprocess, 118.9ms inference, 1.4ms postprocess per image at shape (1, 3, 640, 640)\n",
      "\n",
      "0: 640x640 1 person, 105.6ms\n",
      "Speed: 5.8ms preprocess, 105.6ms inference, 1.3ms postprocess per image at shape (1, 3, 640, 640)\n",
      "\n",
      "0: 640x640 1 person, 111.0ms\n",
      "Speed: 5.2ms preprocess, 111.0ms inference, 1.8ms postprocess per image at shape (1, 3, 640, 640)\n",
      "\n",
      "0: 640x640 1 person, 117.4ms\n",
      "Speed: 5.3ms preprocess, 117.4ms inference, 2.2ms postprocess per image at shape (1, 3, 640, 640)\n",
      "\n",
      "0: 640x640 1 person, 121.6ms\n",
      "Speed: 7.8ms preprocess, 121.6ms inference, 1.4ms postprocess per image at shape (1, 3, 640, 640)\n",
      "\n",
      "0: 640x640 1 person, 100.1ms\n",
      "Speed: 5.9ms preprocess, 100.1ms inference, 1.7ms postprocess per image at shape (1, 3, 640, 640)\n",
      "\n",
      "0: 640x640 1 person, 109.6ms\n",
      "Speed: 5.6ms preprocess, 109.6ms inference, 1.5ms postprocess per image at shape (1, 3, 640, 640)\n",
      "\n",
      "0: 640x640 1 person, 114.0ms\n",
      "Speed: 6.4ms preprocess, 114.0ms inference, 1.5ms postprocess per image at shape (1, 3, 640, 640)\n",
      "\n",
      "0: 640x640 1 person, 110.0ms\n",
      "Speed: 5.1ms preprocess, 110.0ms inference, 1.8ms postprocess per image at shape (1, 3, 640, 640)\n",
      "\n",
      "0: 640x640 1 person, 108.4ms\n",
      "Speed: 5.3ms preprocess, 108.4ms inference, 1.4ms postprocess per image at shape (1, 3, 640, 640)\n",
      "\n",
      "0: 640x640 1 person, 131.3ms\n",
      "Speed: 6.6ms preprocess, 131.3ms inference, 1.4ms postprocess per image at shape (1, 3, 640, 640)\n",
      "\n",
      "0: 640x640 1 person, 99.6ms\n",
      "Speed: 5.4ms preprocess, 99.6ms inference, 1.5ms postprocess per image at shape (1, 3, 640, 640)\n",
      "\n",
      "0: 640x640 1 person, 101.8ms\n",
      "Speed: 5.8ms preprocess, 101.8ms inference, 1.2ms postprocess per image at shape (1, 3, 640, 640)\n",
      "\n",
      "0: 640x640 1 person, 103.2ms\n",
      "Speed: 5.0ms preprocess, 103.2ms inference, 1.6ms postprocess per image at shape (1, 3, 640, 640)\n",
      "\n",
      "0: 640x640 2 persons, 99.0ms\n",
      "Speed: 5.4ms preprocess, 99.0ms inference, 1.5ms postprocess per image at shape (1, 3, 640, 640)\n",
      "\n",
      "0: 640x640 2 persons, 94.3ms\n",
      "Speed: 5.9ms preprocess, 94.3ms inference, 1.1ms postprocess per image at shape (1, 3, 640, 640)\n",
      "\n",
      "0: 640x640 1 person, 95.2ms\n",
      "Speed: 5.2ms preprocess, 95.2ms inference, 1.5ms postprocess per image at shape (1, 3, 640, 640)\n",
      "\n",
      "0: 640x640 1 person, 98.4ms\n",
      "Speed: 4.7ms preprocess, 98.4ms inference, 1.1ms postprocess per image at shape (1, 3, 640, 640)\n",
      "\n",
      "0: 640x640 1 person, 95.2ms\n",
      "Speed: 6.0ms preprocess, 95.2ms inference, 1.5ms postprocess per image at shape (1, 3, 640, 640)\n",
      "\n",
      "0: 640x640 2 persons, 102.7ms\n",
      "Speed: 5.6ms preprocess, 102.7ms inference, 1.4ms postprocess per image at shape (1, 3, 640, 640)\n",
      "\n",
      "0: 640x640 1 person, 112.2ms\n",
      "Speed: 6.0ms preprocess, 112.2ms inference, 1.7ms postprocess per image at shape (1, 3, 640, 640)\n",
      "\n",
      "0: 640x640 1 person, 120.3ms\n",
      "Speed: 5.5ms preprocess, 120.3ms inference, 1.7ms postprocess per image at shape (1, 3, 640, 640)\n",
      "\n",
      "0: 640x640 1 person, 232.9ms\n",
      "Speed: 6.8ms preprocess, 232.9ms inference, 1.5ms postprocess per image at shape (1, 3, 640, 640)\n",
      "\n",
      "0: 640x640 1 person, 112.6ms\n",
      "Speed: 6.3ms preprocess, 112.6ms inference, 1.3ms postprocess per image at shape (1, 3, 640, 640)\n",
      "\n",
      "0: 640x640 1 person, 106.1ms\n",
      "Speed: 6.0ms preprocess, 106.1ms inference, 1.3ms postprocess per image at shape (1, 3, 640, 640)\n",
      "\n",
      "0: 640x640 1 person, 96.5ms\n",
      "Speed: 5.4ms preprocess, 96.5ms inference, 1.4ms postprocess per image at shape (1, 3, 640, 640)\n",
      "\n",
      "0: 640x640 1 person, 102.6ms\n",
      "Speed: 6.1ms preprocess, 102.6ms inference, 1.3ms postprocess per image at shape (1, 3, 640, 640)\n",
      "\n",
      "0: 640x640 1 person, 94.9ms\n",
      "Speed: 5.3ms preprocess, 94.9ms inference, 1.3ms postprocess per image at shape (1, 3, 640, 640)\n",
      "\n",
      "0: 640x640 1 person, 103.7ms\n",
      "Speed: 5.0ms preprocess, 103.7ms inference, 1.4ms postprocess per image at shape (1, 3, 640, 640)\n",
      "\n",
      "0: 640x640 1 person, 98.2ms\n",
      "Speed: 5.4ms preprocess, 98.2ms inference, 1.3ms postprocess per image at shape (1, 3, 640, 640)\n",
      "\n",
      "0: 640x640 1 person, 96.6ms\n",
      "Speed: 4.1ms preprocess, 96.6ms inference, 1.1ms postprocess per image at shape (1, 3, 640, 640)\n",
      "\n",
      "0: 640x640 1 person, 100.1ms\n",
      "Speed: 5.7ms preprocess, 100.1ms inference, 1.5ms postprocess per image at shape (1, 3, 640, 640)\n",
      "\n",
      "0: 640x640 1 person, 103.5ms\n",
      "Speed: 5.6ms preprocess, 103.5ms inference, 2.2ms postprocess per image at shape (1, 3, 640, 640)\n",
      "\n",
      "0: 640x640 1 person, 100.9ms\n",
      "Speed: 6.1ms preprocess, 100.9ms inference, 1.4ms postprocess per image at shape (1, 3, 640, 640)\n",
      "\n",
      "0: 640x640 1 person, 100.4ms\n",
      "Speed: 5.5ms preprocess, 100.4ms inference, 1.7ms postprocess per image at shape (1, 3, 640, 640)\n",
      "\n",
      "0: 640x640 1 person, 119.5ms\n",
      "Speed: 5.4ms preprocess, 119.5ms inference, 1.7ms postprocess per image at shape (1, 3, 640, 640)\n",
      "\n",
      "0: 640x640 1 person, 122.0ms\n",
      "Speed: 6.8ms preprocess, 122.0ms inference, 1.6ms postprocess per image at shape (1, 3, 640, 640)\n",
      "\n",
      "0: 640x640 2 persons, 1 skis, 2 kites, 110.0ms\n",
      "Speed: 5.3ms preprocess, 110.0ms inference, 1.6ms postprocess per image at shape (1, 3, 640, 640)\n",
      "\n",
      "0: 640x640 2 persons, 1 skis, 121.2ms\n",
      "Speed: 6.5ms preprocess, 121.2ms inference, 1.4ms postprocess per image at shape (1, 3, 640, 640)\n",
      "\n",
      "0: 640x640 2 persons, 1 skis, 119.7ms\n",
      "Speed: 5.7ms preprocess, 119.7ms inference, 1.7ms postprocess per image at shape (1, 3, 640, 640)\n",
      "\n",
      "0: 640x640 2 persons, 1 snowboard, 106.6ms\n",
      "Speed: 7.1ms preprocess, 106.6ms inference, 1.4ms postprocess per image at shape (1, 3, 640, 640)\n",
      "\n",
      "0: 640x640 1 person, 1 kite, 109.4ms\n",
      "Speed: 6.9ms preprocess, 109.4ms inference, 1.7ms postprocess per image at shape (1, 3, 640, 640)\n",
      "\n",
      "0: 640x640 2 persons, 103.7ms\n",
      "Speed: 5.0ms preprocess, 103.7ms inference, 1.3ms postprocess per image at shape (1, 3, 640, 640)\n",
      "\n",
      "0: 640x640 2 persons, 103.4ms\n",
      "Speed: 5.5ms preprocess, 103.4ms inference, 1.5ms postprocess per image at shape (1, 3, 640, 640)\n",
      "\n",
      "0: 640x640 2 persons, 104.3ms\n",
      "Speed: 7.2ms preprocess, 104.3ms inference, 1.3ms postprocess per image at shape (1, 3, 640, 640)\n",
      "\n",
      "0: 640x640 2 persons, 102.1ms\n",
      "Speed: 5.1ms preprocess, 102.1ms inference, 1.3ms postprocess per image at shape (1, 3, 640, 640)\n",
      "\n",
      "0: 640x640 2 persons, 103.0ms\n",
      "Speed: 6.0ms preprocess, 103.0ms inference, 1.3ms postprocess per image at shape (1, 3, 640, 640)\n",
      "\n",
      "0: 640x640 2 persons, 103.5ms\n",
      "Speed: 5.5ms preprocess, 103.5ms inference, 1.3ms postprocess per image at shape (1, 3, 640, 640)\n",
      "\n",
      "0: 640x640 2 persons, 1 bird, 104.2ms\n",
      "Speed: 6.3ms preprocess, 104.2ms inference, 1.3ms postprocess per image at shape (1, 3, 640, 640)\n",
      "\n",
      "0: 640x640 1 person, 107.3ms\n",
      "Speed: 5.8ms preprocess, 107.3ms inference, 1.3ms postprocess per image at shape (1, 3, 640, 640)\n",
      "\n",
      "0: 640x640 2 persons, 114.4ms\n",
      "Speed: 6.3ms preprocess, 114.4ms inference, 1.4ms postprocess per image at shape (1, 3, 640, 640)\n",
      "\n",
      "0: 640x640 3 persons, 142.6ms\n",
      "Speed: 6.6ms preprocess, 142.6ms inference, 2.0ms postprocess per image at shape (1, 3, 640, 640)\n",
      "\n",
      "0: 640x640 2 persons, 123.9ms\n",
      "Speed: 6.3ms preprocess, 123.9ms inference, 1.6ms postprocess per image at shape (1, 3, 640, 640)\n",
      "\n",
      "0: 640x640 2 persons, 1 skis, 103.1ms\n",
      "Speed: 6.3ms preprocess, 103.1ms inference, 1.5ms postprocess per image at shape (1, 3, 640, 640)\n",
      "\n",
      "0: 640x640 2 persons, 1 skis, 101.9ms\n",
      "Speed: 5.3ms preprocess, 101.9ms inference, 2.0ms postprocess per image at shape (1, 3, 640, 640)\n",
      "\n",
      "0: 640x640 1 person, 2 skiss, 112.1ms\n",
      "Speed: 5.6ms preprocess, 112.1ms inference, 1.8ms postprocess per image at shape (1, 3, 640, 640)\n",
      "\n",
      "0: 640x640 2 persons, 1 skis, 116.4ms\n",
      "Speed: 4.1ms preprocess, 116.4ms inference, 1.4ms postprocess per image at shape (1, 3, 640, 640)\n",
      "\n",
      "0: 640x640 2 skiss, 1 kite, 103.3ms\n",
      "Speed: 5.5ms preprocess, 103.3ms inference, 1.6ms postprocess per image at shape (1, 3, 640, 640)\n",
      "\n",
      "0: 640x640 1 person, 2 skiss, 96.8ms\n",
      "Speed: 4.8ms preprocess, 96.8ms inference, 1.4ms postprocess per image at shape (1, 3, 640, 640)\n",
      "\n",
      "0: 640x640 2 persons, 2 skiss, 98.8ms\n",
      "Speed: 5.1ms preprocess, 98.8ms inference, 1.4ms postprocess per image at shape (1, 3, 640, 640)\n",
      "\n",
      "0: 640x640 1 person, 1 skis, 96.3ms\n",
      "Speed: 4.5ms preprocess, 96.3ms inference, 1.5ms postprocess per image at shape (1, 3, 640, 640)\n",
      "\n",
      "0: 640x640 2 persons, 1 skis, 98.1ms\n",
      "Speed: 4.4ms preprocess, 98.1ms inference, 1.3ms postprocess per image at shape (1, 3, 640, 640)\n",
      "\n",
      "0: 640x640 4 persons, 1 skis, 163.3ms\n",
      "Speed: 4.9ms preprocess, 163.3ms inference, 2.0ms postprocess per image at shape (1, 3, 640, 640)\n",
      "\n",
      "0: 640x640 4 persons, 1 skis, 126.7ms\n",
      "Speed: 5.8ms preprocess, 126.7ms inference, 1.5ms postprocess per image at shape (1, 3, 640, 640)\n",
      "\n",
      "0: 640x640 5 persons, 1 skis, 113.8ms\n",
      "Speed: 6.0ms preprocess, 113.8ms inference, 1.7ms postprocess per image at shape (1, 3, 640, 640)\n",
      "\n",
      "0: 640x640 1 person, 1 skis, 108.5ms\n",
      "Speed: 6.1ms preprocess, 108.5ms inference, 1.4ms postprocess per image at shape (1, 3, 640, 640)\n",
      "\n",
      "0: 640x640 3 persons, 1 skis, 110.7ms\n",
      "Speed: 6.4ms preprocess, 110.7ms inference, 1.4ms postprocess per image at shape (1, 3, 640, 640)\n",
      "\n",
      "0: 640x640 3 persons, 2 skiss, 104.5ms\n",
      "Speed: 7.3ms preprocess, 104.5ms inference, 1.4ms postprocess per image at shape (1, 3, 640, 640)\n",
      "\n",
      "0: 640x640 3 persons, 108.7ms\n",
      "Speed: 5.8ms preprocess, 108.7ms inference, 1.4ms postprocess per image at shape (1, 3, 640, 640)\n",
      "\n",
      "0: 640x640 3 persons, 98.0ms\n",
      "Speed: 6.2ms preprocess, 98.0ms inference, 1.3ms postprocess per image at shape (1, 3, 640, 640)\n",
      "\n",
      "0: 640x640 2 persons, 98.5ms\n",
      "Speed: 5.8ms preprocess, 98.5ms inference, 1.3ms postprocess per image at shape (1, 3, 640, 640)\n",
      "\n",
      "0: 640x640 2 persons, 104.7ms\n",
      "Speed: 4.8ms preprocess, 104.7ms inference, 1.4ms postprocess per image at shape (1, 3, 640, 640)\n",
      "\n",
      "0: 640x640 2 persons, 107.8ms\n",
      "Speed: 4.8ms preprocess, 107.8ms inference, 1.8ms postprocess per image at shape (1, 3, 640, 640)\n",
      "\n",
      "0: 640x640 4 persons, 1 skis, 108.5ms\n",
      "Speed: 4.4ms preprocess, 108.5ms inference, 1.4ms postprocess per image at shape (1, 3, 640, 640)\n",
      "\n",
      "0: 640x640 4 persons, 1 skis, 112.2ms\n",
      "Speed: 5.5ms preprocess, 112.2ms inference, 1.3ms postprocess per image at shape (1, 3, 640, 640)\n",
      "\n",
      "0: 640x640 4 persons, 1 skis, 111.1ms\n",
      "Speed: 5.8ms preprocess, 111.1ms inference, 1.6ms postprocess per image at shape (1, 3, 640, 640)\n",
      "\n",
      "0: 640x640 5 persons, 1 skis, 107.6ms\n",
      "Speed: 4.3ms preprocess, 107.6ms inference, 1.3ms postprocess per image at shape (1, 3, 640, 640)\n",
      "\n",
      "0: 640x640 6 persons, 1 skis, 104.6ms\n",
      "Speed: 4.6ms preprocess, 104.6ms inference, 1.3ms postprocess per image at shape (1, 3, 640, 640)\n",
      "\n",
      "0: 640x640 4 persons, 1 skis, 110.2ms\n",
      "Speed: 6.2ms preprocess, 110.2ms inference, 1.2ms postprocess per image at shape (1, 3, 640, 640)\n",
      "\n",
      "0: 640x640 4 persons, 1 skis, 111.3ms\n",
      "Speed: 6.8ms preprocess, 111.3ms inference, 1.6ms postprocess per image at shape (1, 3, 640, 640)\n",
      "\n",
      "0: 640x640 3 persons, 104.8ms\n",
      "Speed: 5.8ms preprocess, 104.8ms inference, 1.4ms postprocess per image at shape (1, 3, 640, 640)\n",
      "\n",
      "0: 640x640 3 persons, 1 skis, 105.7ms\n",
      "Speed: 4.8ms preprocess, 105.7ms inference, 1.4ms postprocess per image at shape (1, 3, 640, 640)\n",
      "\n",
      "0: 640x640 2 persons, 110.3ms\n",
      "Speed: 6.0ms preprocess, 110.3ms inference, 1.1ms postprocess per image at shape (1, 3, 640, 640)\n",
      "\n",
      "0: 640x640 2 persons, 1 skis, 107.9ms\n",
      "Speed: 4.7ms preprocess, 107.9ms inference, 2.3ms postprocess per image at shape (1, 3, 640, 640)\n",
      "\n",
      "0: 640x640 1 skis, 109.5ms\n",
      "Speed: 6.2ms preprocess, 109.5ms inference, 1.3ms postprocess per image at shape (1, 3, 640, 640)\n",
      "\n",
      "0: 640x640 (no detections), 101.8ms\n",
      "Speed: 5.9ms preprocess, 101.8ms inference, 0.9ms postprocess per image at shape (1, 3, 640, 640)\n",
      "\n",
      "0: 640x640 (no detections), 102.5ms\n",
      "Speed: 4.3ms preprocess, 102.5ms inference, 0.9ms postprocess per image at shape (1, 3, 640, 640)\n",
      "\n",
      "0: 640x640 (no detections), 96.8ms\n",
      "Speed: 5.5ms preprocess, 96.8ms inference, 0.8ms postprocess per image at shape (1, 3, 640, 640)\n",
      "\n",
      "0: 640x640 1 person, 1 skis, 93.7ms\n",
      "Speed: 5.6ms preprocess, 93.7ms inference, 1.3ms postprocess per image at shape (1, 3, 640, 640)\n",
      "\n",
      "0: 640x640 1 person, 1 skis, 102.4ms\n",
      "Speed: 5.3ms preprocess, 102.4ms inference, 1.1ms postprocess per image at shape (1, 3, 640, 640)\n",
      "\n",
      "0: 640x640 1 person, 1 skis, 107.6ms\n",
      "Speed: 4.7ms preprocess, 107.6ms inference, 1.5ms postprocess per image at shape (1, 3, 640, 640)\n",
      "\n",
      "0: 640x640 1 person, 1 skis, 109.4ms\n",
      "Speed: 4.2ms preprocess, 109.4ms inference, 1.5ms postprocess per image at shape (1, 3, 640, 640)\n",
      "\n",
      "0: 640x640 1 person, 1 skis, 143.7ms\n",
      "Speed: 6.8ms preprocess, 143.7ms inference, 1.4ms postprocess per image at shape (1, 3, 640, 640)\n",
      "\n",
      "0: 640x640 (no detections), 117.3ms\n",
      "Speed: 6.3ms preprocess, 117.3ms inference, 0.9ms postprocess per image at shape (1, 3, 640, 640)\n",
      "\n",
      "0: 640x640 (no detections), 113.7ms\n",
      "Speed: 4.9ms preprocess, 113.7ms inference, 0.9ms postprocess per image at shape (1, 3, 640, 640)\n",
      "\n",
      "0: 640x640 1 person, 107.3ms\n",
      "Speed: 6.8ms preprocess, 107.3ms inference, 1.4ms postprocess per image at shape (1, 3, 640, 640)\n",
      "\n",
      "0: 640x640 2 persons, 103.1ms\n",
      "Speed: 6.5ms preprocess, 103.1ms inference, 1.2ms postprocess per image at shape (1, 3, 640, 640)\n",
      "\n",
      "0: 640x640 1 person, 102.4ms\n",
      "Speed: 4.2ms preprocess, 102.4ms inference, 1.3ms postprocess per image at shape (1, 3, 640, 640)\n",
      "\n",
      "0: 640x640 2 persons, 102.0ms\n",
      "Speed: 5.4ms preprocess, 102.0ms inference, 1.2ms postprocess per image at shape (1, 3, 640, 640)\n",
      "\n",
      "0: 640x640 2 persons, 96.6ms\n",
      "Speed: 5.7ms preprocess, 96.6ms inference, 1.4ms postprocess per image at shape (1, 3, 640, 640)\n",
      "\n",
      "0: 640x640 2 persons, 99.4ms\n",
      "Speed: 5.1ms preprocess, 99.4ms inference, 1.2ms postprocess per image at shape (1, 3, 640, 640)\n",
      "\n",
      "0: 640x640 2 persons, 102.6ms\n",
      "Speed: 5.1ms preprocess, 102.6ms inference, 1.3ms postprocess per image at shape (1, 3, 640, 640)\n",
      "\n",
      "0: 640x640 2 persons, 188.5ms\n",
      "Speed: 4.6ms preprocess, 188.5ms inference, 2.6ms postprocess per image at shape (1, 3, 640, 640)\n",
      "\n",
      "0: 640x640 2 persons, 94.6ms\n",
      "Speed: 5.4ms preprocess, 94.6ms inference, 8.2ms postprocess per image at shape (1, 3, 640, 640)\n",
      "\n",
      "0: 640x640 2 persons, 99.0ms\n",
      "Speed: 5.7ms preprocess, 99.0ms inference, 1.6ms postprocess per image at shape (1, 3, 640, 640)\n",
      "\n",
      "0: 640x640 2 persons, 96.3ms\n",
      "Speed: 5.4ms preprocess, 96.3ms inference, 1.1ms postprocess per image at shape (1, 3, 640, 640)\n",
      "\n",
      "0: 640x640 3 persons, 99.2ms\n",
      "Speed: 5.3ms preprocess, 99.2ms inference, 1.3ms postprocess per image at shape (1, 3, 640, 640)\n",
      "\n",
      "0: 640x640 2 persons, 102.1ms\n",
      "Speed: 5.3ms preprocess, 102.1ms inference, 1.4ms postprocess per image at shape (1, 3, 640, 640)\n",
      "\n",
      "0: 640x640 1 person, 119.8ms\n",
      "Speed: 5.5ms preprocess, 119.8ms inference, 1.7ms postprocess per image at shape (1, 3, 640, 640)\n",
      "\n",
      "0: 640x640 1 person, 112.9ms\n",
      "Speed: 6.4ms preprocess, 112.9ms inference, 1.7ms postprocess per image at shape (1, 3, 640, 640)\n",
      "\n",
      "0: 640x640 1 person, 124.4ms\n",
      "Speed: 7.2ms preprocess, 124.4ms inference, 1.4ms postprocess per image at shape (1, 3, 640, 640)\n",
      "\n",
      "0: 640x640 1 person, 98.1ms\n",
      "Speed: 4.5ms preprocess, 98.1ms inference, 1.2ms postprocess per image at shape (1, 3, 640, 640)\n",
      "\n",
      "0: 640x640 (no detections), 96.6ms\n",
      "Speed: 6.6ms preprocess, 96.6ms inference, 1.0ms postprocess per image at shape (1, 3, 640, 640)\n",
      "\n",
      "0: 640x640 (no detections), 102.5ms\n",
      "Speed: 5.2ms preprocess, 102.5ms inference, 1.1ms postprocess per image at shape (1, 3, 640, 640)\n",
      "\n",
      "0: 640x640 (no detections), 103.6ms\n",
      "Speed: 4.6ms preprocess, 103.6ms inference, 0.8ms postprocess per image at shape (1, 3, 640, 640)\n",
      "\n",
      "0: 640x640 (no detections), 105.6ms\n",
      "Speed: 5.9ms preprocess, 105.6ms inference, 0.9ms postprocess per image at shape (1, 3, 640, 640)\n",
      "\n",
      "0: 640x640 (no detections), 101.3ms\n",
      "Speed: 5.4ms preprocess, 101.3ms inference, 0.8ms postprocess per image at shape (1, 3, 640, 640)\n",
      "\n",
      "0: 640x640 1 person, 108.0ms\n",
      "Speed: 5.5ms preprocess, 108.0ms inference, 1.4ms postprocess per image at shape (1, 3, 640, 640)\n",
      "\n",
      "0: 640x640 1 person, 110.7ms\n",
      "Speed: 6.0ms preprocess, 110.7ms inference, 1.3ms postprocess per image at shape (1, 3, 640, 640)\n",
      "\n",
      "0: 640x640 1 person, 1 skis, 105.3ms\n",
      "Speed: 6.7ms preprocess, 105.3ms inference, 1.1ms postprocess per image at shape (1, 3, 640, 640)\n",
      "\n",
      "0: 640x640 1 person, 1 skis, 107.2ms\n",
      "Speed: 5.5ms preprocess, 107.2ms inference, 1.6ms postprocess per image at shape (1, 3, 640, 640)\n",
      "\n",
      "0: 640x640 2 persons, 1 skis, 109.9ms\n",
      "Speed: 4.5ms preprocess, 109.9ms inference, 1.8ms postprocess per image at shape (1, 3, 640, 640)\n",
      "\n",
      "0: 640x640 1 person, 1 skis, 105.9ms\n",
      "Speed: 5.2ms preprocess, 105.9ms inference, 1.3ms postprocess per image at shape (1, 3, 640, 640)\n",
      "\n",
      "0: 640x640 1 person, 1 skis, 110.8ms\n",
      "Speed: 6.1ms preprocess, 110.8ms inference, 1.5ms postprocess per image at shape (1, 3, 640, 640)\n",
      "\n",
      "0: 640x640 2 persons, 105.8ms\n",
      "Speed: 5.6ms preprocess, 105.8ms inference, 1.5ms postprocess per image at shape (1, 3, 640, 640)\n",
      "\n",
      "0: 640x640 2 persons, 109.4ms\n",
      "Speed: 6.2ms preprocess, 109.4ms inference, 1.4ms postprocess per image at shape (1, 3, 640, 640)\n",
      "\n",
      "0: 640x640 1 person, 108.3ms\n",
      "Speed: 5.7ms preprocess, 108.3ms inference, 1.5ms postprocess per image at shape (1, 3, 640, 640)\n",
      "\n",
      "0: 640x640 1 person, 115.4ms\n",
      "Speed: 6.7ms preprocess, 115.4ms inference, 1.6ms postprocess per image at shape (1, 3, 640, 640)\n",
      "\n",
      "0: 640x640 1 person, 109.2ms\n",
      "Speed: 6.1ms preprocess, 109.2ms inference, 1.3ms postprocess per image at shape (1, 3, 640, 640)\n",
      "\n",
      "0: 640x640 1 person, 124.4ms\n",
      "Speed: 5.6ms preprocess, 124.4ms inference, 1.3ms postprocess per image at shape (1, 3, 640, 640)\n",
      "\n",
      "0: 640x640 1 person, 103.2ms\n",
      "Speed: 5.6ms preprocess, 103.2ms inference, 1.3ms postprocess per image at shape (1, 3, 640, 640)\n",
      "\n",
      "0: 640x640 1 person, 104.1ms\n",
      "Speed: 5.6ms preprocess, 104.1ms inference, 1.8ms postprocess per image at shape (1, 3, 640, 640)\n",
      "\n",
      "0: 640x640 1 person, 103.8ms\n",
      "Speed: 5.4ms preprocess, 103.8ms inference, 1.3ms postprocess per image at shape (1, 3, 640, 640)\n",
      "\n",
      "0: 640x640 1 person, 104.6ms\n",
      "Speed: 6.2ms preprocess, 104.6ms inference, 1.3ms postprocess per image at shape (1, 3, 640, 640)\n",
      "\n",
      "0: 640x640 1 person, 103.4ms\n",
      "Speed: 4.8ms preprocess, 103.4ms inference, 1.6ms postprocess per image at shape (1, 3, 640, 640)\n",
      "\n",
      "0: 640x640 1 person, 99.6ms\n",
      "Speed: 4.9ms preprocess, 99.6ms inference, 1.2ms postprocess per image at shape (1, 3, 640, 640)\n",
      "\n",
      "0: 640x640 1 person, 106.2ms\n",
      "Speed: 5.5ms preprocess, 106.2ms inference, 1.8ms postprocess per image at shape (1, 3, 640, 640)\n",
      "\n",
      "0: 640x640 1 person, 107.8ms\n",
      "Speed: 7.3ms preprocess, 107.8ms inference, 1.9ms postprocess per image at shape (1, 3, 640, 640)\n",
      "\n",
      "0: 640x640 2 persons, 107.6ms\n",
      "Speed: 6.3ms preprocess, 107.6ms inference, 1.2ms postprocess per image at shape (1, 3, 640, 640)\n",
      "\n",
      "0: 640x640 (no detections), 112.7ms\n",
      "Speed: 5.9ms preprocess, 112.7ms inference, 1.1ms postprocess per image at shape (1, 3, 640, 640)\n",
      "\n",
      "0: 640x640 (no detections), 100.8ms\n",
      "Speed: 5.0ms preprocess, 100.8ms inference, 1.2ms postprocess per image at shape (1, 3, 640, 640)\n",
      "\n",
      "0: 640x640 (no detections), 200.5ms\n",
      "Speed: 6.3ms preprocess, 200.5ms inference, 0.7ms postprocess per image at shape (1, 3, 640, 640)\n",
      "\n",
      "0: 640x640 1 person, 107.0ms\n",
      "Speed: 5.1ms preprocess, 107.0ms inference, 1.7ms postprocess per image at shape (1, 3, 640, 640)\n",
      "\n",
      "0: 640x640 1 person, 114.2ms\n",
      "Speed: 5.2ms preprocess, 114.2ms inference, 1.5ms postprocess per image at shape (1, 3, 640, 640)\n",
      "\n",
      "0: 640x640 1 person, 114.9ms\n",
      "Speed: 5.9ms preprocess, 114.9ms inference, 1.7ms postprocess per image at shape (1, 3, 640, 640)\n",
      "\n",
      "0: 640x640 1 person, 110.0ms\n",
      "Speed: 6.1ms preprocess, 110.0ms inference, 1.3ms postprocess per image at shape (1, 3, 640, 640)\n",
      "\n",
      "0: 640x640 1 person, 107.3ms\n",
      "Speed: 5.0ms preprocess, 107.3ms inference, 2.0ms postprocess per image at shape (1, 3, 640, 640)\n",
      "\n",
      "0: 640x640 1 person, 100.3ms\n",
      "Speed: 6.5ms preprocess, 100.3ms inference, 1.2ms postprocess per image at shape (1, 3, 640, 640)\n",
      "\n",
      "0: 640x640 2 persons, 102.2ms\n",
      "Speed: 5.4ms preprocess, 102.2ms inference, 1.5ms postprocess per image at shape (1, 3, 640, 640)\n",
      "\n",
      "0: 640x640 1 person, 107.7ms\n",
      "Speed: 5.8ms preprocess, 107.7ms inference, 1.5ms postprocess per image at shape (1, 3, 640, 640)\n",
      "\n",
      "0: 640x640 1 person, 118.6ms\n",
      "Speed: 6.9ms preprocess, 118.6ms inference, 1.4ms postprocess per image at shape (1, 3, 640, 640)\n",
      "\n",
      "0: 640x640 (no detections), 109.6ms\n",
      "Speed: 5.9ms preprocess, 109.6ms inference, 0.9ms postprocess per image at shape (1, 3, 640, 640)\n",
      "\n",
      "0: 640x640 (no detections), 104.5ms\n",
      "Speed: 6.3ms preprocess, 104.5ms inference, 1.1ms postprocess per image at shape (1, 3, 640, 640)\n",
      "\n",
      "0: 640x640 (no detections), 107.4ms\n",
      "Speed: 6.4ms preprocess, 107.4ms inference, 0.8ms postprocess per image at shape (1, 3, 640, 640)\n",
      "\n",
      "0: 640x640 (no detections), 103.6ms\n",
      "Speed: 5.9ms preprocess, 103.6ms inference, 0.9ms postprocess per image at shape (1, 3, 640, 640)\n",
      "\n",
      "0: 640x640 (no detections), 101.5ms\n",
      "Speed: 5.4ms preprocess, 101.5ms inference, 0.9ms postprocess per image at shape (1, 3, 640, 640)\n",
      "\n",
      "0: 640x640 (no detections), 101.2ms\n",
      "Speed: 5.4ms preprocess, 101.2ms inference, 0.8ms postprocess per image at shape (1, 3, 640, 640)\n",
      "\n",
      "0: 640x640 1 person, 127.6ms\n",
      "Speed: 4.5ms preprocess, 127.6ms inference, 1.2ms postprocess per image at shape (1, 3, 640, 640)\n",
      "\n",
      "0: 640x640 1 person, 98.9ms\n",
      "Speed: 5.9ms preprocess, 98.9ms inference, 1.2ms postprocess per image at shape (1, 3, 640, 640)\n",
      "\n",
      "0: 640x640 (no detections), 94.2ms\n",
      "Speed: 5.8ms preprocess, 94.2ms inference, 0.9ms postprocess per image at shape (1, 3, 640, 640)\n",
      "\n",
      "0: 640x640 (no detections), 96.5ms\n",
      "Speed: 5.7ms preprocess, 96.5ms inference, 0.8ms postprocess per image at shape (1, 3, 640, 640)\n",
      "\n",
      "0: 640x640 2 persons, 108.1ms\n",
      "Speed: 5.9ms preprocess, 108.1ms inference, 1.4ms postprocess per image at shape (1, 3, 640, 640)\n",
      "\n",
      "0: 640x640 2 persons, 105.6ms\n",
      "Speed: 4.1ms preprocess, 105.6ms inference, 1.7ms postprocess per image at shape (1, 3, 640, 640)\n",
      "\n",
      "0: 640x640 2 persons, 101.9ms\n",
      "Speed: 6.9ms preprocess, 101.9ms inference, 1.2ms postprocess per image at shape (1, 3, 640, 640)\n",
      "\n",
      "0: 640x640 (no detections), 106.7ms\n",
      "Speed: 5.8ms preprocess, 106.7ms inference, 1.1ms postprocess per image at shape (1, 3, 640, 640)\n",
      "\n",
      "0: 640x640 1 person, 112.3ms\n",
      "Speed: 4.8ms preprocess, 112.3ms inference, 1.7ms postprocess per image at shape (1, 3, 640, 640)\n",
      "\n",
      "0: 640x640 3 persons, 126.6ms\n",
      "Speed: 7.5ms preprocess, 126.6ms inference, 2.4ms postprocess per image at shape (1, 3, 640, 640)\n",
      "\n",
      "0: 640x640 (no detections), 110.1ms\n",
      "Speed: 6.3ms preprocess, 110.1ms inference, 1.1ms postprocess per image at shape (1, 3, 640, 640)\n",
      "\n",
      "0: 640x640 (no detections), 102.8ms\n",
      "Speed: 4.7ms preprocess, 102.8ms inference, 1.1ms postprocess per image at shape (1, 3, 640, 640)\n",
      "\n",
      "0: 640x640 2 persons, 100.6ms\n",
      "Speed: 4.8ms preprocess, 100.6ms inference, 1.8ms postprocess per image at shape (1, 3, 640, 640)\n",
      "\n",
      "0: 640x640 2 persons, 101.0ms\n",
      "Speed: 6.1ms preprocess, 101.0ms inference, 1.3ms postprocess per image at shape (1, 3, 640, 640)\n",
      "\n",
      "0: 640x640 1 person, 103.9ms\n",
      "Speed: 4.7ms preprocess, 103.9ms inference, 1.7ms postprocess per image at shape (1, 3, 640, 640)\n",
      "\n",
      "0: 640x640 2 persons, 99.1ms\n",
      "Speed: 5.0ms preprocess, 99.1ms inference, 1.6ms postprocess per image at shape (1, 3, 640, 640)\n",
      "\n",
      "0: 640x640 1 person, 95.9ms\n",
      "Speed: 6.1ms preprocess, 95.9ms inference, 1.3ms postprocess per image at shape (1, 3, 640, 640)\n",
      "\n",
      "0: 640x640 2 persons, 104.3ms\n",
      "Speed: 5.0ms preprocess, 104.3ms inference, 1.4ms postprocess per image at shape (1, 3, 640, 640)\n",
      "\n",
      "0: 640x640 1 person, 103.4ms\n",
      "Speed: 5.9ms preprocess, 103.4ms inference, 1.3ms postprocess per image at shape (1, 3, 640, 640)\n",
      "\n",
      "0: 640x640 2 persons, 95.6ms\n",
      "Speed: 6.0ms preprocess, 95.6ms inference, 1.5ms postprocess per image at shape (1, 3, 640, 640)\n",
      "\n",
      "0: 640x640 1 person, 100.6ms\n",
      "Speed: 5.9ms preprocess, 100.6ms inference, 1.7ms postprocess per image at shape (1, 3, 640, 640)\n",
      "\n",
      "0: 640x640 1 person, 100.3ms\n",
      "Speed: 5.1ms preprocess, 100.3ms inference, 2.2ms postprocess per image at shape (1, 3, 640, 640)\n",
      "\n",
      "0: 640x640 1 person, 217.9ms\n",
      "Speed: 7.1ms preprocess, 217.9ms inference, 1.6ms postprocess per image at shape (1, 3, 640, 640)\n",
      "\n",
      "0: 640x640 1 person, 121.4ms\n",
      "Speed: 5.9ms preprocess, 121.4ms inference, 1.8ms postprocess per image at shape (1, 3, 640, 640)\n",
      "\n",
      "0: 640x640 1 person, 126.0ms\n",
      "Speed: 6.5ms preprocess, 126.0ms inference, 1.2ms postprocess per image at shape (1, 3, 640, 640)\n",
      "\n",
      "0: 640x640 1 person, 122.3ms\n",
      "Speed: 4.9ms preprocess, 122.3ms inference, 1.5ms postprocess per image at shape (1, 3, 640, 640)\n",
      "\n",
      "0: 640x640 1 person, 102.6ms\n",
      "Speed: 5.5ms preprocess, 102.6ms inference, 1.8ms postprocess per image at shape (1, 3, 640, 640)\n",
      "\n",
      "0: 640x640 (no detections), 96.2ms\n",
      "Speed: 5.3ms preprocess, 96.2ms inference, 0.8ms postprocess per image at shape (1, 3, 640, 640)\n",
      "\n",
      "0: 640x640 1 person, 97.8ms\n",
      "Speed: 5.4ms preprocess, 97.8ms inference, 1.1ms postprocess per image at shape (1, 3, 640, 640)\n",
      "\n",
      "0: 640x640 (no detections), 119.4ms\n",
      "Speed: 5.3ms preprocess, 119.4ms inference, 1.1ms postprocess per image at shape (1, 3, 640, 640)\n",
      "\n",
      "0: 640x640 (no detections), 98.1ms\n",
      "Speed: 4.8ms preprocess, 98.1ms inference, 0.8ms postprocess per image at shape (1, 3, 640, 640)\n",
      "\n",
      "0: 640x640 (no detections), 99.0ms\n",
      "Speed: 4.4ms preprocess, 99.0ms inference, 0.8ms postprocess per image at shape (1, 3, 640, 640)\n",
      "\n",
      "0: 640x640 1 person, 99.2ms\n",
      "Speed: 5.4ms preprocess, 99.2ms inference, 1.3ms postprocess per image at shape (1, 3, 640, 640)\n",
      "\n",
      "0: 640x640 (no detections), 97.5ms\n",
      "Speed: 5.9ms preprocess, 97.5ms inference, 0.8ms postprocess per image at shape (1, 3, 640, 640)\n",
      "\n",
      "0: 640x640 (no detections), 105.4ms\n",
      "Speed: 6.4ms preprocess, 105.4ms inference, 0.9ms postprocess per image at shape (1, 3, 640, 640)\n",
      "\n",
      "0: 640x640 (no detections), 98.4ms\n",
      "Speed: 6.9ms preprocess, 98.4ms inference, 0.9ms postprocess per image at shape (1, 3, 640, 640)\n",
      "\n",
      "0: 640x640 (no detections), 107.9ms\n",
      "Speed: 6.1ms preprocess, 107.9ms inference, 0.8ms postprocess per image at shape (1, 3, 640, 640)\n",
      "\n",
      "0: 640x640 1 person, 106.5ms\n",
      "Speed: 6.3ms preprocess, 106.5ms inference, 1.4ms postprocess per image at shape (1, 3, 640, 640)\n",
      "\n",
      "0: 640x640 (no detections), 111.1ms\n",
      "Speed: 4.8ms preprocess, 111.1ms inference, 0.8ms postprocess per image at shape (1, 3, 640, 640)\n",
      "\n",
      "0: 640x640 (no detections), 108.2ms\n",
      "Speed: 5.7ms preprocess, 108.2ms inference, 1.0ms postprocess per image at shape (1, 3, 640, 640)\n",
      "\n",
      "0: 640x640 3 persons, 104.6ms\n",
      "Speed: 5.6ms preprocess, 104.6ms inference, 1.4ms postprocess per image at shape (1, 3, 640, 640)\n",
      "\n",
      "0: 640x640 2 persons, 109.6ms\n",
      "Speed: 5.7ms preprocess, 109.6ms inference, 1.6ms postprocess per image at shape (1, 3, 640, 640)\n",
      "\n",
      "0: 640x640 2 persons, 125.6ms\n",
      "Speed: 6.5ms preprocess, 125.6ms inference, 1.7ms postprocess per image at shape (1, 3, 640, 640)\n",
      "\n",
      "0: 640x640 1 person, 106.0ms\n",
      "Speed: 5.7ms preprocess, 106.0ms inference, 1.3ms postprocess per image at shape (1, 3, 640, 640)\n",
      "\n",
      "0: 640x640 1 person, 101.3ms\n",
      "Speed: 5.4ms preprocess, 101.3ms inference, 1.3ms postprocess per image at shape (1, 3, 640, 640)\n",
      "\n",
      "0: 640x640 1 person, 100.0ms\n",
      "Speed: 5.4ms preprocess, 100.0ms inference, 1.5ms postprocess per image at shape (1, 3, 640, 640)\n",
      "\n",
      "0: 640x640 1 person, 98.4ms\n",
      "Speed: 4.3ms preprocess, 98.4ms inference, 1.4ms postprocess per image at shape (1, 3, 640, 640)\n",
      "\n",
      "0: 640x640 1 person, 97.3ms\n",
      "Speed: 5.4ms preprocess, 97.3ms inference, 1.2ms postprocess per image at shape (1, 3, 640, 640)\n",
      "\n",
      "0: 640x640 1 person, 96.2ms\n",
      "Speed: 5.3ms preprocess, 96.2ms inference, 1.2ms postprocess per image at shape (1, 3, 640, 640)\n",
      "\n",
      "0: 640x640 1 person, 99.5ms\n",
      "Speed: 6.0ms preprocess, 99.5ms inference, 1.5ms postprocess per image at shape (1, 3, 640, 640)\n",
      "\n",
      "0: 640x640 1 person, 103.1ms\n",
      "Speed: 5.3ms preprocess, 103.1ms inference, 1.5ms postprocess per image at shape (1, 3, 640, 640)\n",
      "\n",
      "0: 640x640 1 person, 110.7ms\n",
      "Speed: 4.9ms preprocess, 110.7ms inference, 1.3ms postprocess per image at shape (1, 3, 640, 640)\n",
      "\n",
      "0: 640x640 1 person, 111.6ms\n",
      "Speed: 6.8ms preprocess, 111.6ms inference, 1.8ms postprocess per image at shape (1, 3, 640, 640)\n",
      "\n",
      "0: 640x640 1 person, 107.5ms\n",
      "Speed: 5.6ms preprocess, 107.5ms inference, 1.8ms postprocess per image at shape (1, 3, 640, 640)\n",
      "\n",
      "0: 640x640 1 person, 107.9ms\n",
      "Speed: 5.3ms preprocess, 107.9ms inference, 1.4ms postprocess per image at shape (1, 3, 640, 640)\n",
      "\n",
      "0: 640x640 1 person, 103.1ms\n",
      "Speed: 4.7ms preprocess, 103.1ms inference, 1.1ms postprocess per image at shape (1, 3, 640, 640)\n",
      "\n",
      "0: 640x640 1 person, 104.4ms\n",
      "Speed: 6.4ms preprocess, 104.4ms inference, 1.4ms postprocess per image at shape (1, 3, 640, 640)\n",
      "\n",
      "0: 640x640 1 person, 127.1ms\n",
      "Speed: 4.8ms preprocess, 127.1ms inference, 1.2ms postprocess per image at shape (1, 3, 640, 640)\n",
      "\n",
      "0: 640x640 1 person, 115.4ms\n",
      "Speed: 5.8ms preprocess, 115.4ms inference, 1.5ms postprocess per image at shape (1, 3, 640, 640)\n",
      "\n",
      "0: 640x640 1 person, 111.7ms\n",
      "Speed: 6.6ms preprocess, 111.7ms inference, 1.7ms postprocess per image at shape (1, 3, 640, 640)\n",
      "\n",
      "0: 640x640 1 person, 110.9ms\n",
      "Speed: 6.5ms preprocess, 110.9ms inference, 1.6ms postprocess per image at shape (1, 3, 640, 640)\n",
      "\n",
      "0: 640x640 1 person, 105.1ms\n",
      "Speed: 6.1ms preprocess, 105.1ms inference, 1.9ms postprocess per image at shape (1, 3, 640, 640)\n",
      "\n",
      "0: 640x640 1 person, 148.8ms\n",
      "Speed: 7.1ms preprocess, 148.8ms inference, 1.1ms postprocess per image at shape (1, 3, 640, 640)\n",
      "\n",
      "0: 640x640 1 person, 102.2ms\n",
      "Speed: 5.7ms preprocess, 102.2ms inference, 1.2ms postprocess per image at shape (1, 3, 640, 640)\n",
      "\n",
      "0: 640x640 2 persons, 106.3ms\n",
      "Speed: 5.6ms preprocess, 106.3ms inference, 1.6ms postprocess per image at shape (1, 3, 640, 640)\n",
      "\n",
      "0: 640x640 4 persons, 113.2ms\n",
      "Speed: 5.2ms preprocess, 113.2ms inference, 1.9ms postprocess per image at shape (1, 3, 640, 640)\n",
      "\n",
      "0: 640x640 4 persons, 114.1ms\n",
      "Speed: 5.5ms preprocess, 114.1ms inference, 1.4ms postprocess per image at shape (1, 3, 640, 640)\n",
      "\n",
      "0: 640x640 3 persons, 109.3ms\n",
      "Speed: 5.9ms preprocess, 109.3ms inference, 1.4ms postprocess per image at shape (1, 3, 640, 640)\n",
      "\n",
      "0: 640x640 3 persons, 101.7ms\n",
      "Speed: 5.7ms preprocess, 101.7ms inference, 1.2ms postprocess per image at shape (1, 3, 640, 640)\n",
      "\n",
      "0: 640x640 4 persons, 93.9ms\n",
      "Speed: 5.5ms preprocess, 93.9ms inference, 1.3ms postprocess per image at shape (1, 3, 640, 640)\n",
      "\n",
      "0: 640x640 5 persons, 99.8ms\n",
      "Speed: 5.8ms preprocess, 99.8ms inference, 1.5ms postprocess per image at shape (1, 3, 640, 640)\n",
      "\n",
      "0: 640x640 5 persons, 96.8ms\n",
      "Speed: 6.1ms preprocess, 96.8ms inference, 1.1ms postprocess per image at shape (1, 3, 640, 640)\n",
      "\n",
      "0: 640x640 5 persons, 101.5ms\n",
      "Speed: 6.6ms preprocess, 101.5ms inference, 1.2ms postprocess per image at shape (1, 3, 640, 640)\n",
      "\n",
      "0: 640x640 3 persons, 93.2ms\n",
      "Speed: 4.9ms preprocess, 93.2ms inference, 1.4ms postprocess per image at shape (1, 3, 640, 640)\n",
      "\n",
      "0: 640x640 5 persons, 111.1ms\n",
      "Speed: 4.8ms preprocess, 111.1ms inference, 1.5ms postprocess per image at shape (1, 3, 640, 640)\n",
      "\n",
      "0: 640x640 5 persons, 103.8ms\n",
      "Speed: 7.4ms preprocess, 103.8ms inference, 1.2ms postprocess per image at shape (1, 3, 640, 640)\n",
      "\n",
      "0: 640x640 5 persons, 105.4ms\n",
      "Speed: 5.9ms preprocess, 105.4ms inference, 1.7ms postprocess per image at shape (1, 3, 640, 640)\n",
      "\n",
      "0: 640x640 4 persons, 113.4ms\n",
      "Speed: 4.7ms preprocess, 113.4ms inference, 1.5ms postprocess per image at shape (1, 3, 640, 640)\n",
      "\n",
      "0: 640x640 5 persons, 102.8ms\n",
      "Speed: 6.0ms preprocess, 102.8ms inference, 1.4ms postprocess per image at shape (1, 3, 640, 640)\n",
      "\n",
      "0: 640x640 4 persons, 106.8ms\n",
      "Speed: 5.7ms preprocess, 106.8ms inference, 1.4ms postprocess per image at shape (1, 3, 640, 640)\n",
      "\n",
      "0: 640x640 4 persons, 109.3ms\n",
      "Speed: 6.5ms preprocess, 109.3ms inference, 1.3ms postprocess per image at shape (1, 3, 640, 640)\n",
      "\n",
      "0: 640x640 4 persons, 112.5ms\n",
      "Speed: 5.5ms preprocess, 112.5ms inference, 1.3ms postprocess per image at shape (1, 3, 640, 640)\n",
      "\n",
      "0: 640x640 4 persons, 114.1ms\n",
      "Speed: 6.8ms preprocess, 114.1ms inference, 1.4ms postprocess per image at shape (1, 3, 640, 640)\n",
      "\n",
      "0: 640x640 5 persons, 101.8ms\n",
      "Speed: 5.0ms preprocess, 101.8ms inference, 1.3ms postprocess per image at shape (1, 3, 640, 640)\n",
      "\n",
      "0: 640x640 5 persons, 100.7ms\n",
      "Speed: 6.3ms preprocess, 100.7ms inference, 1.5ms postprocess per image at shape (1, 3, 640, 640)\n",
      "\n",
      "0: 640x640 3 persons, 122.7ms\n",
      "Speed: 4.8ms preprocess, 122.7ms inference, 1.2ms postprocess per image at shape (1, 3, 640, 640)\n",
      "\n",
      "0: 640x640 3 persons, 103.4ms\n",
      "Speed: 5.9ms preprocess, 103.4ms inference, 1.5ms postprocess per image at shape (1, 3, 640, 640)\n",
      "\n",
      "0: 640x640 4 persons, 102.1ms\n",
      "Speed: 4.4ms preprocess, 102.1ms inference, 1.8ms postprocess per image at shape (1, 3, 640, 640)\n",
      "\n",
      "0: 640x640 3 persons, 98.4ms\n",
      "Speed: 6.0ms preprocess, 98.4ms inference, 1.3ms postprocess per image at shape (1, 3, 640, 640)\n",
      "\n",
      "0: 640x640 4 persons, 99.5ms\n",
      "Speed: 4.4ms preprocess, 99.5ms inference, 1.3ms postprocess per image at shape (1, 3, 640, 640)\n",
      "\n",
      "0: 640x640 4 persons, 105.5ms\n",
      "Speed: 5.6ms preprocess, 105.5ms inference, 1.3ms postprocess per image at shape (1, 3, 640, 640)\n",
      "\n",
      "0: 640x640 4 persons, 110.4ms\n",
      "Speed: 6.4ms preprocess, 110.4ms inference, 1.4ms postprocess per image at shape (1, 3, 640, 640)\n",
      "\n",
      "0: 640x640 4 persons, 101.9ms\n",
      "Speed: 6.1ms preprocess, 101.9ms inference, 1.8ms postprocess per image at shape (1, 3, 640, 640)\n",
      "\n",
      "0: 640x640 3 persons, 100.0ms\n",
      "Speed: 5.5ms preprocess, 100.0ms inference, 1.2ms postprocess per image at shape (1, 3, 640, 640)\n",
      "\n",
      "0: 640x640 4 persons, 119.1ms\n",
      "Speed: 5.9ms preprocess, 119.1ms inference, 1.5ms postprocess per image at shape (1, 3, 640, 640)\n",
      "\n",
      "0: 640x640 3 persons, 122.4ms\n",
      "Speed: 7.6ms preprocess, 122.4ms inference, 1.6ms postprocess per image at shape (1, 3, 640, 640)\n",
      "\n",
      "0: 640x640 3 persons, 107.8ms\n",
      "Speed: 7.0ms preprocess, 107.8ms inference, 1.3ms postprocess per image at shape (1, 3, 640, 640)\n",
      "\n",
      "0: 640x640 3 persons, 109.7ms\n",
      "Speed: 6.0ms preprocess, 109.7ms inference, 1.7ms postprocess per image at shape (1, 3, 640, 640)\n",
      "\n",
      "0: 640x640 2 persons, 104.5ms\n",
      "Speed: 5.6ms preprocess, 104.5ms inference, 1.4ms postprocess per image at shape (1, 3, 640, 640)\n",
      "\n",
      "0: 640x640 2 persons, 107.8ms\n",
      "Speed: 5.5ms preprocess, 107.8ms inference, 1.4ms postprocess per image at shape (1, 3, 640, 640)\n",
      "\n",
      "0: 640x640 4 persons, 181.1ms\n",
      "Speed: 5.8ms preprocess, 181.1ms inference, 2.1ms postprocess per image at shape (1, 3, 640, 640)\n",
      "\n",
      "0: 640x640 4 persons, 137.4ms\n",
      "Speed: 6.8ms preprocess, 137.4ms inference, 2.3ms postprocess per image at shape (1, 3, 640, 640)\n",
      "\n",
      "0: 640x640 3 persons, 111.5ms\n",
      "Speed: 10.0ms preprocess, 111.5ms inference, 1.4ms postprocess per image at shape (1, 3, 640, 640)\n",
      "\n",
      "0: 640x640 5 persons, 105.0ms\n",
      "Speed: 5.8ms preprocess, 105.0ms inference, 1.3ms postprocess per image at shape (1, 3, 640, 640)\n",
      "\n",
      "0: 640x640 7 persons, 109.0ms\n",
      "Speed: 5.4ms preprocess, 109.0ms inference, 1.7ms postprocess per image at shape (1, 3, 640, 640)\n",
      "\n",
      "0: 640x640 8 persons, 104.0ms\n",
      "Speed: 6.3ms preprocess, 104.0ms inference, 1.6ms postprocess per image at shape (1, 3, 640, 640)\n",
      "\n",
      "0: 640x640 1 person, 115.6ms\n",
      "Speed: 6.7ms preprocess, 115.6ms inference, 2.0ms postprocess per image at shape (1, 3, 640, 640)\n",
      "\n",
      "0: 640x640 1 person, 125.4ms\n",
      "Speed: 6.2ms preprocess, 125.4ms inference, 1.5ms postprocess per image at shape (1, 3, 640, 640)\n",
      "\n",
      "0: 640x640 2 persons, 144.2ms\n",
      "Speed: 5.3ms preprocess, 144.2ms inference, 1.5ms postprocess per image at shape (1, 3, 640, 640)\n",
      "\n",
      "0: 640x640 2 persons, 120.5ms\n",
      "Speed: 6.6ms preprocess, 120.5ms inference, 2.5ms postprocess per image at shape (1, 3, 640, 640)\n",
      "\n",
      "0: 640x640 2 persons, 111.2ms\n",
      "Speed: 6.8ms preprocess, 111.2ms inference, 1.3ms postprocess per image at shape (1, 3, 640, 640)\n",
      "\n",
      "0: 640x640 2 persons, 117.9ms\n",
      "Speed: 6.4ms preprocess, 117.9ms inference, 1.5ms postprocess per image at shape (1, 3, 640, 640)\n",
      "\n",
      "0: 640x640 2 persons, 98.8ms\n",
      "Speed: 6.4ms preprocess, 98.8ms inference, 1.9ms postprocess per image at shape (1, 3, 640, 640)\n",
      "\n",
      "0: 640x640 2 persons, 96.4ms\n",
      "Speed: 4.5ms preprocess, 96.4ms inference, 1.3ms postprocess per image at shape (1, 3, 640, 640)\n",
      "\n",
      "0: 640x640 2 persons, 97.7ms\n",
      "Speed: 5.6ms preprocess, 97.7ms inference, 1.4ms postprocess per image at shape (1, 3, 640, 640)\n",
      "\n",
      "0: 640x640 2 persons, 102.9ms\n",
      "Speed: 5.6ms preprocess, 102.9ms inference, 1.4ms postprocess per image at shape (1, 3, 640, 640)\n",
      "\n",
      "0: 640x640 2 persons, 104.9ms\n",
      "Speed: 4.9ms preprocess, 104.9ms inference, 1.6ms postprocess per image at shape (1, 3, 640, 640)\n",
      "\n",
      "0: 640x640 2 persons, 100.3ms\n",
      "Speed: 5.7ms preprocess, 100.3ms inference, 1.7ms postprocess per image at shape (1, 3, 640, 640)\n",
      "\n",
      "0: 640x640 2 persons, 104.6ms\n",
      "Speed: 7.0ms preprocess, 104.6ms inference, 1.3ms postprocess per image at shape (1, 3, 640, 640)\n",
      "\n",
      "0: 640x640 2 persons, 103.1ms\n",
      "Speed: 5.5ms preprocess, 103.1ms inference, 1.5ms postprocess per image at shape (1, 3, 640, 640)\n",
      "\n",
      "0: 640x640 2 persons, 105.3ms\n",
      "Speed: 5.2ms preprocess, 105.3ms inference, 1.9ms postprocess per image at shape (1, 3, 640, 640)\n",
      "\n",
      "0: 640x640 2 persons, 120.8ms\n",
      "Speed: 6.1ms preprocess, 120.8ms inference, 1.6ms postprocess per image at shape (1, 3, 640, 640)\n",
      "\n",
      "0: 640x640 2 persons, 126.5ms\n",
      "Speed: 6.7ms preprocess, 126.5ms inference, 1.4ms postprocess per image at shape (1, 3, 640, 640)\n",
      "\n",
      "0: 640x640 2 persons, 112.5ms\n",
      "Speed: 4.9ms preprocess, 112.5ms inference, 1.3ms postprocess per image at shape (1, 3, 640, 640)\n",
      "\n",
      "0: 640x640 2 persons, 103.4ms\n",
      "Speed: 6.0ms preprocess, 103.4ms inference, 1.4ms postprocess per image at shape (1, 3, 640, 640)\n",
      "\n",
      "0: 640x640 2 persons, 104.3ms\n",
      "Speed: 5.5ms preprocess, 104.3ms inference, 1.7ms postprocess per image at shape (1, 3, 640, 640)\n",
      "\n",
      "0: 640x640 2 persons, 95.4ms\n",
      "Speed: 5.9ms preprocess, 95.4ms inference, 1.8ms postprocess per image at shape (1, 3, 640, 640)\n",
      "\n",
      "0: 640x640 2 persons, 122.3ms\n",
      "Speed: 6.0ms preprocess, 122.3ms inference, 1.6ms postprocess per image at shape (1, 3, 640, 640)\n",
      "\n",
      "0: 640x640 2 persons, 111.9ms\n",
      "Speed: 5.7ms preprocess, 111.9ms inference, 1.5ms postprocess per image at shape (1, 3, 640, 640)\n",
      "\n",
      "0: 640x640 2 persons, 96.9ms\n",
      "Speed: 7.3ms preprocess, 96.9ms inference, 1.4ms postprocess per image at shape (1, 3, 640, 640)\n",
      "\n",
      "0: 640x640 2 persons, 102.1ms\n",
      "Speed: 7.1ms preprocess, 102.1ms inference, 1.3ms postprocess per image at shape (1, 3, 640, 640)\n",
      "\n",
      "0: 640x640 2 persons, 98.9ms\n",
      "Speed: 5.5ms preprocess, 98.9ms inference, 1.6ms postprocess per image at shape (1, 3, 640, 640)\n",
      "\n",
      "0: 640x640 2 persons, 99.8ms\n",
      "Speed: 6.4ms preprocess, 99.8ms inference, 1.6ms postprocess per image at shape (1, 3, 640, 640)\n",
      "\n",
      "0: 640x640 2 persons, 99.9ms\n",
      "Speed: 5.6ms preprocess, 99.9ms inference, 1.5ms postprocess per image at shape (1, 3, 640, 640)\n",
      "\n",
      "0: 640x640 2 persons, 105.0ms\n",
      "Speed: 5.1ms preprocess, 105.0ms inference, 1.4ms postprocess per image at shape (1, 3, 640, 640)\n",
      "\n",
      "0: 640x640 2 persons, 111.7ms\n",
      "Speed: 6.2ms preprocess, 111.7ms inference, 1.5ms postprocess per image at shape (1, 3, 640, 640)\n",
      "\n",
      "0: 640x640 2 persons, 112.7ms\n",
      "Speed: 6.9ms preprocess, 112.7ms inference, 1.5ms postprocess per image at shape (1, 3, 640, 640)\n",
      "\n",
      "0: 640x640 2 persons, 115.1ms\n",
      "Speed: 5.6ms preprocess, 115.1ms inference, 1.6ms postprocess per image at shape (1, 3, 640, 640)\n",
      "\n",
      "0: 640x640 2 persons, 203.6ms\n",
      "Speed: 6.3ms preprocess, 203.6ms inference, 1.5ms postprocess per image at shape (1, 3, 640, 640)\n",
      "\n",
      "0: 640x640 2 persons, 95.4ms\n",
      "Speed: 5.8ms preprocess, 95.4ms inference, 1.2ms postprocess per image at shape (1, 3, 640, 640)\n",
      "\n",
      "0: 640x640 2 persons, 100.5ms\n",
      "Speed: 5.2ms preprocess, 100.5ms inference, 1.3ms postprocess per image at shape (1, 3, 640, 640)\n",
      "\n",
      "0: 640x640 3 persons, 97.3ms\n",
      "Speed: 4.7ms preprocess, 97.3ms inference, 1.5ms postprocess per image at shape (1, 3, 640, 640)\n",
      "\n",
      "0: 640x640 3 persons, 100.5ms\n",
      "Speed: 5.5ms preprocess, 100.5ms inference, 2.0ms postprocess per image at shape (1, 3, 640, 640)\n",
      "\n",
      "0: 640x640 2 persons, 98.1ms\n",
      "Speed: 6.0ms preprocess, 98.1ms inference, 1.4ms postprocess per image at shape (1, 3, 640, 640)\n",
      "\n",
      "0: 640x640 2 persons, 104.7ms\n",
      "Speed: 5.3ms preprocess, 104.7ms inference, 1.8ms postprocess per image at shape (1, 3, 640, 640)\n",
      "\n",
      "0: 640x640 2 persons, 111.9ms\n",
      "Speed: 5.7ms preprocess, 111.9ms inference, 1.4ms postprocess per image at shape (1, 3, 640, 640)\n",
      "\n",
      "0: 640x640 2 persons, 102.1ms\n",
      "Speed: 5.9ms preprocess, 102.1ms inference, 2.0ms postprocess per image at shape (1, 3, 640, 640)\n",
      "\n",
      "0: 640x640 2 persons, 102.6ms\n",
      "Speed: 4.6ms preprocess, 102.6ms inference, 1.4ms postprocess per image at shape (1, 3, 640, 640)\n",
      "\n",
      "0: 640x640 2 persons, 106.2ms\n",
      "Speed: 4.6ms preprocess, 106.2ms inference, 1.2ms postprocess per image at shape (1, 3, 640, 640)\n",
      "\n",
      "0: 640x640 2 persons, 114.5ms\n",
      "Speed: 5.5ms preprocess, 114.5ms inference, 1.2ms postprocess per image at shape (1, 3, 640, 640)\n",
      "\n",
      "0: 640x640 2 persons, 111.8ms\n",
      "Speed: 5.9ms preprocess, 111.8ms inference, 1.4ms postprocess per image at shape (1, 3, 640, 640)\n",
      "\n",
      "0: 640x640 2 persons, 106.3ms\n",
      "Speed: 4.7ms preprocess, 106.3ms inference, 1.2ms postprocess per image at shape (1, 3, 640, 640)\n",
      "\n",
      "0: 640x640 2 persons, 119.8ms\n",
      "Speed: 6.4ms preprocess, 119.8ms inference, 1.3ms postprocess per image at shape (1, 3, 640, 640)\n",
      "\n",
      "0: 640x640 2 persons, 104.9ms\n",
      "Speed: 5.4ms preprocess, 104.9ms inference, 1.4ms postprocess per image at shape (1, 3, 640, 640)\n",
      "\n",
      "0: 640x640 2 persons, 104.1ms\n",
      "Speed: 5.8ms preprocess, 104.1ms inference, 1.5ms postprocess per image at shape (1, 3, 640, 640)\n",
      "\n",
      "0: 640x640 2 persons, 98.5ms\n",
      "Speed: 6.3ms preprocess, 98.5ms inference, 1.3ms postprocess per image at shape (1, 3, 640, 640)\n",
      "\n",
      "0: 640x640 2 persons, 99.6ms\n",
      "Speed: 5.6ms preprocess, 99.6ms inference, 1.3ms postprocess per image at shape (1, 3, 640, 640)\n",
      "\n",
      "0: 640x640 2 persons, 100.9ms\n",
      "Speed: 6.1ms preprocess, 100.9ms inference, 1.4ms postprocess per image at shape (1, 3, 640, 640)\n",
      "\n",
      "0: 640x640 2 persons, 98.5ms\n",
      "Speed: 4.8ms preprocess, 98.5ms inference, 1.3ms postprocess per image at shape (1, 3, 640, 640)\n",
      "\n",
      "0: 640x640 2 persons, 106.9ms\n",
      "Speed: 4.9ms preprocess, 106.9ms inference, 1.3ms postprocess per image at shape (1, 3, 640, 640)\n",
      "\n",
      "0: 640x640 2 persons, 100.0ms\n",
      "Speed: 5.1ms preprocess, 100.0ms inference, 1.2ms postprocess per image at shape (1, 3, 640, 640)\n",
      "\n",
      "0: 640x640 2 persons, 108.1ms\n",
      "Speed: 5.5ms preprocess, 108.1ms inference, 1.8ms postprocess per image at shape (1, 3, 640, 640)\n",
      "\n",
      "0: 640x640 2 persons, 140.7ms\n",
      "Speed: 6.9ms preprocess, 140.7ms inference, 1.8ms postprocess per image at shape (1, 3, 640, 640)\n",
      "\n",
      "0: 640x640 2 persons, 137.8ms\n",
      "Speed: 6.3ms preprocess, 137.8ms inference, 1.9ms postprocess per image at shape (1, 3, 640, 640)\n",
      "\n",
      "0: 640x640 2 persons, 112.4ms\n",
      "Speed: 7.9ms preprocess, 112.4ms inference, 1.5ms postprocess per image at shape (1, 3, 640, 640)\n",
      "\n",
      "0: 640x640 2 persons, 125.3ms\n",
      "Speed: 7.3ms preprocess, 125.3ms inference, 2.3ms postprocess per image at shape (1, 3, 640, 640)\n",
      "\n",
      "0: 640x640 3 persons, 104.0ms\n",
      "Speed: 7.0ms preprocess, 104.0ms inference, 1.8ms postprocess per image at shape (1, 3, 640, 640)\n",
      "\n",
      "0: 640x640 3 persons, 108.3ms\n",
      "Speed: 6.4ms preprocess, 108.3ms inference, 1.9ms postprocess per image at shape (1, 3, 640, 640)\n",
      "\n",
      "0: 640x640 3 persons, 125.7ms\n",
      "Speed: 6.1ms preprocess, 125.7ms inference, 1.3ms postprocess per image at shape (1, 3, 640, 640)\n",
      "\n",
      "0: 640x640 3 persons, 132.4ms\n",
      "Speed: 6.0ms preprocess, 132.4ms inference, 2.1ms postprocess per image at shape (1, 3, 640, 640)\n",
      "\n",
      "0: 640x640 3 persons, 125.3ms\n",
      "Speed: 6.4ms preprocess, 125.3ms inference, 1.2ms postprocess per image at shape (1, 3, 640, 640)\n",
      "\n",
      "0: 640x640 4 persons, 110.1ms\n",
      "Speed: 6.0ms preprocess, 110.1ms inference, 2.2ms postprocess per image at shape (1, 3, 640, 640)\n",
      "\n",
      "0: 640x640 4 persons, 105.1ms\n",
      "Speed: 6.1ms preprocess, 105.1ms inference, 1.5ms postprocess per image at shape (1, 3, 640, 640)\n",
      "\n",
      "0: 640x640 4 persons, 110.9ms\n",
      "Speed: 4.5ms preprocess, 110.9ms inference, 1.8ms postprocess per image at shape (1, 3, 640, 640)\n",
      "\n",
      "0: 640x640 4 persons, 1 snowboard, 115.6ms\n",
      "Speed: 6.4ms preprocess, 115.6ms inference, 1.8ms postprocess per image at shape (1, 3, 640, 640)\n",
      "\n",
      "0: 640x640 3 persons, 1 snowboard, 185.1ms\n",
      "Speed: 15.3ms preprocess, 185.1ms inference, 1.9ms postprocess per image at shape (1, 3, 640, 640)\n",
      "\n",
      "0: 640x640 3 persons, 1 snowboard, 138.8ms\n",
      "Speed: 6.9ms preprocess, 138.8ms inference, 1.4ms postprocess per image at shape (1, 3, 640, 640)\n",
      "\n",
      "0: 640x640 3 persons, 1 snowboard, 116.6ms\n",
      "Speed: 4.4ms preprocess, 116.6ms inference, 1.7ms postprocess per image at shape (1, 3, 640, 640)\n",
      "\n",
      "0: 640x640 2 persons, 105.8ms\n",
      "Speed: 6.2ms preprocess, 105.8ms inference, 2.2ms postprocess per image at shape (1, 3, 640, 640)\n",
      "\n",
      "0: 640x640 2 persons, 122.7ms\n",
      "Speed: 6.4ms preprocess, 122.7ms inference, 1.4ms postprocess per image at shape (1, 3, 640, 640)\n",
      "\n",
      "0: 640x640 3 persons, 98.7ms\n",
      "Speed: 5.8ms preprocess, 98.7ms inference, 1.4ms postprocess per image at shape (1, 3, 640, 640)\n",
      "\n",
      "0: 640x640 3 persons, 97.5ms\n",
      "Speed: 4.5ms preprocess, 97.5ms inference, 1.3ms postprocess per image at shape (1, 3, 640, 640)\n",
      "\n",
      "0: 640x640 2 persons, 99.5ms\n",
      "Speed: 5.7ms preprocess, 99.5ms inference, 1.5ms postprocess per image at shape (1, 3, 640, 640)\n",
      "\n",
      "0: 640x640 2 persons, 137.4ms\n",
      "Speed: 7.3ms preprocess, 137.4ms inference, 2.1ms postprocess per image at shape (1, 3, 640, 640)\n",
      "\n",
      "0: 640x640 2 persons, 118.0ms\n",
      "Speed: 6.0ms preprocess, 118.0ms inference, 1.9ms postprocess per image at shape (1, 3, 640, 640)\n",
      "\n",
      "0: 640x640 3 persons, 108.5ms\n",
      "Speed: 6.9ms preprocess, 108.5ms inference, 1.4ms postprocess per image at shape (1, 3, 640, 640)\n",
      "\n",
      "0: 640x640 5 persons, 121.0ms\n",
      "Speed: 5.7ms preprocess, 121.0ms inference, 2.0ms postprocess per image at shape (1, 3, 640, 640)\n",
      "\n",
      "0: 640x640 5 persons, 111.6ms\n",
      "Speed: 6.4ms preprocess, 111.6ms inference, 2.5ms postprocess per image at shape (1, 3, 640, 640)\n",
      "\n",
      "0: 640x640 4 persons, 136.9ms\n",
      "Speed: 7.8ms preprocess, 136.9ms inference, 1.6ms postprocess per image at shape (1, 3, 640, 640)\n",
      "\n",
      "0: 640x640 3 persons, 110.7ms\n",
      "Speed: 7.0ms preprocess, 110.7ms inference, 1.3ms postprocess per image at shape (1, 3, 640, 640)\n",
      "\n",
      "0: 640x640 3 persons, 139.1ms\n",
      "Speed: 6.5ms preprocess, 139.1ms inference, 1.7ms postprocess per image at shape (1, 3, 640, 640)\n",
      "\n",
      "0: 640x640 4 persons, 103.7ms\n",
      "Speed: 5.7ms preprocess, 103.7ms inference, 1.2ms postprocess per image at shape (1, 3, 640, 640)\n",
      "\n",
      "0: 640x640 4 persons, 139.8ms\n",
      "Speed: 6.1ms preprocess, 139.8ms inference, 1.9ms postprocess per image at shape (1, 3, 640, 640)\n",
      "\n",
      "0: 640x640 4 persons, 125.2ms\n",
      "Speed: 6.3ms preprocess, 125.2ms inference, 2.0ms postprocess per image at shape (1, 3, 640, 640)\n",
      "\n",
      "0: 640x640 3 persons, 105.9ms\n",
      "Speed: 5.9ms preprocess, 105.9ms inference, 1.3ms postprocess per image at shape (1, 3, 640, 640)\n",
      "\n",
      "0: 640x640 3 persons, 103.2ms\n",
      "Speed: 5.7ms preprocess, 103.2ms inference, 1.4ms postprocess per image at shape (1, 3, 640, 640)\n",
      "\n",
      "0: 640x640 3 persons, 103.3ms\n",
      "Speed: 4.6ms preprocess, 103.3ms inference, 1.7ms postprocess per image at shape (1, 3, 640, 640)\n",
      "\n",
      "0: 640x640 4 persons, 105.9ms\n",
      "Speed: 5.5ms preprocess, 105.9ms inference, 1.3ms postprocess per image at shape (1, 3, 640, 640)\n",
      "\n",
      "0: 640x640 4 persons, 112.1ms\n",
      "Speed: 6.2ms preprocess, 112.1ms inference, 2.2ms postprocess per image at shape (1, 3, 640, 640)\n",
      "\n",
      "0: 640x640 3 persons, 102.1ms\n",
      "Speed: 6.0ms preprocess, 102.1ms inference, 1.2ms postprocess per image at shape (1, 3, 640, 640)\n",
      "\n",
      "0: 640x640 5 persons, 99.8ms\n",
      "Speed: 5.5ms preprocess, 99.8ms inference, 1.9ms postprocess per image at shape (1, 3, 640, 640)\n",
      "\n",
      "0: 640x640 5 persons, 108.0ms\n",
      "Speed: 5.7ms preprocess, 108.0ms inference, 1.3ms postprocess per image at shape (1, 3, 640, 640)\n",
      "\n",
      "0: 640x640 5 persons, 126.7ms\n",
      "Speed: 6.0ms preprocess, 126.7ms inference, 12.8ms postprocess per image at shape (1, 3, 640, 640)\n",
      "\n",
      "0: 640x640 5 persons, 149.4ms\n",
      "Speed: 10.7ms preprocess, 149.4ms inference, 1.5ms postprocess per image at shape (1, 3, 640, 640)\n",
      "\n",
      "0: 640x640 5 persons, 96.8ms\n",
      "Speed: 6.1ms preprocess, 96.8ms inference, 1.4ms postprocess per image at shape (1, 3, 640, 640)\n",
      "\n",
      "0: 640x640 5 persons, 100.2ms\n",
      "Speed: 4.4ms preprocess, 100.2ms inference, 1.4ms postprocess per image at shape (1, 3, 640, 640)\n",
      "\n",
      "0: 640x640 6 persons, 1 snowboard, 100.1ms\n",
      "Speed: 4.7ms preprocess, 100.1ms inference, 1.6ms postprocess per image at shape (1, 3, 640, 640)\n",
      "\n",
      "0: 640x640 4 persons, 1 snowboard, 135.1ms\n",
      "Speed: 5.7ms preprocess, 135.1ms inference, 1.5ms postprocess per image at shape (1, 3, 640, 640)\n",
      "\n",
      "0: 640x640 4 persons, 1 snowboard, 127.5ms\n",
      "Speed: 6.5ms preprocess, 127.5ms inference, 1.5ms postprocess per image at shape (1, 3, 640, 640)\n",
      "\n",
      "0: 640x640 4 persons, 1 snowboard, 109.2ms\n",
      "Speed: 4.3ms preprocess, 109.2ms inference, 1.6ms postprocess per image at shape (1, 3, 640, 640)\n",
      "\n",
      "0: 640x640 4 persons, 1 snowboard, 117.3ms\n",
      "Speed: 6.8ms preprocess, 117.3ms inference, 1.2ms postprocess per image at shape (1, 3, 640, 640)\n",
      "\n",
      "0: 640x640 4 persons, 1 snowboard, 101.1ms\n",
      "Speed: 6.2ms preprocess, 101.1ms inference, 1.5ms postprocess per image at shape (1, 3, 640, 640)\n",
      "\n",
      "0: 640x640 3 persons, 1 snowboard, 103.6ms\n",
      "Speed: 5.7ms preprocess, 103.6ms inference, 1.4ms postprocess per image at shape (1, 3, 640, 640)\n",
      "\n",
      "0: 640x640 2 persons, 1 snowboard, 110.2ms\n",
      "Speed: 6.1ms preprocess, 110.2ms inference, 1.7ms postprocess per image at shape (1, 3, 640, 640)\n",
      "\n",
      "0: 640x640 2 persons, 1 snowboard, 125.5ms\n",
      "Speed: 7.2ms preprocess, 125.5ms inference, 1.7ms postprocess per image at shape (1, 3, 640, 640)\n",
      "\n",
      "0: 640x640 2 persons, 1 snowboard, 131.4ms\n",
      "Speed: 5.3ms preprocess, 131.4ms inference, 2.2ms postprocess per image at shape (1, 3, 640, 640)\n",
      "\n",
      "0: 640x640 2 persons, 1 snowboard, 116.5ms\n",
      "Speed: 5.0ms preprocess, 116.5ms inference, 2.2ms postprocess per image at shape (1, 3, 640, 640)\n",
      "\n",
      "0: 640x640 2 persons, 1 snowboard, 106.6ms\n",
      "Speed: 6.4ms preprocess, 106.6ms inference, 1.7ms postprocess per image at shape (1, 3, 640, 640)\n",
      "\n",
      "0: 640x640 2 persons, 1 snowboard, 102.4ms\n",
      "Speed: 5.9ms preprocess, 102.4ms inference, 1.3ms postprocess per image at shape (1, 3, 640, 640)\n",
      "\n",
      "0: 640x640 3 persons, 1 snowboard, 104.8ms\n",
      "Speed: 9.2ms preprocess, 104.8ms inference, 1.3ms postprocess per image at shape (1, 3, 640, 640)\n",
      "\n",
      "0: 640x640 3 persons, 1 snowboard, 105.4ms\n",
      "Speed: 7.3ms preprocess, 105.4ms inference, 1.7ms postprocess per image at shape (1, 3, 640, 640)\n",
      "\n",
      "0: 640x640 3 persons, 1 snowboard, 103.7ms\n",
      "Speed: 5.7ms preprocess, 103.7ms inference, 1.9ms postprocess per image at shape (1, 3, 640, 640)\n",
      "\n",
      "0: 640x640 3 persons, 1 snowboard, 103.9ms\n",
      "Speed: 6.0ms preprocess, 103.9ms inference, 1.2ms postprocess per image at shape (1, 3, 640, 640)\n",
      "\n",
      "0: 640x640 3 persons, 96.7ms\n",
      "Speed: 4.9ms preprocess, 96.7ms inference, 1.5ms postprocess per image at shape (1, 3, 640, 640)\n",
      "\n",
      "0: 640x640 3 persons, 103.4ms\n",
      "Speed: 5.6ms preprocess, 103.4ms inference, 1.3ms postprocess per image at shape (1, 3, 640, 640)\n",
      "\n",
      "0: 640x640 3 persons, 133.9ms\n",
      "Speed: 5.7ms preprocess, 133.9ms inference, 1.5ms postprocess per image at shape (1, 3, 640, 640)\n",
      "\n",
      "0: 640x640 2 persons, 142.0ms\n",
      "Speed: 6.6ms preprocess, 142.0ms inference, 2.4ms postprocess per image at shape (1, 3, 640, 640)\n",
      "\n",
      "0: 640x640 2 persons, 157.0ms\n",
      "Speed: 7.1ms preprocess, 157.0ms inference, 1.7ms postprocess per image at shape (1, 3, 640, 640)\n",
      "\n",
      "0: 640x640 2 persons, 155.9ms\n",
      "Speed: 8.2ms preprocess, 155.9ms inference, 1.9ms postprocess per image at shape (1, 3, 640, 640)\n",
      "\n",
      "0: 640x640 1 person, 192.6ms\n",
      "Speed: 11.1ms preprocess, 192.6ms inference, 2.0ms postprocess per image at shape (1, 3, 640, 640)\n",
      "\n",
      "0: 640x640 2 persons, 128.4ms\n",
      "Speed: 10.0ms preprocess, 128.4ms inference, 1.7ms postprocess per image at shape (1, 3, 640, 640)\n",
      "\n",
      "0: 640x640 2 persons, 115.7ms\n",
      "Speed: 5.9ms preprocess, 115.7ms inference, 1.5ms postprocess per image at shape (1, 3, 640, 640)\n",
      "\n",
      "0: 640x640 2 persons, 115.5ms\n",
      "Speed: 6.4ms preprocess, 115.5ms inference, 2.0ms postprocess per image at shape (1, 3, 640, 640)\n",
      "\n",
      "0: 640x640 2 persons, 120.4ms\n",
      "Speed: 5.8ms preprocess, 120.4ms inference, 2.3ms postprocess per image at shape (1, 3, 640, 640)\n",
      "\n",
      "0: 640x640 1 person, 108.9ms\n",
      "Speed: 7.1ms preprocess, 108.9ms inference, 1.1ms postprocess per image at shape (1, 3, 640, 640)\n",
      "\n",
      "0: 640x640 1 person, 101.2ms\n",
      "Speed: 4.7ms preprocess, 101.2ms inference, 1.3ms postprocess per image at shape (1, 3, 640, 640)\n",
      "\n",
      "0: 640x640 1 person, 100.2ms\n",
      "Speed: 5.4ms preprocess, 100.2ms inference, 1.7ms postprocess per image at shape (1, 3, 640, 640)\n",
      "\n",
      "0: 640x640 1 person, 99.9ms\n",
      "Speed: 4.8ms preprocess, 99.9ms inference, 2.0ms postprocess per image at shape (1, 3, 640, 640)\n",
      "\n",
      "0: 640x640 1 person, 102.5ms\n",
      "Speed: 4.7ms preprocess, 102.5ms inference, 1.4ms postprocess per image at shape (1, 3, 640, 640)\n",
      "\n",
      "0: 640x640 1 person, 101.1ms\n",
      "Speed: 5.7ms preprocess, 101.1ms inference, 1.1ms postprocess per image at shape (1, 3, 640, 640)\n",
      "\n",
      "0: 640x640 1 person, 116.9ms\n",
      "Speed: 6.3ms preprocess, 116.9ms inference, 1.4ms postprocess per image at shape (1, 3, 640, 640)\n",
      "\n",
      "0: 640x640 1 person, 120.1ms\n",
      "Speed: 6.4ms preprocess, 120.1ms inference, 2.0ms postprocess per image at shape (1, 3, 640, 640)\n",
      "\n",
      "0: 640x640 1 person, 131.7ms\n",
      "Speed: 6.2ms preprocess, 131.7ms inference, 2.2ms postprocess per image at shape (1, 3, 640, 640)\n",
      "\n",
      "0: 640x640 1 person, 109.9ms\n",
      "Speed: 7.4ms preprocess, 109.9ms inference, 1.6ms postprocess per image at shape (1, 3, 640, 640)\n",
      "\n",
      "0: 640x640 1 person, 109.6ms\n",
      "Speed: 5.9ms preprocess, 109.6ms inference, 1.2ms postprocess per image at shape (1, 3, 640, 640)\n",
      "\n",
      "0: 640x640 1 person, 110.5ms\n",
      "Speed: 5.1ms preprocess, 110.5ms inference, 1.4ms postprocess per image at shape (1, 3, 640, 640)\n",
      "\n",
      "0: 640x640 1 person, 121.1ms\n",
      "Speed: 5.0ms preprocess, 121.1ms inference, 1.4ms postprocess per image at shape (1, 3, 640, 640)\n",
      "\n",
      "0: 640x640 1 person, 107.0ms\n",
      "Speed: 5.5ms preprocess, 107.0ms inference, 1.2ms postprocess per image at shape (1, 3, 640, 640)\n",
      "\n",
      "0: 640x640 1 person, 106.9ms\n",
      "Speed: 4.3ms preprocess, 106.9ms inference, 1.4ms postprocess per image at shape (1, 3, 640, 640)\n",
      "\n",
      "0: 640x640 1 person, 102.5ms\n",
      "Speed: 5.8ms preprocess, 102.5ms inference, 1.3ms postprocess per image at shape (1, 3, 640, 640)\n",
      "\n",
      "0: 640x640 1 person, 98.2ms\n",
      "Speed: 4.5ms preprocess, 98.2ms inference, 1.1ms postprocess per image at shape (1, 3, 640, 640)\n",
      "\n",
      "0: 640x640 1 person, 98.1ms\n",
      "Speed: 5.6ms preprocess, 98.1ms inference, 1.3ms postprocess per image at shape (1, 3, 640, 640)\n",
      "\n",
      "0: 640x640 1 person, 100.0ms\n",
      "Speed: 5.8ms preprocess, 100.0ms inference, 1.7ms postprocess per image at shape (1, 3, 640, 640)\n",
      "\n",
      "0: 640x640 1 person, 95.9ms\n",
      "Speed: 5.6ms preprocess, 95.9ms inference, 1.3ms postprocess per image at shape (1, 3, 640, 640)\n",
      "\n",
      "0: 640x640 1 person, 107.8ms\n",
      "Speed: 6.5ms preprocess, 107.8ms inference, 1.6ms postprocess per image at shape (1, 3, 640, 640)\n",
      "\n",
      "0: 640x640 1 person, 182.0ms\n",
      "Speed: 6.4ms preprocess, 182.0ms inference, 2.8ms postprocess per image at shape (1, 3, 640, 640)\n",
      "\n",
      "0: 640x640 1 person, 116.0ms\n",
      "Speed: 7.9ms preprocess, 116.0ms inference, 1.4ms postprocess per image at shape (1, 3, 640, 640)\n",
      "\n",
      "0: 640x640 1 person, 97.9ms\n",
      "Speed: 5.0ms preprocess, 97.9ms inference, 1.5ms postprocess per image at shape (1, 3, 640, 640)\n",
      "\n",
      "0: 640x640 1 person, 105.7ms\n",
      "Speed: 4.4ms preprocess, 105.7ms inference, 1.2ms postprocess per image at shape (1, 3, 640, 640)\n",
      "\n",
      "0: 640x640 1 person, 107.0ms\n",
      "Speed: 5.5ms preprocess, 107.0ms inference, 1.6ms postprocess per image at shape (1, 3, 640, 640)\n",
      "\n",
      "0: 640x640 1 person, 114.2ms\n",
      "Speed: 6.7ms preprocess, 114.2ms inference, 1.6ms postprocess per image at shape (1, 3, 640, 640)\n",
      "\n",
      "0: 640x640 1 person, 106.8ms\n",
      "Speed: 6.5ms preprocess, 106.8ms inference, 1.2ms postprocess per image at shape (1, 3, 640, 640)\n",
      "\n",
      "0: 640x640 1 person, 97.4ms\n",
      "Speed: 4.6ms preprocess, 97.4ms inference, 1.4ms postprocess per image at shape (1, 3, 640, 640)\n",
      "\n",
      "0: 640x640 1 person, 99.7ms\n",
      "Speed: 4.7ms preprocess, 99.7ms inference, 1.9ms postprocess per image at shape (1, 3, 640, 640)\n",
      "\n",
      "0: 640x640 1 person, 123.7ms\n",
      "Speed: 5.4ms preprocess, 123.7ms inference, 1.4ms postprocess per image at shape (1, 3, 640, 640)\n",
      "\n",
      "0: 640x640 1 person, 102.9ms\n",
      "Speed: 6.0ms preprocess, 102.9ms inference, 1.4ms postprocess per image at shape (1, 3, 640, 640)\n",
      "\n",
      "0: 640x640 1 person, 96.8ms\n",
      "Speed: 6.2ms preprocess, 96.8ms inference, 1.3ms postprocess per image at shape (1, 3, 640, 640)\n",
      "\n",
      "0: 640x640 1 person, 95.1ms\n",
      "Speed: 4.5ms preprocess, 95.1ms inference, 1.4ms postprocess per image at shape (1, 3, 640, 640)\n",
      "\n",
      "0: 640x640 1 person, 107.8ms\n",
      "Speed: 6.5ms preprocess, 107.8ms inference, 1.5ms postprocess per image at shape (1, 3, 640, 640)\n",
      "\n",
      "0: 640x640 1 person, 110.2ms\n",
      "Speed: 5.7ms preprocess, 110.2ms inference, 1.7ms postprocess per image at shape (1, 3, 640, 640)\n",
      "\n",
      "0: 640x640 1 person, 111.9ms\n",
      "Speed: 5.7ms preprocess, 111.9ms inference, 1.2ms postprocess per image at shape (1, 3, 640, 640)\n",
      "\n",
      "0: 640x640 1 person, 103.6ms\n",
      "Speed: 6.5ms preprocess, 103.6ms inference, 1.3ms postprocess per image at shape (1, 3, 640, 640)\n",
      "\n",
      "0: 640x640 1 person, 102.6ms\n",
      "Speed: 4.8ms preprocess, 102.6ms inference, 1.4ms postprocess per image at shape (1, 3, 640, 640)\n",
      "\n",
      "0: 640x640 1 person, 97.4ms\n",
      "Speed: 5.1ms preprocess, 97.4ms inference, 1.4ms postprocess per image at shape (1, 3, 640, 640)\n",
      "\n",
      "0: 640x640 1 person, 100.5ms\n",
      "Speed: 5.2ms preprocess, 100.5ms inference, 2.0ms postprocess per image at shape (1, 3, 640, 640)\n",
      "\n",
      "0: 640x640 1 person, 104.2ms\n",
      "Speed: 5.4ms preprocess, 104.2ms inference, 1.5ms postprocess per image at shape (1, 3, 640, 640)\n",
      "\n",
      "0: 640x640 1 person, 110.4ms\n",
      "Speed: 5.9ms preprocess, 110.4ms inference, 1.4ms postprocess per image at shape (1, 3, 640, 640)\n",
      "\n",
      "0: 640x640 1 person, 117.7ms\n",
      "Speed: 7.3ms preprocess, 117.7ms inference, 1.5ms postprocess per image at shape (1, 3, 640, 640)\n",
      "\n",
      "0: 640x640 1 person, 137.0ms\n",
      "Speed: 7.1ms preprocess, 137.0ms inference, 1.7ms postprocess per image at shape (1, 3, 640, 640)\n",
      "\n",
      "0: 640x640 1 person, 100.5ms\n",
      "Speed: 5.8ms preprocess, 100.5ms inference, 1.3ms postprocess per image at shape (1, 3, 640, 640)\n",
      "\n",
      "0: 640x640 1 person, 102.1ms\n",
      "Speed: 4.5ms preprocess, 102.1ms inference, 1.4ms postprocess per image at shape (1, 3, 640, 640)\n",
      "\n",
      "0: 640x640 1 person, 184.0ms\n",
      "Speed: 7.0ms preprocess, 184.0ms inference, 1.4ms postprocess per image at shape (1, 3, 640, 640)\n",
      "\n",
      "0: 640x640 1 person, 111.1ms\n",
      "Speed: 6.0ms preprocess, 111.1ms inference, 1.4ms postprocess per image at shape (1, 3, 640, 640)\n",
      "\n",
      "0: 640x640 1 person, 108.8ms\n",
      "Speed: 5.2ms preprocess, 108.8ms inference, 1.4ms postprocess per image at shape (1, 3, 640, 640)\n",
      "\n",
      "0: 640x640 1 person, 109.9ms\n",
      "Speed: 6.4ms preprocess, 109.9ms inference, 1.5ms postprocess per image at shape (1, 3, 640, 640)\n",
      "\n",
      "0: 640x640 1 person, 100.9ms\n",
      "Speed: 4.9ms preprocess, 100.9ms inference, 1.7ms postprocess per image at shape (1, 3, 640, 640)\n",
      "\n",
      "0: 640x640 1 person, 97.3ms\n",
      "Speed: 5.3ms preprocess, 97.3ms inference, 1.9ms postprocess per image at shape (1, 3, 640, 640)\n",
      "\n",
      "0: 640x640 1 person, 95.3ms\n",
      "Speed: 5.3ms preprocess, 95.3ms inference, 1.3ms postprocess per image at shape (1, 3, 640, 640)\n",
      "\n",
      "0: 640x640 1 person, 100.7ms\n",
      "Speed: 5.0ms preprocess, 100.7ms inference, 1.1ms postprocess per image at shape (1, 3, 640, 640)\n",
      "\n",
      "0: 640x640 1 person, 104.7ms\n",
      "Speed: 5.2ms preprocess, 104.7ms inference, 1.5ms postprocess per image at shape (1, 3, 640, 640)\n",
      "\n",
      "0: 640x640 1 person, 105.5ms\n",
      "Speed: 5.6ms preprocess, 105.5ms inference, 1.3ms postprocess per image at shape (1, 3, 640, 640)\n",
      "\n",
      "0: 640x640 1 person, 104.3ms\n",
      "Speed: 5.6ms preprocess, 104.3ms inference, 1.6ms postprocess per image at shape (1, 3, 640, 640)\n",
      "\n",
      "0: 640x640 1 person, 100.9ms\n",
      "Speed: 5.4ms preprocess, 100.9ms inference, 1.8ms postprocess per image at shape (1, 3, 640, 640)\n",
      "\n",
      "0: 640x640 1 person, 112.3ms\n",
      "Speed: 6.4ms preprocess, 112.3ms inference, 1.8ms postprocess per image at shape (1, 3, 640, 640)\n",
      "\n",
      "0: 640x640 1 person, 109.2ms\n",
      "Speed: 6.3ms preprocess, 109.2ms inference, 1.5ms postprocess per image at shape (1, 3, 640, 640)\n",
      "\n",
      "0: 640x640 1 person, 100.4ms\n",
      "Speed: 6.4ms preprocess, 100.4ms inference, 1.4ms postprocess per image at shape (1, 3, 640, 640)\n",
      "\n",
      "0: 640x640 1 person, 138.5ms\n",
      "Speed: 5.4ms preprocess, 138.5ms inference, 1.2ms postprocess per image at shape (1, 3, 640, 640)\n",
      "\n",
      "0: 640x640 1 person, 108.8ms\n",
      "Speed: 6.0ms preprocess, 108.8ms inference, 2.4ms postprocess per image at shape (1, 3, 640, 640)\n",
      "\n",
      "0: 640x640 1 person, 109.2ms\n",
      "Speed: 6.1ms preprocess, 109.2ms inference, 1.3ms postprocess per image at shape (1, 3, 640, 640)\n",
      "\n",
      "0: 640x640 1 person, 102.2ms\n",
      "Speed: 5.0ms preprocess, 102.2ms inference, 1.6ms postprocess per image at shape (1, 3, 640, 640)\n",
      "\n",
      "0: 640x640 1 person, 104.8ms\n",
      "Speed: 4.2ms preprocess, 104.8ms inference, 1.7ms postprocess per image at shape (1, 3, 640, 640)\n",
      "\n",
      "0: 640x640 2 persons, 99.8ms\n",
      "Speed: 4.6ms preprocess, 99.8ms inference, 1.9ms postprocess per image at shape (1, 3, 640, 640)\n",
      "\n",
      "0: 640x640 1 person, 94.9ms\n",
      "Speed: 5.6ms preprocess, 94.9ms inference, 1.1ms postprocess per image at shape (1, 3, 640, 640)\n",
      "\n",
      "0: 640x640 3 persons, 101.2ms\n",
      "Speed: 5.6ms preprocess, 101.2ms inference, 1.7ms postprocess per image at shape (1, 3, 640, 640)\n",
      "\n",
      "0: 640x640 3 persons, 96.8ms\n",
      "Speed: 5.3ms preprocess, 96.8ms inference, 1.3ms postprocess per image at shape (1, 3, 640, 640)\n",
      "\n",
      "0: 640x640 3 persons, 102.3ms\n",
      "Speed: 5.9ms preprocess, 102.3ms inference, 1.4ms postprocess per image at shape (1, 3, 640, 640)\n",
      "\n",
      "0: 640x640 3 persons, 130.3ms\n",
      "Speed: 5.6ms preprocess, 130.3ms inference, 2.1ms postprocess per image at shape (1, 3, 640, 640)\n",
      "\n",
      "0: 640x640 2 persons, 132.0ms\n",
      "Speed: 7.5ms preprocess, 132.0ms inference, 1.9ms postprocess per image at shape (1, 3, 640, 640)\n",
      "\n",
      "0: 640x640 2 persons, 103.5ms\n",
      "Speed: 5.2ms preprocess, 103.5ms inference, 1.3ms postprocess per image at shape (1, 3, 640, 640)\n",
      "\n",
      "0: 640x640 2 persons, 106.6ms\n",
      "Speed: 5.2ms preprocess, 106.6ms inference, 1.4ms postprocess per image at shape (1, 3, 640, 640)\n",
      "\n",
      "0: 640x640 2 persons, 109.4ms\n",
      "Speed: 6.1ms preprocess, 109.4ms inference, 1.3ms postprocess per image at shape (1, 3, 640, 640)\n",
      "\n",
      "0: 640x640 4 persons, 112.9ms\n",
      "Speed: 6.9ms preprocess, 112.9ms inference, 1.8ms postprocess per image at shape (1, 3, 640, 640)\n",
      "\n",
      "0: 640x640 2 persons, 146.9ms\n",
      "Speed: 6.4ms preprocess, 146.9ms inference, 2.0ms postprocess per image at shape (1, 3, 640, 640)\n",
      "\n",
      "0: 640x640 4 persons, 109.3ms\n",
      "Speed: 7.2ms preprocess, 109.3ms inference, 1.5ms postprocess per image at shape (1, 3, 640, 640)\n",
      "\n",
      "0: 640x640 3 persons, 105.7ms\n",
      "Speed: 5.0ms preprocess, 105.7ms inference, 1.4ms postprocess per image at shape (1, 3, 640, 640)\n",
      "\n",
      "0: 640x640 4 persons, 99.6ms\n",
      "Speed: 4.5ms preprocess, 99.6ms inference, 1.3ms postprocess per image at shape (1, 3, 640, 640)\n",
      "\n",
      "0: 640x640 4 persons, 101.4ms\n",
      "Speed: 4.8ms preprocess, 101.4ms inference, 1.4ms postprocess per image at shape (1, 3, 640, 640)\n",
      "\n",
      "0: 640x640 1 person, 100.5ms\n",
      "Speed: 5.4ms preprocess, 100.5ms inference, 1.4ms postprocess per image at shape (1, 3, 640, 640)\n",
      "\n",
      "0: 640x640 1 person, 100.2ms\n",
      "Speed: 4.4ms preprocess, 100.2ms inference, 1.2ms postprocess per image at shape (1, 3, 640, 640)\n",
      "\n",
      "0: 640x640 1 person, 98.4ms\n",
      "Speed: 5.2ms preprocess, 98.4ms inference, 1.3ms postprocess per image at shape (1, 3, 640, 640)\n",
      "\n",
      "0: 640x640 1 person, 96.2ms\n",
      "Speed: 5.8ms preprocess, 96.2ms inference, 1.2ms postprocess per image at shape (1, 3, 640, 640)\n",
      "\n",
      "0: 640x640 1 person, 95.6ms\n",
      "Speed: 4.7ms preprocess, 95.6ms inference, 1.7ms postprocess per image at shape (1, 3, 640, 640)\n",
      "\n",
      "0: 640x640 1 person, 100.0ms\n",
      "Speed: 5.1ms preprocess, 100.0ms inference, 1.7ms postprocess per image at shape (1, 3, 640, 640)\n",
      "\n",
      "0: 640x640 1 person, 102.8ms\n",
      "Speed: 4.7ms preprocess, 102.8ms inference, 1.6ms postprocess per image at shape (1, 3, 640, 640)\n",
      "\n",
      "0: 640x640 1 person, 107.3ms\n",
      "Speed: 5.9ms preprocess, 107.3ms inference, 1.4ms postprocess per image at shape (1, 3, 640, 640)\n",
      "\n",
      "0: 640x640 2 persons, 121.9ms\n",
      "Speed: 6.6ms preprocess, 121.9ms inference, 1.6ms postprocess per image at shape (1, 3, 640, 640)\n",
      "\n",
      "0: 640x640 2 persons, 108.8ms\n",
      "Speed: 6.0ms preprocess, 108.8ms inference, 1.4ms postprocess per image at shape (1, 3, 640, 640)\n",
      "\n",
      "0: 640x640 2 persons, 174.0ms\n",
      "Speed: 7.8ms preprocess, 174.0ms inference, 2.0ms postprocess per image at shape (1, 3, 640, 640)\n",
      "\n",
      "0: 640x640 2 persons, 149.3ms\n",
      "Speed: 7.3ms preprocess, 149.3ms inference, 1.9ms postprocess per image at shape (1, 3, 640, 640)\n",
      "\n",
      "0: 640x640 2 persons, 143.4ms\n",
      "Speed: 7.2ms preprocess, 143.4ms inference, 1.5ms postprocess per image at shape (1, 3, 640, 640)\n",
      "\n",
      "0: 640x640 2 persons, 114.3ms\n",
      "Speed: 6.4ms preprocess, 114.3ms inference, 1.3ms postprocess per image at shape (1, 3, 640, 640)\n",
      "\n",
      "0: 640x640 2 persons, 100.6ms\n",
      "Speed: 5.6ms preprocess, 100.6ms inference, 1.2ms postprocess per image at shape (1, 3, 640, 640)\n",
      "\n",
      "0: 640x640 2 persons, 181.9ms\n",
      "Speed: 9.9ms preprocess, 181.9ms inference, 1.8ms postprocess per image at shape (1, 3, 640, 640)\n",
      "\n",
      "0: 640x640 2 persons, 102.7ms\n",
      "Speed: 5.5ms preprocess, 102.7ms inference, 1.1ms postprocess per image at shape (1, 3, 640, 640)\n",
      "\n",
      "0: 640x640 2 persons, 102.0ms\n",
      "Speed: 5.5ms preprocess, 102.0ms inference, 1.4ms postprocess per image at shape (1, 3, 640, 640)\n",
      "\n",
      "0: 640x640 1 person, 101.1ms\n",
      "Speed: 4.5ms preprocess, 101.1ms inference, 1.3ms postprocess per image at shape (1, 3, 640, 640)\n",
      "\n",
      "0: 640x640 1 person, 98.8ms\n",
      "Speed: 5.5ms preprocess, 98.8ms inference, 1.3ms postprocess per image at shape (1, 3, 640, 640)\n",
      "\n",
      "0: 640x640 1 person, 107.8ms\n",
      "Speed: 5.9ms preprocess, 107.8ms inference, 1.3ms postprocess per image at shape (1, 3, 640, 640)\n",
      "\n",
      "0: 640x640 1 person, 118.1ms\n",
      "Speed: 5.4ms preprocess, 118.1ms inference, 2.1ms postprocess per image at shape (1, 3, 640, 640)\n",
      "\n",
      "0: 640x640 1 person, 117.5ms\n",
      "Speed: 6.5ms preprocess, 117.5ms inference, 2.8ms postprocess per image at shape (1, 3, 640, 640)\n",
      "\n",
      "0: 640x640 1 person, 110.1ms\n",
      "Speed: 7.4ms preprocess, 110.1ms inference, 1.3ms postprocess per image at shape (1, 3, 640, 640)\n",
      "\n",
      "0: 640x640 1 person, 96.1ms\n",
      "Speed: 5.4ms preprocess, 96.1ms inference, 1.3ms postprocess per image at shape (1, 3, 640, 640)\n",
      "\n",
      "0: 640x640 1 person, 115.0ms\n",
      "Speed: 4.8ms preprocess, 115.0ms inference, 1.8ms postprocess per image at shape (1, 3, 640, 640)\n",
      "\n",
      "0: 640x640 1 person, 99.1ms\n",
      "Speed: 5.2ms preprocess, 99.1ms inference, 1.3ms postprocess per image at shape (1, 3, 640, 640)\n",
      "\n",
      "0: 640x640 1 person, 105.1ms\n",
      "Speed: 5.1ms preprocess, 105.1ms inference, 1.5ms postprocess per image at shape (1, 3, 640, 640)\n",
      "\n",
      "0: 640x640 1 person, 105.6ms\n",
      "Speed: 5.9ms preprocess, 105.6ms inference, 1.8ms postprocess per image at shape (1, 3, 640, 640)\n",
      "\n",
      "0: 640x640 1 person, 113.9ms\n",
      "Speed: 5.5ms preprocess, 113.9ms inference, 1.5ms postprocess per image at shape (1, 3, 640, 640)\n",
      "\n",
      "0: 640x640 1 person, 101.6ms\n",
      "Speed: 5.4ms preprocess, 101.6ms inference, 1.7ms postprocess per image at shape (1, 3, 640, 640)\n",
      "\n",
      "0: 640x640 1 person, 100.4ms\n",
      "Speed: 5.5ms preprocess, 100.4ms inference, 1.6ms postprocess per image at shape (1, 3, 640, 640)\n",
      "\n",
      "0: 640x640 1 person, 97.2ms\n",
      "Speed: 4.9ms preprocess, 97.2ms inference, 1.4ms postprocess per image at shape (1, 3, 640, 640)\n",
      "\n",
      "0: 640x640 1 person, 101.3ms\n",
      "Speed: 5.3ms preprocess, 101.3ms inference, 1.6ms postprocess per image at shape (1, 3, 640, 640)\n",
      "\n",
      "0: 640x640 1 person, 104.6ms\n",
      "Speed: 4.7ms preprocess, 104.6ms inference, 2.0ms postprocess per image at shape (1, 3, 640, 640)\n",
      "\n",
      "0: 640x640 1 person, 109.1ms\n",
      "Speed: 5.9ms preprocess, 109.1ms inference, 2.2ms postprocess per image at shape (1, 3, 640, 640)\n",
      "\n",
      "0: 640x640 1 person, 112.2ms\n",
      "Speed: 6.4ms preprocess, 112.2ms inference, 1.3ms postprocess per image at shape (1, 3, 640, 640)\n",
      "\n",
      "0: 640x640 1 person, 112.4ms\n",
      "Speed: 6.2ms preprocess, 112.4ms inference, 1.7ms postprocess per image at shape (1, 3, 640, 640)\n",
      "\n",
      "0: 640x640 1 person, 107.5ms\n",
      "Speed: 6.0ms preprocess, 107.5ms inference, 1.4ms postprocess per image at shape (1, 3, 640, 640)\n",
      "\n",
      "0: 640x640 1 person, 197.6ms\n",
      "Speed: 7.2ms preprocess, 197.6ms inference, 1.4ms postprocess per image at shape (1, 3, 640, 640)\n",
      "\n",
      "0: 640x640 1 person, 122.4ms\n",
      "Speed: 5.2ms preprocess, 122.4ms inference, 1.5ms postprocess per image at shape (1, 3, 640, 640)\n",
      "\n",
      "0: 640x640 1 person, 95.9ms\n",
      "Speed: 5.4ms preprocess, 95.9ms inference, 1.2ms postprocess per image at shape (1, 3, 640, 640)\n",
      "\n",
      "0: 640x640 1 person, 98.9ms\n",
      "Speed: 5.6ms preprocess, 98.9ms inference, 1.8ms postprocess per image at shape (1, 3, 640, 640)\n",
      "\n",
      "0: 640x640 1 person, 97.2ms\n",
      "Speed: 4.9ms preprocess, 97.2ms inference, 1.6ms postprocess per image at shape (1, 3, 640, 640)\n",
      "\n",
      "0: 640x640 1 person, 110.4ms\n",
      "Speed: 4.2ms preprocess, 110.4ms inference, 1.3ms postprocess per image at shape (1, 3, 640, 640)\n",
      "\n",
      "0: 640x640 1 person, 108.4ms\n",
      "Speed: 5.4ms preprocess, 108.4ms inference, 1.8ms postprocess per image at shape (1, 3, 640, 640)\n",
      "\n",
      "0: 640x640 1 person, 112.5ms\n",
      "Speed: 5.2ms preprocess, 112.5ms inference, 1.7ms postprocess per image at shape (1, 3, 640, 640)\n",
      "\n",
      "0: 640x640 1 person, 108.4ms\n",
      "Speed: 5.7ms preprocess, 108.4ms inference, 1.5ms postprocess per image at shape (1, 3, 640, 640)\n",
      "\n",
      "0: 640x640 1 person, 114.4ms\n",
      "Speed: 6.4ms preprocess, 114.4ms inference, 1.2ms postprocess per image at shape (1, 3, 640, 640)\n",
      "\n",
      "0: 640x640 1 person, 113.7ms\n",
      "Speed: 6.2ms preprocess, 113.7ms inference, 1.4ms postprocess per image at shape (1, 3, 640, 640)\n",
      "\n",
      "0: 640x640 1 person, 112.2ms\n",
      "Speed: 5.9ms preprocess, 112.2ms inference, 1.6ms postprocess per image at shape (1, 3, 640, 640)\n",
      "\n",
      "0: 640x640 1 person, 108.6ms\n",
      "Speed: 4.9ms preprocess, 108.6ms inference, 1.3ms postprocess per image at shape (1, 3, 640, 640)\n",
      "\n",
      "0: 640x640 1 person, 109.6ms\n",
      "Speed: 5.1ms preprocess, 109.6ms inference, 1.1ms postprocess per image at shape (1, 3, 640, 640)\n",
      "\n",
      "0: 640x640 1 person, 104.1ms\n",
      "Speed: 5.9ms preprocess, 104.1ms inference, 1.6ms postprocess per image at shape (1, 3, 640, 640)\n",
      "\n",
      "0: 640x640 1 person, 132.0ms\n",
      "Speed: 6.0ms preprocess, 132.0ms inference, 1.4ms postprocess per image at shape (1, 3, 640, 640)\n",
      "\n",
      "0: 640x640 1 person, 108.6ms\n",
      "Speed: 6.0ms preprocess, 108.6ms inference, 1.3ms postprocess per image at shape (1, 3, 640, 640)\n",
      "\n",
      "0: 640x640 1 person, 97.0ms\n",
      "Speed: 5.4ms preprocess, 97.0ms inference, 1.1ms postprocess per image at shape (1, 3, 640, 640)\n",
      "\n",
      "0: 640x640 1 person, 95.0ms\n",
      "Speed: 5.4ms preprocess, 95.0ms inference, 1.3ms postprocess per image at shape (1, 3, 640, 640)\n",
      "\n",
      "0: 640x640 1 person, 98.6ms\n",
      "Speed: 5.6ms preprocess, 98.6ms inference, 2.0ms postprocess per image at shape (1, 3, 640, 640)\n",
      "\n",
      "0: 640x640 1 person, 100.8ms\n",
      "Speed: 5.4ms preprocess, 100.8ms inference, 1.3ms postprocess per image at shape (1, 3, 640, 640)\n",
      "\n",
      "0: 640x640 1 person, 98.2ms\n",
      "Speed: 5.8ms preprocess, 98.2ms inference, 3.1ms postprocess per image at shape (1, 3, 640, 640)\n",
      "\n",
      "0: 640x640 1 person, 102.7ms\n",
      "Speed: 5.3ms preprocess, 102.7ms inference, 1.5ms postprocess per image at shape (1, 3, 640, 640)\n",
      "\n",
      "0: 640x640 1 person, 139.5ms\n",
      "Speed: 7.0ms preprocess, 139.5ms inference, 5.1ms postprocess per image at shape (1, 3, 640, 640)\n",
      "\n",
      "0: 640x640 1 person, 169.9ms\n",
      "Speed: 11.3ms preprocess, 169.9ms inference, 1.6ms postprocess per image at shape (1, 3, 640, 640)\n",
      "\n",
      "0: 640x640 1 person, 112.0ms\n",
      "Speed: 6.4ms preprocess, 112.0ms inference, 1.4ms postprocess per image at shape (1, 3, 640, 640)\n",
      "\n",
      "0: 640x640 1 person, 107.5ms\n",
      "Speed: 5.7ms preprocess, 107.5ms inference, 1.4ms postprocess per image at shape (1, 3, 640, 640)\n",
      "\n",
      "0: 640x640 1 person, 101.1ms\n",
      "Speed: 5.9ms preprocess, 101.1ms inference, 1.6ms postprocess per image at shape (1, 3, 640, 640)\n",
      "\n",
      "0: 640x640 1 person, 101.3ms\n",
      "Speed: 5.7ms preprocess, 101.3ms inference, 1.4ms postprocess per image at shape (1, 3, 640, 640)\n",
      "\n",
      "0: 640x640 1 person, 122.7ms\n",
      "Speed: 4.5ms preprocess, 122.7ms inference, 1.4ms postprocess per image at shape (1, 3, 640, 640)\n",
      "\n",
      "0: 640x640 1 person, 103.2ms\n",
      "Speed: 4.6ms preprocess, 103.2ms inference, 1.5ms postprocess per image at shape (1, 3, 640, 640)\n",
      "\n",
      "0: 640x640 1 person, 108.9ms\n",
      "Speed: 5.4ms preprocess, 108.9ms inference, 1.4ms postprocess per image at shape (1, 3, 640, 640)\n",
      "\n",
      "0: 640x640 1 person, 99.1ms\n",
      "Speed: 5.6ms preprocess, 99.1ms inference, 1.8ms postprocess per image at shape (1, 3, 640, 640)\n",
      "\n",
      "0: 640x640 1 person, 98.9ms\n",
      "Speed: 5.7ms preprocess, 98.9ms inference, 1.3ms postprocess per image at shape (1, 3, 640, 640)\n",
      "\n",
      "0: 640x640 2 persons, 99.9ms\n",
      "Speed: 4.7ms preprocess, 99.9ms inference, 1.4ms postprocess per image at shape (1, 3, 640, 640)\n",
      "\n",
      "0: 640x640 1 person, 99.5ms\n",
      "Speed: 5.5ms preprocess, 99.5ms inference, 1.8ms postprocess per image at shape (1, 3, 640, 640)\n",
      "\n",
      "0: 640x640 1 person, 104.1ms\n",
      "Speed: 4.6ms preprocess, 104.1ms inference, 1.9ms postprocess per image at shape (1, 3, 640, 640)\n",
      "\n",
      "0: 640x640 1 person, 110.0ms\n",
      "Speed: 5.8ms preprocess, 110.0ms inference, 1.9ms postprocess per image at shape (1, 3, 640, 640)\n",
      "\n",
      "0: 640x640 1 person, 109.4ms\n",
      "Speed: 6.8ms preprocess, 109.4ms inference, 1.9ms postprocess per image at shape (1, 3, 640, 640)\n",
      "\n",
      "0: 640x640 1 person, 111.0ms\n",
      "Speed: 4.8ms preprocess, 111.0ms inference, 1.5ms postprocess per image at shape (1, 3, 640, 640)\n",
      "\n",
      "0: 640x640 1 person, 132.5ms\n",
      "Speed: 6.1ms preprocess, 132.5ms inference, 2.5ms postprocess per image at shape (1, 3, 640, 640)\n",
      "\n",
      "0: 640x640 1 person, 145.6ms\n",
      "Speed: 7.2ms preprocess, 145.6ms inference, 1.6ms postprocess per image at shape (1, 3, 640, 640)\n",
      "\n",
      "0: 640x640 1 person, 150.0ms\n",
      "Speed: 6.9ms preprocess, 150.0ms inference, 1.3ms postprocess per image at shape (1, 3, 640, 640)\n",
      "\n",
      "0: 640x640 1 person, 104.3ms\n",
      "Speed: 4.8ms preprocess, 104.3ms inference, 1.3ms postprocess per image at shape (1, 3, 640, 640)\n",
      "\n",
      "0: 640x640 1 person, 98.3ms\n",
      "Speed: 5.4ms preprocess, 98.3ms inference, 1.2ms postprocess per image at shape (1, 3, 640, 640)\n",
      "\n",
      "0: 640x640 1 person, 103.8ms\n",
      "Speed: 4.4ms preprocess, 103.8ms inference, 1.7ms postprocess per image at shape (1, 3, 640, 640)\n",
      "\n",
      "0: 640x640 1 person, 109.2ms\n",
      "Speed: 5.5ms preprocess, 109.2ms inference, 1.8ms postprocess per image at shape (1, 3, 640, 640)\n",
      "\n",
      "0: 640x640 1 person, 178.3ms\n",
      "Speed: 5.7ms preprocess, 178.3ms inference, 2.0ms postprocess per image at shape (1, 3, 640, 640)\n",
      "\n",
      "0: 640x640 1 person, 115.2ms\n",
      "Speed: 5.4ms preprocess, 115.2ms inference, 1.3ms postprocess per image at shape (1, 3, 640, 640)\n",
      "\n",
      "0: 640x640 1 person, 110.6ms\n",
      "Speed: 4.8ms preprocess, 110.6ms inference, 1.6ms postprocess per image at shape (1, 3, 640, 640)\n",
      "\n",
      "0: 640x640 1 person, 111.0ms\n",
      "Speed: 6.0ms preprocess, 111.0ms inference, 1.5ms postprocess per image at shape (1, 3, 640, 640)\n",
      "\n",
      "0: 640x640 1 person, 109.9ms\n",
      "Speed: 5.0ms preprocess, 109.9ms inference, 1.4ms postprocess per image at shape (1, 3, 640, 640)\n",
      "\n",
      "0: 640x640 1 person, 109.8ms\n",
      "Speed: 5.0ms preprocess, 109.8ms inference, 1.6ms postprocess per image at shape (1, 3, 640, 640)\n",
      "\n",
      "0: 640x640 3 persons, 107.0ms\n",
      "Speed: 4.9ms preprocess, 107.0ms inference, 1.3ms postprocess per image at shape (1, 3, 640, 640)\n",
      "\n",
      "0: 640x640 2 persons, 97.7ms\n",
      "Speed: 4.9ms preprocess, 97.7ms inference, 1.9ms postprocess per image at shape (1, 3, 640, 640)\n"
     ]
    }
   ],
   "source": [
    "import cv2\n",
    "\n",
    "from ultralytics import YOLO\n",
    "\n",
    "# Load the YOLO model\n",
    "model = YOLO(\"yolo11n.pt\")\n",
    "\n",
    "# Open the video file\n",
    "cap = cv2.VideoCapture(\"IMG_4434.mp4\")\n",
    "\n",
    "while cap.isOpened():\n",
    "    success, frame = cap.read()\n",
    "    if success:\n",
    "        \n",
    "        results = model.track(frame, persist=True)\n",
    "\n",
    "        # Visualize the results\n",
    "        annotated_frame = results[0].plot()\n",
    "        cv2.imshow(\"Tracking\", annotated_frame)\n",
    "\n",
    "        if cv2.waitKey(1) & 0xFF == ord(\"q\"):\n",
    "            break\n",
    "    else:\n",
    "        break\n",
    "\n",
    "cap.release()\n",
    "cv2.destroyAllWindows()"
   ]
  },
  {
   "cell_type": "code",
   "execution_count": 4,
   "id": "787a2016",
   "metadata": {},
   "outputs": [
    {
     "name": "stdout",
     "output_type": "stream",
     "text": [
      "Извлечено 0 кадров\n"
     ]
    },
    {
     "name": "stderr",
     "output_type": "stream",
     "text": [
      "<>:4: SyntaxWarning: invalid escape sequence '\\d'\n",
      "<>:4: SyntaxWarning: invalid escape sequence '\\d'\n",
      "C:\\Users\\Dell\\AppData\\Local\\Temp\\ipykernel_204684\\4108971969.py:4: SyntaxWarning: invalid escape sequence '\\d'\n",
      "  video_path = \"C:\\ИТМО\\НИР 2\\data\\runs\\detect\\Трекинг обученной модели bytetrack\\Video_go_cart.avi\"\n"
     ]
    }
   ],
   "source": [
    "import cv2\n",
    "import os\n",
    "\n",
    "video_path = \"C:\\ИТМО\\НИР 2\\data\\runs\\detect\\Трекинг обученной модели bytetrack\\Video_go_cart.avi\"\n",
    "output_folder = \"data/runs/detect/Трекинг обученной модели bytetrack/фото/cart\"\n",
    "os.makedirs(output_folder, exist_ok=True)\n",
    "\n",
    "cap = cv2.VideoCapture(video_path)\n",
    "frame_count = 0\n",
    "\n",
    "while cap.isOpened():\n",
    "    success, frame = cap.read()\n",
    "    if not success:\n",
    "        break\n",
    "    \n",
    "    \n",
    "    if frame_count % 5 == 0:\n",
    "        frame_name = f\"frame_{frame_count:06d}.jpg\"\n",
    "        cv2.imwrite(os.path.join(output_folder, frame_name), frame)\n",
    "    \n",
    "    frame_count += 1\n",
    "\n",
    "cap.release()\n",
    "print(f\"Извлечено {frame_count // 10} кадров\")"
   ]
  },
  {
   "cell_type": "code",
   "execution_count": 36,
   "id": "0d939beb",
   "metadata": {},
   "outputs": [
    {
     "name": "stdout",
     "output_type": "stream",
     "text": [
      "\n",
      "WARNING \n",
      "inference results will accumulate in RAM unless `stream=True` is passed, causing potential out-of-memory\n",
      "errors for large sources or long-running streams and videos. See https://docs.ultralytics.com/modes/predict/ for help.\n",
      "\n",
      "Example:\n",
      "    results = model(source=..., stream=True)  # generator of Results objects\n",
      "    for r in results:\n",
      "        boxes = r.boxes  # Boxes object for bbox outputs\n",
      "        masks = r.masks  # Masks object for segment masks outputs\n",
      "        probs = r.probs  # Class probabilities for classification outputs\n",
      "\n",
      "video 1/1 (frame 1/710) c:\\\\ 2\\data\\IMG_4434.MP4: 640x640 6 persons, 577.8ms\n",
      "video 1/1 (frame 2/710) c:\\\\ 2\\data\\IMG_4434.MP4: 640x640 6 persons, 361.1ms\n",
      "video 1/1 (frame 3/710) c:\\\\ 2\\data\\IMG_4434.MP4: 640x640 6 persons, 416.4ms\n",
      "video 1/1 (frame 4/710) c:\\\\ 2\\data\\IMG_4434.MP4: 640x640 6 persons, 315.6ms\n",
      "video 1/1 (frame 5/710) c:\\\\ 2\\data\\IMG_4434.MP4: 640x640 6 persons, 289.2ms\n",
      "video 1/1 (frame 6/710) c:\\\\ 2\\data\\IMG_4434.MP4: 640x640 6 persons, 382.7ms\n",
      "video 1/1 (frame 7/710) c:\\\\ 2\\data\\IMG_4434.MP4: 640x640 6 persons, 258.1ms\n",
      "video 1/1 (frame 8/710) c:\\\\ 2\\data\\IMG_4434.MP4: 640x640 6 persons, 296.5ms\n",
      "video 1/1 (frame 9/710) c:\\\\ 2\\data\\IMG_4434.MP4: 640x640 6 persons, 292.0ms\n",
      "video 1/1 (frame 10/710) c:\\\\ 2\\data\\IMG_4434.MP4: 640x640 6 persons, 289.3ms\n",
      "video 1/1 (frame 11/710) c:\\\\ 2\\data\\IMG_4434.MP4: 640x640 6 persons, 244.6ms\n",
      "video 1/1 (frame 12/710) c:\\\\ 2\\data\\IMG_4434.MP4: 640x640 6 persons, 257.1ms\n",
      "video 1/1 (frame 13/710) c:\\\\ 2\\data\\IMG_4434.MP4: 640x640 5 persons, 243.1ms\n",
      "video 1/1 (frame 14/710) c:\\\\ 2\\data\\IMG_4434.MP4: 640x640 5 persons, 235.5ms\n",
      "video 1/1 (frame 15/710) c:\\\\ 2\\data\\IMG_4434.MP4: 640x640 4 persons, 243.5ms\n",
      "video 1/1 (frame 16/710) c:\\\\ 2\\data\\IMG_4434.MP4: 640x640 4 persons, 274.6ms\n",
      "video 1/1 (frame 17/710) c:\\\\ 2\\data\\IMG_4434.MP4: 640x640 4 persons, 372.1ms\n",
      "video 1/1 (frame 18/710) c:\\\\ 2\\data\\IMG_4434.MP4: 640x640 3 persons, 290.6ms\n",
      "video 1/1 (frame 19/710) c:\\\\ 2\\data\\IMG_4434.MP4: 640x640 3 persons, 365.8ms\n",
      "video 1/1 (frame 20/710) c:\\\\ 2\\data\\IMG_4434.MP4: 640x640 2 persons, 363.4ms\n",
      "video 1/1 (frame 21/710) c:\\\\ 2\\data\\IMG_4434.MP4: 640x640 1 person, 329.0ms\n",
      "video 1/1 (frame 22/710) c:\\\\ 2\\data\\IMG_4434.MP4: 640x640 2 persons, 1 skis, 277.8ms\n",
      "video 1/1 (frame 23/710) c:\\\\ 2\\data\\IMG_4434.MP4: 640x640 1 person, 291.5ms\n",
      "video 1/1 (frame 24/710) c:\\\\ 2\\data\\IMG_4434.MP4: 640x640 2 persons, 297.8ms\n",
      "video 1/1 (frame 25/710) c:\\\\ 2\\data\\IMG_4434.MP4: 640x640 2 persons, 1 airplane, 277.2ms\n",
      "video 1/1 (frame 26/710) c:\\\\ 2\\data\\IMG_4434.MP4: 640x640 2 persons, 1 airplane, 330.6ms\n",
      "video 1/1 (frame 27/710) c:\\\\ 2\\data\\IMG_4434.MP4: 640x640 2 persons, 1 airplane, 325.5ms\n",
      "video 1/1 (frame 28/710) c:\\\\ 2\\data\\IMG_4434.MP4: 640x640 1 person, 283.6ms\n",
      "video 1/1 (frame 29/710) c:\\\\ 2\\data\\IMG_4434.MP4: 640x640 2 persons, 1 skis, 296.3ms\n",
      "video 1/1 (frame 30/710) c:\\\\ 2\\data\\IMG_4434.MP4: 640x640 4 persons, 299.2ms\n",
      "video 1/1 (frame 31/710) c:\\\\ 2\\data\\IMG_4434.MP4: 640x640 3 persons, 1 skis, 406.0ms\n",
      "video 1/1 (frame 32/710) c:\\\\ 2\\data\\IMG_4434.MP4: 640x640 1 person, 402.1ms\n",
      "video 1/1 (frame 33/710) c:\\\\ 2\\data\\IMG_4434.MP4: 640x640 4 persons, 1 skis, 276.2ms\n",
      "video 1/1 (frame 34/710) c:\\\\ 2\\data\\IMG_4434.MP4: 640x640 3 persons, 1 skis, 314.4ms\n",
      "video 1/1 (frame 35/710) c:\\\\ 2\\data\\IMG_4434.MP4: 640x640 3 persons, 252.8ms\n",
      "video 1/1 (frame 36/710) c:\\\\ 2\\data\\IMG_4434.MP4: 640x640 2 persons, 2 skiss, 375.3ms\n",
      "video 1/1 (frame 37/710) c:\\\\ 2\\data\\IMG_4434.MP4: 640x640 2 persons, 2 skiss, 359.8ms\n",
      "video 1/1 (frame 38/710) c:\\\\ 2\\data\\IMG_4434.MP4: 640x640 3 persons, 1 skis, 361.7ms\n",
      "video 1/1 (frame 39/710) c:\\\\ 2\\data\\IMG_4434.MP4: 640x640 3 persons, 2 skiss, 400.1ms\n",
      "video 1/1 (frame 40/710) c:\\\\ 2\\data\\IMG_4434.MP4: 640x640 2 persons, 2 skiss, 295.1ms\n",
      "video 1/1 (frame 41/710) c:\\\\ 2\\data\\IMG_4434.MP4: 640x640 4 persons, 1 skis, 280.4ms\n",
      "video 1/1 (frame 42/710) c:\\\\ 2\\data\\IMG_4434.MP4: 640x640 1 person, 307.9ms\n",
      "video 1/1 (frame 43/710) c:\\\\ 2\\data\\IMG_4434.MP4: 640x640 3 persons, 1 skis, 2 snowboards, 420.3ms\n",
      "video 1/1 (frame 44/710) c:\\\\ 2\\data\\IMG_4434.MP4: 640x640 3 persons, 3 skiss, 285.5ms\n",
      "video 1/1 (frame 45/710) c:\\\\ 2\\data\\IMG_4434.MP4: 640x640 2 persons, 2 skiss, 463.0ms\n",
      "video 1/1 (frame 46/710) c:\\\\ 2\\data\\IMG_4434.MP4: 640x640 1 person, 342.1ms\n",
      "video 1/1 (frame 47/710) c:\\\\ 2\\data\\IMG_4434.MP4: 640x640 1 person, 1 skis, 347.6ms\n",
      "video 1/1 (frame 48/710) c:\\\\ 2\\data\\IMG_4434.MP4: 640x640 2 persons, 2 snowboards, 306.4ms\n",
      "video 1/1 (frame 49/710) c:\\\\ 2\\data\\IMG_4434.MP4: 640x640 2 persons, 1 snowboard, 1 surfboard, 405.3ms\n",
      "video 1/1 (frame 50/710) c:\\\\ 2\\data\\IMG_4434.MP4: 640x640 2 persons, 1 skis, 2 snowboards, 417.5ms\n",
      "video 1/1 (frame 51/710) c:\\\\ 2\\data\\IMG_4434.MP4: 640x640 1 person, 1 surfboard, 549.3ms\n",
      "video 1/1 (frame 52/710) c:\\\\ 2\\data\\IMG_4434.MP4: 640x640 1 person, 322.3ms\n",
      "video 1/1 (frame 53/710) c:\\\\ 2\\data\\IMG_4434.MP4: 640x640 1 person, 1 skis, 1 snowboard, 2 surfboards, 391.6ms\n",
      "video 1/1 (frame 54/710) c:\\\\ 2\\data\\IMG_4434.MP4: 640x640 2 persons, 4 skiss, 1 snowboard, 270.7ms\n",
      "video 1/1 (frame 55/710) c:\\\\ 2\\data\\IMG_4434.MP4: 640x640 3 persons, 2 skiss, 1 snowboard, 288.7ms\n",
      "video 1/1 (frame 56/710) c:\\\\ 2\\data\\IMG_4434.MP4: 640x640 4 persons, 2 surfboards, 304.6ms\n",
      "video 1/1 (frame 57/710) c:\\\\ 2\\data\\IMG_4434.MP4: 640x640 1 person, 298.4ms\n",
      "video 1/1 (frame 58/710) c:\\\\ 2\\data\\IMG_4434.MP4: 640x640 6 persons, 459.3ms\n",
      "video 1/1 (frame 59/710) c:\\\\ 2\\data\\IMG_4434.MP4: 640x640 1 person, 256.4ms\n",
      "video 1/1 (frame 60/710) c:\\\\ 2\\data\\IMG_4434.MP4: 640x640 6 persons, 389.0ms\n",
      "video 1/1 (frame 61/710) c:\\\\ 2\\data\\IMG_4434.MP4: 640x640 6 persons, 1 surfboard, 272.4ms\n",
      "video 1/1 (frame 62/710) c:\\\\ 2\\data\\IMG_4434.MP4: 640x640 1 person, 289.8ms\n",
      "video 1/1 (frame 63/710) c:\\\\ 2\\data\\IMG_4434.MP4: 640x640 9 persons, 1 surfboard, 313.8ms\n",
      "video 1/1 (frame 64/710) c:\\\\ 2\\data\\IMG_4434.MP4: 640x640 11 persons, 1 skis, 599.5ms\n",
      "video 1/1 (frame 65/710) c:\\\\ 2\\data\\IMG_4434.MP4: 640x640 5 persons, 1 skis, 238.3ms\n",
      "video 1/1 (frame 66/710) c:\\\\ 2\\data\\IMG_4434.MP4: 640x640 8 persons, 2 skiss, 298.8ms\n",
      "video 1/1 (frame 67/710) c:\\\\ 2\\data\\IMG_4434.MP4: 640x640 2 persons, 300.3ms\n",
      "video 1/1 (frame 68/710) c:\\\\ 2\\data\\IMG_4434.MP4: 640x640 1 person, 281.5ms\n",
      "video 1/1 (frame 69/710) c:\\\\ 2\\data\\IMG_4434.MP4: 640x640 1 person, 308.3ms\n",
      "video 1/1 (frame 70/710) c:\\\\ 2\\data\\IMG_4434.MP4: 640x640 1 person, 275.2ms\n",
      "video 1/1 (frame 71/710) c:\\\\ 2\\data\\IMG_4434.MP4: 640x640 8 persons, 6 skiss, 288.6ms\n",
      "video 1/1 (frame 72/710) c:\\\\ 2\\data\\IMG_4434.MP4: 640x640 2 persons, 342.6ms\n",
      "video 1/1 (frame 73/710) c:\\\\ 2\\data\\IMG_4434.MP4: 640x640 1 person, 287.0ms\n",
      "video 1/1 (frame 74/710) c:\\\\ 2\\data\\IMG_4434.MP4: 640x640 1 person, 274.5ms\n",
      "video 1/1 (frame 75/710) c:\\\\ 2\\data\\IMG_4434.MP4: 640x640 1 person, 354.6ms\n",
      "video 1/1 (frame 76/710) c:\\\\ 2\\data\\IMG_4434.MP4: 640x640 1 person, 295.0ms\n",
      "video 1/1 (frame 77/710) c:\\\\ 2\\data\\IMG_4434.MP4: 640x640 2 persons, 1 bird, 1 skis, 261.2ms\n",
      "video 1/1 (frame 78/710) c:\\\\ 2\\data\\IMG_4434.MP4: 640x640 2 persons, 1 skis, 1 kite, 247.3ms\n",
      "video 1/1 (frame 79/710) c:\\\\ 2\\data\\IMG_4434.MP4: 640x640 1 person, 1 skis, 270.2ms\n",
      "video 1/1 (frame 80/710) c:\\\\ 2\\data\\IMG_4434.MP4: 640x640 1 skis, 285.7ms\n",
      "video 1/1 (frame 81/710) c:\\\\ 2\\data\\IMG_4434.MP4: 640x640 1 skis, 290.8ms\n",
      "video 1/1 (frame 82/710) c:\\\\ 2\\data\\IMG_4434.MP4: 640x640 1 skis, 329.3ms\n",
      "video 1/1 (frame 83/710) c:\\\\ 2\\data\\IMG_4434.MP4: 640x640 1 skis, 285.5ms\n",
      "video 1/1 (frame 84/710) c:\\\\ 2\\data\\IMG_4434.MP4: 640x640 1 skis, 469.2ms\n",
      "video 1/1 (frame 85/710) c:\\\\ 2\\data\\IMG_4434.MP4: 640x640 10 persons, 2 skiss, 294.6ms\n",
      "video 1/1 (frame 86/710) c:\\\\ 2\\data\\IMG_4434.MP4: 640x640 12 persons, 3 skiss, 368.2ms\n",
      "video 1/1 (frame 87/710) c:\\\\ 2\\data\\IMG_4434.MP4: 640x640 2 persons, 2 skiss, 507.7ms\n",
      "video 1/1 (frame 88/710) c:\\\\ 2\\data\\IMG_4434.MP4: 640x640 6 persons, 3 skiss, 355.2ms\n",
      "video 1/1 (frame 89/710) c:\\\\ 2\\data\\IMG_4434.MP4: 640x640 6 persons, 5 skiss, 265.8ms\n",
      "video 1/1 (frame 90/710) c:\\\\ 2\\data\\IMG_4434.MP4: 640x640 4 persons, 4 skiss, 314.6ms\n",
      "video 1/1 (frame 91/710) c:\\\\ 2\\data\\IMG_4434.MP4: 640x640 6 persons, 4 skiss, 289.3ms\n",
      "video 1/1 (frame 92/710) c:\\\\ 2\\data\\IMG_4434.MP4: 640x640 6 persons, 3 skiss, 296.5ms\n",
      "video 1/1 (frame 93/710) c:\\\\ 2\\data\\IMG_4434.MP4: 640x640 3 persons, 3 skiss, 471.4ms\n",
      "video 1/1 (frame 94/710) c:\\\\ 2\\data\\IMG_4434.MP4: 640x640 4 persons, 2 skiss, 323.7ms\n",
      "video 1/1 (frame 95/710) c:\\\\ 2\\data\\IMG_4434.MP4: 640x640 5 persons, 3 skiss, 326.4ms\n",
      "video 1/1 (frame 96/710) c:\\\\ 2\\data\\IMG_4434.MP4: 640x640 5 persons, 2 skiss, 317.5ms\n",
      "video 1/1 (frame 97/710) c:\\\\ 2\\data\\IMG_4434.MP4: 640x640 4 persons, 2 skiss, 300.0ms\n",
      "video 1/1 (frame 98/710) c:\\\\ 2\\data\\IMG_4434.MP4: 640x640 5 persons, 2 skiss, 323.6ms\n",
      "video 1/1 (frame 99/710) c:\\\\ 2\\data\\IMG_4434.MP4: 640x640 7 persons, 1 skis, 292.7ms\n",
      "video 1/1 (frame 100/710) c:\\\\ 2\\data\\IMG_4434.MP4: 640x640 5 persons, 1 skis, 230.0ms\n",
      "video 1/1 (frame 101/710) c:\\\\ 2\\data\\IMG_4434.MP4: 640x640 5 persons, 1 skis, 261.5ms\n",
      "video 1/1 (frame 102/710) c:\\\\ 2\\data\\IMG_4434.MP4: 640x640 5 persons, 2 skiss, 276.6ms\n",
      "video 1/1 (frame 103/710) c:\\\\ 2\\data\\IMG_4434.MP4: 640x640 4 persons, 1 skis, 400.3ms\n",
      "video 1/1 (frame 104/710) c:\\\\ 2\\data\\IMG_4434.MP4: 640x640 3 persons, 2 skiss, 319.2ms\n",
      "video 1/1 (frame 105/710) c:\\\\ 2\\data\\IMG_4434.MP4: 640x640 3 persons, 1 skis, 294.1ms\n",
      "video 1/1 (frame 106/710) c:\\\\ 2\\data\\IMG_4434.MP4: 640x640 3 persons, 1 skis, 307.8ms\n",
      "video 1/1 (frame 107/710) c:\\\\ 2\\data\\IMG_4434.MP4: 640x640 3 persons, 1 skis, 271.6ms\n",
      "video 1/1 (frame 108/710) c:\\\\ 2\\data\\IMG_4434.MP4: 640x640 3 persons, 350.2ms\n",
      "video 1/1 (frame 109/710) c:\\\\ 2\\data\\IMG_4434.MP4: 640x640 5 persons, 1 skis, 326.5ms\n",
      "video 1/1 (frame 110/710) c:\\\\ 2\\data\\IMG_4434.MP4: 640x640 6 persons, 1 skis, 913.3ms\n",
      "video 1/1 (frame 111/710) c:\\\\ 2\\data\\IMG_4434.MP4: 640x640 7 persons, 1 skis, 690.9ms\n",
      "video 1/1 (frame 112/710) c:\\\\ 2\\data\\IMG_4434.MP4: 640x640 7 persons, 1 skis, 306.8ms\n",
      "video 1/1 (frame 113/710) c:\\\\ 2\\data\\IMG_4434.MP4: 640x640 7 persons, 1 skis, 400.1ms\n",
      "video 1/1 (frame 114/710) c:\\\\ 2\\data\\IMG_4434.MP4: 640x640 7 persons, 1 skis, 269.7ms\n",
      "video 1/1 (frame 115/710) c:\\\\ 2\\data\\IMG_4434.MP4: 640x640 8 persons, 1 skis, 422.0ms\n",
      "video 1/1 (frame 116/710) c:\\\\ 2\\data\\IMG_4434.MP4: 640x640 6 persons, 1 skis, 336.1ms\n",
      "video 1/1 (frame 117/710) c:\\\\ 2\\data\\IMG_4434.MP4: 640x640 4 persons, 1 skis, 258.0ms\n",
      "video 1/1 (frame 118/710) c:\\\\ 2\\data\\IMG_4434.MP4: 640x640 8 persons, 1 skis, 388.6ms\n",
      "video 1/1 (frame 119/710) c:\\\\ 2\\data\\IMG_4434.MP4: 640x640 6 persons, 1 skis, 378.9ms\n",
      "video 1/1 (frame 120/710) c:\\\\ 2\\data\\IMG_4434.MP4: 640x640 10 persons, 1 skis, 290.6ms\n",
      "video 1/1 (frame 121/710) c:\\\\ 2\\data\\IMG_4434.MP4: 640x640 10 persons, 1 skis, 364.8ms\n",
      "video 1/1 (frame 122/710) c:\\\\ 2\\data\\IMG_4434.MP4: 640x640 1 person, 381.9ms\n",
      "video 1/1 (frame 123/710) c:\\\\ 2\\data\\IMG_4434.MP4: 640x640 9 persons, 1 skis, 324.0ms\n",
      "video 1/1 (frame 124/710) c:\\\\ 2\\data\\IMG_4434.MP4: 640x640 9 persons, 1 skis, 312.7ms\n",
      "video 1/1 (frame 125/710) c:\\\\ 2\\data\\IMG_4434.MP4: 640x640 10 persons, 296.6ms\n",
      "video 1/1 (frame 126/710) c:\\\\ 2\\data\\IMG_4434.MP4: 640x640 14 persons, 352.1ms\n",
      "video 1/1 (frame 127/710) c:\\\\ 2\\data\\IMG_4434.MP4: 640x640 16 persons, 1 skis, 274.4ms\n",
      "video 1/1 (frame 128/710) c:\\\\ 2\\data\\IMG_4434.MP4: 640x640 8 persons, 2 skiss, 272.4ms\n",
      "video 1/1 (frame 129/710) c:\\\\ 2\\data\\IMG_4434.MP4: 640x640 7 persons, 2 skiss, 337.0ms\n",
      "video 1/1 (frame 130/710) c:\\\\ 2\\data\\IMG_4434.MP4: 640x640 6 persons, 2 skiss, 290.7ms\n",
      "video 1/1 (frame 131/710) c:\\\\ 2\\data\\IMG_4434.MP4: 640x640 7 persons, 1 skis, 262.6ms\n",
      "video 1/1 (frame 132/710) c:\\\\ 2\\data\\IMG_4434.MP4: 640x640 7 persons, 1 skis, 307.3ms\n",
      "video 1/1 (frame 133/710) c:\\\\ 2\\data\\IMG_4434.MP4: 640x640 7 persons, 278.9ms\n",
      "video 1/1 (frame 134/710) c:\\\\ 2\\data\\IMG_4434.MP4: 640x640 10 persons, 1 skis, 264.0ms\n",
      "video 1/1 (frame 135/710) c:\\\\ 2\\data\\IMG_4434.MP4: 640x640 11 persons, 2 skiss, 278.8ms\n",
      "video 1/1 (frame 136/710) c:\\\\ 2\\data\\IMG_4434.MP4: 640x640 10 persons, 3 skiss, 286.4ms\n",
      "video 1/1 (frame 137/710) c:\\\\ 2\\data\\IMG_4434.MP4: 640x640 10 persons, 1 skis, 293.4ms\n",
      "video 1/1 (frame 138/710) c:\\\\ 2\\data\\IMG_4434.MP4: 640x640 9 persons, 1 skis, 266.2ms\n",
      "video 1/1 (frame 139/710) c:\\\\ 2\\data\\IMG_4434.MP4: 640x640 9 persons, 259.3ms\n",
      "video 1/1 (frame 140/710) c:\\\\ 2\\data\\IMG_4434.MP4: 640x640 11 persons, 2 skiss, 220.1ms\n",
      "video 1/1 (frame 141/710) c:\\\\ 2\\data\\IMG_4434.MP4: 640x640 7 persons, 1 skis, 211.1ms\n",
      "video 1/1 (frame 142/710) c:\\\\ 2\\data\\IMG_4434.MP4: 640x640 1 person, 253.0ms\n",
      "video 1/1 (frame 143/710) c:\\\\ 2\\data\\IMG_4434.MP4: 640x640 7 persons, 1 skis, 312.0ms\n",
      "video 1/1 (frame 144/710) c:\\\\ 2\\data\\IMG_4434.MP4: 640x640 5 persons, 2 skiss, 526.5ms\n",
      "video 1/1 (frame 145/710) c:\\\\ 2\\data\\IMG_4434.MP4: 640x640 5 persons, 1 skis, 364.4ms\n",
      "video 1/1 (frame 146/710) c:\\\\ 2\\data\\IMG_4434.MP4: 640x640 1 person, 332.5ms\n",
      "video 1/1 (frame 147/710) c:\\\\ 2\\data\\IMG_4434.MP4: 640x640 1 person, 316.5ms\n",
      "video 1/1 (frame 148/710) c:\\\\ 2\\data\\IMG_4434.MP4: 640x640 1 person, 309.2ms\n",
      "video 1/1 (frame 149/710) c:\\\\ 2\\data\\IMG_4434.MP4: 640x640 1 person, 271.9ms\n",
      "video 1/1 (frame 150/710) c:\\\\ 2\\data\\IMG_4434.MP4: 640x640 1 person, 288.0ms\n",
      "video 1/1 (frame 151/710) c:\\\\ 2\\data\\IMG_4434.MP4: 640x640 1 person, 341.3ms\n",
      "video 1/1 (frame 152/710) c:\\\\ 2\\data\\IMG_4434.MP4: 640x640 1 person, 301.1ms\n",
      "video 1/1 (frame 153/710) c:\\\\ 2\\data\\IMG_4434.MP4: 640x640 1 person, 282.9ms\n",
      "video 1/1 (frame 154/710) c:\\\\ 2\\data\\IMG_4434.MP4: 640x640 1 person, 242.8ms\n",
      "video 1/1 (frame 155/710) c:\\\\ 2\\data\\IMG_4434.MP4: 640x640 1 person, 274.7ms\n",
      "video 1/1 (frame 156/710) c:\\\\ 2\\data\\IMG_4434.MP4: 640x640 1 person, 381.8ms\n",
      "video 1/1 (frame 157/710) c:\\\\ 2\\data\\IMG_4434.MP4: 640x640 1 person, 286.5ms\n",
      "video 1/1 (frame 158/710) c:\\\\ 2\\data\\IMG_4434.MP4: 640x640 1 person, 283.4ms\n",
      "video 1/1 (frame 159/710) c:\\\\ 2\\data\\IMG_4434.MP4: 640x640 3 persons, 441.9ms\n",
      "video 1/1 (frame 160/710) c:\\\\ 2\\data\\IMG_4434.MP4: 640x640 3 persons, 242.4ms\n",
      "video 1/1 (frame 161/710) c:\\\\ 2\\data\\IMG_4434.MP4: 640x640 3 persons, 288.1ms\n",
      "video 1/1 (frame 162/710) c:\\\\ 2\\data\\IMG_4434.MP4: 640x640 3 persons, 281.3ms\n",
      "video 1/1 (frame 163/710) c:\\\\ 2\\data\\IMG_4434.MP4: 640x640 3 persons, 271.5ms\n",
      "video 1/1 (frame 164/710) c:\\\\ 2\\data\\IMG_4434.MP4: 640x640 3 persons, 373.7ms\n",
      "video 1/1 (frame 165/710) c:\\\\ 2\\data\\IMG_4434.MP4: 640x640 3 persons, 366.8ms\n",
      "video 1/1 (frame 166/710) c:\\\\ 2\\data\\IMG_4434.MP4: 640x640 3 persons, 278.5ms\n",
      "video 1/1 (frame 167/710) c:\\\\ 2\\data\\IMG_4434.MP4: 640x640 3 persons, 406.8ms\n",
      "video 1/1 (frame 168/710) c:\\\\ 2\\data\\IMG_4434.MP4: 640x640 3 persons, 306.6ms\n",
      "video 1/1 (frame 169/710) c:\\\\ 2\\data\\IMG_4434.MP4: 640x640 3 persons, 263.2ms\n",
      "video 1/1 (frame 170/710) c:\\\\ 2\\data\\IMG_4434.MP4: 640x640 2 persons, 287.6ms\n",
      "video 1/1 (frame 171/710) c:\\\\ 2\\data\\IMG_4434.MP4: 640x640 3 persons, 285.9ms\n",
      "video 1/1 (frame 172/710) c:\\\\ 2\\data\\IMG_4434.MP4: 640x640 2 persons, 429.3ms\n",
      "video 1/1 (frame 173/710) c:\\\\ 2\\data\\IMG_4434.MP4: 640x640 1 person, 239.9ms\n",
      "video 1/1 (frame 174/710) c:\\\\ 2\\data\\IMG_4434.MP4: 640x640 1 person, 241.8ms\n",
      "video 1/1 (frame 175/710) c:\\\\ 2\\data\\IMG_4434.MP4: 640x640 1 person, 1 skis, 235.8ms\n",
      "video 1/1 (frame 176/710) c:\\\\ 2\\data\\IMG_4434.MP4: 640x640 1 person, 1 skis, 363.2ms\n",
      "video 1/1 (frame 177/710) c:\\\\ 2\\data\\IMG_4434.MP4: 640x640 1 person, 1 skis, 315.5ms\n",
      "video 1/1 (frame 178/710) c:\\\\ 2\\data\\IMG_4434.MP4: 640x640 1 person, 1 skis, 333.2ms\n",
      "video 1/1 (frame 179/710) c:\\\\ 2\\data\\IMG_4434.MP4: 640x640 1 skis, 362.9ms\n",
      "video 1/1 (frame 180/710) c:\\\\ 2\\data\\IMG_4434.MP4: 640x640 1 skis, 377.4ms\n",
      "video 1/1 (frame 181/710) c:\\\\ 2\\data\\IMG_4434.MP4: 640x640 1 skis, 368.0ms\n",
      "video 1/1 (frame 182/710) c:\\\\ 2\\data\\IMG_4434.MP4: 640x640 1 skis, 335.0ms\n",
      "video 1/1 (frame 183/710) c:\\\\ 2\\data\\IMG_4434.MP4: 640x640 1 skis, 383.3ms\n",
      "video 1/1 (frame 184/710) c:\\\\ 2\\data\\IMG_4434.MP4: 640x640 1 skis, 305.3ms\n",
      "video 1/1 (frame 185/710) c:\\\\ 2\\data\\IMG_4434.MP4: 640x640 1 skis, 302.9ms\n",
      "video 1/1 (frame 186/710) c:\\\\ 2\\data\\IMG_4434.MP4: 640x640 1 skis, 305.6ms\n",
      "video 1/1 (frame 187/710) c:\\\\ 2\\data\\IMG_4434.MP4: 640x640 1 skis, 333.4ms\n",
      "video 1/1 (frame 188/710) c:\\\\ 2\\data\\IMG_4434.MP4: 640x640 1 skis, 298.2ms\n",
      "video 1/1 (frame 189/710) c:\\\\ 2\\data\\IMG_4434.MP4: 640x640 2 skiss, 334.2ms\n",
      "video 1/1 (frame 190/710) c:\\\\ 2\\data\\IMG_4434.MP4: 640x640 2 skiss, 392.2ms\n",
      "video 1/1 (frame 191/710) c:\\\\ 2\\data\\IMG_4434.MP4: 640x640 2 skiss, 284.1ms\n",
      "video 1/1 (frame 192/710) c:\\\\ 2\\data\\IMG_4434.MP4: 640x640 2 skiss, 344.6ms\n",
      "video 1/1 (frame 193/710) c:\\\\ 2\\data\\IMG_4434.MP4: 640x640 2 skiss, 341.0ms\n",
      "video 1/1 (frame 194/710) c:\\\\ 2\\data\\IMG_4434.MP4: 640x640 2 skiss, 304.6ms\n",
      "video 1/1 (frame 195/710) c:\\\\ 2\\data\\IMG_4434.MP4: 640x640 2 skiss, 293.1ms\n",
      "video 1/1 (frame 196/710) c:\\\\ 2\\data\\IMG_4434.MP4: 640x640 2 skiss, 285.7ms\n",
      "video 1/1 (frame 197/710) c:\\\\ 2\\data\\IMG_4434.MP4: 640x640 2 skiss, 287.3ms\n",
      "video 1/1 (frame 198/710) c:\\\\ 2\\data\\IMG_4434.MP4: 640x640 2 skiss, 583.3ms\n",
      "video 1/1 (frame 199/710) c:\\\\ 2\\data\\IMG_4434.MP4: 640x640 2 skiss, 367.4ms\n",
      "video 1/1 (frame 200/710) c:\\\\ 2\\data\\IMG_4434.MP4: 640x640 1 skis, 316.6ms\n",
      "video 1/1 (frame 201/710) c:\\\\ 2\\data\\IMG_4434.MP4: 640x640 2 skiss, 328.7ms\n",
      "video 1/1 (frame 202/710) c:\\\\ 2\\data\\IMG_4434.MP4: 640x640 2 skiss, 274.6ms\n",
      "video 1/1 (frame 203/710) c:\\\\ 2\\data\\IMG_4434.MP4: 640x640 2 skiss, 255.6ms\n",
      "video 1/1 (frame 204/710) c:\\\\ 2\\data\\IMG_4434.MP4: 640x640 2 skiss, 282.2ms\n",
      "video 1/1 (frame 205/710) c:\\\\ 2\\data\\IMG_4434.MP4: 640x640 1 skis, 299.3ms\n",
      "video 1/1 (frame 206/710) c:\\\\ 2\\data\\IMG_4434.MP4: 640x640 1 skis, 332.3ms\n",
      "video 1/1 (frame 207/710) c:\\\\ 2\\data\\IMG_4434.MP4: 640x640 1 skis, 325.6ms\n",
      "video 1/1 (frame 208/710) c:\\\\ 2\\data\\IMG_4434.MP4: 640x640 1 skis, 411.9ms\n",
      "video 1/1 (frame 209/710) c:\\\\ 2\\data\\IMG_4434.MP4: 640x640 1 skis, 308.1ms\n",
      "video 1/1 (frame 210/710) c:\\\\ 2\\data\\IMG_4434.MP4: 640x640 1 skis, 296.9ms\n",
      "video 1/1 (frame 211/710) c:\\\\ 2\\data\\IMG_4434.MP4: 640x640 1 skis, 324.4ms\n",
      "video 1/1 (frame 212/710) c:\\\\ 2\\data\\IMG_4434.MP4: 640x640 1 skis, 346.2ms\n",
      "video 1/1 (frame 213/710) c:\\\\ 2\\data\\IMG_4434.MP4: 640x640 1 skis, 281.9ms\n",
      "video 1/1 (frame 214/710) c:\\\\ 2\\data\\IMG_4434.MP4: 640x640 1 person, 4 skiss, 309.0ms\n",
      "video 1/1 (frame 215/710) c:\\\\ 2\\data\\IMG_4434.MP4: 640x640 1 person, 5 skiss, 285.7ms\n",
      "video 1/1 (frame 216/710) c:\\\\ 2\\data\\IMG_4434.MP4: 640x640 2 persons, 4 skiss, 342.5ms\n",
      "video 1/1 (frame 217/710) c:\\\\ 2\\data\\IMG_4434.MP4: 640x640 2 persons, 5 skiss, 460.6ms\n",
      "video 1/1 (frame 218/710) c:\\\\ 2\\data\\IMG_4434.MP4: 640x640 2 persons, 5 skiss, 289.9ms\n",
      "video 1/1 (frame 219/710) c:\\\\ 2\\data\\IMG_4434.MP4: 640x640 2 persons, 4 skiss, 308.6ms\n",
      "video 1/1 (frame 220/710) c:\\\\ 2\\data\\IMG_4434.MP4: 640x640 2 persons, 4 skiss, 315.5ms\n",
      "video 1/1 (frame 221/710) c:\\\\ 2\\data\\IMG_4434.MP4: 640x640 5 persons, 4 skiss, 325.0ms\n",
      "video 1/1 (frame 222/710) c:\\\\ 2\\data\\IMG_4434.MP4: 640x640 5 persons, 3 skiss, 335.3ms\n",
      "video 1/1 (frame 223/710) c:\\\\ 2\\data\\IMG_4434.MP4: 640x640 4 persons, 4 skiss, 365.4ms\n",
      "video 1/1 (frame 224/710) c:\\\\ 2\\data\\IMG_4434.MP4: 640x640 6 persons, 4 skiss, 347.3ms\n",
      "video 1/1 (frame 225/710) c:\\\\ 2\\data\\IMG_4434.MP4: 640x640 2 persons, 3 skiss, 339.5ms\n",
      "video 1/1 (frame 226/710) c:\\\\ 2\\data\\IMG_4434.MP4: 640x640 3 persons, 3 skiss, 296.2ms\n",
      "video 1/1 (frame 227/710) c:\\\\ 2\\data\\IMG_4434.MP4: 640x640 3 persons, 2 skiss, 286.2ms\n",
      "video 1/1 (frame 228/710) c:\\\\ 2\\data\\IMG_4434.MP4: 640x640 3 persons, 1 skis, 294.2ms\n",
      "video 1/1 (frame 229/710) c:\\\\ 2\\data\\IMG_4434.MP4: 640x640 2 persons, 1 skis, 373.7ms\n",
      "video 1/1 (frame 230/710) c:\\\\ 2\\data\\IMG_4434.MP4: 640x640 2 persons, 1 skis, 350.8ms\n",
      "video 1/1 (frame 231/710) c:\\\\ 2\\data\\IMG_4434.MP4: 640x640 2 persons, 1 skis, 379.2ms\n",
      "video 1/1 (frame 232/710) c:\\\\ 2\\data\\IMG_4434.MP4: 640x640 3 persons, 1 skis, 260.1ms\n",
      "video 1/1 (frame 233/710) c:\\\\ 2\\data\\IMG_4434.MP4: 640x640 2 persons, 1 skis, 396.0ms\n",
      "video 1/1 (frame 234/710) c:\\\\ 2\\data\\IMG_4434.MP4: 640x640 1 person, 337.1ms\n",
      "video 1/1 (frame 235/710) c:\\\\ 2\\data\\IMG_4434.MP4: 640x640 1 person, 250.4ms\n",
      "video 1/1 (frame 236/710) c:\\\\ 2\\data\\IMG_4434.MP4: 640x640 1 person, 278.9ms\n",
      "video 1/1 (frame 237/710) c:\\\\ 2\\data\\IMG_4434.MP4: 640x640 1 person, 288.5ms\n",
      "video 1/1 (frame 238/710) c:\\\\ 2\\data\\IMG_4434.MP4: 640x640 1 person, 289.1ms\n",
      "video 1/1 (frame 239/710) c:\\\\ 2\\data\\IMG_4434.MP4: 640x640 1 person, 294.9ms\n",
      "video 1/1 (frame 240/710) c:\\\\ 2\\data\\IMG_4434.MP4: 640x640 1 person, 325.3ms\n",
      "video 1/1 (frame 241/710) c:\\\\ 2\\data\\IMG_4434.MP4: 640x640 1 person, 300.2ms\n",
      "video 1/1 (frame 242/710) c:\\\\ 2\\data\\IMG_4434.MP4: 640x640 1 person, 288.2ms\n",
      "video 1/1 (frame 243/710) c:\\\\ 2\\data\\IMG_4434.MP4: 640x640 1 person, 319.0ms\n",
      "video 1/1 (frame 244/710) c:\\\\ 2\\data\\IMG_4434.MP4: 640x640 1 person, 271.2ms\n",
      "video 1/1 (frame 245/710) c:\\\\ 2\\data\\IMG_4434.MP4: 640x640 1 person, 290.9ms\n",
      "video 1/1 (frame 246/710) c:\\\\ 2\\data\\IMG_4434.MP4: 640x640 1 person, 274.9ms\n",
      "video 1/1 (frame 247/710) c:\\\\ 2\\data\\IMG_4434.MP4: 640x640 1 person, 278.2ms\n",
      "video 1/1 (frame 248/710) c:\\\\ 2\\data\\IMG_4434.MP4: 640x640 1 person, 279.9ms\n",
      "video 1/1 (frame 249/710) c:\\\\ 2\\data\\IMG_4434.MP4: 640x640 1 person, 343.3ms\n",
      "video 1/1 (frame 250/710) c:\\\\ 2\\data\\IMG_4434.MP4: 640x640 1 person, 314.9ms\n",
      "video 1/1 (frame 251/710) c:\\\\ 2\\data\\IMG_4434.MP4: 640x640 1 person, 297.8ms\n",
      "video 1/1 (frame 252/710) c:\\\\ 2\\data\\IMG_4434.MP4: 640x640 1 person, 336.4ms\n",
      "video 1/1 (frame 253/710) c:\\\\ 2\\data\\IMG_4434.MP4: 640x640 1 person, 4 skiss, 307.2ms\n",
      "video 1/1 (frame 254/710) c:\\\\ 2\\data\\IMG_4434.MP4: 640x640 1 skis, 303.1ms\n",
      "video 1/1 (frame 255/710) c:\\\\ 2\\data\\IMG_4434.MP4: 640x640 1 skis, 340.2ms\n",
      "video 1/1 (frame 256/710) c:\\\\ 2\\data\\IMG_4434.MP4: 640x640 1 skis, 322.5ms\n",
      "video 1/1 (frame 257/710) c:\\\\ 2\\data\\IMG_4434.MP4: 640x640 1 skis, 349.5ms\n",
      "video 1/1 (frame 258/710) c:\\\\ 2\\data\\IMG_4434.MP4: 640x640 1 skis, 302.0ms\n",
      "video 1/1 (frame 259/710) c:\\\\ 2\\data\\IMG_4434.MP4: 640x640 1 person, 1 skis, 1053.2ms\n",
      "video 1/1 (frame 260/710) c:\\\\ 2\\data\\IMG_4434.MP4: 640x640 2 persons, 1 skis, 520.0ms\n",
      "video 1/1 (frame 261/710) c:\\\\ 2\\data\\IMG_4434.MP4: 640x640 2 persons, 1 skis, 687.7ms\n",
      "video 1/1 (frame 262/710) c:\\\\ 2\\data\\IMG_4434.MP4: 640x640 5 persons, 2 skiss, 1217.1ms\n",
      "video 1/1 (frame 263/710) c:\\\\ 2\\data\\IMG_4434.MP4: 640x640 2 persons, 2 skiss, 733.8ms\n",
      "video 1/1 (frame 264/710) c:\\\\ 2\\data\\IMG_4434.MP4: 640x640 2 persons, 1 skis, 1014.3ms\n",
      "video 1/1 (frame 265/710) c:\\\\ 2\\data\\IMG_4434.MP4: 640x640 1 person, 2 skiss, 312.1ms\n",
      "video 1/1 (frame 266/710) c:\\\\ 2\\data\\IMG_4434.MP4: 640x640 1 person, 2 skiss, 399.8ms\n",
      "video 1/1 (frame 267/710) c:\\\\ 2\\data\\IMG_4434.MP4: 640x640 1 person, 4 skiss, 1 snowboard, 336.8ms\n",
      "video 1/1 (frame 268/710) c:\\\\ 2\\data\\IMG_4434.MP4: 640x640 1 person, 3 skiss, 270.7ms\n",
      "video 1/1 (frame 269/710) c:\\\\ 2\\data\\IMG_4434.MP4: 640x640 1 person, 1 skis, 357.8ms\n",
      "video 1/1 (frame 270/710) c:\\\\ 2\\data\\IMG_4434.MP4: 640x640 3 persons, 1 skis, 321.0ms\n",
      "video 1/1 (frame 271/710) c:\\\\ 2\\data\\IMG_4434.MP4: 640x640 3 persons, 1 skis, 303.4ms\n",
      "video 1/1 (frame 272/710) c:\\\\ 2\\data\\IMG_4434.MP4: 640x640 2 persons, 2 skiss, 284.5ms\n",
      "video 1/1 (frame 273/710) c:\\\\ 2\\data\\IMG_4434.MP4: 640x640 1 person, 299.1ms\n",
      "video 1/1 (frame 274/710) c:\\\\ 2\\data\\IMG_4434.MP4: 640x640 1 person, 298.9ms\n",
      "video 1/1 (frame 275/710) c:\\\\ 2\\data\\IMG_4434.MP4: 640x640 1 person, 340.3ms\n",
      "video 1/1 (frame 276/710) c:\\\\ 2\\data\\IMG_4434.MP4: 640x640 1 person, 307.1ms\n",
      "video 1/1 (frame 277/710) c:\\\\ 2\\data\\IMG_4434.MP4: 640x640 1 person, 278.5ms\n",
      "video 1/1 (frame 278/710) c:\\\\ 2\\data\\IMG_4434.MP4: 640x640 1 person, 300.6ms\n",
      "video 1/1 (frame 279/710) c:\\\\ 2\\data\\IMG_4434.MP4: 640x640 1 person, 295.5ms\n",
      "video 1/1 (frame 280/710) c:\\\\ 2\\data\\IMG_4434.MP4: 640x640 1 person, 279.4ms\n",
      "video 1/1 (frame 281/710) c:\\\\ 2\\data\\IMG_4434.MP4: 640x640 1 person, 276.3ms\n",
      "video 1/1 (frame 282/710) c:\\\\ 2\\data\\IMG_4434.MP4: 640x640 1 person, 305.8ms\n",
      "video 1/1 (frame 283/710) c:\\\\ 2\\data\\IMG_4434.MP4: 640x640 1 person, 279.1ms\n",
      "video 1/1 (frame 284/710) c:\\\\ 2\\data\\IMG_4434.MP4: 640x640 1 person, 392.2ms\n",
      "video 1/1 (frame 285/710) c:\\\\ 2\\data\\IMG_4434.MP4: 640x640 1 person, 355.1ms\n",
      "video 1/1 (frame 286/710) c:\\\\ 2\\data\\IMG_4434.MP4: 640x640 1 person, 229.4ms\n",
      "video 1/1 (frame 287/710) c:\\\\ 2\\data\\IMG_4434.MP4: 640x640 (no detections), 569.1ms\n",
      "video 1/1 (frame 288/710) c:\\\\ 2\\data\\IMG_4434.MP4: 640x640 (no detections), 276.7ms\n",
      "video 1/1 (frame 289/710) c:\\\\ 2\\data\\IMG_4434.MP4: 640x640 (no detections), 252.8ms\n",
      "video 1/1 (frame 290/710) c:\\\\ 2\\data\\IMG_4434.MP4: 640x640 (no detections), 294.0ms\n",
      "video 1/1 (frame 291/710) c:\\\\ 2\\data\\IMG_4434.MP4: 640x640 (no detections), 273.3ms\n",
      "video 1/1 (frame 292/710) c:\\\\ 2\\data\\IMG_4434.MP4: 640x640 1 person, 3 skiss, 370.4ms\n",
      "video 1/1 (frame 293/710) c:\\\\ 2\\data\\IMG_4434.MP4: 640x640 4 persons, 2 skiss, 392.1ms\n",
      "video 1/1 (frame 294/710) c:\\\\ 2\\data\\IMG_4434.MP4: 640x640 1 person, 1 skis, 311.9ms\n",
      "video 1/1 (frame 295/710) c:\\\\ 2\\data\\IMG_4434.MP4: 640x640 2 persons, 304.8ms\n",
      "video 1/1 (frame 296/710) c:\\\\ 2\\data\\IMG_4434.MP4: 640x640 2 persons, 323.3ms\n",
      "video 1/1 (frame 297/710) c:\\\\ 2\\data\\IMG_4434.MP4: 640x640 (no detections), 315.9ms\n",
      "video 1/1 (frame 298/710) c:\\\\ 2\\data\\IMG_4434.MP4: 640x640 1 skis, 296.8ms\n",
      "video 1/1 (frame 299/710) c:\\\\ 2\\data\\IMG_4434.MP4: 640x640 (no detections), 307.0ms\n",
      "video 1/1 (frame 300/710) c:\\\\ 2\\data\\IMG_4434.MP4: 640x640 1 person, 1 skis, 331.4ms\n",
      "video 1/1 (frame 301/710) c:\\\\ 2\\data\\IMG_4434.MP4: 640x640 1 person, 1 skis, 285.2ms\n",
      "video 1/1 (frame 302/710) c:\\\\ 2\\data\\IMG_4434.MP4: 640x640 2 persons, 297.0ms\n",
      "video 1/1 (frame 303/710) c:\\\\ 2\\data\\IMG_4434.MP4: 640x640 1 person, 1 skis, 340.0ms\n",
      "video 1/1 (frame 304/710) c:\\\\ 2\\data\\IMG_4434.MP4: 640x640 1 person, 1 skis, 318.2ms\n",
      "video 1/1 (frame 305/710) c:\\\\ 2\\data\\IMG_4434.MP4: 640x640 1 person, 1 skis, 295.4ms\n",
      "video 1/1 (frame 306/710) c:\\\\ 2\\data\\IMG_4434.MP4: 640x640 1 person, 1 skis, 293.8ms\n",
      "video 1/1 (frame 307/710) c:\\\\ 2\\data\\IMG_4434.MP4: 640x640 1 skis, 289.2ms\n",
      "video 1/1 (frame 308/710) c:\\\\ 2\\data\\IMG_4434.MP4: 640x640 1 person, 2 skiss, 314.9ms\n",
      "video 1/1 (frame 309/710) c:\\\\ 2\\data\\IMG_4434.MP4: 640x640 1 person, 1 skis, 285.2ms\n",
      "video 1/1 (frame 310/710) c:\\\\ 2\\data\\IMG_4434.MP4: 640x640 2 persons, 1 skis, 272.8ms\n",
      "video 1/1 (frame 311/710) c:\\\\ 2\\data\\IMG_4434.MP4: 640x640 2 persons, 1 skis, 303.0ms\n",
      "video 1/1 (frame 312/710) c:\\\\ 2\\data\\IMG_4434.MP4: 640x640 1 person, 1 skis, 289.5ms\n",
      "video 1/1 (frame 313/710) c:\\\\ 2\\data\\IMG_4434.MP4: 640x640 1 person, 3 skiss, 346.0ms\n",
      "video 1/1 (frame 314/710) c:\\\\ 2\\data\\IMG_4434.MP4: 640x640 1 person, 1 skis, 347.6ms\n",
      "video 1/1 (frame 315/710) c:\\\\ 2\\data\\IMG_4434.MP4: 640x640 1 person, 331.9ms\n",
      "video 1/1 (frame 316/710) c:\\\\ 2\\data\\IMG_4434.MP4: 640x640 1 person, 382.4ms\n",
      "video 1/1 (frame 317/710) c:\\\\ 2\\data\\IMG_4434.MP4: 640x640 1 person, 324.0ms\n",
      "video 1/1 (frame 318/710) c:\\\\ 2\\data\\IMG_4434.MP4: 640x640 1 person, 1 skis, 284.8ms\n",
      "video 1/1 (frame 319/710) c:\\\\ 2\\data\\IMG_4434.MP4: 640x640 2 persons, 1 skis, 292.7ms\n",
      "video 1/1 (frame 320/710) c:\\\\ 2\\data\\IMG_4434.MP4: 640x640 3 persons, 1 skis, 258.4ms\n",
      "video 1/1 (frame 321/710) c:\\\\ 2\\data\\IMG_4434.MP4: 640x640 3 persons, 1 skis, 259.2ms\n",
      "video 1/1 (frame 322/710) c:\\\\ 2\\data\\IMG_4434.MP4: 640x640 1 person, 1 skis, 360.5ms\n",
      "video 1/1 (frame 323/710) c:\\\\ 2\\data\\IMG_4434.MP4: 640x640 2 persons, 1 skis, 396.5ms\n",
      "video 1/1 (frame 324/710) c:\\\\ 2\\data\\IMG_4434.MP4: 640x640 2 persons, 1 skis, 263.1ms\n",
      "video 1/1 (frame 325/710) c:\\\\ 2\\data\\IMG_4434.MP4: 640x640 3 persons, 3 skiss, 292.4ms\n",
      "video 1/1 (frame 326/710) c:\\\\ 2\\data\\IMG_4434.MP4: 640x640 3 persons, 3 skiss, 309.6ms\n",
      "video 1/1 (frame 327/710) c:\\\\ 2\\data\\IMG_4434.MP4: 640x640 3 persons, 1 skis, 327.3ms\n",
      "video 1/1 (frame 328/710) c:\\\\ 2\\data\\IMG_4434.MP4: 640x640 2 persons, 1 skis, 411.2ms\n",
      "video 1/1 (frame 329/710) c:\\\\ 2\\data\\IMG_4434.MP4: 640x640 2 persons, 1 skis, 419.7ms\n",
      "video 1/1 (frame 330/710) c:\\\\ 2\\data\\IMG_4434.MP4: 640x640 3 persons, 1 skis, 353.6ms\n",
      "video 1/1 (frame 331/710) c:\\\\ 2\\data\\IMG_4434.MP4: 640x640 3 persons, 1 skis, 396.1ms\n",
      "video 1/1 (frame 332/710) c:\\\\ 2\\data\\IMG_4434.MP4: 640x640 1 person, 1 skis, 341.3ms\n",
      "video 1/1 (frame 333/710) c:\\\\ 2\\data\\IMG_4434.MP4: 640x640 1 person, 2 skiss, 286.9ms\n",
      "video 1/1 (frame 334/710) c:\\\\ 2\\data\\IMG_4434.MP4: 640x640 1 skis, 287.7ms\n",
      "video 1/1 (frame 335/710) c:\\\\ 2\\data\\IMG_4434.MP4: 640x640 2 skiss, 456.1ms\n",
      "video 1/1 (frame 336/710) c:\\\\ 2\\data\\IMG_4434.MP4: 640x640 1 person, 2 skiss, 373.2ms\n",
      "video 1/1 (frame 337/710) c:\\\\ 2\\data\\IMG_4434.MP4: 640x640 1 person, 2 skiss, 324.6ms\n",
      "video 1/1 (frame 338/710) c:\\\\ 2\\data\\IMG_4434.MP4: 640x640 1 skis, 348.0ms\n",
      "video 1/1 (frame 339/710) c:\\\\ 2\\data\\IMG_4434.MP4: 640x640 1 person, 1 skis, 292.9ms\n",
      "video 1/1 (frame 340/710) c:\\\\ 2\\data\\IMG_4434.MP4: 640x640 1 person, 1 skis, 286.8ms\n",
      "video 1/1 (frame 341/710) c:\\\\ 2\\data\\IMG_4434.MP4: 640x640 1 person, 1 skis, 280.7ms\n",
      "video 1/1 (frame 342/710) c:\\\\ 2\\data\\IMG_4434.MP4: 640x640 3 persons, 1 skis, 291.5ms\n",
      "video 1/1 (frame 343/710) c:\\\\ 2\\data\\IMG_4434.MP4: 640x640 2 persons, 1 skis, 373.4ms\n",
      "video 1/1 (frame 344/710) c:\\\\ 2\\data\\IMG_4434.MP4: 640x640 3 persons, 269.6ms\n",
      "video 1/1 (frame 345/710) c:\\\\ 2\\data\\IMG_4434.MP4: 640x640 1 person, 270.2ms\n",
      "video 1/1 (frame 346/710) c:\\\\ 2\\data\\IMG_4434.MP4: 640x640 1 person, 260.5ms\n",
      "video 1/1 (frame 347/710) c:\\\\ 2\\data\\IMG_4434.MP4: 640x640 1 person, 246.1ms\n",
      "video 1/1 (frame 348/710) c:\\\\ 2\\data\\IMG_4434.MP4: 640x640 1 person, 236.1ms\n",
      "video 1/1 (frame 349/710) c:\\\\ 2\\data\\IMG_4434.MP4: 640x640 1 person, 409.7ms\n",
      "video 1/1 (frame 350/710) c:\\\\ 2\\data\\IMG_4434.MP4: 640x640 1 person, 332.9ms\n",
      "video 1/1 (frame 351/710) c:\\\\ 2\\data\\IMG_4434.MP4: 640x640 1 person, 276.1ms\n",
      "video 1/1 (frame 352/710) c:\\\\ 2\\data\\IMG_4434.MP4: 640x640 1 person, 282.0ms\n",
      "video 1/1 (frame 353/710) c:\\\\ 2\\data\\IMG_4434.MP4: 640x640 1 person, 308.6ms\n",
      "video 1/1 (frame 354/710) c:\\\\ 2\\data\\IMG_4434.MP4: 640x640 1 person, 315.2ms\n",
      "video 1/1 (frame 355/710) c:\\\\ 2\\data\\IMG_4434.MP4: 640x640 1 person, 265.8ms\n",
      "video 1/1 (frame 356/710) c:\\\\ 2\\data\\IMG_4434.MP4: 640x640 1 person, 312.9ms\n",
      "video 1/1 (frame 357/710) c:\\\\ 2\\data\\IMG_4434.MP4: 640x640 1 person, 316.9ms\n",
      "video 1/1 (frame 358/710) c:\\\\ 2\\data\\IMG_4434.MP4: 640x640 1 person, 333.9ms\n",
      "video 1/1 (frame 359/710) c:\\\\ 2\\data\\IMG_4434.MP4: 640x640 1 person, 310.2ms\n",
      "video 1/1 (frame 360/710) c:\\\\ 2\\data\\IMG_4434.MP4: 640x640 1 person, 248.7ms\n",
      "video 1/1 (frame 361/710) c:\\\\ 2\\data\\IMG_4434.MP4: 640x640 1 person, 273.0ms\n",
      "video 1/1 (frame 362/710) c:\\\\ 2\\data\\IMG_4434.MP4: 640x640 1 person, 276.2ms\n",
      "video 1/1 (frame 363/710) c:\\\\ 2\\data\\IMG_4434.MP4: 640x640 1 person, 295.1ms\n",
      "video 1/1 (frame 364/710) c:\\\\ 2\\data\\IMG_4434.MP4: 640x640 1 person, 266.8ms\n",
      "video 1/1 (frame 365/710) c:\\\\ 2\\data\\IMG_4434.MP4: 640x640 1 person, 335.4ms\n",
      "video 1/1 (frame 366/710) c:\\\\ 2\\data\\IMG_4434.MP4: 640x640 1 person, 332.7ms\n",
      "video 1/1 (frame 367/710) c:\\\\ 2\\data\\IMG_4434.MP4: 640x640 1 person, 294.0ms\n",
      "video 1/1 (frame 368/710) c:\\\\ 2\\data\\IMG_4434.MP4: 640x640 1 person, 371.5ms\n",
      "video 1/1 (frame 369/710) c:\\\\ 2\\data\\IMG_4434.MP4: 640x640 1 person, 281.8ms\n",
      "video 1/1 (frame 370/710) c:\\\\ 2\\data\\IMG_4434.MP4: 640x640 1 person, 352.3ms\n",
      "video 1/1 (frame 371/710) c:\\\\ 2\\data\\IMG_4434.MP4: 640x640 1 person, 962.9ms\n",
      "video 1/1 (frame 372/710) c:\\\\ 2\\data\\IMG_4434.MP4: 640x640 1 person, 890.1ms\n",
      "video 1/1 (frame 373/710) c:\\\\ 2\\data\\IMG_4434.MP4: 640x640 1 person, 339.4ms\n",
      "video 1/1 (frame 374/710) c:\\\\ 2\\data\\IMG_4434.MP4: 640x640 1 person, 1117.8ms\n",
      "video 1/1 (frame 375/710) c:\\\\ 2\\data\\IMG_4434.MP4: 640x640 1 person, 288.8ms\n",
      "video 1/1 (frame 376/710) c:\\\\ 2\\data\\IMG_4434.MP4: 640x640 1 person, 267.6ms\n",
      "video 1/1 (frame 377/710) c:\\\\ 2\\data\\IMG_4434.MP4: 640x640 1 person, 290.7ms\n",
      "video 1/1 (frame 378/710) c:\\\\ 2\\data\\IMG_4434.MP4: 640x640 1 person, 906.6ms\n",
      "video 1/1 (frame 379/710) c:\\\\ 2\\data\\IMG_4434.MP4: 640x640 1 person, 1035.8ms\n",
      "video 1/1 (frame 380/710) c:\\\\ 2\\data\\IMG_4434.MP4: 640x640 1 person, 1196.4ms\n",
      "video 1/1 (frame 381/710) c:\\\\ 2\\data\\IMG_4434.MP4: 640x640 1 person, 513.6ms\n",
      "video 1/1 (frame 382/710) c:\\\\ 2\\data\\IMG_4434.MP4: 640x640 1 person, 642.1ms\n",
      "video 1/1 (frame 383/710) c:\\\\ 2\\data\\IMG_4434.MP4: 640x640 1 person, 809.4ms\n",
      "video 1/1 (frame 384/710) c:\\\\ 2\\data\\IMG_4434.MP4: 640x640 1 person, 421.0ms\n",
      "video 1/1 (frame 385/710) c:\\\\ 2\\data\\IMG_4434.MP4: 640x640 1 person, 363.5ms\n",
      "video 1/1 (frame 386/710) c:\\\\ 2\\data\\IMG_4434.MP4: 640x640 1 person, 356.8ms\n",
      "video 1/1 (frame 387/710) c:\\\\ 2\\data\\IMG_4434.MP4: 640x640 1 person, 468.0ms\n",
      "video 1/1 (frame 388/710) c:\\\\ 2\\data\\IMG_4434.MP4: 640x640 1 person, 919.1ms\n",
      "video 1/1 (frame 389/710) c:\\\\ 2\\data\\IMG_4434.MP4: 640x640 2 persons, 524.2ms\n",
      "video 1/1 (frame 390/710) c:\\\\ 2\\data\\IMG_4434.MP4: 640x640 2 persons, 635.2ms\n",
      "video 1/1 (frame 391/710) c:\\\\ 2\\data\\IMG_4434.MP4: 640x640 2 persons, 763.7ms\n",
      "video 1/1 (frame 392/710) c:\\\\ 2\\data\\IMG_4434.MP4: 640x640 1 person, 1099.1ms\n",
      "video 1/1 (frame 393/710) c:\\\\ 2\\data\\IMG_4434.MP4: 640x640 1 person, 281.1ms\n",
      "video 1/1 (frame 394/710) c:\\\\ 2\\data\\IMG_4434.MP4: 640x640 1 person, 286.4ms\n",
      "video 1/1 (frame 395/710) c:\\\\ 2\\data\\IMG_4434.MP4: 640x640 1 person, 284.8ms\n",
      "video 1/1 (frame 396/710) c:\\\\ 2\\data\\IMG_4434.MP4: 640x640 1 person, 315.1ms\n",
      "video 1/1 (frame 397/710) c:\\\\ 2\\data\\IMG_4434.MP4: 640x640 1 person, 284.8ms\n",
      "video 1/1 (frame 398/710) c:\\\\ 2\\data\\IMG_4434.MP4: 640x640 1 person, 325.0ms\n",
      "video 1/1 (frame 399/710) c:\\\\ 2\\data\\IMG_4434.MP4: 640x640 1 person, 323.3ms\n",
      "video 1/1 (frame 400/710) c:\\\\ 2\\data\\IMG_4434.MP4: 640x640 1 person, 317.4ms\n",
      "video 1/1 (frame 401/710) c:\\\\ 2\\data\\IMG_4434.MP4: 640x640 1 person, 437.6ms\n",
      "video 1/1 (frame 402/710) c:\\\\ 2\\data\\IMG_4434.MP4: 640x640 1 person, 379.2ms\n",
      "video 1/1 (frame 403/710) c:\\\\ 2\\data\\IMG_4434.MP4: 640x640 1 person, 403.3ms\n",
      "video 1/1 (frame 404/710) c:\\\\ 2\\data\\IMG_4434.MP4: 640x640 2 persons, 357.4ms\n",
      "video 1/1 (frame 405/710) c:\\\\ 2\\data\\IMG_4434.MP4: 640x640 1 person, 264.2ms\n",
      "video 1/1 (frame 406/710) c:\\\\ 2\\data\\IMG_4434.MP4: 640x640 1 person, 1 skis, 296.5ms\n",
      "video 1/1 (frame 407/710) c:\\\\ 2\\data\\IMG_4434.MP4: 640x640 2 persons, 1 skis, 548.1ms\n",
      "video 1/1 (frame 408/710) c:\\\\ 2\\data\\IMG_4434.MP4: 640x640 2 persons, 1 skis, 323.3ms\n",
      "video 1/1 (frame 409/710) c:\\\\ 2\\data\\IMG_4434.MP4: 640x640 2 persons, 1 skis, 345.3ms\n",
      "video 1/1 (frame 410/710) c:\\\\ 2\\data\\IMG_4434.MP4: 640x640 2 persons, 1 skis, 304.8ms\n",
      "video 1/1 (frame 411/710) c:\\\\ 2\\data\\IMG_4434.MP4: 640x640 3 persons, 1 skis, 332.8ms\n",
      "video 1/1 (frame 412/710) c:\\\\ 2\\data\\IMG_4434.MP4: 640x640 2 persons, 1 skis, 334.3ms\n",
      "video 1/1 (frame 413/710) c:\\\\ 2\\data\\IMG_4434.MP4: 640x640 1 person, 1 skis, 332.7ms\n",
      "video 1/1 (frame 414/710) c:\\\\ 2\\data\\IMG_4434.MP4: 640x640 2 persons, 1 skis, 386.6ms\n",
      "video 1/1 (frame 415/710) c:\\\\ 2\\data\\IMG_4434.MP4: 640x640 2 persons, 1 skis, 283.1ms\n",
      "video 1/1 (frame 416/710) c:\\\\ 2\\data\\IMG_4434.MP4: 640x640 2 persons, 1 skis, 282.1ms\n",
      "video 1/1 (frame 417/710) c:\\\\ 2\\data\\IMG_4434.MP4: 640x640 2 persons, 1 skis, 258.4ms\n",
      "video 1/1 (frame 418/710) c:\\\\ 2\\data\\IMG_4434.MP4: 640x640 2 persons, 1 skis, 285.2ms\n",
      "video 1/1 (frame 419/710) c:\\\\ 2\\data\\IMG_4434.MP4: 640x640 2 persons, 1 skis, 413.2ms\n",
      "video 1/1 (frame 420/710) c:\\\\ 2\\data\\IMG_4434.MP4: 640x640 1 skis, 472.1ms\n",
      "video 1/1 (frame 421/710) c:\\\\ 2\\data\\IMG_4434.MP4: 640x640 1 skis, 352.0ms\n",
      "video 1/1 (frame 422/710) c:\\\\ 2\\data\\IMG_4434.MP4: 640x640 1 skis, 269.0ms\n",
      "video 1/1 (frame 423/710) c:\\\\ 2\\data\\IMG_4434.MP4: 640x640 1 skis, 274.0ms\n",
      "video 1/1 (frame 424/710) c:\\\\ 2\\data\\IMG_4434.MP4: 640x640 1 person, 1 skis, 412.0ms\n",
      "video 1/1 (frame 425/710) c:\\\\ 2\\data\\IMG_4434.MP4: 640x640 1 person, 1 skis, 627.1ms\n",
      "video 1/1 (frame 426/710) c:\\\\ 2\\data\\IMG_4434.MP4: 640x640 1 person, 1 skis, 356.6ms\n",
      "video 1/1 (frame 427/710) c:\\\\ 2\\data\\IMG_4434.MP4: 640x640 1 skis, 365.7ms\n",
      "video 1/1 (frame 428/710) c:\\\\ 2\\data\\IMG_4434.MP4: 640x640 7 persons, 2 skiss, 641.0ms\n",
      "video 1/1 (frame 429/710) c:\\\\ 2\\data\\IMG_4434.MP4: 640x640 1 person, 325.8ms\n",
      "video 1/1 (frame 430/710) c:\\\\ 2\\data\\IMG_4434.MP4: 640x640 1 person, 1 skis, 337.1ms\n",
      "video 1/1 (frame 431/710) c:\\\\ 2\\data\\IMG_4434.MP4: 640x640 2 persons, 1 skis, 332.8ms\n",
      "video 1/1 (frame 432/710) c:\\\\ 2\\data\\IMG_4434.MP4: 640x640 2 persons, 1 skis, 279.3ms\n",
      "video 1/1 (frame 433/710) c:\\\\ 2\\data\\IMG_4434.MP4: 640x640 1 person, 1 skis, 257.2ms\n",
      "video 1/1 (frame 434/710) c:\\\\ 2\\data\\IMG_4434.MP4: 640x640 1 person, 1 skis, 340.6ms\n",
      "video 1/1 (frame 435/710) c:\\\\ 2\\data\\IMG_4434.MP4: 640x640 2 persons, 1 skis, 326.3ms\n",
      "video 1/1 (frame 436/710) c:\\\\ 2\\data\\IMG_4434.MP4: 640x640 3 persons, 1 skis, 345.4ms\n",
      "video 1/1 (frame 437/710) c:\\\\ 2\\data\\IMG_4434.MP4: 640x640 3 persons, 1 skis, 267.1ms\n",
      "video 1/1 (frame 438/710) c:\\\\ 2\\data\\IMG_4434.MP4: 640x640 2 persons, 1 skis, 270.3ms\n",
      "video 1/1 (frame 439/710) c:\\\\ 2\\data\\IMG_4434.MP4: 640x640 2 persons, 1 skis, 330.0ms\n",
      "video 1/1 (frame 440/710) c:\\\\ 2\\data\\IMG_4434.MP4: 640x640 3 persons, 2 skiss, 303.3ms\n",
      "video 1/1 (frame 441/710) c:\\\\ 2\\data\\IMG_4434.MP4: 640x640 3 persons, 2 skiss, 267.7ms\n",
      "video 1/1 (frame 442/710) c:\\\\ 2\\data\\IMG_4434.MP4: 640x640 3 persons, 2 skiss, 331.6ms\n",
      "video 1/1 (frame 443/710) c:\\\\ 2\\data\\IMG_4434.MP4: 640x640 2 persons, 2 skiss, 455.2ms\n",
      "video 1/1 (frame 444/710) c:\\\\ 2\\data\\IMG_4434.MP4: 640x640 1 person, 1 skis, 309.9ms\n",
      "video 1/1 (frame 445/710) c:\\\\ 2\\data\\IMG_4434.MP4: 640x640 2 persons, 1 skis, 321.3ms\n",
      "video 1/1 (frame 446/710) c:\\\\ 2\\data\\IMG_4434.MP4: 640x640 2 persons, 1 skis, 380.0ms\n",
      "video 1/1 (frame 447/710) c:\\\\ 2\\data\\IMG_4434.MP4: 640x640 3 persons, 345.7ms\n",
      "video 1/1 (frame 448/710) c:\\\\ 2\\data\\IMG_4434.MP4: 640x640 3 persons, 285.9ms\n",
      "video 1/1 (frame 449/710) c:\\\\ 2\\data\\IMG_4434.MP4: 640x640 3 persons, 284.1ms\n",
      "video 1/1 (frame 450/710) c:\\\\ 2\\data\\IMG_4434.MP4: 640x640 4 persons, 335.1ms\n",
      "video 1/1 (frame 451/710) c:\\\\ 2\\data\\IMG_4434.MP4: 640x640 4 persons, 458.2ms\n",
      "video 1/1 (frame 452/710) c:\\\\ 2\\data\\IMG_4434.MP4: 640x640 4 persons, 321.0ms\n",
      "video 1/1 (frame 453/710) c:\\\\ 2\\data\\IMG_4434.MP4: 640x640 3 persons, 286.4ms\n",
      "video 1/1 (frame 454/710) c:\\\\ 2\\data\\IMG_4434.MP4: 640x640 3 persons, 284.7ms\n",
      "video 1/1 (frame 455/710) c:\\\\ 2\\data\\IMG_4434.MP4: 640x640 3 persons, 310.0ms\n",
      "video 1/1 (frame 456/710) c:\\\\ 2\\data\\IMG_4434.MP4: 640x640 3 persons, 310.3ms\n",
      "video 1/1 (frame 457/710) c:\\\\ 2\\data\\IMG_4434.MP4: 640x640 3 persons, 266.0ms\n",
      "video 1/1 (frame 458/710) c:\\\\ 2\\data\\IMG_4434.MP4: 640x640 3 persons, 345.4ms\n",
      "video 1/1 (frame 459/710) c:\\\\ 2\\data\\IMG_4434.MP4: 640x640 3 persons, 332.9ms\n",
      "video 1/1 (frame 460/710) c:\\\\ 2\\data\\IMG_4434.MP4: 640x640 2 persons, 282.4ms\n",
      "video 1/1 (frame 461/710) c:\\\\ 2\\data\\IMG_4434.MP4: 640x640 2 persons, 411.0ms\n",
      "video 1/1 (frame 462/710) c:\\\\ 2\\data\\IMG_4434.MP4: 640x640 3 persons, 292.8ms\n",
      "video 1/1 (frame 463/710) c:\\\\ 2\\data\\IMG_4434.MP4: 640x640 3 persons, 427.9ms\n",
      "video 1/1 (frame 464/710) c:\\\\ 2\\data\\IMG_4434.MP4: 640x640 3 persons, 272.4ms\n",
      "video 1/1 (frame 465/710) c:\\\\ 2\\data\\IMG_4434.MP4: 640x640 2 persons, 290.1ms\n",
      "video 1/1 (frame 466/710) c:\\\\ 2\\data\\IMG_4434.MP4: 640x640 2 persons, 301.6ms\n",
      "video 1/1 (frame 467/710) c:\\\\ 2\\data\\IMG_4434.MP4: 640x640 2 persons, 271.6ms\n",
      "video 1/1 (frame 468/710) c:\\\\ 2\\data\\IMG_4434.MP4: 640x640 2 persons, 512.4ms\n",
      "video 1/1 (frame 469/710) c:\\\\ 2\\data\\IMG_4434.MP4: 640x640 2 persons, 282.3ms\n",
      "video 1/1 (frame 470/710) c:\\\\ 2\\data\\IMG_4434.MP4: 640x640 2 persons, 535.2ms\n",
      "video 1/1 (frame 471/710) c:\\\\ 2\\data\\IMG_4434.MP4: 640x640 2 persons, 263.3ms\n",
      "video 1/1 (frame 472/710) c:\\\\ 2\\data\\IMG_4434.MP4: 640x640 2 persons, 539.8ms\n",
      "video 1/1 (frame 473/710) c:\\\\ 2\\data\\IMG_4434.MP4: 640x640 2 persons, 340.4ms\n",
      "video 1/1 (frame 474/710) c:\\\\ 2\\data\\IMG_4434.MP4: 640x640 2 persons, 919.2ms\n",
      "video 1/1 (frame 475/710) c:\\\\ 2\\data\\IMG_4434.MP4: 640x640 2 persons, 855.9ms\n",
      "video 1/1 (frame 476/710) c:\\\\ 2\\data\\IMG_4434.MP4: 640x640 2 persons, 604.7ms\n",
      "video 1/1 (frame 477/710) c:\\\\ 2\\data\\IMG_4434.MP4: 640x640 2 persons, 616.3ms\n",
      "video 1/1 (frame 478/710) c:\\\\ 2\\data\\IMG_4434.MP4: 640x640 2 persons, 444.4ms\n",
      "video 1/1 (frame 479/710) c:\\\\ 2\\data\\IMG_4434.MP4: 640x640 2 persons, 432.8ms\n",
      "video 1/1 (frame 480/710) c:\\\\ 2\\data\\IMG_4434.MP4: 640x640 2 persons, 904.3ms\n",
      "video 1/1 (frame 481/710) c:\\\\ 2\\data\\IMG_4434.MP4: 640x640 2 persons, 1102.5ms\n",
      "video 1/1 (frame 482/710) c:\\\\ 2\\data\\IMG_4434.MP4: 640x640 2 persons, 721.5ms\n",
      "video 1/1 (frame 483/710) c:\\\\ 2\\data\\IMG_4434.MP4: 640x640 2 persons, 682.7ms\n",
      "video 1/1 (frame 484/710) c:\\\\ 2\\data\\IMG_4434.MP4: 640x640 2 persons, 2328.8ms\n",
      "video 1/1 (frame 485/710) c:\\\\ 2\\data\\IMG_4434.MP4: 640x640 2 persons, 1533.7ms\n",
      "video 1/1 (frame 486/710) c:\\\\ 2\\data\\IMG_4434.MP4: 640x640 2 persons, 1400.6ms\n",
      "video 1/1 (frame 487/710) c:\\\\ 2\\data\\IMG_4434.MP4: 640x640 2 persons, 408.8ms\n",
      "video 1/1 (frame 488/710) c:\\\\ 2\\data\\IMG_4434.MP4: 640x640 2 persons, 685.1ms\n",
      "video 1/1 (frame 489/710) c:\\\\ 2\\data\\IMG_4434.MP4: 640x640 2 persons, 504.9ms\n",
      "video 1/1 (frame 490/710) c:\\\\ 2\\data\\IMG_4434.MP4: 640x640 2 persons, 494.2ms\n",
      "video 1/1 (frame 491/710) c:\\\\ 2\\data\\IMG_4434.MP4: 640x640 2 persons, 356.1ms\n",
      "video 1/1 (frame 492/710) c:\\\\ 2\\data\\IMG_4434.MP4: 640x640 2 persons, 232.1ms\n",
      "video 1/1 (frame 493/710) c:\\\\ 2\\data\\IMG_4434.MP4: 640x640 2 persons, 270.0ms\n",
      "video 1/1 (frame 494/710) c:\\\\ 2\\data\\IMG_4434.MP4: 640x640 2 persons, 266.0ms\n",
      "video 1/1 (frame 495/710) c:\\\\ 2\\data\\IMG_4434.MP4: 640x640 2 persons, 340.2ms\n",
      "video 1/1 (frame 496/710) c:\\\\ 2\\data\\IMG_4434.MP4: 640x640 2 persons, 354.6ms\n",
      "video 1/1 (frame 497/710) c:\\\\ 2\\data\\IMG_4434.MP4: 640x640 2 persons, 331.9ms\n",
      "video 1/1 (frame 498/710) c:\\\\ 2\\data\\IMG_4434.MP4: 640x640 2 persons, 333.1ms\n",
      "video 1/1 (frame 499/710) c:\\\\ 2\\data\\IMG_4434.MP4: 640x640 3 persons, 287.5ms\n",
      "video 1/1 (frame 500/710) c:\\\\ 2\\data\\IMG_4434.MP4: 640x640 3 persons, 269.7ms\n",
      "video 1/1 (frame 501/710) c:\\\\ 2\\data\\IMG_4434.MP4: 640x640 2 persons, 343.7ms\n",
      "video 1/1 (frame 502/710) c:\\\\ 2\\data\\IMG_4434.MP4: 640x640 2 persons, 308.3ms\n",
      "video 1/1 (frame 503/710) c:\\\\ 2\\data\\IMG_4434.MP4: 640x640 2 persons, 300.6ms\n",
      "video 1/1 (frame 504/710) c:\\\\ 2\\data\\IMG_4434.MP4: 640x640 5 persons, 1 skis, 259.0ms\n",
      "video 1/1 (frame 505/710) c:\\\\ 2\\data\\IMG_4434.MP4: 640x640 4 persons, 293.4ms\n",
      "video 1/1 (frame 506/710) c:\\\\ 2\\data\\IMG_4434.MP4: 640x640 4 persons, 275.2ms\n",
      "video 1/1 (frame 507/710) c:\\\\ 2\\data\\IMG_4434.MP4: 640x640 1 person, 283.1ms\n",
      "video 1/1 (frame 508/710) c:\\\\ 2\\data\\IMG_4434.MP4: 640x640 1 person, 481.6ms\n",
      "video 1/1 (frame 509/710) c:\\\\ 2\\data\\IMG_4434.MP4: 640x640 2 persons, 283.7ms\n",
      "video 1/1 (frame 510/710) c:\\\\ 2\\data\\IMG_4434.MP4: 640x640 3 persons, 280.2ms\n",
      "video 1/1 (frame 511/710) c:\\\\ 2\\data\\IMG_4434.MP4: 640x640 1 person, 280.6ms\n",
      "video 1/1 (frame 512/710) c:\\\\ 2\\data\\IMG_4434.MP4: 640x640 6 persons, 379.7ms\n",
      "video 1/1 (frame 513/710) c:\\\\ 2\\data\\IMG_4434.MP4: 640x640 1 person, 255.5ms\n",
      "video 1/1 (frame 514/710) c:\\\\ 2\\data\\IMG_4434.MP4: 640x640 1 person, 296.4ms\n",
      "video 1/1 (frame 515/710) c:\\\\ 2\\data\\IMG_4434.MP4: 640x640 1 person, 326.1ms\n",
      "video 1/1 (frame 516/710) c:\\\\ 2\\data\\IMG_4434.MP4: 640x640 1 person, 406.7ms\n",
      "video 1/1 (frame 517/710) c:\\\\ 2\\data\\IMG_4434.MP4: 640x640 1 person, 265.0ms\n",
      "video 1/1 (frame 518/710) c:\\\\ 2\\data\\IMG_4434.MP4: 640x640 1 person, 288.2ms\n",
      "video 1/1 (frame 519/710) c:\\\\ 2\\data\\IMG_4434.MP4: 640x640 1 person, 314.0ms\n",
      "video 1/1 (frame 520/710) c:\\\\ 2\\data\\IMG_4434.MP4: 640x640 1 person, 285.3ms\n",
      "video 1/1 (frame 521/710) c:\\\\ 2\\data\\IMG_4434.MP4: 640x640 1 person, 250.3ms\n",
      "video 1/1 (frame 522/710) c:\\\\ 2\\data\\IMG_4434.MP4: 640x640 1 person, 266.4ms\n",
      "video 1/1 (frame 523/710) c:\\\\ 2\\data\\IMG_4434.MP4: 640x640 1 person, 484.4ms\n",
      "video 1/1 (frame 524/710) c:\\\\ 2\\data\\IMG_4434.MP4: 640x640 2 persons, 293.2ms\n",
      "video 1/1 (frame 525/710) c:\\\\ 2\\data\\IMG_4434.MP4: 640x640 4 persons, 339.3ms\n",
      "video 1/1 (frame 526/710) c:\\\\ 2\\data\\IMG_4434.MP4: 640x640 2 persons, 300.9ms\n",
      "video 1/1 (frame 527/710) c:\\\\ 2\\data\\IMG_4434.MP4: 640x640 2 persons, 362.5ms\n",
      "video 1/1 (frame 528/710) c:\\\\ 2\\data\\IMG_4434.MP4: 640x640 2 persons, 321.4ms\n",
      "video 1/1 (frame 529/710) c:\\\\ 2\\data\\IMG_4434.MP4: 640x640 1 person, 302.1ms\n",
      "video 1/1 (frame 530/710) c:\\\\ 2\\data\\IMG_4434.MP4: 640x640 1 person, 338.2ms\n",
      "video 1/1 (frame 531/710) c:\\\\ 2\\data\\IMG_4434.MP4: 640x640 1 person, 380.7ms\n",
      "video 1/1 (frame 532/710) c:\\\\ 2\\data\\IMG_4434.MP4: 640x640 1 person, 317.9ms\n",
      "video 1/1 (frame 533/710) c:\\\\ 2\\data\\IMG_4434.MP4: 640x640 1 person, 293.6ms\n",
      "video 1/1 (frame 534/710) c:\\\\ 2\\data\\IMG_4434.MP4: 640x640 1 person, 285.0ms\n",
      "video 1/1 (frame 535/710) c:\\\\ 2\\data\\IMG_4434.MP4: 640x640 1 person, 303.1ms\n",
      "video 1/1 (frame 536/710) c:\\\\ 2\\data\\IMG_4434.MP4: 640x640 1 person, 279.6ms\n",
      "video 1/1 (frame 537/710) c:\\\\ 2\\data\\IMG_4434.MP4: 640x640 1 person, 331.3ms\n",
      "video 1/1 (frame 538/710) c:\\\\ 2\\data\\IMG_4434.MP4: 640x640 1 person, 340.3ms\n",
      "video 1/1 (frame 539/710) c:\\\\ 2\\data\\IMG_4434.MP4: 640x640 1 person, 236.4ms\n",
      "video 1/1 (frame 540/710) c:\\\\ 2\\data\\IMG_4434.MP4: 640x640 1 person, 268.9ms\n",
      "video 1/1 (frame 541/710) c:\\\\ 2\\data\\IMG_4434.MP4: 640x640 1 person, 385.1ms\n",
      "video 1/1 (frame 542/710) c:\\\\ 2\\data\\IMG_4434.MP4: 640x640 1 person, 261.2ms\n",
      "video 1/1 (frame 543/710) c:\\\\ 2\\data\\IMG_4434.MP4: 640x640 1 person, 355.1ms\n",
      "video 1/1 (frame 544/710) c:\\\\ 2\\data\\IMG_4434.MP4: 640x640 1 person, 271.5ms\n",
      "video 1/1 (frame 545/710) c:\\\\ 2\\data\\IMG_4434.MP4: 640x640 1 person, 308.2ms\n",
      "video 1/1 (frame 546/710) c:\\\\ 2\\data\\IMG_4434.MP4: 640x640 1 person, 410.1ms\n",
      "video 1/1 (frame 547/710) c:\\\\ 2\\data\\IMG_4434.MP4: 640x640 1 person, 252.6ms\n",
      "video 1/1 (frame 548/710) c:\\\\ 2\\data\\IMG_4434.MP4: 640x640 1 person, 277.8ms\n",
      "video 1/1 (frame 549/710) c:\\\\ 2\\data\\IMG_4434.MP4: 640x640 1 person, 270.7ms\n",
      "video 1/1 (frame 550/710) c:\\\\ 2\\data\\IMG_4434.MP4: 640x640 1 person, 263.1ms\n",
      "video 1/1 (frame 551/710) c:\\\\ 2\\data\\IMG_4434.MP4: 640x640 1 person, 258.3ms\n",
      "video 1/1 (frame 552/710) c:\\\\ 2\\data\\IMG_4434.MP4: 640x640 1 person, 246.9ms\n",
      "video 1/1 (frame 553/710) c:\\\\ 2\\data\\IMG_4434.MP4: 640x640 1 person, 456.0ms\n",
      "video 1/1 (frame 554/710) c:\\\\ 2\\data\\IMG_4434.MP4: 640x640 1 person, 323.6ms\n",
      "video 1/1 (frame 555/710) c:\\\\ 2\\data\\IMG_4434.MP4: 640x640 1 person, 340.1ms\n",
      "video 1/1 (frame 556/710) c:\\\\ 2\\data\\IMG_4434.MP4: 640x640 1 person, 269.6ms\n",
      "video 1/1 (frame 557/710) c:\\\\ 2\\data\\IMG_4434.MP4: 640x640 1 person, 347.0ms\n",
      "video 1/1 (frame 558/710) c:\\\\ 2\\data\\IMG_4434.MP4: 640x640 1 person, 308.9ms\n",
      "video 1/1 (frame 559/710) c:\\\\ 2\\data\\IMG_4434.MP4: 640x640 1 person, 275.3ms\n",
      "video 1/1 (frame 560/710) c:\\\\ 2\\data\\IMG_4434.MP4: 640x640 1 person, 269.1ms\n",
      "video 1/1 (frame 561/710) c:\\\\ 2\\data\\IMG_4434.MP4: 640x640 1 person, 295.8ms\n",
      "video 1/1 (frame 562/710) c:\\\\ 2\\data\\IMG_4434.MP4: 640x640 1 person, 351.6ms\n",
      "video 1/1 (frame 563/710) c:\\\\ 2\\data\\IMG_4434.MP4: 640x640 1 person, 260.5ms\n",
      "video 1/1 (frame 564/710) c:\\\\ 2\\data\\IMG_4434.MP4: 640x640 1 person, 317.0ms\n",
      "video 1/1 (frame 565/710) c:\\\\ 2\\data\\IMG_4434.MP4: 640x640 1 person, 324.1ms\n",
      "video 1/1 (frame 566/710) c:\\\\ 2\\data\\IMG_4434.MP4: 640x640 1 person, 282.9ms\n",
      "video 1/1 (frame 567/710) c:\\\\ 2\\data\\IMG_4434.MP4: 640x640 1 person, 383.7ms\n",
      "video 1/1 (frame 568/710) c:\\\\ 2\\data\\IMG_4434.MP4: 640x640 1 person, 318.2ms\n",
      "video 1/1 (frame 569/710) c:\\\\ 2\\data\\IMG_4434.MP4: 640x640 1 person, 304.6ms\n",
      "video 1/1 (frame 570/710) c:\\\\ 2\\data\\IMG_4434.MP4: 640x640 1 person, 313.7ms\n",
      "video 1/1 (frame 571/710) c:\\\\ 2\\data\\IMG_4434.MP4: 640x640 1 person, 277.2ms\n",
      "video 1/1 (frame 572/710) c:\\\\ 2\\data\\IMG_4434.MP4: 640x640 1 person, 350.6ms\n",
      "video 1/1 (frame 573/710) c:\\\\ 2\\data\\IMG_4434.MP4: 640x640 1 person, 277.0ms\n",
      "video 1/1 (frame 574/710) c:\\\\ 2\\data\\IMG_4434.MP4: 640x640 1 person, 289.8ms\n",
      "video 1/1 (frame 575/710) c:\\\\ 2\\data\\IMG_4434.MP4: 640x640 1 person, 305.2ms\n",
      "video 1/1 (frame 576/710) c:\\\\ 2\\data\\IMG_4434.MP4: 640x640 1 person, 261.9ms\n",
      "video 1/1 (frame 577/710) c:\\\\ 2\\data\\IMG_4434.MP4: 640x640 1 person, 370.7ms\n",
      "video 1/1 (frame 578/710) c:\\\\ 2\\data\\IMG_4434.MP4: 640x640 1 person, 282.2ms\n",
      "video 1/1 (frame 579/710) c:\\\\ 2\\data\\IMG_4434.MP4: 640x640 1 person, 269.5ms\n",
      "video 1/1 (frame 580/710) c:\\\\ 2\\data\\IMG_4434.MP4: 640x640 1 person, 292.2ms\n",
      "video 1/1 (frame 581/710) c:\\\\ 2\\data\\IMG_4434.MP4: 640x640 1 person, 309.1ms\n",
      "video 1/1 (frame 582/710) c:\\\\ 2\\data\\IMG_4434.MP4: 640x640 1 person, 233.4ms\n",
      "video 1/1 (frame 583/710) c:\\\\ 2\\data\\IMG_4434.MP4: 640x640 1 person, 332.1ms\n",
      "video 1/1 (frame 584/710) c:\\\\ 2\\data\\IMG_4434.MP4: 640x640 1 person, 366.8ms\n",
      "video 1/1 (frame 585/710) c:\\\\ 2\\data\\IMG_4434.MP4: 640x640 1 person, 324.7ms\n",
      "video 1/1 (frame 586/710) c:\\\\ 2\\data\\IMG_4434.MP4: 640x640 1 person, 403.2ms\n",
      "video 1/1 (frame 587/710) c:\\\\ 2\\data\\IMG_4434.MP4: 640x640 1 person, 354.8ms\n",
      "video 1/1 (frame 588/710) c:\\\\ 2\\data\\IMG_4434.MP4: 640x640 1 person, 441.9ms\n",
      "video 1/1 (frame 589/710) c:\\\\ 2\\data\\IMG_4434.MP4: 640x640 1 person, 260.3ms\n",
      "video 1/1 (frame 590/710) c:\\\\ 2\\data\\IMG_4434.MP4: 640x640 1 person, 281.6ms\n",
      "video 1/1 (frame 591/710) c:\\\\ 2\\data\\IMG_4434.MP4: 640x640 1 person, 328.8ms\n",
      "video 1/1 (frame 592/710) c:\\\\ 2\\data\\IMG_4434.MP4: 640x640 1 person, 293.8ms\n",
      "video 1/1 (frame 593/710) c:\\\\ 2\\data\\IMG_4434.MP4: 640x640 1 person, 250.6ms\n",
      "video 1/1 (frame 594/710) c:\\\\ 2\\data\\IMG_4434.MP4: 640x640 1 person, 316.0ms\n",
      "video 1/1 (frame 595/710) c:\\\\ 2\\data\\IMG_4434.MP4: 640x640 1 person, 305.5ms\n",
      "video 1/1 (frame 596/710) c:\\\\ 2\\data\\IMG_4434.MP4: 640x640 1 person, 311.4ms\n",
      "video 1/1 (frame 597/710) c:\\\\ 2\\data\\IMG_4434.MP4: 640x640 1 person, 318.4ms\n",
      "video 1/1 (frame 598/710) c:\\\\ 2\\data\\IMG_4434.MP4: 640x640 1 person, 289.7ms\n",
      "video 1/1 (frame 599/710) c:\\\\ 2\\data\\IMG_4434.MP4: 640x640 1 person, 1285.2ms\n",
      "video 1/1 (frame 600/710) c:\\\\ 2\\data\\IMG_4434.MP4: 640x640 1 person, 710.4ms\n",
      "video 1/1 (frame 601/710) c:\\\\ 2\\data\\IMG_4434.MP4: 640x640 1 person, 274.8ms\n",
      "video 1/1 (frame 602/710) c:\\\\ 2\\data\\IMG_4434.MP4: 640x640 1 person, 252.7ms\n",
      "video 1/1 (frame 603/710) c:\\\\ 2\\data\\IMG_4434.MP4: 640x640 1 person, 250.8ms\n",
      "video 1/1 (frame 604/710) c:\\\\ 2\\data\\IMG_4434.MP4: 640x640 1 person, 289.7ms\n",
      "video 1/1 (frame 605/710) c:\\\\ 2\\data\\IMG_4434.MP4: 640x640 1 person, 289.5ms\n",
      "video 1/1 (frame 606/710) c:\\\\ 2\\data\\IMG_4434.MP4: 640x640 1 person, 341.2ms\n",
      "video 1/1 (frame 607/710) c:\\\\ 2\\data\\IMG_4434.MP4: 640x640 1 person, 287.5ms\n",
      "video 1/1 (frame 608/710) c:\\\\ 2\\data\\IMG_4434.MP4: 640x640 1 person, 415.9ms\n",
      "video 1/1 (frame 609/710) c:\\\\ 2\\data\\IMG_4434.MP4: 640x640 1 person, 246.0ms\n",
      "video 1/1 (frame 610/710) c:\\\\ 2\\data\\IMG_4434.MP4: 640x640 1 person, 258.3ms\n",
      "video 1/1 (frame 611/710) c:\\\\ 2\\data\\IMG_4434.MP4: 640x640 1 person, 254.2ms\n",
      "video 1/1 (frame 612/710) c:\\\\ 2\\data\\IMG_4434.MP4: 640x640 2 persons, 243.9ms\n",
      "video 1/1 (frame 613/710) c:\\\\ 2\\data\\IMG_4434.MP4: 640x640 2 persons, 318.2ms\n",
      "video 1/1 (frame 614/710) c:\\\\ 2\\data\\IMG_4434.MP4: 640x640 2 persons, 443.2ms\n",
      "video 1/1 (frame 615/710) c:\\\\ 2\\data\\IMG_4434.MP4: 640x640 2 persons, 721.6ms\n",
      "video 1/1 (frame 616/710) c:\\\\ 2\\data\\IMG_4434.MP4: 640x640 2 persons, 529.4ms\n",
      "video 1/1 (frame 617/710) c:\\\\ 2\\data\\IMG_4434.MP4: 640x640 2 persons, 660.7ms\n",
      "video 1/1 (frame 618/710) c:\\\\ 2\\data\\IMG_4434.MP4: 640x640 2 persons, 458.1ms\n",
      "video 1/1 (frame 619/710) c:\\\\ 2\\data\\IMG_4434.MP4: 640x640 2 persons, 435.2ms\n",
      "video 1/1 (frame 620/710) c:\\\\ 2\\data\\IMG_4434.MP4: 640x640 2 persons, 862.6ms\n",
      "video 1/1 (frame 621/710) c:\\\\ 2\\data\\IMG_4434.MP4: 640x640 2 persons, 1015.0ms\n",
      "video 1/1 (frame 622/710) c:\\\\ 2\\data\\IMG_4434.MP4: 640x640 2 persons, 578.7ms\n",
      "video 1/1 (frame 623/710) c:\\\\ 2\\data\\IMG_4434.MP4: 640x640 2 persons, 350.8ms\n",
      "video 1/1 (frame 624/710) c:\\\\ 2\\data\\IMG_4434.MP4: 640x640 2 persons, 461.1ms\n",
      "video 1/1 (frame 625/710) c:\\\\ 2\\data\\IMG_4434.MP4: 640x640 2 persons, 361.5ms\n",
      "video 1/1 (frame 626/710) c:\\\\ 2\\data\\IMG_4434.MP4: 640x640 2 persons, 343.9ms\n",
      "video 1/1 (frame 627/710) c:\\\\ 2\\data\\IMG_4434.MP4: 640x640 2 persons, 561.2ms\n",
      "video 1/1 (frame 628/710) c:\\\\ 2\\data\\IMG_4434.MP4: 640x640 2 persons, 392.9ms\n",
      "video 1/1 (frame 629/710) c:\\\\ 2\\data\\IMG_4434.MP4: 640x640 2 persons, 671.4ms\n",
      "video 1/1 (frame 630/710) c:\\\\ 2\\data\\IMG_4434.MP4: 640x640 2 persons, 1185.7ms\n",
      "video 1/1 (frame 631/710) c:\\\\ 2\\data\\IMG_4434.MP4: 640x640 2 persons, 398.0ms\n",
      "video 1/1 (frame 632/710) c:\\\\ 2\\data\\IMG_4434.MP4: 640x640 2 persons, 1571.3ms\n",
      "video 1/1 (frame 633/710) c:\\\\ 2\\data\\IMG_4434.MP4: 640x640 2 persons, 274.4ms\n",
      "video 1/1 (frame 634/710) c:\\\\ 2\\data\\IMG_4434.MP4: 640x640 2 persons, 229.8ms\n",
      "video 1/1 (frame 635/710) c:\\\\ 2\\data\\IMG_4434.MP4: 640x640 2 persons, 203.1ms\n",
      "video 1/1 (frame 636/710) c:\\\\ 2\\data\\IMG_4434.MP4: 640x640 2 persons, 209.9ms\n",
      "video 1/1 (frame 637/710) c:\\\\ 2\\data\\IMG_4434.MP4: 640x640 2 persons, 193.4ms\n",
      "video 1/1 (frame 638/710) c:\\\\ 2\\data\\IMG_4434.MP4: 640x640 2 persons, 207.8ms\n",
      "video 1/1 (frame 639/710) c:\\\\ 2\\data\\IMG_4434.MP4: 640x640 2 persons, 1 skis, 216.0ms\n",
      "video 1/1 (frame 640/710) c:\\\\ 2\\data\\IMG_4434.MP4: 640x640 2 persons, 1 skis, 198.9ms\n",
      "video 1/1 (frame 641/710) c:\\\\ 2\\data\\IMG_4434.MP4: 640x640 2 persons, 1 skis, 163.7ms\n",
      "video 1/1 (frame 642/710) c:\\\\ 2\\data\\IMG_4434.MP4: 640x640 2 persons, 1 skis, 163.4ms\n",
      "video 1/1 (frame 643/710) c:\\\\ 2\\data\\IMG_4434.MP4: 640x640 2 persons, 1 skis, 152.1ms\n",
      "video 1/1 (frame 644/710) c:\\\\ 2\\data\\IMG_4434.MP4: 640x640 2 persons, 1 skis, 172.8ms\n",
      "video 1/1 (frame 645/710) c:\\\\ 2\\data\\IMG_4434.MP4: 640x640 2 persons, 1 skis, 238.7ms\n",
      "video 1/1 (frame 646/710) c:\\\\ 2\\data\\IMG_4434.MP4: 640x640 2 persons, 153.8ms\n",
      "video 1/1 (frame 647/710) c:\\\\ 2\\data\\IMG_4434.MP4: 640x640 2 persons, 165.6ms\n",
      "video 1/1 (frame 648/710) c:\\\\ 2\\data\\IMG_4434.MP4: 640x640 2 persons, 183.7ms\n",
      "video 1/1 (frame 649/710) c:\\\\ 2\\data\\IMG_4434.MP4: 640x640 2 persons, 160.5ms\n",
      "video 1/1 (frame 650/710) c:\\\\ 2\\data\\IMG_4434.MP4: 640x640 2 persons, 154.5ms\n",
      "video 1/1 (frame 651/710) c:\\\\ 2\\data\\IMG_4434.MP4: 640x640 2 persons, 158.1ms\n",
      "video 1/1 (frame 652/710) c:\\\\ 2\\data\\IMG_4434.MP4: 640x640 2 persons, 148.5ms\n",
      "video 1/1 (frame 653/710) c:\\\\ 2\\data\\IMG_4434.MP4: 640x640 2 persons, 145.0ms\n",
      "video 1/1 (frame 654/710) c:\\\\ 2\\data\\IMG_4434.MP4: 640x640 2 persons, 152.4ms\n",
      "video 1/1 (frame 655/710) c:\\\\ 2\\data\\IMG_4434.MP4: 640x640 2 persons, 161.4ms\n",
      "video 1/1 (frame 656/710) c:\\\\ 2\\data\\IMG_4434.MP4: 640x640 2 persons, 155.2ms\n",
      "video 1/1 (frame 657/710) c:\\\\ 2\\data\\IMG_4434.MP4: 640x640 2 persons, 134.6ms\n",
      "video 1/1 (frame 658/710) c:\\\\ 2\\data\\IMG_4434.MP4: 640x640 2 persons, 139.4ms\n",
      "video 1/1 (frame 659/710) c:\\\\ 2\\data\\IMG_4434.MP4: 640x640 2 persons, 133.3ms\n",
      "video 1/1 (frame 660/710) c:\\\\ 2\\data\\IMG_4434.MP4: 640x640 2 persons, 148.6ms\n",
      "video 1/1 (frame 661/710) c:\\\\ 2\\data\\IMG_4434.MP4: 640x640 2 persons, 150.9ms\n",
      "video 1/1 (frame 662/710) c:\\\\ 2\\data\\IMG_4434.MP4: 640x640 1 person, 137.1ms\n",
      "video 1/1 (frame 663/710) c:\\\\ 2\\data\\IMG_4434.MP4: 640x640 1 person, 143.3ms\n",
      "video 1/1 (frame 664/710) c:\\\\ 2\\data\\IMG_4434.MP4: 640x640 1 person, 175.3ms\n",
      "video 1/1 (frame 665/710) c:\\\\ 2\\data\\IMG_4434.MP4: 640x640 1 person, 138.6ms\n",
      "video 1/1 (frame 666/710) c:\\\\ 2\\data\\IMG_4434.MP4: 640x640 1 person, 142.0ms\n",
      "video 1/1 (frame 667/710) c:\\\\ 2\\data\\IMG_4434.MP4: 640x640 1 person, 173.4ms\n",
      "video 1/1 (frame 668/710) c:\\\\ 2\\data\\IMG_4434.MP4: 640x640 1 person, 157.0ms\n",
      "video 1/1 (frame 669/710) c:\\\\ 2\\data\\IMG_4434.MP4: 640x640 1 person, 154.5ms\n",
      "video 1/1 (frame 670/710) c:\\\\ 2\\data\\IMG_4434.MP4: 640x640 1 person, 156.5ms\n",
      "video 1/1 (frame 671/710) c:\\\\ 2\\data\\IMG_4434.MP4: 640x640 1 person, 170.1ms\n",
      "video 1/1 (frame 672/710) c:\\\\ 2\\data\\IMG_4434.MP4: 640x640 1 person, 179.0ms\n",
      "video 1/1 (frame 673/710) c:\\\\ 2\\data\\IMG_4434.MP4: 640x640 1 person, 162.1ms\n",
      "video 1/1 (frame 674/710) c:\\\\ 2\\data\\IMG_4434.MP4: 640x640 1 person, 152.5ms\n",
      "video 1/1 (frame 675/710) c:\\\\ 2\\data\\IMG_4434.MP4: 640x640 1 person, 162.5ms\n",
      "video 1/1 (frame 676/710) c:\\\\ 2\\data\\IMG_4434.MP4: 640x640 1 person, 165.5ms\n",
      "video 1/1 (frame 677/710) c:\\\\ 2\\data\\IMG_4434.MP4: 640x640 1 person, 178.5ms\n",
      "video 1/1 (frame 678/710) c:\\\\ 2\\data\\IMG_4434.MP4: 640x640 1 person, 158.7ms\n",
      "video 1/1 (frame 679/710) c:\\\\ 2\\data\\IMG_4434.MP4: 640x640 1 person, 164.7ms\n",
      "video 1/1 (frame 680/710) c:\\\\ 2\\data\\IMG_4434.MP4: 640x640 1 person, 169.8ms\n",
      "video 1/1 (frame 681/710) c:\\\\ 2\\data\\IMG_4434.MP4: 640x640 1 person, 173.7ms\n",
      "video 1/1 (frame 682/710) c:\\\\ 2\\data\\IMG_4434.MP4: 640x640 1 person, 173.7ms\n",
      "video 1/1 (frame 683/710) c:\\\\ 2\\data\\IMG_4434.MP4: 640x640 1 person, 182.4ms\n",
      "video 1/1 (frame 684/710) c:\\\\ 2\\data\\IMG_4434.MP4: 640x640 1 person, 163.2ms\n",
      "video 1/1 (frame 685/710) c:\\\\ 2\\data\\IMG_4434.MP4: 640x640 1 person, 161.3ms\n",
      "video 1/1 (frame 686/710) c:\\\\ 2\\data\\IMG_4434.MP4: 640x640 1 person, 159.1ms\n",
      "video 1/1 (frame 687/710) c:\\\\ 2\\data\\IMG_4434.MP4: 640x640 1 person, 184.3ms\n",
      "video 1/1 (frame 688/710) c:\\\\ 2\\data\\IMG_4434.MP4: 640x640 1 person, 198.2ms\n",
      "video 1/1 (frame 689/710) c:\\\\ 2\\data\\IMG_4434.MP4: 640x640 1 person, 152.7ms\n",
      "video 1/1 (frame 690/710) c:\\\\ 2\\data\\IMG_4434.MP4: 640x640 1 person, 135.8ms\n",
      "video 1/1 (frame 691/710) c:\\\\ 2\\data\\IMG_4434.MP4: 640x640 1 person, 145.3ms\n",
      "video 1/1 (frame 692/710) c:\\\\ 2\\data\\IMG_4434.MP4: 640x640 1 person, 134.4ms\n",
      "video 1/1 (frame 693/710) c:\\\\ 2\\data\\IMG_4434.MP4: 640x640 1 person, 141.5ms\n",
      "video 1/1 (frame 694/710) c:\\\\ 2\\data\\IMG_4434.MP4: 640x640 1 person, 198.4ms\n",
      "video 1/1 (frame 695/710) c:\\\\ 2\\data\\IMG_4434.MP4: 640x640 1 person, 139.2ms\n",
      "video 1/1 (frame 696/710) c:\\\\ 2\\data\\IMG_4434.MP4: 640x640 1 person, 278.0ms\n",
      "video 1/1 (frame 697/710) c:\\\\ 2\\data\\IMG_4434.MP4: 640x640 1 person, 143.6ms\n",
      "video 1/1 (frame 698/710) c:\\\\ 2\\data\\IMG_4434.MP4: 640x640 1 person, 136.1ms\n",
      "video 1/1 (frame 699/710) c:\\\\ 2\\data\\IMG_4434.MP4: 640x640 1 person, 139.8ms\n",
      "video 1/1 (frame 700/710) c:\\\\ 2\\data\\IMG_4434.MP4: 640x640 1 person, 148.4ms\n",
      "video 1/1 (frame 701/710) c:\\\\ 2\\data\\IMG_4434.MP4: 640x640 1 person, 153.7ms\n",
      "video 1/1 (frame 702/710) c:\\\\ 2\\data\\IMG_4434.MP4: 640x640 1 person, 151.9ms\n",
      "video 1/1 (frame 703/710) c:\\\\ 2\\data\\IMG_4434.MP4: 640x640 1 person, 134.2ms\n",
      "video 1/1 (frame 704/710) c:\\\\ 2\\data\\IMG_4434.MP4: 640x640 1 person, 181.5ms\n",
      "video 1/1 (frame 705/710) c:\\\\ 2\\data\\IMG_4434.MP4: 640x640 1 person, 213.3ms\n",
      "video 1/1 (frame 706/710) c:\\\\ 2\\data\\IMG_4434.MP4: 640x640 1 person, 167.0ms\n",
      "video 1/1 (frame 707/710) c:\\\\ 2\\data\\IMG_4434.MP4: 640x640 1 person, 177.4ms\n",
      "video 1/1 (frame 708/710) c:\\\\ 2\\data\\IMG_4434.MP4: 640x640 1 person, 149.0ms\n",
      "video 1/1 (frame 709/710) c:\\\\ 2\\data\\IMG_4434.MP4: 640x640 1 person, 151.2ms\n",
      "video 1/1 (frame 710/710) c:\\\\ 2\\data\\IMG_4434.MP4: 640x640 1 person, 166.7ms\n",
      "Speed: 11.1ms preprocess, 343.4ms inference, 22.1ms postprocess per image at shape (1, 3, 640, 640)\n"
     ]
    }
   ],
   "source": [
    "from ultralytics import YOLO\n",
    "\n",
    "# Load an official or custom model\n",
    "model = YOLO(\"yolo11n.pt\")  # Load an official Detect model\n",
    "model = YOLO(\"yolo11n-seg.pt\")  # Load an official Segment model\n",
    "#model = YOLO(\"yolo11n-pose.pt\")  # Load an official Pose model\n",
    "#model = YOLO(\"path/to/best.pt\")  # Load a custom trained model\n",
    "\n",
    "# Perform tracking with the model\n",
    "\n",
    "#results = model.track(\"IMG_4434.MP4\", show=True, tracker=\"bytetrack.yaml\")  # with ByteTrack\n",
    "results = model.track(\"IMG_4434.MP4\", show=True, tracker=\"botsort.yaml\") "
   ]
  },
  {
   "cell_type": "code",
   "execution_count": 41,
   "id": "cb9ba547",
   "metadata": {},
   "outputs": [
    {
     "ename": "SyntaxError",
     "evalue": "'\u001b[31m\u001b[1mwith_reid\u001b[0m' is not a valid YOLO argument. \n\n    Arguments received: ['yolo', '--f=c:\\\\Users\\\\Dell\\\\AppData\\\\Roaming\\\\jupyter\\\\runtime\\\\kernel-v37072a0ff89c9768325de3605446cde8f22b9b584.json']. Ultralytics 'yolo' commands use the following syntax:\n\n        yolo TASK MODE ARGS\n\n        Where   TASK (optional) is one of ['segment', 'detect', 'classify', 'obb', 'pose']\n                MODE (required) is one of ['track', 'train', 'export', 'val', 'benchmark', 'predict']\n                ARGS (optional) are any number of custom 'arg=value' pairs like 'imgsz=320' that override defaults.\n                    See all ARGS at https://docs.ultralytics.com/usage/cfg or with 'yolo cfg'\n\n    1. Train a detection model for 10 epochs with an initial learning_rate of 0.01\n        yolo train data=coco8.yaml model=yolo11n.pt epochs=10 lr0=0.01\n\n    2. Predict a YouTube video using a pretrained segmentation model at image size 320:\n        yolo predict model=yolo11n-seg.pt source='https://youtu.be/LNwODJXcvt4' imgsz=320\n\n    3. Val a pretrained detection model at batch-size 1 and image size 640:\n        yolo val model=yolo11n.pt data=coco8.yaml batch=1 imgsz=640\n\n    4. Export a YOLO11n classification model to ONNX format at image size 224 by 128 (no TASK required)\n        yolo export model=yolo11n-cls.pt format=onnx imgsz=224,128\n\n    5. Ultralytics solutions usage\n        yolo solutions count or in ['crop', 'blur', 'workout', 'heatmap', 'isegment', 'visioneye', 'speed', 'queue', 'analytics', 'inference', 'trackzone'] source=\"path/to/video.mp4\"\n\n    6. Run special commands:\n        yolo help\n        yolo checks\n        yolo version\n        yolo settings\n        yolo copy-cfg\n        yolo cfg\n        yolo solutions help\n\n    Docs: https://docs.ultralytics.com\n    Solutions: https://docs.ultralytics.com/solutions/\n    Community: https://community.ultralytics.com\n    GitHub: https://github.com/ultralytics/ultralytics\n     (<string>)",
     "output_type": "error",
     "traceback": [
      "Traceback \u001b[36m(most recent call last)\u001b[39m:\n",
      "  File \u001b[92m~\\AppData\\Roaming\\Python\\Python313\\site-packages\\IPython\\core\\interactiveshell.py:3670\u001b[39m in \u001b[95mrun_code\u001b[39m\n    exec(code_obj, self.user_global_ns, self.user_ns)\n",
      "  Cell \u001b[92mIn[41]\u001b[39m\u001b[92m, line 19\u001b[39m\n    results = model.track(frame, persist=True, tracker = 'bytetrack.yaml' , with_reid=True)\n",
      "  File \u001b[92mc:\\Users\\Dell\\AppData\\Local\\Programs\\Python\\Python313\\Lib\\site-packages\\ultralytics\\engine\\model.py:599\u001b[39m in \u001b[95mtrack\u001b[39m\n    return self.predict(source=source, stream=stream, **kwargs)\n",
      "  File \u001b[92mc:\\Users\\Dell\\AppData\\Local\\Programs\\Python\\Python313\\Lib\\site-packages\\ultralytics\\engine\\model.py:547\u001b[39m in \u001b[95mpredict\u001b[39m\n    self.predictor = (predictor or self._smart_load(\"predictor\"))(overrides=args, _callbacks=self.callbacks)\n",
      "  File \u001b[92mc:\\Users\\Dell\\AppData\\Local\\Programs\\Python\\Python313\\Lib\\site-packages\\ultralytics\\engine\\predictor.py:123\u001b[39m in \u001b[95m__init__\u001b[39m\n    self.args = get_cfg(cfg, overrides)\n",
      "  File \u001b[92mc:\\Users\\Dell\\AppData\\Local\\Programs\\Python\\Python313\\Lib\\site-packages\\ultralytics\\cfg\\__init__.py:305\u001b[39m in \u001b[95mget_cfg\u001b[39m\n    check_dict_alignment(cfg, overrides)\n",
      "\u001b[36m  \u001b[39m\u001b[36mFile \u001b[39m\u001b[32mc:\\Users\\Dell\\AppData\\Local\\Programs\\Python\\Python313\\Lib\\site-packages\\ultralytics\\cfg\\__init__.py:498\u001b[39m\u001b[36m in \u001b[39m\u001b[35mcheck_dict_alignment\u001b[39m\n\u001b[31m    \u001b[39m\u001b[31mraise SyntaxError(string + CLI_HELP_MSG) from e\u001b[39m\n",
      "  \u001b[36mFile \u001b[39m\u001b[32m<string>\u001b[39m\n\u001b[31mSyntaxError\u001b[39m\u001b[31m:\u001b[39m '\u001b[31m\u001b[1mwith_reid\u001b[0m' is not a valid YOLO argument. \n\n    Arguments received: ['yolo', '--f=c:\\\\Users\\\\Dell\\\\AppData\\\\Roaming\\\\jupyter\\\\runtime\\\\kernel-v37072a0ff89c9768325de3605446cde8f22b9b584.json']. Ultralytics 'yolo' commands use the following syntax:\n\n        yolo TASK MODE ARGS\n\n        Where   TASK (optional) is one of ['segment', 'detect', 'classify', 'obb', 'pose']\n                MODE (required) is one of ['track', 'train', 'export', 'val', 'benchmark', 'predict']\n                ARGS (optional) are any number of custom 'arg=value' pairs like 'imgsz=320' that override defaults.\n                    See all ARGS at https://docs.ultralytics.com/usage/cfg or with 'yolo cfg'\n\n    1. Train a detection model for 10 epochs with an initial learning_rate of 0.01\n        yolo train data=coco8.yaml model=yolo11n.pt epochs=10 lr0=0.01\n\n    2. Predict a YouTube video using a pretrained segmentation model at image size 320:\n        yolo predict model=yolo11n-seg.pt source='https://youtu.be/LNwODJXcvt4' imgsz=320\n\n    3. Val a pretrained detection model at batch-size 1 and image size 640:\n        yolo val model=yolo11n.pt data=coco8.yaml batch=1 imgsz=640\n\n    4. Export a YOLO11n classification model to ONNX format at image size 224 by 128 (no TASK required)\n        yolo export model=yolo11n-cls.pt format=onnx imgsz=224,128\n\n    5. Ultralytics solutions usage\n        yolo solutions count or in ['crop', 'blur', 'workout', 'heatmap', 'isegment', 'visioneye', 'speed', 'queue', 'analytics', 'inference', 'trackzone'] source=\"path/to/video.mp4\"\n\n    6. Run special commands:\n        yolo help\n        yolo checks\n        yolo version\n        yolo settings\n        yolo copy-cfg\n        yolo cfg\n        yolo solutions help\n\n    Docs: https://docs.ultralytics.com\n    Solutions: https://docs.ultralytics.com/solutions/\n    Community: https://community.ultralytics.com\n    GitHub: https://github.com/ultralytics/ultralytics\n    \n"
     ]
    }
   ],
   "source": [
    "import cv2\n",
    "\n",
    "from ultralytics import YOLO\n",
    "\n",
    "# Load the YOLO11 model\n",
    "model = YOLO(\"yolo11n.pt\")\n",
    "\n",
    "# Open the video file\n",
    "video_path = \"Video_go_cart.mp4\"\n",
    "cap = cv2.VideoCapture(video_path)\n",
    "\n",
    "# Loop through the video frames\n",
    "while cap.isOpened():\n",
    "    # Read a frame from the video\n",
    "    success, frame = cap.read()\n",
    "\n",
    "    if success:\n",
    "        # Run YOLO11 tracking on the frame, persisting tracks between frames\n",
    "        results = model.track(frame, persist=True, tracker = 'bytetrack.yaml' , with_reid=True)\n",
    "\n",
    "        # Visualize the results on the frame\n",
    "        annotated_frame = results[0].plot()\n",
    "\n",
    "        # Display the annotated frame\n",
    "        cv2.imshow(\"YOLO11 Tracking\", annotated_frame)\n",
    "\n",
    "        # Break the loop if 'q' is pressed\n",
    "        if cv2.waitKey(1) & 0xFF == ord(\"q\"):\n",
    "            break\n",
    "    else:\n",
    "        # Break the loop if the end of the video is reached\n",
    "        break\n",
    "\n",
    "# Release the video capture object and close the display window\n",
    "cap.release()\n",
    "cv2.destroyAllWindows()"
   ]
  },
  {
   "cell_type": "code",
   "execution_count": null,
   "id": "4af36610",
   "metadata": {},
   "outputs": [
    {
     "name": "stdout",
     "output_type": "stream",
     "text": [
      "Конвертация завершена! Сохранено 710 аннотаций в labels/\n"
     ]
    }
   ],
   "source": [
    "import xml.etree.ElementTree as ET\n",
    "import os\n",
    "\n",
    "\n",
    "xml_path = \"annotations.xml\"\n",
    "output_dir = \"labels\"\n",
    "class_mapping = {\"skier\": 0, \"person\": 1}  \n",
    "image_width = 480  \n",
    "image_height = 480  \n",
    "\n",
    "\n",
    "os.makedirs(output_dir, exist_ok=True)\n",
    "\n",
    "\n",
    "tree = ET.parse(xml_path)\n",
    "root = tree.getroot()\n",
    "\n",
    "\n",
    "annotations = {}\n",
    "\n",
    "\n",
    "for track in root.findall(\"track\"):\n",
    "    label = track.get(\"label\")\n",
    "    class_id = class_mapping.get(label)\n",
    "    \n",
    "    if class_id is None:\n",
    "        continue  \n",
    "\n",
    "    for box in track.findall(\"box\"):\n",
    "        frame = int(box.get(\"frame\"))\n",
    "        xtl = float(box.get(\"xtl\"))\n",
    "        ytl = float(box.get(\"ytl\"))\n",
    "        xbr = float(box.get(\"xbr\"))\n",
    "        ybr = float(box.get(\"ybr\"))\n",
    "        \n",
    "        \n",
    "        x_center = (xtl + xbr) / (2 * image_width)\n",
    "        y_center = (ytl + ybr) / (2 * image_height)\n",
    "        width = (xbr - xtl) / image_width\n",
    "        height = (ybr - ytl) / image_height\n",
    "        \n",
    "        \n",
    "        yolo_line = f\"{class_id} {x_center:.6f} {y_center:.6f} {width:.6f} {height:.6f}\"\n",
    "        \n",
    "        if frame not in annotations:\n",
    "            annotations[frame] = []\n",
    "        annotations[frame].append(yolo_line)\n",
    "\n",
    "\n",
    "for frame, lines in annotations.items():\n",
    "    filename = f\"frame_{frame:06d}.txt\"\n",
    "    with open(os.path.join(output_dir, filename), \"w\") as f:\n",
    "        f.write(\"\\n\".join(lines))\n",
    "\n",
    "print(f\"Конвертация завершена! Сохранено {len(annotations)} аннотаций в {output_dir}/\")"
   ]
  },
  {
   "cell_type": "code",
   "execution_count": null,
   "id": "c7aeec4d",
   "metadata": {},
   "outputs": [
    {
     "ename": "",
     "evalue": "",
     "output_type": "error",
     "traceback": [
      "\u001b[1;31mThe Kernel crashed while executing code in the current cell or a previous cell. \n",
      "\u001b[1;31mPlease review the code in the cell(s) to identify a possible cause of the failure. \n",
      "\u001b[1;31mClick <a href='https://aka.ms/vscodeJupyterKernelCrash'>here</a> for more info. \n",
      "\u001b[1;31mView Jupyter <a href='command:jupyter.viewOutput'>log</a> for further details."
     ]
    }
   ],
   "source": [
    "import cv2\n",
    "import os\n",
    "\n",
    "img_dir = \"dataset/frames\"\n",
    "label_dir = \"dataset/labels\"\n",
    "\n",
    "for img_name in os.listdir(img_dir):\n",
    "    img_path = os.path.join(img_dir, img_name)\n",
    "    label_path = os.path.join(label_dir, os.path.splitext(img_name)[0] + \".txt\")\n",
    "    \n",
    "    img = cv2.imread(img_path)\n",
    "    h, w, _ = img.shape\n",
    "    \n",
    "    with open(label_path, \"r\") as f:\n",
    "        for line in f:\n",
    "            class_id, xc, yc, bw, bh = map(float, line.split())\n",
    "            \n",
    "            x1 = int((xc - bw/2) * w)\n",
    "            y1 = int((yc - bh/2) * h)\n",
    "            x2 = int((xc + bw/2) * w)\n",
    "            y2 = int((yc + bh/2) * h)\n",
    "            \n",
    "            cv2.rectangle(img, (x1, y1), (x2, y2), (0, 255, 0), 2)\n",
    "    \n",
    "    cv2.imshow(\"Check\", img)\n",
    "    if cv2.waitKey(0) == 27:\n",
    "        break"
   ]
  },
  {
   "cell_type": "code",
   "execution_count": null,
   "id": "28359e4c",
   "metadata": {},
   "outputs": [
    {
     "name": "stdout",
     "output_type": "stream",
     "text": [
      "Разделение завершено!\n",
      "Всего файлов: 710\n",
      "Train: 568\n",
      "Val: 142\n"
     ]
    }
   ],
   "source": [
    "import os\n",
    "import shutil\n",
    "import random\n",
    "from sklearn.model_selection import train_test_split\n",
    "\n",
    "# Конфигурация\n",
    "SOURCE_IMAGES = \"dataset/frames\"         # Исходные кадры\n",
    "SOURCE_LABELS = \"dataset/labels\"         # Исходные аннотации\n",
    "TRAIN_IMAGES = \"dataset/train/images\"    # Train изображения\n",
    "TRAIN_LABELS = \"dataset/train/labels\"    # Train аннотации\n",
    "VAL_IMAGES = \"dataset/val/images\"        # Val изображения\n",
    "VAL_LABELS = \"dataset/val/labels\"        # Val аннотации\n",
    "TEST_SIZE = 0.2                          # Доля val данных (20%)\n",
    "RANDOM_SEED = 42                         # Для воспроизводимости\n",
    "\n",
    "# Создаем целевые папки\n",
    "os.makedirs(TRAIN_IMAGES, exist_ok=True)\n",
    "os.makedirs(TRAIN_LABELS, exist_ok=True)\n",
    "os.makedirs(VAL_IMAGES, exist_ok=True)\n",
    "os.makedirs(VAL_LABELS, exist_ok=True)\n",
    "\n",
    "# Получаем список базовых имен файлов (без расширения)\n",
    "all_files = [f.split(\".\")[0] for f in os.listdir(SOURCE_IMAGES) if f.endswith(\".jpg\")]\n",
    "all_files.sort()\n",
    "\n",
    "# Разделяем на train/val\n",
    "train_files, val_files = train_test_split(\n",
    "    all_files, \n",
    "    test_size=TEST_SIZE, \n",
    "    random_state=RANDOM_SEED\n",
    ")\n",
    "\n",
    "# Функция для копирования файлов\n",
    "def copy_files(files, src_img, src_lbl, dest_img, dest_lbl):\n",
    "    for base in files:\n",
    "        # Копируем изображения\n",
    "        shutil.copy(\n",
    "            os.path.join(src_img, base + \".jpg\"),\n",
    "            os.path.join(dest_img, base + \".jpg\")\n",
    "        )\n",
    "        # Копируем аннотации\n",
    "        lbl_file = base + \".txt\"\n",
    "        if os.path.exists(os.path.join(src_lbl, lbl_file)):\n",
    "            shutil.copy(\n",
    "                os.path.join(src_lbl, lbl_file),\n",
    "                os.path.join(dest_lbl, lbl_file)\n",
    "            )\n",
    "\n",
    "# Копируем данные\n",
    "copy_files(train_files, SOURCE_IMAGES, SOURCE_LABELS, TRAIN_IMAGES, TRAIN_LABELS)\n",
    "copy_files(val_files, SOURCE_IMAGES, SOURCE_LABELS, VAL_IMAGES, VAL_LABELS)\n",
    "\n",
    "print(f\"Разделение завершено!\")\n",
    "print(f\"Всего файлов: {len(all_files)}\")\n",
    "print(f\"Train: {len(train_files)}\")\n",
    "print(f\"Val: {len(val_files)}\")"
   ]
  },
  {
   "cell_type": "code",
   "execution_count": null,
   "id": "5fcfe03c",
   "metadata": {},
   "outputs": [],
   "source": [
    "import cv2\n",
    "import os\n",
    "\n",
    "def plot_yolo_boxes(image_path, label_path):\n",
    "    image = cv2.imread(image_path)\n",
    "    h, w = image.shape[:2]\n",
    "    \n",
    "    with open(label_path, 'r') as f:\n",
    "        for line in f.readlines():\n",
    "            class_id, xc, yc, bw, bh = map(float, line.split())\n",
    "            \n",
    "    \n",
    "            x1 = int((xc - bw/2) * w)\n",
    "            y1 = int((yc - bh/2) * h)\n",
    "            x2 = int((xc + bw/2) * w)\n",
    "            y2 = int((yc + bh/2) * h)\n",
    "            \n",
    "        \n",
    "            cv2.rectangle(image, (x1, y1), (x2, y2), (0, 255, 0), 2)\n",
    "            cv2.putText(image, f\"skier\", (x1, y1-10), \n",
    "                        cv2.FONT_HERSHEY_SIMPLEX, 0.9, (0,255,0), 2)\n",
    "    \n",
    "    cv2.imshow(\"Annotation Check\", image)\n",
    "    cv2.waitKey(0)\n",
    "    cv2.destroyAllWindows()\n",
    "\n",
    "\n",
    "base_name = \"frame_000000\"\n",
    "plot_yolo_boxes(\n",
    "    f\"dataset/train/images/{base_name}.jpg\",\n",
    "    f\"dataset/train/labels/{base_name}.txt\"\n",
    ")"
   ]
  },
  {
   "cell_type": "code",
   "execution_count": 31,
   "id": "30a37ad0",
   "metadata": {},
   "outputs": [
    {
     "name": "stdout",
     "output_type": "stream",
     "text": [
      "Ultralytics 8.3.153  Python-3.13.3 torch-2.7.1+cpu CPU (AMD Ryzen 5 5500U with Radeon Graphics)\n",
      "\u001b[34m\u001b[1mengine\\trainer: \u001b[0magnostic_nms=False, amp=True, augment=False, auto_augment=randaugment, batch=16, bgr=0.0, box=7.5, cache=False, cfg=None, classes=None, close_mosaic=10, cls=0.5, conf=None, copy_paste=0.0, copy_paste_mode=flip, cos_lr=False, cutmix=0.0, data=dataset/data.yaml, degrees=0.0, deterministic=True, device=cpu, dfl=1.5, dnn=False, dropout=0.0, dynamic=False, embed=None, epochs=100, erasing=0.4, exist_ok=False, fliplr=0.5, flipud=0.0, format=torchscript, fraction=1.0, freeze=None, half=False, hsv_h=0.015, hsv_s=0.7, hsv_v=0.4, imgsz=480, int8=False, iou=0.7, keras=False, kobj=1.0, line_width=None, lr0=0.01, lrf=0.01, mask_ratio=4, max_det=300, mixup=0.0, mode=train, model=yolov8n.pt, momentum=0.937, mosaic=1.0, multi_scale=False, name=skier_tracking5, nbs=64, nms=False, opset=None, optimize=False, optimizer=auto, overlap_mask=True, patience=100, perspective=0.0, plots=True, pose=12.0, pretrained=True, profile=False, project=None, rect=False, resume=False, retina_masks=False, save=True, save_conf=False, save_crop=False, save_dir=runs\\detect\\skier_tracking5, save_frames=False, save_json=False, save_period=-1, save_txt=False, scale=0.5, seed=0, shear=0.0, show=False, show_boxes=True, show_conf=True, show_labels=True, simplify=True, single_cls=False, source=None, split=val, stream_buffer=False, task=detect, time=None, tracker=botsort.yaml, translate=0.1, val=True, verbose=True, vid_stride=1, visualize=False, warmup_bias_lr=0.1, warmup_epochs=3.0, warmup_momentum=0.8, weight_decay=0.0005, workers=8, workspace=None\n",
      "Overriding model.yaml nc=80 with nc=2\n",
      "\n",
      "                   from  n    params  module                                       arguments                     \n",
      "  0                  -1  1       464  ultralytics.nn.modules.conv.Conv             [3, 16, 3, 2]                 \n",
      "  1                  -1  1      4672  ultralytics.nn.modules.conv.Conv             [16, 32, 3, 2]                \n",
      "  2                  -1  1      7360  ultralytics.nn.modules.block.C2f             [32, 32, 1, True]             \n",
      "  3                  -1  1     18560  ultralytics.nn.modules.conv.Conv             [32, 64, 3, 2]                \n",
      "  4                  -1  2     49664  ultralytics.nn.modules.block.C2f             [64, 64, 2, True]             \n",
      "  5                  -1  1     73984  ultralytics.nn.modules.conv.Conv             [64, 128, 3, 2]               \n",
      "  6                  -1  2    197632  ultralytics.nn.modules.block.C2f             [128, 128, 2, True]           \n",
      "  7                  -1  1    295424  ultralytics.nn.modules.conv.Conv             [128, 256, 3, 2]              \n",
      "  8                  -1  1    460288  ultralytics.nn.modules.block.C2f             [256, 256, 1, True]           \n",
      "  9                  -1  1    164608  ultralytics.nn.modules.block.SPPF            [256, 256, 5]                 \n",
      " 10                  -1  1         0  torch.nn.modules.upsampling.Upsample         [None, 2, 'nearest']          \n",
      " 11             [-1, 6]  1         0  ultralytics.nn.modules.conv.Concat           [1]                           \n",
      " 12                  -1  1    148224  ultralytics.nn.modules.block.C2f             [384, 128, 1]                 \n",
      " 13                  -1  1         0  torch.nn.modules.upsampling.Upsample         [None, 2, 'nearest']          \n",
      " 14             [-1, 4]  1         0  ultralytics.nn.modules.conv.Concat           [1]                           \n",
      " 15                  -1  1     37248  ultralytics.nn.modules.block.C2f             [192, 64, 1]                  \n",
      " 16                  -1  1     36992  ultralytics.nn.modules.conv.Conv             [64, 64, 3, 2]                \n",
      " 17            [-1, 12]  1         0  ultralytics.nn.modules.conv.Concat           [1]                           \n",
      " 18                  -1  1    123648  ultralytics.nn.modules.block.C2f             [192, 128, 1]                 \n",
      " 19                  -1  1    147712  ultralytics.nn.modules.conv.Conv             [128, 128, 3, 2]              \n",
      " 20             [-1, 9]  1         0  ultralytics.nn.modules.conv.Concat           [1]                           \n",
      " 21                  -1  1    493056  ultralytics.nn.modules.block.C2f             [384, 256, 1]                 \n",
      " 22        [15, 18, 21]  1    751702  ultralytics.nn.modules.head.Detect           [2, [64, 128, 256]]           \n",
      "Model summary: 129 layers, 3,011,238 parameters, 3,011,222 gradients, 8.2 GFLOPs\n",
      "\n",
      "Transferred 319/355 items from pretrained weights\n",
      "Freezing layer 'model.22.dfl.conv.weight'\n",
      "\u001b[34m\u001b[1mtrain: \u001b[0mFast image access  (ping: 0.20.1 ms, read: 138.990.4 MB/s, size: 41.5 KB)\n"
     ]
    },
    {
     "name": "stderr",
     "output_type": "stream",
     "text": [
      "\u001b[34m\u001b[1mtrain: \u001b[0mScanning C:\\ИТМО\\НИР 2\\data\\dataset\\train\\labels... 381 images, 0 backgrounds, 0 corrupt: 100%|██████████| 381/381 [00:00<00:00, 1168.40it/s]"
     ]
    },
    {
     "name": "stdout",
     "output_type": "stream",
     "text": [
      "\u001b[34m\u001b[1mtrain: \u001b[0mNew cache created: C:\\\\ 2\\data\\dataset\\train\\labels.cache\n"
     ]
    },
    {
     "name": "stderr",
     "output_type": "stream",
     "text": [
      "\n"
     ]
    },
    {
     "name": "stdout",
     "output_type": "stream",
     "text": [
      "\u001b[34m\u001b[1mval: \u001b[0mFast image access  (ping: 0.50.8 ms, read: 224.885.8 MB/s, size: 41.8 KB)\n"
     ]
    },
    {
     "name": "stderr",
     "output_type": "stream",
     "text": [
      "c:\\Users\\Dell\\AppData\\Local\\Programs\\Python\\Python313\\Lib\\site-packages\\torch\\utils\\data\\dataloader.py:665: UserWarning: 'pin_memory' argument is set as true but no accelerator is found, then device pinned memory won't be used.\n",
      "  warnings.warn(warn_msg)\n",
      "\u001b[34m\u001b[1mval: \u001b[0mScanning C:\\ИТМО\\НИР 2\\data\\dataset\\val\\labels... 51 images, 0 backgrounds, 0 corrupt: 100%|██████████| 51/51 [00:00<00:00, 1107.39it/s]"
     ]
    },
    {
     "name": "stdout",
     "output_type": "stream",
     "text": [
      "\u001b[34m\u001b[1mval: \u001b[0mNew cache created: C:\\\\ 2\\data\\dataset\\val\\labels.cache\n"
     ]
    },
    {
     "name": "stderr",
     "output_type": "stream",
     "text": [
      "\n",
      "c:\\Users\\Dell\\AppData\\Local\\Programs\\Python\\Python313\\Lib\\site-packages\\torch\\utils\\data\\dataloader.py:665: UserWarning: 'pin_memory' argument is set as true but no accelerator is found, then device pinned memory won't be used.\n",
      "  warnings.warn(warn_msg)\n"
     ]
    },
    {
     "name": "stdout",
     "output_type": "stream",
     "text": [
      "Plotting labels to runs\\detect\\skier_tracking5\\labels.jpg... \n",
      "\u001b[34m\u001b[1moptimizer:\u001b[0m 'optimizer=auto' found, ignoring 'lr0=0.01' and 'momentum=0.937' and determining best 'optimizer', 'lr0' and 'momentum' automatically... \n",
      "\u001b[34m\u001b[1moptimizer:\u001b[0m AdamW(lr=0.001667, momentum=0.9) with parameter groups 57 weight(decay=0.0), 64 weight(decay=0.0005), 63 bias(decay=0.0)\n",
      "Image sizes 480 train, 480 val\n",
      "Using 0 dataloader workers\n",
      "Logging results to \u001b[1mruns\\detect\\skier_tracking5\u001b[0m\n",
      "Starting training for 100 epochs...\n",
      "\n",
      "      Epoch    GPU_mem   box_loss   cls_loss   dfl_loss  Instances       Size\n"
     ]
    },
    {
     "name": "stderr",
     "output_type": "stream",
     "text": [
      "      1/100         0G      2.393      5.742      1.201         17        480: 100%|██████████| 24/24 [01:17<00:00,  3.21s/it]\n",
      "                 Class     Images  Instances      Box(P          R      mAP50  mAP50-95): 100%|██████████| 2/2 [00:04<00:00,  2.22s/it]"
     ]
    },
    {
     "name": "stdout",
     "output_type": "stream",
     "text": [
      "                   all         51         51    0.00644      0.725    0.00621    0.00302\n"
     ]
    },
    {
     "name": "stderr",
     "output_type": "stream",
     "text": [
      "\n"
     ]
    },
    {
     "name": "stdout",
     "output_type": "stream",
     "text": [
      "\n",
      "      Epoch    GPU_mem   box_loss   cls_loss   dfl_loss  Instances       Size\n"
     ]
    },
    {
     "name": "stderr",
     "output_type": "stream",
     "text": [
      "      2/100         0G      2.035      3.737      1.089         14        480: 100%|██████████| 24/24 [01:12<00:00,  3.01s/it]\n",
      "                 Class     Images  Instances      Box(P          R      mAP50  mAP50-95): 100%|██████████| 2/2 [00:04<00:00,  2.23s/it]"
     ]
    },
    {
     "name": "stdout",
     "output_type": "stream",
     "text": [
      "                   all         51         51    0.00217      0.255    0.00138   0.000402\n"
     ]
    },
    {
     "name": "stderr",
     "output_type": "stream",
     "text": [
      "\n"
     ]
    },
    {
     "name": "stdout",
     "output_type": "stream",
     "text": [
      "\n",
      "      Epoch    GPU_mem   box_loss   cls_loss   dfl_loss  Instances       Size\n"
     ]
    },
    {
     "name": "stderr",
     "output_type": "stream",
     "text": [
      "      3/100         0G      1.943      2.997      1.092         26        480: 100%|██████████| 24/24 [01:11<00:00,  2.98s/it]\n",
      "                 Class     Images  Instances      Box(P          R      mAP50  mAP50-95): 100%|██████████| 2/2 [00:04<00:00,  2.14s/it]"
     ]
    },
    {
     "name": "stdout",
     "output_type": "stream",
     "text": [
      "                   all         51         51    0.00262      0.373    0.00185   0.000908\n"
     ]
    },
    {
     "name": "stderr",
     "output_type": "stream",
     "text": [
      "\n"
     ]
    },
    {
     "name": "stdout",
     "output_type": "stream",
     "text": [
      "\n",
      "      Epoch    GPU_mem   box_loss   cls_loss   dfl_loss  Instances       Size\n"
     ]
    },
    {
     "name": "stderr",
     "output_type": "stream",
     "text": [
      "      4/100         0G      2.054      2.609      1.164         24        480: 100%|██████████| 24/24 [01:12<00:00,  3.00s/it]\n",
      "                 Class     Images  Instances      Box(P          R      mAP50  mAP50-95): 100%|██████████| 2/2 [00:04<00:00,  2.02s/it]"
     ]
    },
    {
     "name": "stdout",
     "output_type": "stream",
     "text": [
      "                   all         51         51      0.945      0.353      0.641      0.331\n"
     ]
    },
    {
     "name": "stderr",
     "output_type": "stream",
     "text": [
      "\n"
     ]
    },
    {
     "name": "stdout",
     "output_type": "stream",
     "text": [
      "\n",
      "      Epoch    GPU_mem   box_loss   cls_loss   dfl_loss  Instances       Size\n"
     ]
    },
    {
     "name": "stderr",
     "output_type": "stream",
     "text": [
      "      5/100         0G       2.06      2.327      1.171         19        480: 100%|██████████| 24/24 [01:14<00:00,  3.09s/it]\n",
      "                 Class     Images  Instances      Box(P          R      mAP50  mAP50-95): 100%|██████████| 2/2 [00:04<00:00,  2.07s/it]"
     ]
    },
    {
     "name": "stdout",
     "output_type": "stream",
     "text": [
      "                   all         51         51      0.246      0.255      0.142     0.0462\n"
     ]
    },
    {
     "name": "stderr",
     "output_type": "stream",
     "text": [
      "\n"
     ]
    },
    {
     "name": "stdout",
     "output_type": "stream",
     "text": [
      "\n",
      "      Epoch    GPU_mem   box_loss   cls_loss   dfl_loss  Instances       Size\n"
     ]
    },
    {
     "name": "stderr",
     "output_type": "stream",
     "text": [
      "      6/100         0G      1.908       1.98      1.124         18        480: 100%|██████████| 24/24 [01:15<00:00,  3.15s/it]\n",
      "                 Class     Images  Instances      Box(P          R      mAP50  mAP50-95): 100%|██████████| 2/2 [00:04<00:00,  2.01s/it]"
     ]
    },
    {
     "name": "stdout",
     "output_type": "stream",
     "text": [
      "                   all         51         51      0.975      0.762      0.782       0.46\n"
     ]
    },
    {
     "name": "stderr",
     "output_type": "stream",
     "text": [
      "\n"
     ]
    },
    {
     "name": "stdout",
     "output_type": "stream",
     "text": [
      "\n",
      "      Epoch    GPU_mem   box_loss   cls_loss   dfl_loss  Instances       Size\n"
     ]
    },
    {
     "name": "stderr",
     "output_type": "stream",
     "text": [
      "      7/100         0G      1.782      1.741      1.034         20        480: 100%|██████████| 24/24 [01:15<00:00,  3.16s/it]\n",
      "                 Class     Images  Instances      Box(P          R      mAP50  mAP50-95): 100%|██████████| 2/2 [00:03<00:00,  2.00s/it]"
     ]
    },
    {
     "name": "stdout",
     "output_type": "stream",
     "text": [
      "                   all         51         51      0.886      0.765      0.793      0.437\n"
     ]
    },
    {
     "name": "stderr",
     "output_type": "stream",
     "text": [
      "\n"
     ]
    },
    {
     "name": "stdout",
     "output_type": "stream",
     "text": [
      "\n",
      "      Epoch    GPU_mem   box_loss   cls_loss   dfl_loss  Instances       Size\n"
     ]
    },
    {
     "name": "stderr",
     "output_type": "stream",
     "text": [
      "      8/100         0G      1.832      1.678      1.059         18        480: 100%|██████████| 24/24 [01:15<00:00,  3.13s/it]\n",
      "                 Class     Images  Instances      Box(P          R      mAP50  mAP50-95): 100%|██████████| 2/2 [00:04<00:00,  2.01s/it]"
     ]
    },
    {
     "name": "stdout",
     "output_type": "stream",
     "text": [
      "                   all         51         51       0.71      0.745       0.77      0.415\n"
     ]
    },
    {
     "name": "stderr",
     "output_type": "stream",
     "text": [
      "\n"
     ]
    },
    {
     "name": "stdout",
     "output_type": "stream",
     "text": [
      "\n",
      "      Epoch    GPU_mem   box_loss   cls_loss   dfl_loss  Instances       Size\n"
     ]
    },
    {
     "name": "stderr",
     "output_type": "stream",
     "text": [
      "      9/100         0G      1.765      1.527      1.096         11        480: 100%|██████████| 24/24 [01:14<00:00,  3.09s/it]\n",
      "                 Class     Images  Instances      Box(P          R      mAP50  mAP50-95): 100%|██████████| 2/2 [00:03<00:00,  1.98s/it]"
     ]
    },
    {
     "name": "stdout",
     "output_type": "stream",
     "text": [
      "                   all         51         51      0.977      0.765      0.801      0.457\n"
     ]
    },
    {
     "name": "stderr",
     "output_type": "stream",
     "text": [
      "\n"
     ]
    },
    {
     "name": "stdout",
     "output_type": "stream",
     "text": [
      "\n",
      "      Epoch    GPU_mem   box_loss   cls_loss   dfl_loss  Instances       Size\n"
     ]
    },
    {
     "name": "stderr",
     "output_type": "stream",
     "text": [
      "     10/100         0G      1.665      1.256      1.046         18        480: 100%|██████████| 24/24 [01:14<00:00,  3.12s/it]\n",
      "                 Class     Images  Instances      Box(P          R      mAP50  mAP50-95): 100%|██████████| 2/2 [00:04<00:00,  2.01s/it]"
     ]
    },
    {
     "name": "stdout",
     "output_type": "stream",
     "text": [
      "                   all         51         51      0.956      0.852      0.913      0.399\n"
     ]
    },
    {
     "name": "stderr",
     "output_type": "stream",
     "text": [
      "\n"
     ]
    },
    {
     "name": "stdout",
     "output_type": "stream",
     "text": [
      "\n",
      "      Epoch    GPU_mem   box_loss   cls_loss   dfl_loss  Instances       Size\n"
     ]
    },
    {
     "name": "stderr",
     "output_type": "stream",
     "text": [
      "     11/100         0G      1.756      1.236      1.081         20        480: 100%|██████████| 24/24 [01:14<00:00,  3.12s/it]\n",
      "                 Class     Images  Instances      Box(P          R      mAP50  mAP50-95): 100%|██████████| 2/2 [00:04<00:00,  2.04s/it]"
     ]
    },
    {
     "name": "stdout",
     "output_type": "stream",
     "text": [
      "                   all         51         51      0.785      0.502      0.548      0.308\n"
     ]
    },
    {
     "name": "stderr",
     "output_type": "stream",
     "text": [
      "\n"
     ]
    },
    {
     "name": "stdout",
     "output_type": "stream",
     "text": [
      "\n",
      "      Epoch    GPU_mem   box_loss   cls_loss   dfl_loss  Instances       Size\n"
     ]
    },
    {
     "name": "stderr",
     "output_type": "stream",
     "text": [
      "     12/100         0G      1.771      1.262      1.051         20        480: 100%|██████████| 24/24 [01:15<00:00,  3.14s/it]\n",
      "                 Class     Images  Instances      Box(P          R      mAP50  mAP50-95): 100%|██████████| 2/2 [00:04<00:00,  2.02s/it]"
     ]
    },
    {
     "name": "stdout",
     "output_type": "stream",
     "text": [
      "                   all         51         51      0.938      0.894      0.973      0.514\n"
     ]
    },
    {
     "name": "stderr",
     "output_type": "stream",
     "text": [
      "\n"
     ]
    },
    {
     "name": "stdout",
     "output_type": "stream",
     "text": [
      "\n",
      "      Epoch    GPU_mem   box_loss   cls_loss   dfl_loss  Instances       Size\n"
     ]
    },
    {
     "name": "stderr",
     "output_type": "stream",
     "text": [
      "     13/100         0G      1.643      1.091     0.9991         15        480: 100%|██████████| 24/24 [01:15<00:00,  3.16s/it]\n",
      "                 Class     Images  Instances      Box(P          R      mAP50  mAP50-95): 100%|██████████| 2/2 [00:04<00:00,  2.06s/it]"
     ]
    },
    {
     "name": "stdout",
     "output_type": "stream",
     "text": [
      "                   all         51         51       0.94      0.882      0.975      0.553\n"
     ]
    },
    {
     "name": "stderr",
     "output_type": "stream",
     "text": [
      "\n"
     ]
    },
    {
     "name": "stdout",
     "output_type": "stream",
     "text": [
      "\n",
      "      Epoch    GPU_mem   box_loss   cls_loss   dfl_loss  Instances       Size\n"
     ]
    },
    {
     "name": "stderr",
     "output_type": "stream",
     "text": [
      "     14/100         0G      1.664      1.089       1.01         17        480: 100%|██████████| 24/24 [01:16<00:00,  3.17s/it]\n",
      "                 Class     Images  Instances      Box(P          R      mAP50  mAP50-95): 100%|██████████| 2/2 [00:04<00:00,  2.01s/it]"
     ]
    },
    {
     "name": "stdout",
     "output_type": "stream",
     "text": [
      "                   all         51         51       0.94      0.917      0.943      0.536\n"
     ]
    },
    {
     "name": "stderr",
     "output_type": "stream",
     "text": [
      "\n"
     ]
    },
    {
     "name": "stdout",
     "output_type": "stream",
     "text": [
      "\n",
      "      Epoch    GPU_mem   box_loss   cls_loss   dfl_loss  Instances       Size\n"
     ]
    },
    {
     "name": "stderr",
     "output_type": "stream",
     "text": [
      "     15/100         0G      1.652      1.046      1.027         14        480: 100%|██████████| 24/24 [01:15<00:00,  3.14s/it]\n",
      "                 Class     Images  Instances      Box(P          R      mAP50  mAP50-95): 100%|██████████| 2/2 [00:03<00:00,  1.96s/it]"
     ]
    },
    {
     "name": "stdout",
     "output_type": "stream",
     "text": [
      "                   all         51         51      0.959      0.916      0.951      0.464\n"
     ]
    },
    {
     "name": "stderr",
     "output_type": "stream",
     "text": [
      "\n"
     ]
    },
    {
     "name": "stdout",
     "output_type": "stream",
     "text": [
      "\n",
      "      Epoch    GPU_mem   box_loss   cls_loss   dfl_loss  Instances       Size\n"
     ]
    },
    {
     "name": "stderr",
     "output_type": "stream",
     "text": [
      "     16/100         0G      1.541     0.9507      1.002         28        480: 100%|██████████| 24/24 [01:15<00:00,  3.16s/it]\n",
      "                 Class     Images  Instances      Box(P          R      mAP50  mAP50-95): 100%|██████████| 2/2 [00:03<00:00,  1.98s/it]"
     ]
    },
    {
     "name": "stdout",
     "output_type": "stream",
     "text": [
      "                   all         51         51          1      0.778      0.802      0.487\n"
     ]
    },
    {
     "name": "stderr",
     "output_type": "stream",
     "text": [
      "\n"
     ]
    },
    {
     "name": "stdout",
     "output_type": "stream",
     "text": [
      "\n",
      "      Epoch    GPU_mem   box_loss   cls_loss   dfl_loss  Instances       Size\n"
     ]
    },
    {
     "name": "stderr",
     "output_type": "stream",
     "text": [
      "     17/100         0G      1.613          1      1.029         16        480: 100%|██████████| 24/24 [01:24<00:00,  3.52s/it]\n",
      "                 Class     Images  Instances      Box(P          R      mAP50  mAP50-95): 100%|██████████| 2/2 [00:04<00:00,  2.05s/it]"
     ]
    },
    {
     "name": "stdout",
     "output_type": "stream",
     "text": [
      "                   all         51         51      0.969      0.902      0.984       0.54\n"
     ]
    },
    {
     "name": "stderr",
     "output_type": "stream",
     "text": [
      "\n"
     ]
    },
    {
     "name": "stdout",
     "output_type": "stream",
     "text": [
      "\n",
      "      Epoch    GPU_mem   box_loss   cls_loss   dfl_loss  Instances       Size\n"
     ]
    },
    {
     "name": "stderr",
     "output_type": "stream",
     "text": [
      "     18/100         0G      1.649     0.9927      1.005         23        480: 100%|██████████| 24/24 [01:17<00:00,  3.22s/it]\n",
      "                 Class     Images  Instances      Box(P          R      mAP50  mAP50-95): 100%|██████████| 2/2 [00:04<00:00,  2.03s/it]"
     ]
    },
    {
     "name": "stdout",
     "output_type": "stream",
     "text": [
      "                   all         51         51      0.979        0.9       0.97      0.474\n"
     ]
    },
    {
     "name": "stderr",
     "output_type": "stream",
     "text": [
      "\n"
     ]
    },
    {
     "name": "stdout",
     "output_type": "stream",
     "text": [
      "\n",
      "      Epoch    GPU_mem   box_loss   cls_loss   dfl_loss  Instances       Size\n"
     ]
    },
    {
     "name": "stderr",
     "output_type": "stream",
     "text": [
      "     19/100         0G      1.637     0.9595      1.007         27        480: 100%|██████████| 24/24 [01:15<00:00,  3.14s/it]\n",
      "                 Class     Images  Instances      Box(P          R      mAP50  mAP50-95): 100%|██████████| 2/2 [00:04<00:00,  2.09s/it]"
     ]
    },
    {
     "name": "stdout",
     "output_type": "stream",
     "text": [
      "                   all         51         51      0.919      0.784      0.784      0.452\n"
     ]
    },
    {
     "name": "stderr",
     "output_type": "stream",
     "text": [
      "\n"
     ]
    },
    {
     "name": "stdout",
     "output_type": "stream",
     "text": [
      "\n",
      "      Epoch    GPU_mem   box_loss   cls_loss   dfl_loss  Instances       Size\n"
     ]
    },
    {
     "name": "stderr",
     "output_type": "stream",
     "text": [
      "     20/100         0G      1.634     0.9054      1.008         16        480: 100%|██████████| 24/24 [01:14<00:00,  3.12s/it]\n",
      "                 Class     Images  Instances      Box(P          R      mAP50  mAP50-95): 100%|██████████| 2/2 [00:04<00:00,  2.10s/it]"
     ]
    },
    {
     "name": "stdout",
     "output_type": "stream",
     "text": [
      "                   all         51         51          1      0.762      0.848      0.425\n"
     ]
    },
    {
     "name": "stderr",
     "output_type": "stream",
     "text": [
      "\n"
     ]
    },
    {
     "name": "stdout",
     "output_type": "stream",
     "text": [
      "\n",
      "      Epoch    GPU_mem   box_loss   cls_loss   dfl_loss  Instances       Size\n"
     ]
    },
    {
     "name": "stderr",
     "output_type": "stream",
     "text": [
      "     21/100         0G      1.522     0.8529     0.9836         13        480: 100%|██████████| 24/24 [01:19<00:00,  3.31s/it]\n",
      "                 Class     Images  Instances      Box(P          R      mAP50  mAP50-95): 100%|██████████| 2/2 [00:03<00:00,  1.97s/it]"
     ]
    },
    {
     "name": "stdout",
     "output_type": "stream",
     "text": [
      "                   all         51         51      0.997       0.98      0.995      0.643\n"
     ]
    },
    {
     "name": "stderr",
     "output_type": "stream",
     "text": [
      "\n"
     ]
    },
    {
     "name": "stdout",
     "output_type": "stream",
     "text": [
      "\n",
      "      Epoch    GPU_mem   box_loss   cls_loss   dfl_loss  Instances       Size\n"
     ]
    },
    {
     "name": "stderr",
     "output_type": "stream",
     "text": [
      "     22/100         0G      1.467      0.793     0.9752         18        480: 100%|██████████| 24/24 [01:15<00:00,  3.16s/it]\n",
      "                 Class     Images  Instances      Box(P          R      mAP50  mAP50-95): 100%|██████████| 2/2 [00:03<00:00,  1.92s/it]"
     ]
    },
    {
     "name": "stdout",
     "output_type": "stream",
     "text": [
      "                   all         51         51      0.919      0.885      0.955      0.528\n"
     ]
    },
    {
     "name": "stderr",
     "output_type": "stream",
     "text": [
      "\n"
     ]
    },
    {
     "name": "stdout",
     "output_type": "stream",
     "text": [
      "\n",
      "      Epoch    GPU_mem   box_loss   cls_loss   dfl_loss  Instances       Size\n"
     ]
    },
    {
     "name": "stderr",
     "output_type": "stream",
     "text": [
      "     23/100         0G      1.498     0.7882     0.9874         20        480: 100%|██████████| 24/24 [01:14<00:00,  3.10s/it]\n",
      "                 Class     Images  Instances      Box(P          R      mAP50  mAP50-95): 100%|██████████| 2/2 [00:03<00:00,  1.96s/it]"
     ]
    },
    {
     "name": "stdout",
     "output_type": "stream",
     "text": [
      "                   all         51         51      0.996          1      0.995      0.636\n"
     ]
    },
    {
     "name": "stderr",
     "output_type": "stream",
     "text": [
      "\n"
     ]
    },
    {
     "name": "stdout",
     "output_type": "stream",
     "text": [
      "\n",
      "      Epoch    GPU_mem   box_loss   cls_loss   dfl_loss  Instances       Size\n"
     ]
    },
    {
     "name": "stderr",
     "output_type": "stream",
     "text": [
      "     24/100         0G      1.431     0.7554     0.9607         24        480: 100%|██████████| 24/24 [01:14<00:00,  3.12s/it]\n",
      "                 Class     Images  Instances      Box(P          R      mAP50  mAP50-95): 100%|██████████| 2/2 [00:04<00:00,  2.00s/it]"
     ]
    },
    {
     "name": "stdout",
     "output_type": "stream",
     "text": [
      "                   all         51         51      0.996       0.98      0.995      0.575\n"
     ]
    },
    {
     "name": "stderr",
     "output_type": "stream",
     "text": [
      "\n"
     ]
    },
    {
     "name": "stdout",
     "output_type": "stream",
     "text": [
      "\n",
      "      Epoch    GPU_mem   box_loss   cls_loss   dfl_loss  Instances       Size\n"
     ]
    },
    {
     "name": "stderr",
     "output_type": "stream",
     "text": [
      "     25/100         0G       1.51     0.7731      0.989         18        480: 100%|██████████| 24/24 [01:15<00:00,  3.13s/it]\n",
      "                 Class     Images  Instances      Box(P          R      mAP50  mAP50-95): 100%|██████████| 2/2 [00:04<00:00,  2.05s/it]"
     ]
    },
    {
     "name": "stdout",
     "output_type": "stream",
     "text": [
      "                   all         51         51      0.943      0.974       0.99       0.55\n"
     ]
    },
    {
     "name": "stderr",
     "output_type": "stream",
     "text": [
      "\n"
     ]
    },
    {
     "name": "stdout",
     "output_type": "stream",
     "text": [
      "\n",
      "      Epoch    GPU_mem   box_loss   cls_loss   dfl_loss  Instances       Size\n"
     ]
    },
    {
     "name": "stderr",
     "output_type": "stream",
     "text": [
      "     26/100         0G      1.479      0.744     0.9732         18        480: 100%|██████████| 24/24 [01:14<00:00,  3.12s/it]\n",
      "                 Class     Images  Instances      Box(P          R      mAP50  mAP50-95): 100%|██████████| 2/2 [00:03<00:00,  1.97s/it]"
     ]
    },
    {
     "name": "stdout",
     "output_type": "stream",
     "text": [
      "                   all         51         51      0.998          1      0.995      0.587\n"
     ]
    },
    {
     "name": "stderr",
     "output_type": "stream",
     "text": [
      "\n"
     ]
    },
    {
     "name": "stdout",
     "output_type": "stream",
     "text": [
      "\n",
      "      Epoch    GPU_mem   box_loss   cls_loss   dfl_loss  Instances       Size\n"
     ]
    },
    {
     "name": "stderr",
     "output_type": "stream",
     "text": [
      "     27/100         0G      1.458     0.8035     0.9861         11        480: 100%|██████████| 24/24 [01:15<00:00,  3.14s/it]\n",
      "                 Class     Images  Instances      Box(P          R      mAP50  mAP50-95): 100%|██████████| 2/2 [00:03<00:00,  1.94s/it]"
     ]
    },
    {
     "name": "stdout",
     "output_type": "stream",
     "text": [
      "                   all         51         51      0.958          1      0.994      0.614\n"
     ]
    },
    {
     "name": "stderr",
     "output_type": "stream",
     "text": [
      "\n"
     ]
    },
    {
     "name": "stdout",
     "output_type": "stream",
     "text": [
      "\n",
      "      Epoch    GPU_mem   box_loss   cls_loss   dfl_loss  Instances       Size\n"
     ]
    },
    {
     "name": "stderr",
     "output_type": "stream",
     "text": [
      "     28/100         0G      1.434     0.7387     0.9825         26        480: 100%|██████████| 24/24 [01:14<00:00,  3.12s/it]\n",
      "                 Class     Images  Instances      Box(P          R      mAP50  mAP50-95): 100%|██████████| 2/2 [00:03<00:00,  1.92s/it]"
     ]
    },
    {
     "name": "stdout",
     "output_type": "stream",
     "text": [
      "                   all         51         51       0.99      0.824      0.952       0.63\n"
     ]
    },
    {
     "name": "stderr",
     "output_type": "stream",
     "text": [
      "\n"
     ]
    },
    {
     "name": "stdout",
     "output_type": "stream",
     "text": [
      "\n",
      "      Epoch    GPU_mem   box_loss   cls_loss   dfl_loss  Instances       Size\n"
     ]
    },
    {
     "name": "stderr",
     "output_type": "stream",
     "text": [
      "     29/100         0G      1.434     0.7252     0.9624         18        480: 100%|██████████| 24/24 [01:16<00:00,  3.18s/it]\n",
      "                 Class     Images  Instances      Box(P          R      mAP50  mAP50-95): 100%|██████████| 2/2 [00:03<00:00,  1.95s/it]"
     ]
    },
    {
     "name": "stdout",
     "output_type": "stream",
     "text": [
      "                   all         51         51      0.993      0.824      0.959      0.602\n"
     ]
    },
    {
     "name": "stderr",
     "output_type": "stream",
     "text": [
      "\n"
     ]
    },
    {
     "name": "stdout",
     "output_type": "stream",
     "text": [
      "\n",
      "      Epoch    GPU_mem   box_loss   cls_loss   dfl_loss  Instances       Size\n"
     ]
    },
    {
     "name": "stderr",
     "output_type": "stream",
     "text": [
      "     30/100         0G      1.376     0.7181     0.9806         19        480: 100%|██████████| 24/24 [01:18<00:00,  3.26s/it]\n",
      "                 Class     Images  Instances      Box(P          R      mAP50  mAP50-95): 100%|██████████| 2/2 [00:03<00:00,  1.93s/it]"
     ]
    },
    {
     "name": "stdout",
     "output_type": "stream",
     "text": [
      "                   all         51         51      0.963      0.902      0.969      0.564\n"
     ]
    },
    {
     "name": "stderr",
     "output_type": "stream",
     "text": [
      "\n"
     ]
    },
    {
     "name": "stdout",
     "output_type": "stream",
     "text": [
      "\n",
      "      Epoch    GPU_mem   box_loss   cls_loss   dfl_loss  Instances       Size\n"
     ]
    },
    {
     "name": "stderr",
     "output_type": "stream",
     "text": [
      "     31/100         0G      1.357     0.6924     0.9651         22        480: 100%|██████████| 24/24 [01:16<00:00,  3.17s/it]\n",
      "                 Class     Images  Instances      Box(P          R      mAP50  mAP50-95): 100%|██████████| 2/2 [00:03<00:00,  1.94s/it]"
     ]
    },
    {
     "name": "stdout",
     "output_type": "stream",
     "text": [
      "                   all         51         51      0.991       0.98      0.994      0.659\n"
     ]
    },
    {
     "name": "stderr",
     "output_type": "stream",
     "text": [
      "\n"
     ]
    },
    {
     "name": "stdout",
     "output_type": "stream",
     "text": [
      "\n",
      "      Epoch    GPU_mem   box_loss   cls_loss   dfl_loss  Instances       Size\n"
     ]
    },
    {
     "name": "stderr",
     "output_type": "stream",
     "text": [
      "     32/100         0G      1.423     0.6963     0.9514         19        480: 100%|██████████| 24/24 [01:14<00:00,  3.09s/it]\n",
      "                 Class     Images  Instances      Box(P          R      mAP50  mAP50-95): 100%|██████████| 2/2 [00:03<00:00,  1.96s/it]"
     ]
    },
    {
     "name": "stdout",
     "output_type": "stream",
     "text": [
      "                   all         51         51      0.981      0.995      0.995      0.567\n"
     ]
    },
    {
     "name": "stderr",
     "output_type": "stream",
     "text": [
      "\n"
     ]
    },
    {
     "name": "stdout",
     "output_type": "stream",
     "text": [
      "\n",
      "      Epoch    GPU_mem   box_loss   cls_loss   dfl_loss  Instances       Size\n"
     ]
    },
    {
     "name": "stderr",
     "output_type": "stream",
     "text": [
      "     33/100         0G      1.349     0.6733      0.953         18        480: 100%|██████████| 24/24 [01:14<00:00,  3.11s/it]\n",
      "                 Class     Images  Instances      Box(P          R      mAP50  mAP50-95): 100%|██████████| 2/2 [00:03<00:00,  1.99s/it]"
     ]
    },
    {
     "name": "stdout",
     "output_type": "stream",
     "text": [
      "                   all         51         51          1          1      0.995      0.623\n"
     ]
    },
    {
     "name": "stderr",
     "output_type": "stream",
     "text": [
      "\n"
     ]
    },
    {
     "name": "stdout",
     "output_type": "stream",
     "text": [
      "\n",
      "      Epoch    GPU_mem   box_loss   cls_loss   dfl_loss  Instances       Size\n"
     ]
    },
    {
     "name": "stderr",
     "output_type": "stream",
     "text": [
      "     34/100         0G      1.349     0.6537     0.9489         20        480: 100%|██████████| 24/24 [01:13<00:00,  3.05s/it]\n",
      "                 Class     Images  Instances      Box(P          R      mAP50  mAP50-95): 100%|██████████| 2/2 [00:03<00:00,  1.92s/it]"
     ]
    },
    {
     "name": "stdout",
     "output_type": "stream",
     "text": [
      "                   all         51         51          1      0.973      0.994      0.651\n"
     ]
    },
    {
     "name": "stderr",
     "output_type": "stream",
     "text": [
      "\n"
     ]
    },
    {
     "name": "stdout",
     "output_type": "stream",
     "text": [
      "\n",
      "      Epoch    GPU_mem   box_loss   cls_loss   dfl_loss  Instances       Size\n"
     ]
    },
    {
     "name": "stderr",
     "output_type": "stream",
     "text": [
      "     35/100         0G      1.398      0.682     0.9432         18        480: 100%|██████████| 24/24 [01:14<00:00,  3.11s/it]\n",
      "                 Class     Images  Instances      Box(P          R      mAP50  mAP50-95): 100%|██████████| 2/2 [00:03<00:00,  1.95s/it]"
     ]
    },
    {
     "name": "stdout",
     "output_type": "stream",
     "text": [
      "                   all         51         51      0.995          1      0.995      0.636\n"
     ]
    },
    {
     "name": "stderr",
     "output_type": "stream",
     "text": [
      "\n"
     ]
    },
    {
     "name": "stdout",
     "output_type": "stream",
     "text": [
      "\n",
      "      Epoch    GPU_mem   box_loss   cls_loss   dfl_loss  Instances       Size\n"
     ]
    },
    {
     "name": "stderr",
     "output_type": "stream",
     "text": [
      "     36/100         0G      1.379     0.6796     0.9462         16        480: 100%|██████████| 24/24 [01:13<00:00,  3.08s/it]\n",
      "                 Class     Images  Instances      Box(P          R      mAP50  mAP50-95): 100%|██████████| 2/2 [00:04<00:00,  2.03s/it]"
     ]
    },
    {
     "name": "stdout",
     "output_type": "stream",
     "text": [
      "                   all         51         51          1      0.988      0.995      0.669\n"
     ]
    },
    {
     "name": "stderr",
     "output_type": "stream",
     "text": [
      "\n"
     ]
    },
    {
     "name": "stdout",
     "output_type": "stream",
     "text": [
      "\n",
      "      Epoch    GPU_mem   box_loss   cls_loss   dfl_loss  Instances       Size\n"
     ]
    },
    {
     "name": "stderr",
     "output_type": "stream",
     "text": [
      "     37/100         0G        1.4     0.6885       0.97         21        480: 100%|██████████| 24/24 [01:13<00:00,  3.06s/it]\n",
      "                 Class     Images  Instances      Box(P          R      mAP50  mAP50-95): 100%|██████████| 2/2 [00:03<00:00,  1.94s/it]"
     ]
    },
    {
     "name": "stdout",
     "output_type": "stream",
     "text": [
      "                   all         51         51          1       0.98      0.995      0.551\n"
     ]
    },
    {
     "name": "stderr",
     "output_type": "stream",
     "text": [
      "\n"
     ]
    },
    {
     "name": "stdout",
     "output_type": "stream",
     "text": [
      "\n",
      "      Epoch    GPU_mem   box_loss   cls_loss   dfl_loss  Instances       Size\n"
     ]
    },
    {
     "name": "stderr",
     "output_type": "stream",
     "text": [
      "     38/100         0G      1.426     0.7096     0.9511         20        480: 100%|██████████| 24/24 [01:13<00:00,  3.07s/it]\n",
      "                 Class     Images  Instances      Box(P          R      mAP50  mAP50-95): 100%|██████████| 2/2 [00:03<00:00,  1.91s/it]"
     ]
    },
    {
     "name": "stdout",
     "output_type": "stream",
     "text": [
      "                   all         51         51      0.932      0.941      0.932      0.504\n"
     ]
    },
    {
     "name": "stderr",
     "output_type": "stream",
     "text": [
      "\n"
     ]
    },
    {
     "name": "stdout",
     "output_type": "stream",
     "text": [
      "\n",
      "      Epoch    GPU_mem   box_loss   cls_loss   dfl_loss  Instances       Size\n"
     ]
    },
    {
     "name": "stderr",
     "output_type": "stream",
     "text": [
      "     39/100         0G      1.412     0.6774     0.9464         20        480: 100%|██████████| 24/24 [01:20<00:00,  3.33s/it]\n",
      "                 Class     Images  Instances      Box(P          R      mAP50  mAP50-95): 100%|██████████| 2/2 [00:04<00:00,  2.35s/it]"
     ]
    },
    {
     "name": "stdout",
     "output_type": "stream",
     "text": [
      "                   all         51         51       0.96      0.933      0.989      0.629\n"
     ]
    },
    {
     "name": "stderr",
     "output_type": "stream",
     "text": [
      "\n"
     ]
    },
    {
     "name": "stdout",
     "output_type": "stream",
     "text": [
      "\n",
      "      Epoch    GPU_mem   box_loss   cls_loss   dfl_loss  Instances       Size\n"
     ]
    },
    {
     "name": "stderr",
     "output_type": "stream",
     "text": [
      "     40/100         0G      1.343     0.6626     0.9383         23        480: 100%|██████████| 24/24 [01:11<00:00,  2.99s/it]\n",
      "                 Class     Images  Instances      Box(P          R      mAP50  mAP50-95): 100%|██████████| 2/2 [00:03<00:00,  1.98s/it]"
     ]
    },
    {
     "name": "stdout",
     "output_type": "stream",
     "text": [
      "                   all         51         51      0.998          1      0.995      0.606\n"
     ]
    },
    {
     "name": "stderr",
     "output_type": "stream",
     "text": [
      "\n"
     ]
    },
    {
     "name": "stdout",
     "output_type": "stream",
     "text": [
      "\n",
      "      Epoch    GPU_mem   box_loss   cls_loss   dfl_loss  Instances       Size\n"
     ]
    },
    {
     "name": "stderr",
     "output_type": "stream",
     "text": [
      "     41/100         0G      1.364     0.6495     0.9476         15        480: 100%|██████████| 24/24 [01:13<00:00,  3.05s/it]\n",
      "                 Class     Images  Instances      Box(P          R      mAP50  mAP50-95): 100%|██████████| 2/2 [00:03<00:00,  1.91s/it]"
     ]
    },
    {
     "name": "stdout",
     "output_type": "stream",
     "text": [
      "                   all         51         51      0.997       0.98      0.995       0.64\n"
     ]
    },
    {
     "name": "stderr",
     "output_type": "stream",
     "text": [
      "\n"
     ]
    },
    {
     "name": "stdout",
     "output_type": "stream",
     "text": [
      "\n",
      "      Epoch    GPU_mem   box_loss   cls_loss   dfl_loss  Instances       Size\n"
     ]
    },
    {
     "name": "stderr",
     "output_type": "stream",
     "text": [
      "     42/100         0G      1.349     0.6408     0.9578         17        480: 100%|██████████| 24/24 [01:12<00:00,  3.03s/it]\n",
      "                 Class     Images  Instances      Box(P          R      mAP50  mAP50-95): 100%|██████████| 2/2 [00:03<00:00,  1.90s/it]"
     ]
    },
    {
     "name": "stdout",
     "output_type": "stream",
     "text": [
      "                   all         51         51      0.999          1      0.995      0.614\n"
     ]
    },
    {
     "name": "stderr",
     "output_type": "stream",
     "text": [
      "\n"
     ]
    },
    {
     "name": "stdout",
     "output_type": "stream",
     "text": [
      "\n",
      "      Epoch    GPU_mem   box_loss   cls_loss   dfl_loss  Instances       Size\n"
     ]
    },
    {
     "name": "stderr",
     "output_type": "stream",
     "text": [
      "     43/100         0G      1.281     0.6185     0.9176         15        480: 100%|██████████| 24/24 [01:12<00:00,  3.01s/it]\n",
      "                 Class     Images  Instances      Box(P          R      mAP50  mAP50-95): 100%|██████████| 2/2 [00:03<00:00,  1.89s/it]"
     ]
    },
    {
     "name": "stdout",
     "output_type": "stream",
     "text": [
      "                   all         51         51      0.973          1      0.994      0.675\n"
     ]
    },
    {
     "name": "stderr",
     "output_type": "stream",
     "text": [
      "\n"
     ]
    },
    {
     "name": "stdout",
     "output_type": "stream",
     "text": [
      "\n",
      "      Epoch    GPU_mem   box_loss   cls_loss   dfl_loss  Instances       Size\n"
     ]
    },
    {
     "name": "stderr",
     "output_type": "stream",
     "text": [
      "     44/100         0G      1.345     0.6337     0.9451         15        480: 100%|██████████| 24/24 [01:12<00:00,  3.01s/it]\n",
      "                 Class     Images  Instances      Box(P          R      mAP50  mAP50-95): 100%|██████████| 2/2 [00:03<00:00,  1.95s/it]"
     ]
    },
    {
     "name": "stdout",
     "output_type": "stream",
     "text": [
      "                   all         51         51          1      0.999      0.995      0.637\n"
     ]
    },
    {
     "name": "stderr",
     "output_type": "stream",
     "text": [
      "\n"
     ]
    },
    {
     "name": "stdout",
     "output_type": "stream",
     "text": [
      "\n",
      "      Epoch    GPU_mem   box_loss   cls_loss   dfl_loss  Instances       Size\n"
     ]
    },
    {
     "name": "stderr",
     "output_type": "stream",
     "text": [
      "     45/100         0G      1.309     0.5999      0.946         15        480: 100%|██████████| 24/24 [01:12<00:00,  3.03s/it]\n",
      "                 Class     Images  Instances      Box(P          R      mAP50  mAP50-95): 100%|██████████| 2/2 [00:03<00:00,  1.91s/it]"
     ]
    },
    {
     "name": "stdout",
     "output_type": "stream",
     "text": [
      "                   all         51         51      0.999          1      0.995       0.61\n"
     ]
    },
    {
     "name": "stderr",
     "output_type": "stream",
     "text": [
      "\n"
     ]
    },
    {
     "name": "stdout",
     "output_type": "stream",
     "text": [
      "\n",
      "      Epoch    GPU_mem   box_loss   cls_loss   dfl_loss  Instances       Size\n"
     ]
    },
    {
     "name": "stderr",
     "output_type": "stream",
     "text": [
      "     46/100         0G      1.303     0.6034      0.925         23        480: 100%|██████████| 24/24 [01:12<00:00,  3.02s/it]\n",
      "                 Class     Images  Instances      Box(P          R      mAP50  mAP50-95): 100%|██████████| 2/2 [00:03<00:00,  1.93s/it]"
     ]
    },
    {
     "name": "stdout",
     "output_type": "stream",
     "text": [
      "                   all         51         51      0.979          1      0.994       0.67\n"
     ]
    },
    {
     "name": "stderr",
     "output_type": "stream",
     "text": [
      "\n"
     ]
    },
    {
     "name": "stdout",
     "output_type": "stream",
     "text": [
      "\n",
      "      Epoch    GPU_mem   box_loss   cls_loss   dfl_loss  Instances       Size\n"
     ]
    },
    {
     "name": "stderr",
     "output_type": "stream",
     "text": [
      "     47/100         0G      1.227     0.6055     0.9275         22        480: 100%|██████████| 24/24 [01:14<00:00,  3.11s/it]\n",
      "                 Class     Images  Instances      Box(P          R      mAP50  mAP50-95): 100%|██████████| 2/2 [00:04<00:00,  2.06s/it]"
     ]
    },
    {
     "name": "stdout",
     "output_type": "stream",
     "text": [
      "                   all         51         51       0.98       0.98      0.993      0.633\n"
     ]
    },
    {
     "name": "stderr",
     "output_type": "stream",
     "text": [
      "\n"
     ]
    },
    {
     "name": "stdout",
     "output_type": "stream",
     "text": [
      "\n",
      "      Epoch    GPU_mem   box_loss   cls_loss   dfl_loss  Instances       Size\n"
     ]
    },
    {
     "name": "stderr",
     "output_type": "stream",
     "text": [
      "     48/100         0G      1.338     0.6291     0.9451         14        480: 100%|██████████| 24/24 [01:24<00:00,  3.53s/it]\n",
      "                 Class     Images  Instances      Box(P          R      mAP50  mAP50-95): 100%|██████████| 2/2 [00:04<00:00,  2.04s/it]"
     ]
    },
    {
     "name": "stdout",
     "output_type": "stream",
     "text": [
      "                   all         51         51      0.998          1      0.995       0.65\n"
     ]
    },
    {
     "name": "stderr",
     "output_type": "stream",
     "text": [
      "\n"
     ]
    },
    {
     "name": "stdout",
     "output_type": "stream",
     "text": [
      "\n",
      "      Epoch    GPU_mem   box_loss   cls_loss   dfl_loss  Instances       Size\n"
     ]
    },
    {
     "name": "stderr",
     "output_type": "stream",
     "text": [
      "     49/100         0G       1.25     0.5984     0.9578         22        480: 100%|██████████| 24/24 [01:18<00:00,  3.28s/it]\n",
      "                 Class     Images  Instances      Box(P          R      mAP50  mAP50-95): 100%|██████████| 2/2 [00:04<00:00,  2.07s/it]"
     ]
    },
    {
     "name": "stdout",
     "output_type": "stream",
     "text": [
      "                   all         51         51      0.999          1      0.995      0.629\n"
     ]
    },
    {
     "name": "stderr",
     "output_type": "stream",
     "text": [
      "\n"
     ]
    },
    {
     "name": "stdout",
     "output_type": "stream",
     "text": [
      "\n",
      "      Epoch    GPU_mem   box_loss   cls_loss   dfl_loss  Instances       Size\n"
     ]
    },
    {
     "name": "stderr",
     "output_type": "stream",
     "text": [
      "     50/100         0G      1.276     0.6024     0.9405         17        480: 100%|██████████| 24/24 [01:22<00:00,  3.44s/it]\n",
      "                 Class     Images  Instances      Box(P          R      mAP50  mAP50-95): 100%|██████████| 2/2 [00:04<00:00,  2.03s/it]"
     ]
    },
    {
     "name": "stdout",
     "output_type": "stream",
     "text": [
      "                   all         51         51      0.998          1      0.995      0.661\n"
     ]
    },
    {
     "name": "stderr",
     "output_type": "stream",
     "text": [
      "\n"
     ]
    },
    {
     "name": "stdout",
     "output_type": "stream",
     "text": [
      "\n",
      "      Epoch    GPU_mem   box_loss   cls_loss   dfl_loss  Instances       Size\n"
     ]
    },
    {
     "name": "stderr",
     "output_type": "stream",
     "text": [
      "     51/100         0G      1.233     0.5998     0.9385         22        480: 100%|██████████| 24/24 [01:26<00:00,  3.62s/it]\n",
      "                 Class     Images  Instances      Box(P          R      mAP50  mAP50-95): 100%|██████████| 2/2 [00:07<00:00,  3.76s/it]"
     ]
    },
    {
     "name": "stdout",
     "output_type": "stream",
     "text": [
      "                   all         51         51      0.958      0.863      0.977      0.631\n"
     ]
    },
    {
     "name": "stderr",
     "output_type": "stream",
     "text": [
      "\n"
     ]
    },
    {
     "name": "stdout",
     "output_type": "stream",
     "text": [
      "\n",
      "      Epoch    GPU_mem   box_loss   cls_loss   dfl_loss  Instances       Size\n"
     ]
    },
    {
     "name": "stderr",
     "output_type": "stream",
     "text": [
      "     52/100         0G      1.293     0.5913     0.9388         15        480: 100%|██████████| 24/24 [03:02<00:00,  7.61s/it]\n",
      "                 Class     Images  Instances      Box(P          R      mAP50  mAP50-95): 100%|██████████| 2/2 [00:04<00:00,  2.21s/it]"
     ]
    },
    {
     "name": "stdout",
     "output_type": "stream",
     "text": [
      "                   all         51         51          1      0.997      0.995      0.667\n"
     ]
    },
    {
     "name": "stderr",
     "output_type": "stream",
     "text": [
      "\n"
     ]
    },
    {
     "name": "stdout",
     "output_type": "stream",
     "text": [
      "\n",
      "      Epoch    GPU_mem   box_loss   cls_loss   dfl_loss  Instances       Size\n"
     ]
    },
    {
     "name": "stderr",
     "output_type": "stream",
     "text": [
      "     53/100         0G      1.282     0.6065      0.924         18        480: 100%|██████████| 24/24 [01:25<00:00,  3.58s/it]\n",
      "                 Class     Images  Instances      Box(P          R      mAP50  mAP50-95): 100%|██████████| 2/2 [00:04<00:00,  2.28s/it]"
     ]
    },
    {
     "name": "stdout",
     "output_type": "stream",
     "text": [
      "                   all         51         51       0.98      0.953      0.994      0.661\n"
     ]
    },
    {
     "name": "stderr",
     "output_type": "stream",
     "text": [
      "\n"
     ]
    },
    {
     "name": "stdout",
     "output_type": "stream",
     "text": [
      "\n",
      "      Epoch    GPU_mem   box_loss   cls_loss   dfl_loss  Instances       Size\n"
     ]
    },
    {
     "name": "stderr",
     "output_type": "stream",
     "text": [
      "     54/100         0G      1.208     0.5485     0.9379         14        480: 100%|██████████| 24/24 [01:27<00:00,  3.65s/it]\n",
      "                 Class     Images  Instances      Box(P          R      mAP50  mAP50-95): 100%|██████████| 2/2 [00:04<00:00,  2.18s/it]"
     ]
    },
    {
     "name": "stdout",
     "output_type": "stream",
     "text": [
      "                   all         51         51          1      0.925      0.993      0.651\n"
     ]
    },
    {
     "name": "stderr",
     "output_type": "stream",
     "text": [
      "\n"
     ]
    },
    {
     "name": "stdout",
     "output_type": "stream",
     "text": [
      "\n",
      "      Epoch    GPU_mem   box_loss   cls_loss   dfl_loss  Instances       Size\n"
     ]
    },
    {
     "name": "stderr",
     "output_type": "stream",
     "text": [
      "     55/100         0G      1.298     0.5771     0.9403         20        480: 100%|██████████| 24/24 [01:27<00:00,  3.66s/it]\n",
      "                 Class     Images  Instances      Box(P          R      mAP50  mAP50-95): 100%|██████████| 2/2 [00:05<00:00,  2.53s/it]"
     ]
    },
    {
     "name": "stdout",
     "output_type": "stream",
     "text": [
      "                   all         51         51      0.998          1      0.995      0.627\n"
     ]
    },
    {
     "name": "stderr",
     "output_type": "stream",
     "text": [
      "\n"
     ]
    },
    {
     "name": "stdout",
     "output_type": "stream",
     "text": [
      "\n",
      "      Epoch    GPU_mem   box_loss   cls_loss   dfl_loss  Instances       Size\n"
     ]
    },
    {
     "name": "stderr",
     "output_type": "stream",
     "text": [
      "     56/100         0G      1.227     0.5819     0.9279         23        480: 100%|██████████| 24/24 [01:26<00:00,  3.61s/it]\n",
      "                 Class     Images  Instances      Box(P          R      mAP50  mAP50-95): 100%|██████████| 2/2 [00:04<00:00,  2.20s/it]"
     ]
    },
    {
     "name": "stdout",
     "output_type": "stream",
     "text": [
      "                   all         51         51      0.999          1      0.995      0.618\n"
     ]
    },
    {
     "name": "stderr",
     "output_type": "stream",
     "text": [
      "\n"
     ]
    },
    {
     "name": "stdout",
     "output_type": "stream",
     "text": [
      "\n",
      "      Epoch    GPU_mem   box_loss   cls_loss   dfl_loss  Instances       Size\n"
     ]
    },
    {
     "name": "stderr",
     "output_type": "stream",
     "text": [
      "     57/100         0G      1.291     0.6339     0.9497         24        480: 100%|██████████| 24/24 [01:31<00:00,  3.83s/it]\n",
      "                 Class     Images  Instances      Box(P          R      mAP50  mAP50-95): 100%|██████████| 2/2 [00:05<00:00,  2.56s/it]"
     ]
    },
    {
     "name": "stdout",
     "output_type": "stream",
     "text": [
      "                   all         51         51      0.998          1      0.995      0.658\n"
     ]
    },
    {
     "name": "stderr",
     "output_type": "stream",
     "text": [
      "\n"
     ]
    },
    {
     "name": "stdout",
     "output_type": "stream",
     "text": [
      "\n",
      "      Epoch    GPU_mem   box_loss   cls_loss   dfl_loss  Instances       Size\n"
     ]
    },
    {
     "name": "stderr",
     "output_type": "stream",
     "text": [
      "     58/100         0G      1.216     0.5693     0.9066         14        480: 100%|██████████| 24/24 [01:24<00:00,  3.53s/it]\n",
      "                 Class     Images  Instances      Box(P          R      mAP50  mAP50-95): 100%|██████████| 2/2 [00:03<00:00,  1.98s/it]"
     ]
    },
    {
     "name": "stdout",
     "output_type": "stream",
     "text": [
      "                   all         51         51      0.999          1      0.995      0.633\n"
     ]
    },
    {
     "name": "stderr",
     "output_type": "stream",
     "text": [
      "\n"
     ]
    },
    {
     "name": "stdout",
     "output_type": "stream",
     "text": [
      "\n",
      "      Epoch    GPU_mem   box_loss   cls_loss   dfl_loss  Instances       Size\n"
     ]
    },
    {
     "name": "stderr",
     "output_type": "stream",
     "text": [
      "     59/100         0G      1.213     0.5933     0.9243         21        480: 100%|██████████| 24/24 [01:21<00:00,  3.40s/it]\n",
      "                 Class     Images  Instances      Box(P          R      mAP50  mAP50-95): 100%|██████████| 2/2 [00:06<00:00,  3.27s/it]"
     ]
    },
    {
     "name": "stdout",
     "output_type": "stream",
     "text": [
      "                   all         51         51      0.997          1      0.995      0.635\n"
     ]
    },
    {
     "name": "stderr",
     "output_type": "stream",
     "text": [
      "\n"
     ]
    },
    {
     "name": "stdout",
     "output_type": "stream",
     "text": [
      "\n",
      "      Epoch    GPU_mem   box_loss   cls_loss   dfl_loss  Instances       Size\n"
     ]
    },
    {
     "name": "stderr",
     "output_type": "stream",
     "text": [
      "     60/100         0G      1.179     0.5605     0.9165         16        480: 100%|██████████| 24/24 [01:30<00:00,  3.77s/it]\n",
      "                 Class     Images  Instances      Box(P          R      mAP50  mAP50-95): 100%|██████████| 2/2 [00:04<00:00,  2.16s/it]"
     ]
    },
    {
     "name": "stdout",
     "output_type": "stream",
     "text": [
      "                   all         51         51          1      0.993      0.995      0.659\n"
     ]
    },
    {
     "name": "stderr",
     "output_type": "stream",
     "text": [
      "\n"
     ]
    },
    {
     "name": "stdout",
     "output_type": "stream",
     "text": [
      "\n",
      "      Epoch    GPU_mem   box_loss   cls_loss   dfl_loss  Instances       Size\n"
     ]
    },
    {
     "name": "stderr",
     "output_type": "stream",
     "text": [
      "     61/100         0G        1.2     0.5747     0.9063         16        480: 100%|██████████| 24/24 [01:46<00:00,  4.42s/it]\n",
      "                 Class     Images  Instances      Box(P          R      mAP50  mAP50-95): 100%|██████████| 2/2 [00:04<00:00,  2.18s/it]"
     ]
    },
    {
     "name": "stdout",
     "output_type": "stream",
     "text": [
      "                   all         51         51       0.98          1      0.995      0.656\n"
     ]
    },
    {
     "name": "stderr",
     "output_type": "stream",
     "text": [
      "\n"
     ]
    },
    {
     "name": "stdout",
     "output_type": "stream",
     "text": [
      "\n",
      "      Epoch    GPU_mem   box_loss   cls_loss   dfl_loss  Instances       Size\n"
     ]
    },
    {
     "name": "stderr",
     "output_type": "stream",
     "text": [
      "     62/100         0G      1.212     0.5646      0.923         13        480: 100%|██████████| 24/24 [01:24<00:00,  3.54s/it]\n",
      "                 Class     Images  Instances      Box(P          R      mAP50  mAP50-95): 100%|██████████| 2/2 [00:04<00:00,  2.10s/it]"
     ]
    },
    {
     "name": "stdout",
     "output_type": "stream",
     "text": [
      "                   all         51         51          1       0.94      0.987      0.619\n"
     ]
    },
    {
     "name": "stderr",
     "output_type": "stream",
     "text": [
      "\n"
     ]
    },
    {
     "name": "stdout",
     "output_type": "stream",
     "text": [
      "\n",
      "      Epoch    GPU_mem   box_loss   cls_loss   dfl_loss  Instances       Size\n"
     ]
    },
    {
     "name": "stderr",
     "output_type": "stream",
     "text": [
      "     63/100         0G      1.274     0.5898     0.9211         14        480: 100%|██████████| 24/24 [01:20<00:00,  3.37s/it]\n",
      "                 Class     Images  Instances      Box(P          R      mAP50  mAP50-95): 100%|██████████| 2/2 [00:03<00:00,  1.98s/it]"
     ]
    },
    {
     "name": "stdout",
     "output_type": "stream",
     "text": [
      "                   all         51         51          1      0.997      0.995      0.655\n"
     ]
    },
    {
     "name": "stderr",
     "output_type": "stream",
     "text": [
      "\n"
     ]
    },
    {
     "name": "stdout",
     "output_type": "stream",
     "text": [
      "\n",
      "      Epoch    GPU_mem   box_loss   cls_loss   dfl_loss  Instances       Size\n"
     ]
    },
    {
     "name": "stderr",
     "output_type": "stream",
     "text": [
      "     64/100         0G      1.189     0.5546     0.9347         13        480: 100%|██████████| 24/24 [01:12<00:00,  3.03s/it]\n",
      "                 Class     Images  Instances      Box(P          R      mAP50  mAP50-95): 100%|██████████| 2/2 [00:03<00:00,  1.85s/it]"
     ]
    },
    {
     "name": "stdout",
     "output_type": "stream",
     "text": [
      "                   all         51         51      0.998          1      0.995      0.635\n"
     ]
    },
    {
     "name": "stderr",
     "output_type": "stream",
     "text": [
      "\n"
     ]
    },
    {
     "name": "stdout",
     "output_type": "stream",
     "text": [
      "\n",
      "      Epoch    GPU_mem   box_loss   cls_loss   dfl_loss  Instances       Size\n"
     ]
    },
    {
     "name": "stderr",
     "output_type": "stream",
     "text": [
      "     65/100         0G      1.195     0.5605     0.9076         17        480: 100%|██████████| 24/24 [01:09<00:00,  2.91s/it]\n",
      "                 Class     Images  Instances      Box(P          R      mAP50  mAP50-95): 100%|██████████| 2/2 [00:03<00:00,  1.81s/it]"
     ]
    },
    {
     "name": "stdout",
     "output_type": "stream",
     "text": [
      "                   all         51         51      0.981      0.995      0.995       0.64\n"
     ]
    },
    {
     "name": "stderr",
     "output_type": "stream",
     "text": [
      "\n"
     ]
    },
    {
     "name": "stdout",
     "output_type": "stream",
     "text": [
      "\n",
      "      Epoch    GPU_mem   box_loss   cls_loss   dfl_loss  Instances       Size\n"
     ]
    },
    {
     "name": "stderr",
     "output_type": "stream",
     "text": [
      "     66/100         0G       1.12     0.5495     0.8823         26        480: 100%|██████████| 24/24 [01:08<00:00,  2.87s/it]\n",
      "                 Class     Images  Instances      Box(P          R      mAP50  mAP50-95): 100%|██████████| 2/2 [00:03<00:00,  1.81s/it]"
     ]
    },
    {
     "name": "stdout",
     "output_type": "stream",
     "text": [
      "                   all         51         51          1      0.997      0.995       0.64\n"
     ]
    },
    {
     "name": "stderr",
     "output_type": "stream",
     "text": [
      "\n"
     ]
    },
    {
     "name": "stdout",
     "output_type": "stream",
     "text": [
      "\n",
      "      Epoch    GPU_mem   box_loss   cls_loss   dfl_loss  Instances       Size\n"
     ]
    },
    {
     "name": "stderr",
     "output_type": "stream",
     "text": [
      "     67/100         0G      1.164     0.5536     0.9122         17        480: 100%|██████████| 24/24 [01:08<00:00,  2.85s/it]\n",
      "                 Class     Images  Instances      Box(P          R      mAP50  mAP50-95): 100%|██████████| 2/2 [00:03<00:00,  1.83s/it]"
     ]
    },
    {
     "name": "stdout",
     "output_type": "stream",
     "text": [
      "                   all         51         51      0.998          1      0.995      0.652\n"
     ]
    },
    {
     "name": "stderr",
     "output_type": "stream",
     "text": [
      "\n"
     ]
    },
    {
     "name": "stdout",
     "output_type": "stream",
     "text": [
      "\n",
      "      Epoch    GPU_mem   box_loss   cls_loss   dfl_loss  Instances       Size\n"
     ]
    },
    {
     "name": "stderr",
     "output_type": "stream",
     "text": [
      "     68/100         0G      1.186      0.545     0.9132         19        480: 100%|██████████| 24/24 [01:09<00:00,  2.88s/it]\n",
      "                 Class     Images  Instances      Box(P          R      mAP50  mAP50-95): 100%|██████████| 2/2 [00:03<00:00,  1.81s/it]"
     ]
    },
    {
     "name": "stdout",
     "output_type": "stream",
     "text": [
      "                   all         51         51      0.999          1      0.995      0.676\n"
     ]
    },
    {
     "name": "stderr",
     "output_type": "stream",
     "text": [
      "\n"
     ]
    },
    {
     "name": "stdout",
     "output_type": "stream",
     "text": [
      "\n",
      "      Epoch    GPU_mem   box_loss   cls_loss   dfl_loss  Instances       Size\n"
     ]
    },
    {
     "name": "stderr",
     "output_type": "stream",
     "text": [
      "     69/100         0G      1.144     0.5462     0.9159         15        480: 100%|██████████| 24/24 [01:09<00:00,  2.89s/it]\n",
      "                 Class     Images  Instances      Box(P          R      mAP50  mAP50-95): 100%|██████████| 2/2 [00:03<00:00,  1.82s/it]"
     ]
    },
    {
     "name": "stdout",
     "output_type": "stream",
     "text": [
      "                   all         51         51          1          1      0.995      0.693\n"
     ]
    },
    {
     "name": "stderr",
     "output_type": "stream",
     "text": [
      "\n"
     ]
    },
    {
     "name": "stdout",
     "output_type": "stream",
     "text": [
      "\n",
      "      Epoch    GPU_mem   box_loss   cls_loss   dfl_loss  Instances       Size\n"
     ]
    },
    {
     "name": "stderr",
     "output_type": "stream",
     "text": [
      "     70/100         0G      1.185     0.5487     0.9336         14        480: 100%|██████████| 24/24 [01:08<00:00,  2.86s/it]\n",
      "                 Class     Images  Instances      Box(P          R      mAP50  mAP50-95): 100%|██████████| 2/2 [00:03<00:00,  1.82s/it]"
     ]
    },
    {
     "name": "stdout",
     "output_type": "stream",
     "text": [
      "                   all         51         51          1          1      0.995      0.625\n"
     ]
    },
    {
     "name": "stderr",
     "output_type": "stream",
     "text": [
      "\n"
     ]
    },
    {
     "name": "stdout",
     "output_type": "stream",
     "text": [
      "\n",
      "      Epoch    GPU_mem   box_loss   cls_loss   dfl_loss  Instances       Size\n"
     ]
    },
    {
     "name": "stderr",
     "output_type": "stream",
     "text": [
      "     71/100         0G      1.145     0.5254     0.8942         19        480: 100%|██████████| 24/24 [01:09<00:00,  2.88s/it]\n",
      "                 Class     Images  Instances      Box(P          R      mAP50  mAP50-95): 100%|██████████| 2/2 [00:03<00:00,  1.82s/it]"
     ]
    },
    {
     "name": "stdout",
     "output_type": "stream",
     "text": [
      "                   all         51         51      0.998          1      0.995      0.682\n"
     ]
    },
    {
     "name": "stderr",
     "output_type": "stream",
     "text": [
      "\n"
     ]
    },
    {
     "name": "stdout",
     "output_type": "stream",
     "text": [
      "\n",
      "      Epoch    GPU_mem   box_loss   cls_loss   dfl_loss  Instances       Size\n"
     ]
    },
    {
     "name": "stderr",
     "output_type": "stream",
     "text": [
      "     72/100         0G      1.176     0.5365     0.9173         23        480: 100%|██████████| 24/24 [01:09<00:00,  2.91s/it]\n",
      "                 Class     Images  Instances      Box(P          R      mAP50  mAP50-95): 100%|██████████| 2/2 [00:03<00:00,  1.87s/it]"
     ]
    },
    {
     "name": "stdout",
     "output_type": "stream",
     "text": [
      "                   all         51         51          1      0.999      0.995      0.699\n"
     ]
    },
    {
     "name": "stderr",
     "output_type": "stream",
     "text": [
      "\n"
     ]
    },
    {
     "name": "stdout",
     "output_type": "stream",
     "text": [
      "\n",
      "      Epoch    GPU_mem   box_loss   cls_loss   dfl_loss  Instances       Size\n"
     ]
    },
    {
     "name": "stderr",
     "output_type": "stream",
     "text": [
      "     73/100         0G       1.19     0.5183     0.9291         10        480: 100%|██████████| 24/24 [01:08<00:00,  2.87s/it]\n",
      "                 Class     Images  Instances      Box(P          R      mAP50  mAP50-95): 100%|██████████| 2/2 [00:03<00:00,  1.84s/it]"
     ]
    },
    {
     "name": "stdout",
     "output_type": "stream",
     "text": [
      "                   all         51         51          1      0.999      0.995      0.701\n"
     ]
    },
    {
     "name": "stderr",
     "output_type": "stream",
     "text": [
      "\n"
     ]
    },
    {
     "name": "stdout",
     "output_type": "stream",
     "text": [
      "\n",
      "      Epoch    GPU_mem   box_loss   cls_loss   dfl_loss  Instances       Size\n"
     ]
    },
    {
     "name": "stderr",
     "output_type": "stream",
     "text": [
      "     74/100         0G      1.152     0.5169      0.928         24        480: 100%|██████████| 24/24 [01:09<00:00,  2.90s/it]\n",
      "                 Class     Images  Instances      Box(P          R      mAP50  mAP50-95): 100%|██████████| 2/2 [00:03<00:00,  1.81s/it]"
     ]
    },
    {
     "name": "stdout",
     "output_type": "stream",
     "text": [
      "                   all         51         51      0.997          1      0.995      0.701\n"
     ]
    },
    {
     "name": "stderr",
     "output_type": "stream",
     "text": [
      "\n"
     ]
    },
    {
     "name": "stdout",
     "output_type": "stream",
     "text": [
      "\n",
      "      Epoch    GPU_mem   box_loss   cls_loss   dfl_loss  Instances       Size\n"
     ]
    },
    {
     "name": "stderr",
     "output_type": "stream",
     "text": [
      "     75/100         0G      1.119     0.5143     0.8891         17        480: 100%|██████████| 24/24 [01:08<00:00,  2.87s/it]\n",
      "                 Class     Images  Instances      Box(P          R      mAP50  mAP50-95): 100%|██████████| 2/2 [00:03<00:00,  1.90s/it]"
     ]
    },
    {
     "name": "stdout",
     "output_type": "stream",
     "text": [
      "                   all         51         51          1          1      0.995      0.698\n"
     ]
    },
    {
     "name": "stderr",
     "output_type": "stream",
     "text": [
      "\n"
     ]
    },
    {
     "name": "stdout",
     "output_type": "stream",
     "text": [
      "\n",
      "      Epoch    GPU_mem   box_loss   cls_loss   dfl_loss  Instances       Size\n"
     ]
    },
    {
     "name": "stderr",
     "output_type": "stream",
     "text": [
      "     76/100         0G      1.102     0.4939     0.9136         22        480: 100%|██████████| 24/24 [01:08<00:00,  2.86s/it]\n",
      "                 Class     Images  Instances      Box(P          R      mAP50  mAP50-95): 100%|██████████| 2/2 [00:03<00:00,  1.82s/it]"
     ]
    },
    {
     "name": "stdout",
     "output_type": "stream",
     "text": [
      "                   all         51         51          1          1      0.995      0.673\n"
     ]
    },
    {
     "name": "stderr",
     "output_type": "stream",
     "text": [
      "\n"
     ]
    },
    {
     "name": "stdout",
     "output_type": "stream",
     "text": [
      "\n",
      "      Epoch    GPU_mem   box_loss   cls_loss   dfl_loss  Instances       Size\n"
     ]
    },
    {
     "name": "stderr",
     "output_type": "stream",
     "text": [
      "     77/100         0G      1.102      0.505     0.9144         16        480: 100%|██████████| 24/24 [01:08<00:00,  2.87s/it]\n",
      "                 Class     Images  Instances      Box(P          R      mAP50  mAP50-95): 100%|██████████| 2/2 [00:03<00:00,  1.81s/it]"
     ]
    },
    {
     "name": "stdout",
     "output_type": "stream",
     "text": [
      "                   all         51         51      0.999          1      0.995      0.661\n"
     ]
    },
    {
     "name": "stderr",
     "output_type": "stream",
     "text": [
      "\n"
     ]
    },
    {
     "name": "stdout",
     "output_type": "stream",
     "text": [
      "\n",
      "      Epoch    GPU_mem   box_loss   cls_loss   dfl_loss  Instances       Size\n"
     ]
    },
    {
     "name": "stderr",
     "output_type": "stream",
     "text": [
      "     78/100         0G      1.113     0.5253     0.9076         20        480: 100%|██████████| 24/24 [01:09<00:00,  2.88s/it]\n",
      "                 Class     Images  Instances      Box(P          R      mAP50  mAP50-95): 100%|██████████| 2/2 [00:03<00:00,  1.82s/it]"
     ]
    },
    {
     "name": "stdout",
     "output_type": "stream",
     "text": [
      "                   all         51         51          1          1      0.995      0.699\n"
     ]
    },
    {
     "name": "stderr",
     "output_type": "stream",
     "text": [
      "\n"
     ]
    },
    {
     "name": "stdout",
     "output_type": "stream",
     "text": [
      "\n",
      "      Epoch    GPU_mem   box_loss   cls_loss   dfl_loss  Instances       Size\n"
     ]
    },
    {
     "name": "stderr",
     "output_type": "stream",
     "text": [
      "     79/100         0G      1.076     0.5131      0.913         20        480: 100%|██████████| 24/24 [01:08<00:00,  2.87s/it]\n",
      "                 Class     Images  Instances      Box(P          R      mAP50  mAP50-95): 100%|██████████| 2/2 [00:03<00:00,  1.83s/it]"
     ]
    },
    {
     "name": "stdout",
     "output_type": "stream",
     "text": [
      "                   all         51         51          1          1      0.995      0.687\n"
     ]
    },
    {
     "name": "stderr",
     "output_type": "stream",
     "text": [
      "\n"
     ]
    },
    {
     "name": "stdout",
     "output_type": "stream",
     "text": [
      "\n",
      "      Epoch    GPU_mem   box_loss   cls_loss   dfl_loss  Instances       Size\n"
     ]
    },
    {
     "name": "stderr",
     "output_type": "stream",
     "text": [
      "     80/100         0G      1.098     0.4802     0.9203         19        480: 100%|██████████| 24/24 [01:09<00:00,  2.89s/it]\n",
      "                 Class     Images  Instances      Box(P          R      mAP50  mAP50-95): 100%|██████████| 2/2 [00:03<00:00,  1.82s/it]"
     ]
    },
    {
     "name": "stdout",
     "output_type": "stream",
     "text": [
      "                   all         51         51          1          1      0.995       0.68\n"
     ]
    },
    {
     "name": "stderr",
     "output_type": "stream",
     "text": [
      "\n"
     ]
    },
    {
     "name": "stdout",
     "output_type": "stream",
     "text": [
      "\n",
      "      Epoch    GPU_mem   box_loss   cls_loss   dfl_loss  Instances       Size\n"
     ]
    },
    {
     "name": "stderr",
     "output_type": "stream",
     "text": [
      "     81/100         0G      1.114     0.5047     0.8982         17        480: 100%|██████████| 24/24 [01:09<00:00,  2.89s/it]\n",
      "                 Class     Images  Instances      Box(P          R      mAP50  mAP50-95): 100%|██████████| 2/2 [00:03<00:00,  1.89s/it]"
     ]
    },
    {
     "name": "stdout",
     "output_type": "stream",
     "text": [
      "                   all         51         51          1      0.999      0.995      0.698\n"
     ]
    },
    {
     "name": "stderr",
     "output_type": "stream",
     "text": [
      "\n"
     ]
    },
    {
     "name": "stdout",
     "output_type": "stream",
     "text": [
      "\n",
      "      Epoch    GPU_mem   box_loss   cls_loss   dfl_loss  Instances       Size\n"
     ]
    },
    {
     "name": "stderr",
     "output_type": "stream",
     "text": [
      "     82/100         0G      1.104     0.5033     0.9099         25        480: 100%|██████████| 24/24 [01:09<00:00,  2.88s/it]\n",
      "                 Class     Images  Instances      Box(P          R      mAP50  mAP50-95): 100%|██████████| 2/2 [00:03<00:00,  1.95s/it]"
     ]
    },
    {
     "name": "stdout",
     "output_type": "stream",
     "text": [
      "                   all         51         51          1      0.998      0.995      0.689\n"
     ]
    },
    {
     "name": "stderr",
     "output_type": "stream",
     "text": [
      "\n"
     ]
    },
    {
     "name": "stdout",
     "output_type": "stream",
     "text": [
      "\n",
      "      Epoch    GPU_mem   box_loss   cls_loss   dfl_loss  Instances       Size\n"
     ]
    },
    {
     "name": "stderr",
     "output_type": "stream",
     "text": [
      "     83/100         0G      1.103     0.5005     0.9125         19        480: 100%|██████████| 24/24 [01:09<00:00,  2.88s/it]\n",
      "                 Class     Images  Instances      Box(P          R      mAP50  mAP50-95): 100%|██████████| 2/2 [00:03<00:00,  1.84s/it]"
     ]
    },
    {
     "name": "stdout",
     "output_type": "stream",
     "text": [
      "                   all         51         51          1      0.999      0.995      0.665\n"
     ]
    },
    {
     "name": "stderr",
     "output_type": "stream",
     "text": [
      "\n"
     ]
    },
    {
     "name": "stdout",
     "output_type": "stream",
     "text": [
      "\n",
      "      Epoch    GPU_mem   box_loss   cls_loss   dfl_loss  Instances       Size\n"
     ]
    },
    {
     "name": "stderr",
     "output_type": "stream",
     "text": [
      "     84/100         0G      1.083     0.4792      0.897         15        480: 100%|██████████| 24/24 [01:09<00:00,  2.90s/it]\n",
      "                 Class     Images  Instances      Box(P          R      mAP50  mAP50-95): 100%|██████████| 2/2 [00:03<00:00,  1.89s/it]"
     ]
    },
    {
     "name": "stdout",
     "output_type": "stream",
     "text": [
      "                   all         51         51          1      0.999      0.995       0.68\n"
     ]
    },
    {
     "name": "stderr",
     "output_type": "stream",
     "text": [
      "\n"
     ]
    },
    {
     "name": "stdout",
     "output_type": "stream",
     "text": [
      "\n",
      "      Epoch    GPU_mem   box_loss   cls_loss   dfl_loss  Instances       Size\n"
     ]
    },
    {
     "name": "stderr",
     "output_type": "stream",
     "text": [
      "     85/100         0G      1.051     0.4871      0.904         14        480: 100%|██████████| 24/24 [01:09<00:00,  2.89s/it]\n",
      "                 Class     Images  Instances      Box(P          R      mAP50  mAP50-95): 100%|██████████| 2/2 [00:03<00:00,  1.84s/it]"
     ]
    },
    {
     "name": "stdout",
     "output_type": "stream",
     "text": [
      "                   all         51         51          1      0.999      0.995      0.688\n"
     ]
    },
    {
     "name": "stderr",
     "output_type": "stream",
     "text": [
      "\n"
     ]
    },
    {
     "name": "stdout",
     "output_type": "stream",
     "text": [
      "\n",
      "      Epoch    GPU_mem   box_loss   cls_loss   dfl_loss  Instances       Size\n"
     ]
    },
    {
     "name": "stderr",
     "output_type": "stream",
     "text": [
      "     86/100         0G      1.055     0.4793     0.8986         15        480: 100%|██████████| 24/24 [01:09<00:00,  2.89s/it]\n",
      "                 Class     Images  Instances      Box(P          R      mAP50  mAP50-95): 100%|██████████| 2/2 [00:03<00:00,  1.83s/it]"
     ]
    },
    {
     "name": "stdout",
     "output_type": "stream",
     "text": [
      "                   all         51         51      0.999          1      0.995      0.659\n"
     ]
    },
    {
     "name": "stderr",
     "output_type": "stream",
     "text": [
      "\n"
     ]
    },
    {
     "name": "stdout",
     "output_type": "stream",
     "text": [
      "\n",
      "      Epoch    GPU_mem   box_loss   cls_loss   dfl_loss  Instances       Size\n"
     ]
    },
    {
     "name": "stderr",
     "output_type": "stream",
     "text": [
      "     87/100         0G      1.098      0.503     0.8933         23        480: 100%|██████████| 24/24 [01:09<00:00,  2.91s/it]\n",
      "                 Class     Images  Instances      Box(P          R      mAP50  mAP50-95): 100%|██████████| 2/2 [00:03<00:00,  1.82s/it]"
     ]
    },
    {
     "name": "stdout",
     "output_type": "stream",
     "text": [
      "                   all         51         51          1          1      0.995      0.676\n"
     ]
    },
    {
     "name": "stderr",
     "output_type": "stream",
     "text": [
      "\n"
     ]
    },
    {
     "name": "stdout",
     "output_type": "stream",
     "text": [
      "\n",
      "      Epoch    GPU_mem   box_loss   cls_loss   dfl_loss  Instances       Size\n"
     ]
    },
    {
     "name": "stderr",
     "output_type": "stream",
     "text": [
      "     88/100         0G      1.054     0.4801     0.8865          9        480: 100%|██████████| 24/24 [01:09<00:00,  2.89s/it]\n",
      "                 Class     Images  Instances      Box(P          R      mAP50  mAP50-95): 100%|██████████| 2/2 [00:03<00:00,  1.85s/it]"
     ]
    },
    {
     "name": "stdout",
     "output_type": "stream",
     "text": [
      "                   all         51         51          1      0.999      0.995      0.707\n"
     ]
    },
    {
     "name": "stderr",
     "output_type": "stream",
     "text": [
      "\n"
     ]
    },
    {
     "name": "stdout",
     "output_type": "stream",
     "text": [
      "\n",
      "      Epoch    GPU_mem   box_loss   cls_loss   dfl_loss  Instances       Size\n"
     ]
    },
    {
     "name": "stderr",
     "output_type": "stream",
     "text": [
      "     89/100         0G       1.06     0.4783     0.8882         18        480: 100%|██████████| 24/24 [01:09<00:00,  2.89s/it]\n",
      "                 Class     Images  Instances      Box(P          R      mAP50  mAP50-95): 100%|██████████| 2/2 [00:03<00:00,  1.86s/it]"
     ]
    },
    {
     "name": "stdout",
     "output_type": "stream",
     "text": [
      "                   all         51         51          1          1      0.995        0.7\n"
     ]
    },
    {
     "name": "stderr",
     "output_type": "stream",
     "text": [
      "\n"
     ]
    },
    {
     "name": "stdout",
     "output_type": "stream",
     "text": [
      "\n",
      "      Epoch    GPU_mem   box_loss   cls_loss   dfl_loss  Instances       Size\n"
     ]
    },
    {
     "name": "stderr",
     "output_type": "stream",
     "text": [
      "     90/100         0G       1.09     0.4956     0.9081         18        480: 100%|██████████| 24/24 [01:09<00:00,  2.91s/it]\n",
      "                 Class     Images  Instances      Box(P          R      mAP50  mAP50-95): 100%|██████████| 2/2 [00:03<00:00,  1.87s/it]"
     ]
    },
    {
     "name": "stdout",
     "output_type": "stream",
     "text": [
      "                   all         51         51          1          1      0.995      0.709\n"
     ]
    },
    {
     "name": "stderr",
     "output_type": "stream",
     "text": [
      "\n"
     ]
    },
    {
     "name": "stdout",
     "output_type": "stream",
     "text": [
      "Closing dataloader mosaic\n",
      "\n",
      "      Epoch    GPU_mem   box_loss   cls_loss   dfl_loss  Instances       Size\n"
     ]
    },
    {
     "name": "stderr",
     "output_type": "stream",
     "text": [
      "c:\\Users\\Dell\\AppData\\Local\\Programs\\Python\\Python313\\Lib\\site-packages\\torch\\utils\\data\\dataloader.py:665: UserWarning: 'pin_memory' argument is set as true but no accelerator is found, then device pinned memory won't be used.\n",
      "  warnings.warn(warn_msg)\n",
      "     91/100         0G      1.049     0.4709     0.8916         13        480: 100%|██████████| 24/24 [01:08<00:00,  2.87s/it]\n",
      "                 Class     Images  Instances      Box(P          R      mAP50  mAP50-95): 100%|██████████| 2/2 [00:03<00:00,  1.83s/it]"
     ]
    },
    {
     "name": "stdout",
     "output_type": "stream",
     "text": [
      "                   all         51         51          1      0.999      0.995      0.675\n"
     ]
    },
    {
     "name": "stderr",
     "output_type": "stream",
     "text": [
      "\n"
     ]
    },
    {
     "name": "stdout",
     "output_type": "stream",
     "text": [
      "\n",
      "      Epoch    GPU_mem   box_loss   cls_loss   dfl_loss  Instances       Size\n"
     ]
    },
    {
     "name": "stderr",
     "output_type": "stream",
     "text": [
      "     92/100         0G     0.9786     0.4535     0.9083         13        480: 100%|██████████| 24/24 [01:20<00:00,  3.37s/it]\n",
      "                 Class     Images  Instances      Box(P          R      mAP50  mAP50-95): 100%|██████████| 2/2 [00:04<00:00,  2.02s/it]"
     ]
    },
    {
     "name": "stdout",
     "output_type": "stream",
     "text": [
      "                   all         51         51          1          1      0.995      0.664\n"
     ]
    },
    {
     "name": "stderr",
     "output_type": "stream",
     "text": [
      "\n"
     ]
    },
    {
     "name": "stdout",
     "output_type": "stream",
     "text": [
      "\n",
      "      Epoch    GPU_mem   box_loss   cls_loss   dfl_loss  Instances       Size\n"
     ]
    },
    {
     "name": "stderr",
     "output_type": "stream",
     "text": [
      "     93/100         0G      1.013     0.4449     0.9176         13        480: 100%|██████████| 24/24 [01:12<00:00,  3.01s/it]\n",
      "                 Class     Images  Instances      Box(P          R      mAP50  mAP50-95): 100%|██████████| 2/2 [00:03<00:00,  1.97s/it]"
     ]
    },
    {
     "name": "stdout",
     "output_type": "stream",
     "text": [
      "                   all         51         51          1      0.999      0.995      0.683\n"
     ]
    },
    {
     "name": "stderr",
     "output_type": "stream",
     "text": [
      "\n"
     ]
    },
    {
     "name": "stdout",
     "output_type": "stream",
     "text": [
      "\n",
      "      Epoch    GPU_mem   box_loss   cls_loss   dfl_loss  Instances       Size\n"
     ]
    },
    {
     "name": "stderr",
     "output_type": "stream",
     "text": [
      "     94/100         0G      1.013     0.4581      0.898         13        480: 100%|██████████| 24/24 [01:12<00:00,  3.03s/it]\n",
      "                 Class     Images  Instances      Box(P          R      mAP50  mAP50-95): 100%|██████████| 2/2 [00:03<00:00,  1.90s/it]"
     ]
    },
    {
     "name": "stdout",
     "output_type": "stream",
     "text": [
      "                   all         51         51          1      0.999      0.995      0.694\n"
     ]
    },
    {
     "name": "stderr",
     "output_type": "stream",
     "text": [
      "\n"
     ]
    },
    {
     "name": "stdout",
     "output_type": "stream",
     "text": [
      "\n",
      "      Epoch    GPU_mem   box_loss   cls_loss   dfl_loss  Instances       Size\n"
     ]
    },
    {
     "name": "stderr",
     "output_type": "stream",
     "text": [
      "     95/100         0G     0.9592     0.4559     0.8828         13        480: 100%|██████████| 24/24 [01:11<00:00,  3.00s/it]\n",
      "                 Class     Images  Instances      Box(P          R      mAP50  mAP50-95): 100%|██████████| 2/2 [00:03<00:00,  1.92s/it]"
     ]
    },
    {
     "name": "stdout",
     "output_type": "stream",
     "text": [
      "                   all         51         51          1      0.999      0.995      0.673\n"
     ]
    },
    {
     "name": "stderr",
     "output_type": "stream",
     "text": [
      "\n"
     ]
    },
    {
     "name": "stdout",
     "output_type": "stream",
     "text": [
      "\n",
      "      Epoch    GPU_mem   box_loss   cls_loss   dfl_loss  Instances       Size\n"
     ]
    },
    {
     "name": "stderr",
     "output_type": "stream",
     "text": [
      "     96/100         0G      1.008      0.454     0.8984         13        480: 100%|██████████| 24/24 [01:12<00:00,  3.02s/it]\n",
      "                 Class     Images  Instances      Box(P          R      mAP50  mAP50-95): 100%|██████████| 2/2 [00:04<00:00,  2.02s/it]"
     ]
    },
    {
     "name": "stdout",
     "output_type": "stream",
     "text": [
      "                   all         51         51          1      0.999      0.995      0.689\n"
     ]
    },
    {
     "name": "stderr",
     "output_type": "stream",
     "text": [
      "\n"
     ]
    },
    {
     "name": "stdout",
     "output_type": "stream",
     "text": [
      "\n",
      "      Epoch    GPU_mem   box_loss   cls_loss   dfl_loss  Instances       Size\n"
     ]
    },
    {
     "name": "stderr",
     "output_type": "stream",
     "text": [
      "     97/100         0G      0.982      0.438     0.9063         13        480: 100%|██████████| 24/24 [01:12<00:00,  3.00s/it]\n",
      "                 Class     Images  Instances      Box(P          R      mAP50  mAP50-95): 100%|██████████| 2/2 [00:03<00:00,  1.94s/it]"
     ]
    },
    {
     "name": "stdout",
     "output_type": "stream",
     "text": [
      "                   all         51         51          1      0.999      0.995      0.696\n"
     ]
    },
    {
     "name": "stderr",
     "output_type": "stream",
     "text": [
      "\n"
     ]
    },
    {
     "name": "stdout",
     "output_type": "stream",
     "text": [
      "\n",
      "      Epoch    GPU_mem   box_loss   cls_loss   dfl_loss  Instances       Size\n"
     ]
    },
    {
     "name": "stderr",
     "output_type": "stream",
     "text": [
      "     98/100         0G      1.001     0.4466     0.8835         13        480: 100%|██████████| 24/24 [01:13<00:00,  3.06s/it]\n",
      "                 Class     Images  Instances      Box(P          R      mAP50  mAP50-95): 100%|██████████| 2/2 [00:04<00:00,  2.05s/it]"
     ]
    },
    {
     "name": "stdout",
     "output_type": "stream",
     "text": [
      "                   all         51         51          1      0.999      0.995      0.695\n"
     ]
    },
    {
     "name": "stderr",
     "output_type": "stream",
     "text": [
      "\n"
     ]
    },
    {
     "name": "stdout",
     "output_type": "stream",
     "text": [
      "\n",
      "      Epoch    GPU_mem   box_loss   cls_loss   dfl_loss  Instances       Size\n"
     ]
    },
    {
     "name": "stderr",
     "output_type": "stream",
     "text": [
      "     99/100         0G     0.9481     0.4354      0.881         13        480: 100%|██████████| 24/24 [01:15<00:00,  3.16s/it]\n",
      "                 Class     Images  Instances      Box(P          R      mAP50  mAP50-95): 100%|██████████| 2/2 [00:04<00:00,  2.06s/it]"
     ]
    },
    {
     "name": "stdout",
     "output_type": "stream",
     "text": [
      "                   all         51         51          1      0.999      0.995      0.691\n"
     ]
    },
    {
     "name": "stderr",
     "output_type": "stream",
     "text": [
      "\n"
     ]
    },
    {
     "name": "stdout",
     "output_type": "stream",
     "text": [
      "\n",
      "      Epoch    GPU_mem   box_loss   cls_loss   dfl_loss  Instances       Size\n"
     ]
    },
    {
     "name": "stderr",
     "output_type": "stream",
     "text": [
      "    100/100         0G      1.008     0.4336     0.9056         13        480: 100%|██████████| 24/24 [01:13<00:00,  3.07s/it]\n",
      "                 Class     Images  Instances      Box(P          R      mAP50  mAP50-95): 100%|██████████| 2/2 [00:04<00:00,  2.10s/it]"
     ]
    },
    {
     "name": "stdout",
     "output_type": "stream",
     "text": [
      "                   all         51         51          1      0.999      0.995      0.689\n"
     ]
    },
    {
     "name": "stderr",
     "output_type": "stream",
     "text": [
      "\n"
     ]
    },
    {
     "name": "stdout",
     "output_type": "stream",
     "text": [
      "\n",
      "100 epochs completed in 2.237 hours.\n",
      "Optimizer stripped from runs\\detect\\skier_tracking5\\weights\\last.pt, 6.2MB\n",
      "Optimizer stripped from runs\\detect\\skier_tracking5\\weights\\best.pt, 6.2MB\n",
      "\n",
      "Validating runs\\detect\\skier_tracking5\\weights\\best.pt...\n",
      "Ultralytics 8.3.153  Python-3.13.3 torch-2.7.1+cpu CPU (AMD Ryzen 5 5500U with Radeon Graphics)\n",
      "Model summary (fused): 72 layers, 3,006,038 parameters, 0 gradients, 8.1 GFLOPs\n"
     ]
    },
    {
     "name": "stderr",
     "output_type": "stream",
     "text": [
      "                 Class     Images  Instances      Box(P          R      mAP50  mAP50-95): 100%|██████████| 2/2 [00:03<00:00,  1.92s/it]\n"
     ]
    },
    {
     "name": "stdout",
     "output_type": "stream",
     "text": [
      "                   all         51         51          1          1      0.995      0.709\n",
      "                 skier         51         51          1          1      0.995      0.709\n",
      "Speed: 1.5ms preprocess, 64.1ms inference, 0.0ms loss, 0.7ms postprocess per image\n",
      "Results saved to \u001b[1mruns\\detect\\skier_tracking5\u001b[0m\n"
     ]
    },
    {
     "data": {
      "text/plain": [
       "ultralytics.utils.metrics.DetMetrics object with attributes:\n",
       "\n",
       "ap_class_index: array([0])\n",
       "box: ultralytics.utils.metrics.Metric object\n",
       "confusion_matrix: <ultralytics.utils.metrics.ConfusionMatrix object at 0x000002336C65AFD0>\n",
       "curves: ['Precision-Recall(B)', 'F1-Confidence(B)', 'Precision-Confidence(B)', 'Recall-Confidence(B)']\n",
       "curves_results: [[array([          0,    0.001001,    0.002002,    0.003003,    0.004004,    0.005005,    0.006006,    0.007007,    0.008008,    0.009009,     0.01001,    0.011011,    0.012012,    0.013013,    0.014014,    0.015015,    0.016016,    0.017017,    0.018018,    0.019019,     0.02002,    0.021021,    0.022022,    0.023023,\n",
       "          0.024024,    0.025025,    0.026026,    0.027027,    0.028028,    0.029029,     0.03003,    0.031031,    0.032032,    0.033033,    0.034034,    0.035035,    0.036036,    0.037037,    0.038038,    0.039039,     0.04004,    0.041041,    0.042042,    0.043043,    0.044044,    0.045045,    0.046046,    0.047047,\n",
       "          0.048048,    0.049049,     0.05005,    0.051051,    0.052052,    0.053053,    0.054054,    0.055055,    0.056056,    0.057057,    0.058058,    0.059059,     0.06006,    0.061061,    0.062062,    0.063063,    0.064064,    0.065065,    0.066066,    0.067067,    0.068068,    0.069069,     0.07007,    0.071071,\n",
       "          0.072072,    0.073073,    0.074074,    0.075075,    0.076076,    0.077077,    0.078078,    0.079079,     0.08008,    0.081081,    0.082082,    0.083083,    0.084084,    0.085085,    0.086086,    0.087087,    0.088088,    0.089089,     0.09009,    0.091091,    0.092092,    0.093093,    0.094094,    0.095095,\n",
       "          0.096096,    0.097097,    0.098098,    0.099099,      0.1001,      0.1011,      0.1021,      0.1031,      0.1041,     0.10511,     0.10611,     0.10711,     0.10811,     0.10911,     0.11011,     0.11111,     0.11211,     0.11311,     0.11411,     0.11512,     0.11612,     0.11712,     0.11812,     0.11912,\n",
       "           0.12012,     0.12112,     0.12212,     0.12312,     0.12412,     0.12513,     0.12613,     0.12713,     0.12813,     0.12913,     0.13013,     0.13113,     0.13213,     0.13313,     0.13413,     0.13514,     0.13614,     0.13714,     0.13814,     0.13914,     0.14014,     0.14114,     0.14214,     0.14314,\n",
       "           0.14414,     0.14515,     0.14615,     0.14715,     0.14815,     0.14915,     0.15015,     0.15115,     0.15215,     0.15315,     0.15415,     0.15516,     0.15616,     0.15716,     0.15816,     0.15916,     0.16016,     0.16116,     0.16216,     0.16316,     0.16416,     0.16517,     0.16617,     0.16717,\n",
       "           0.16817,     0.16917,     0.17017,     0.17117,     0.17217,     0.17317,     0.17417,     0.17518,     0.17618,     0.17718,     0.17818,     0.17918,     0.18018,     0.18118,     0.18218,     0.18318,     0.18418,     0.18519,     0.18619,     0.18719,     0.18819,     0.18919,     0.19019,     0.19119,\n",
       "           0.19219,     0.19319,     0.19419,      0.1952,      0.1962,      0.1972,      0.1982,      0.1992,      0.2002,      0.2012,      0.2022,      0.2032,      0.2042,     0.20521,     0.20621,     0.20721,     0.20821,     0.20921,     0.21021,     0.21121,     0.21221,     0.21321,     0.21421,     0.21522,\n",
       "           0.21622,     0.21722,     0.21822,     0.21922,     0.22022,     0.22122,     0.22222,     0.22322,     0.22422,     0.22523,     0.22623,     0.22723,     0.22823,     0.22923,     0.23023,     0.23123,     0.23223,     0.23323,     0.23423,     0.23524,     0.23624,     0.23724,     0.23824,     0.23924,\n",
       "           0.24024,     0.24124,     0.24224,     0.24324,     0.24424,     0.24525,     0.24625,     0.24725,     0.24825,     0.24925,     0.25025,     0.25125,     0.25225,     0.25325,     0.25425,     0.25526,     0.25626,     0.25726,     0.25826,     0.25926,     0.26026,     0.26126,     0.26226,     0.26326,\n",
       "           0.26426,     0.26527,     0.26627,     0.26727,     0.26827,     0.26927,     0.27027,     0.27127,     0.27227,     0.27327,     0.27427,     0.27528,     0.27628,     0.27728,     0.27828,     0.27928,     0.28028,     0.28128,     0.28228,     0.28328,     0.28428,     0.28529,     0.28629,     0.28729,\n",
       "           0.28829,     0.28929,     0.29029,     0.29129,     0.29229,     0.29329,     0.29429,      0.2953,      0.2963,      0.2973,      0.2983,      0.2993,      0.3003,      0.3013,      0.3023,      0.3033,      0.3043,     0.30531,     0.30631,     0.30731,     0.30831,     0.30931,     0.31031,     0.31131,\n",
       "           0.31231,     0.31331,     0.31431,     0.31532,     0.31632,     0.31732,     0.31832,     0.31932,     0.32032,     0.32132,     0.32232,     0.32332,     0.32432,     0.32533,     0.32633,     0.32733,     0.32833,     0.32933,     0.33033,     0.33133,     0.33233,     0.33333,     0.33433,     0.33534,\n",
       "           0.33634,     0.33734,     0.33834,     0.33934,     0.34034,     0.34134,     0.34234,     0.34334,     0.34434,     0.34535,     0.34635,     0.34735,     0.34835,     0.34935,     0.35035,     0.35135,     0.35235,     0.35335,     0.35435,     0.35536,     0.35636,     0.35736,     0.35836,     0.35936,\n",
       "           0.36036,     0.36136,     0.36236,     0.36336,     0.36436,     0.36537,     0.36637,     0.36737,     0.36837,     0.36937,     0.37037,     0.37137,     0.37237,     0.37337,     0.37437,     0.37538,     0.37638,     0.37738,     0.37838,     0.37938,     0.38038,     0.38138,     0.38238,     0.38338,\n",
       "           0.38438,     0.38539,     0.38639,     0.38739,     0.38839,     0.38939,     0.39039,     0.39139,     0.39239,     0.39339,     0.39439,      0.3954,      0.3964,      0.3974,      0.3984,      0.3994,      0.4004,      0.4014,      0.4024,      0.4034,      0.4044,     0.40541,     0.40641,     0.40741,\n",
       "           0.40841,     0.40941,     0.41041,     0.41141,     0.41241,     0.41341,     0.41441,     0.41542,     0.41642,     0.41742,     0.41842,     0.41942,     0.42042,     0.42142,     0.42242,     0.42342,     0.42442,     0.42543,     0.42643,     0.42743,     0.42843,     0.42943,     0.43043,     0.43143,\n",
       "           0.43243,     0.43343,     0.43443,     0.43544,     0.43644,     0.43744,     0.43844,     0.43944,     0.44044,     0.44144,     0.44244,     0.44344,     0.44444,     0.44545,     0.44645,     0.44745,     0.44845,     0.44945,     0.45045,     0.45145,     0.45245,     0.45345,     0.45445,     0.45546,\n",
       "           0.45646,     0.45746,     0.45846,     0.45946,     0.46046,     0.46146,     0.46246,     0.46346,     0.46446,     0.46547,     0.46647,     0.46747,     0.46847,     0.46947,     0.47047,     0.47147,     0.47247,     0.47347,     0.47447,     0.47548,     0.47648,     0.47748,     0.47848,     0.47948,\n",
       "           0.48048,     0.48148,     0.48248,     0.48348,     0.48448,     0.48549,     0.48649,     0.48749,     0.48849,     0.48949,     0.49049,     0.49149,     0.49249,     0.49349,     0.49449,      0.4955,      0.4965,      0.4975,      0.4985,      0.4995,      0.5005,      0.5015,      0.5025,      0.5035,\n",
       "            0.5045,     0.50551,     0.50651,     0.50751,     0.50851,     0.50951,     0.51051,     0.51151,     0.51251,     0.51351,     0.51451,     0.51552,     0.51652,     0.51752,     0.51852,     0.51952,     0.52052,     0.52152,     0.52252,     0.52352,     0.52452,     0.52553,     0.52653,     0.52753,\n",
       "           0.52853,     0.52953,     0.53053,     0.53153,     0.53253,     0.53353,     0.53453,     0.53554,     0.53654,     0.53754,     0.53854,     0.53954,     0.54054,     0.54154,     0.54254,     0.54354,     0.54454,     0.54555,     0.54655,     0.54755,     0.54855,     0.54955,     0.55055,     0.55155,\n",
       "           0.55255,     0.55355,     0.55455,     0.55556,     0.55656,     0.55756,     0.55856,     0.55956,     0.56056,     0.56156,     0.56256,     0.56356,     0.56456,     0.56557,     0.56657,     0.56757,     0.56857,     0.56957,     0.57057,     0.57157,     0.57257,     0.57357,     0.57457,     0.57558,\n",
       "           0.57658,     0.57758,     0.57858,     0.57958,     0.58058,     0.58158,     0.58258,     0.58358,     0.58458,     0.58559,     0.58659,     0.58759,     0.58859,     0.58959,     0.59059,     0.59159,     0.59259,     0.59359,     0.59459,      0.5956,      0.5966,      0.5976,      0.5986,      0.5996,\n",
       "            0.6006,      0.6016,      0.6026,      0.6036,      0.6046,     0.60561,     0.60661,     0.60761,     0.60861,     0.60961,     0.61061,     0.61161,     0.61261,     0.61361,     0.61461,     0.61562,     0.61662,     0.61762,     0.61862,     0.61962,     0.62062,     0.62162,     0.62262,     0.62362,\n",
       "           0.62462,     0.62563,     0.62663,     0.62763,     0.62863,     0.62963,     0.63063,     0.63163,     0.63263,     0.63363,     0.63463,     0.63564,     0.63664,     0.63764,     0.63864,     0.63964,     0.64064,     0.64164,     0.64264,     0.64364,     0.64464,     0.64565,     0.64665,     0.64765,\n",
       "           0.64865,     0.64965,     0.65065,     0.65165,     0.65265,     0.65365,     0.65465,     0.65566,     0.65666,     0.65766,     0.65866,     0.65966,     0.66066,     0.66166,     0.66266,     0.66366,     0.66466,     0.66567,     0.66667,     0.66767,     0.66867,     0.66967,     0.67067,     0.67167,\n",
       "           0.67267,     0.67367,     0.67467,     0.67568,     0.67668,     0.67768,     0.67868,     0.67968,     0.68068,     0.68168,     0.68268,     0.68368,     0.68468,     0.68569,     0.68669,     0.68769,     0.68869,     0.68969,     0.69069,     0.69169,     0.69269,     0.69369,     0.69469,      0.6957,\n",
       "            0.6967,      0.6977,      0.6987,      0.6997,      0.7007,      0.7017,      0.7027,      0.7037,      0.7047,     0.70571,     0.70671,     0.70771,     0.70871,     0.70971,     0.71071,     0.71171,     0.71271,     0.71371,     0.71471,     0.71572,     0.71672,     0.71772,     0.71872,     0.71972,\n",
       "           0.72072,     0.72172,     0.72272,     0.72372,     0.72472,     0.72573,     0.72673,     0.72773,     0.72873,     0.72973,     0.73073,     0.73173,     0.73273,     0.73373,     0.73473,     0.73574,     0.73674,     0.73774,     0.73874,     0.73974,     0.74074,     0.74174,     0.74274,     0.74374,\n",
       "           0.74474,     0.74575,     0.74675,     0.74775,     0.74875,     0.74975,     0.75075,     0.75175,     0.75275,     0.75375,     0.75475,     0.75576,     0.75676,     0.75776,     0.75876,     0.75976,     0.76076,     0.76176,     0.76276,     0.76376,     0.76476,     0.76577,     0.76677,     0.76777,\n",
       "           0.76877,     0.76977,     0.77077,     0.77177,     0.77277,     0.77377,     0.77477,     0.77578,     0.77678,     0.77778,     0.77878,     0.77978,     0.78078,     0.78178,     0.78278,     0.78378,     0.78478,     0.78579,     0.78679,     0.78779,     0.78879,     0.78979,     0.79079,     0.79179,\n",
       "           0.79279,     0.79379,     0.79479,      0.7958,      0.7968,      0.7978,      0.7988,      0.7998,      0.8008,      0.8018,      0.8028,      0.8038,      0.8048,     0.80581,     0.80681,     0.80781,     0.80881,     0.80981,     0.81081,     0.81181,     0.81281,     0.81381,     0.81481,     0.81582,\n",
       "           0.81682,     0.81782,     0.81882,     0.81982,     0.82082,     0.82182,     0.82282,     0.82382,     0.82482,     0.82583,     0.82683,     0.82783,     0.82883,     0.82983,     0.83083,     0.83183,     0.83283,     0.83383,     0.83483,     0.83584,     0.83684,     0.83784,     0.83884,     0.83984,\n",
       "           0.84084,     0.84184,     0.84284,     0.84384,     0.84484,     0.84585,     0.84685,     0.84785,     0.84885,     0.84985,     0.85085,     0.85185,     0.85285,     0.85385,     0.85485,     0.85586,     0.85686,     0.85786,     0.85886,     0.85986,     0.86086,     0.86186,     0.86286,     0.86386,\n",
       "           0.86486,     0.86587,     0.86687,     0.86787,     0.86887,     0.86987,     0.87087,     0.87187,     0.87287,     0.87387,     0.87487,     0.87588,     0.87688,     0.87788,     0.87888,     0.87988,     0.88088,     0.88188,     0.88288,     0.88388,     0.88488,     0.88589,     0.88689,     0.88789,\n",
       "           0.88889,     0.88989,     0.89089,     0.89189,     0.89289,     0.89389,     0.89489,      0.8959,      0.8969,      0.8979,      0.8989,      0.8999,      0.9009,      0.9019,      0.9029,      0.9039,      0.9049,     0.90591,     0.90691,     0.90791,     0.90891,     0.90991,     0.91091,     0.91191,\n",
       "           0.91291,     0.91391,     0.91491,     0.91592,     0.91692,     0.91792,     0.91892,     0.91992,     0.92092,     0.92192,     0.92292,     0.92392,     0.92492,     0.92593,     0.92693,     0.92793,     0.92893,     0.92993,     0.93093,     0.93193,     0.93293,     0.93393,     0.93493,     0.93594,\n",
       "           0.93694,     0.93794,     0.93894,     0.93994,     0.94094,     0.94194,     0.94294,     0.94394,     0.94494,     0.94595,     0.94695,     0.94795,     0.94895,     0.94995,     0.95095,     0.95195,     0.95295,     0.95395,     0.95495,     0.95596,     0.95696,     0.95796,     0.95896,     0.95996,\n",
       "           0.96096,     0.96196,     0.96296,     0.96396,     0.96496,     0.96597,     0.96697,     0.96797,     0.96897,     0.96997,     0.97097,     0.97197,     0.97297,     0.97397,     0.97497,     0.97598,     0.97698,     0.97798,     0.97898,     0.97998,     0.98098,     0.98198,     0.98298,     0.98398,\n",
       "           0.98498,     0.98599,     0.98699,     0.98799,     0.98899,     0.98999,     0.99099,     0.99199,     0.99299,     0.99399,     0.99499,       0.996,       0.997,       0.998,       0.999,           1]), array([[          1,           1,           1,           1,           1,           1,           1,           1,           1,           1,           1,           1,           1,           1,           1,           1,           1,           1,           1,           1,           1,           1,           1,\n",
       "                  1,           1,           1,           1,           1,           1,           1,           1,           1,           1,           1,           1,           1,           1,           1,           1,           1,           1,           1,           1,           1,           1,           1,\n",
       "                  1,           1,           1,           1,           1,           1,           1,           1,           1,           1,           1,           1,           1,           1,           1,           1,           1,           1,           1,           1,           1,           1,           1,\n",
       "                  1,           1,           1,           1,           1,           1,           1,           1,           1,           1,           1,           1,           1,           1,           1,           1,           1,           1,           1,           1,           1,           1,           1,\n",
       "                  1,           1,           1,           1,           1,           1,           1,           1,           1,           1,           1,           1,           1,           1,           1,           1,           1,           1,           1,           1,           1,           1,           1,\n",
       "                  1,           1,           1,           1,           1,           1,           1,           1,           1,           1,           1,           1,           1,           1,           1,           1,           1,           1,           1,           1,           1,           1,           1,\n",
       "                  1,           1,           1,           1,           1,           1,           1,           1,           1,           1,           1,           1,           1,           1,           1,           1,           1,           1,           1,           1,           1,           1,           1,\n",
       "                  1,           1,           1,           1,           1,           1,           1,           1,           1,           1,           1,           1,           1,           1,           1,           1,           1,           1,           1,           1,           1,           1,           1,\n",
       "                  1,           1,           1,           1,           1,           1,           1,           1,           1,           1,           1,           1,           1,           1,           1,           1,           1,           1,           1,           1,           1,           1,           1,\n",
       "                  1,           1,           1,           1,           1,           1,           1,           1,           1,           1,           1,           1,           1,           1,           1,           1,           1,           1,           1,           1,           1,           1,           1,\n",
       "                  1,           1,           1,           1,           1,           1,           1,           1,           1,           1,           1,           1,           1,           1,           1,           1,           1,           1,           1,           1,           1,           1,           1,\n",
       "                  1,           1,           1,           1,           1,           1,           1,           1,           1,           1,           1,           1,           1,           1,           1,           1,           1,           1,           1,           1,           1,           1,           1,\n",
       "                  1,           1,           1,           1,           1,           1,           1,           1,           1,           1,           1,           1,           1,           1,           1,           1,           1,           1,           1,           1,           1,           1,           1,\n",
       "                  1,           1,           1,           1,           1,           1,           1,           1,           1,           1,           1,           1,           1,           1,           1,           1,           1,           1,           1,           1,           1,           1,           1,\n",
       "                  1,           1,           1,           1,           1,           1,           1,           1,           1,           1,           1,           1,           1,           1,           1,           1,           1,           1,           1,           1,           1,           1,           1,\n",
       "                  1,           1,           1,           1,           1,           1,           1,           1,           1,           1,           1,           1,           1,           1,           1,           1,           1,           1,           1,           1,           1,           1,           1,\n",
       "                  1,           1,           1,           1,           1,           1,           1,           1,           1,           1,           1,           1,           1,           1,           1,           1,           1,           1,           1,           1,           1,           1,           1,\n",
       "                  1,           1,           1,           1,           1,           1,           1,           1,           1,           1,           1,           1,           1,           1,           1,           1,           1,           1,           1,           1,           1,           1,           1,\n",
       "                  1,           1,           1,           1,           1,           1,           1,           1,           1,           1,           1,           1,           1,           1,           1,           1,           1,           1,           1,           1,           1,           1,           1,\n",
       "                  1,           1,           1,           1,           1,           1,           1,           1,           1,           1,           1,           1,           1,           1,           1,           1,           1,           1,           1,           1,           1,           1,           1,\n",
       "                  1,           1,           1,           1,           1,           1,           1,           1,           1,           1,           1,           1,           1,           1,           1,           1,           1,           1,           1,           1,           1,           1,           1,\n",
       "                  1,           1,           1,           1,           1,           1,           1,           1,           1,           1,           1,           1,           1,           1,           1,           1,           1,           1,           1,           1,           1,           1,           1,\n",
       "                  1,           1,           1,           1,           1,           1,           1,           1,           1,           1,           1,           1,           1,           1,           1,           1,           1,           1,           1,           1,           1,           1,           1,\n",
       "                  1,           1,           1,           1,           1,           1,           1,           1,           1,           1,           1,           1,           1,           1,           1,           1,           1,           1,           1,           1,           1,           1,           1,\n",
       "                  1,           1,           1,           1,           1,           1,           1,           1,           1,           1,           1,           1,           1,           1,           1,           1,           1,           1,           1,           1,           1,           1,           1,\n",
       "                  1,           1,           1,           1,           1,           1,           1,           1,           1,           1,           1,           1,           1,           1,           1,           1,           1,           1,           1,           1,           1,           1,           1,\n",
       "                  1,           1,           1,           1,           1,           1,           1,           1,           1,           1,           1,           1,           1,           1,           1,           1,           1,           1,           1,           1,           1,           1,           1,\n",
       "                  1,           1,           1,           1,           1,           1,           1,           1,           1,           1,           1,           1,           1,           1,           1,           1,           1,           1,           1,           1,           1,           1,           1,\n",
       "                  1,           1,           1,           1,           1,           1,           1,           1,           1,           1,           1,           1,           1,           1,           1,           1,           1,           1,           1,           1,           1,           1,           1,\n",
       "                  1,           1,           1,           1,           1,           1,           1,           1,           1,           1,           1,           1,           1,           1,           1,           1,           1,           1,           1,           1,           1,           1,           1,\n",
       "                  1,           1,           1,           1,           1,           1,           1,           1,           1,           1,           1,           1,           1,           1,           1,           1,           1,           1,           1,           1,           1,           1,           1,\n",
       "                  1,           1,           1,           1,           1,           1,           1,           1,           1,           1,           1,           1,           1,           1,           1,           1,           1,           1,           1,           1,           1,           1,           1,\n",
       "                  1,           1,           1,           1,           1,           1,           1,           1,           1,           1,           1,           1,           1,           1,           1,           1,           1,           1,           1,           1,           1,           1,           1,\n",
       "                  1,           1,           1,           1,           1,           1,           1,           1,           1,           1,           1,           1,           1,           1,           1,           1,           1,           1,           1,           1,           1,           1,           1,\n",
       "                  1,           1,           1,           1,           1,           1,           1,           1,           1,           1,           1,           1,           1,           1,           1,           1,           1,           1,           1,           1,           1,           1,           1,\n",
       "                  1,           1,           1,           1,           1,           1,           1,           1,           1,           1,           1,           1,           1,           1,           1,           1,           1,           1,           1,           1,           1,           1,           1,\n",
       "                  1,           1,           1,           1,           1,           1,           1,           1,           1,           1,           1,           1,           1,           1,           1,           1,           1,           1,           1,           1,           1,           1,           1,\n",
       "                  1,           1,           1,           1,           1,           1,           1,           1,           1,           1,           1,           1,           1,           1,           1,           1,           1,           1,           1,           1,           1,           1,           1,\n",
       "                  1,           1,           1,           1,           1,           1,           1,           1,           1,           1,           1,           1,           1,           1,           1,           1,           1,           1,           1,           1,           1,           1,           1,\n",
       "                  1,           1,           1,           1,           1,           1,           1,           1,           1,           1,           1,           1,           1,           1,           1,           1,           1,           1,           1,           1,           1,           1,           1,\n",
       "                  1,           1,           1,           1,           1,           1,           1,           1,           1,           1,           1,           1,           1,           1,           1,           1,           1,           1,           1,           1,           1,           1,           1,\n",
       "                  1,           1,           1,           1,           1,           1,           1,           1,           1,           1,           1,           1,           1,           1,           1,           1,           1,           1,           1,           1,           1,           1,           1,\n",
       "                  1,           1,           1,           1,           1,           1,           1,           1,           1,           1,           1,           1,           1,           1,           1,           1,           1,           1,           1,           1,           1,           1,           1,\n",
       "                  1,           1,           1,           1,           1,           1,           1,           1,           1,           1,           0]]), 'Recall', 'Precision'], [array([          0,    0.001001,    0.002002,    0.003003,    0.004004,    0.005005,    0.006006,    0.007007,    0.008008,    0.009009,     0.01001,    0.011011,    0.012012,    0.013013,    0.014014,    0.015015,    0.016016,    0.017017,    0.018018,    0.019019,     0.02002,    0.021021,    0.022022,    0.023023,\n",
       "          0.024024,    0.025025,    0.026026,    0.027027,    0.028028,    0.029029,     0.03003,    0.031031,    0.032032,    0.033033,    0.034034,    0.035035,    0.036036,    0.037037,    0.038038,    0.039039,     0.04004,    0.041041,    0.042042,    0.043043,    0.044044,    0.045045,    0.046046,    0.047047,\n",
       "          0.048048,    0.049049,     0.05005,    0.051051,    0.052052,    0.053053,    0.054054,    0.055055,    0.056056,    0.057057,    0.058058,    0.059059,     0.06006,    0.061061,    0.062062,    0.063063,    0.064064,    0.065065,    0.066066,    0.067067,    0.068068,    0.069069,     0.07007,    0.071071,\n",
       "          0.072072,    0.073073,    0.074074,    0.075075,    0.076076,    0.077077,    0.078078,    0.079079,     0.08008,    0.081081,    0.082082,    0.083083,    0.084084,    0.085085,    0.086086,    0.087087,    0.088088,    0.089089,     0.09009,    0.091091,    0.092092,    0.093093,    0.094094,    0.095095,\n",
       "          0.096096,    0.097097,    0.098098,    0.099099,      0.1001,      0.1011,      0.1021,      0.1031,      0.1041,     0.10511,     0.10611,     0.10711,     0.10811,     0.10911,     0.11011,     0.11111,     0.11211,     0.11311,     0.11411,     0.11512,     0.11612,     0.11712,     0.11812,     0.11912,\n",
       "           0.12012,     0.12112,     0.12212,     0.12312,     0.12412,     0.12513,     0.12613,     0.12713,     0.12813,     0.12913,     0.13013,     0.13113,     0.13213,     0.13313,     0.13413,     0.13514,     0.13614,     0.13714,     0.13814,     0.13914,     0.14014,     0.14114,     0.14214,     0.14314,\n",
       "           0.14414,     0.14515,     0.14615,     0.14715,     0.14815,     0.14915,     0.15015,     0.15115,     0.15215,     0.15315,     0.15415,     0.15516,     0.15616,     0.15716,     0.15816,     0.15916,     0.16016,     0.16116,     0.16216,     0.16316,     0.16416,     0.16517,     0.16617,     0.16717,\n",
       "           0.16817,     0.16917,     0.17017,     0.17117,     0.17217,     0.17317,     0.17417,     0.17518,     0.17618,     0.17718,     0.17818,     0.17918,     0.18018,     0.18118,     0.18218,     0.18318,     0.18418,     0.18519,     0.18619,     0.18719,     0.18819,     0.18919,     0.19019,     0.19119,\n",
       "           0.19219,     0.19319,     0.19419,      0.1952,      0.1962,      0.1972,      0.1982,      0.1992,      0.2002,      0.2012,      0.2022,      0.2032,      0.2042,     0.20521,     0.20621,     0.20721,     0.20821,     0.20921,     0.21021,     0.21121,     0.21221,     0.21321,     0.21421,     0.21522,\n",
       "           0.21622,     0.21722,     0.21822,     0.21922,     0.22022,     0.22122,     0.22222,     0.22322,     0.22422,     0.22523,     0.22623,     0.22723,     0.22823,     0.22923,     0.23023,     0.23123,     0.23223,     0.23323,     0.23423,     0.23524,     0.23624,     0.23724,     0.23824,     0.23924,\n",
       "           0.24024,     0.24124,     0.24224,     0.24324,     0.24424,     0.24525,     0.24625,     0.24725,     0.24825,     0.24925,     0.25025,     0.25125,     0.25225,     0.25325,     0.25425,     0.25526,     0.25626,     0.25726,     0.25826,     0.25926,     0.26026,     0.26126,     0.26226,     0.26326,\n",
       "           0.26426,     0.26527,     0.26627,     0.26727,     0.26827,     0.26927,     0.27027,     0.27127,     0.27227,     0.27327,     0.27427,     0.27528,     0.27628,     0.27728,     0.27828,     0.27928,     0.28028,     0.28128,     0.28228,     0.28328,     0.28428,     0.28529,     0.28629,     0.28729,\n",
       "           0.28829,     0.28929,     0.29029,     0.29129,     0.29229,     0.29329,     0.29429,      0.2953,      0.2963,      0.2973,      0.2983,      0.2993,      0.3003,      0.3013,      0.3023,      0.3033,      0.3043,     0.30531,     0.30631,     0.30731,     0.30831,     0.30931,     0.31031,     0.31131,\n",
       "           0.31231,     0.31331,     0.31431,     0.31532,     0.31632,     0.31732,     0.31832,     0.31932,     0.32032,     0.32132,     0.32232,     0.32332,     0.32432,     0.32533,     0.32633,     0.32733,     0.32833,     0.32933,     0.33033,     0.33133,     0.33233,     0.33333,     0.33433,     0.33534,\n",
       "           0.33634,     0.33734,     0.33834,     0.33934,     0.34034,     0.34134,     0.34234,     0.34334,     0.34434,     0.34535,     0.34635,     0.34735,     0.34835,     0.34935,     0.35035,     0.35135,     0.35235,     0.35335,     0.35435,     0.35536,     0.35636,     0.35736,     0.35836,     0.35936,\n",
       "           0.36036,     0.36136,     0.36236,     0.36336,     0.36436,     0.36537,     0.36637,     0.36737,     0.36837,     0.36937,     0.37037,     0.37137,     0.37237,     0.37337,     0.37437,     0.37538,     0.37638,     0.37738,     0.37838,     0.37938,     0.38038,     0.38138,     0.38238,     0.38338,\n",
       "           0.38438,     0.38539,     0.38639,     0.38739,     0.38839,     0.38939,     0.39039,     0.39139,     0.39239,     0.39339,     0.39439,      0.3954,      0.3964,      0.3974,      0.3984,      0.3994,      0.4004,      0.4014,      0.4024,      0.4034,      0.4044,     0.40541,     0.40641,     0.40741,\n",
       "           0.40841,     0.40941,     0.41041,     0.41141,     0.41241,     0.41341,     0.41441,     0.41542,     0.41642,     0.41742,     0.41842,     0.41942,     0.42042,     0.42142,     0.42242,     0.42342,     0.42442,     0.42543,     0.42643,     0.42743,     0.42843,     0.42943,     0.43043,     0.43143,\n",
       "           0.43243,     0.43343,     0.43443,     0.43544,     0.43644,     0.43744,     0.43844,     0.43944,     0.44044,     0.44144,     0.44244,     0.44344,     0.44444,     0.44545,     0.44645,     0.44745,     0.44845,     0.44945,     0.45045,     0.45145,     0.45245,     0.45345,     0.45445,     0.45546,\n",
       "           0.45646,     0.45746,     0.45846,     0.45946,     0.46046,     0.46146,     0.46246,     0.46346,     0.46446,     0.46547,     0.46647,     0.46747,     0.46847,     0.46947,     0.47047,     0.47147,     0.47247,     0.47347,     0.47447,     0.47548,     0.47648,     0.47748,     0.47848,     0.47948,\n",
       "           0.48048,     0.48148,     0.48248,     0.48348,     0.48448,     0.48549,     0.48649,     0.48749,     0.48849,     0.48949,     0.49049,     0.49149,     0.49249,     0.49349,     0.49449,      0.4955,      0.4965,      0.4975,      0.4985,      0.4995,      0.5005,      0.5015,      0.5025,      0.5035,\n",
       "            0.5045,     0.50551,     0.50651,     0.50751,     0.50851,     0.50951,     0.51051,     0.51151,     0.51251,     0.51351,     0.51451,     0.51552,     0.51652,     0.51752,     0.51852,     0.51952,     0.52052,     0.52152,     0.52252,     0.52352,     0.52452,     0.52553,     0.52653,     0.52753,\n",
       "           0.52853,     0.52953,     0.53053,     0.53153,     0.53253,     0.53353,     0.53453,     0.53554,     0.53654,     0.53754,     0.53854,     0.53954,     0.54054,     0.54154,     0.54254,     0.54354,     0.54454,     0.54555,     0.54655,     0.54755,     0.54855,     0.54955,     0.55055,     0.55155,\n",
       "           0.55255,     0.55355,     0.55455,     0.55556,     0.55656,     0.55756,     0.55856,     0.55956,     0.56056,     0.56156,     0.56256,     0.56356,     0.56456,     0.56557,     0.56657,     0.56757,     0.56857,     0.56957,     0.57057,     0.57157,     0.57257,     0.57357,     0.57457,     0.57558,\n",
       "           0.57658,     0.57758,     0.57858,     0.57958,     0.58058,     0.58158,     0.58258,     0.58358,     0.58458,     0.58559,     0.58659,     0.58759,     0.58859,     0.58959,     0.59059,     0.59159,     0.59259,     0.59359,     0.59459,      0.5956,      0.5966,      0.5976,      0.5986,      0.5996,\n",
       "            0.6006,      0.6016,      0.6026,      0.6036,      0.6046,     0.60561,     0.60661,     0.60761,     0.60861,     0.60961,     0.61061,     0.61161,     0.61261,     0.61361,     0.61461,     0.61562,     0.61662,     0.61762,     0.61862,     0.61962,     0.62062,     0.62162,     0.62262,     0.62362,\n",
       "           0.62462,     0.62563,     0.62663,     0.62763,     0.62863,     0.62963,     0.63063,     0.63163,     0.63263,     0.63363,     0.63463,     0.63564,     0.63664,     0.63764,     0.63864,     0.63964,     0.64064,     0.64164,     0.64264,     0.64364,     0.64464,     0.64565,     0.64665,     0.64765,\n",
       "           0.64865,     0.64965,     0.65065,     0.65165,     0.65265,     0.65365,     0.65465,     0.65566,     0.65666,     0.65766,     0.65866,     0.65966,     0.66066,     0.66166,     0.66266,     0.66366,     0.66466,     0.66567,     0.66667,     0.66767,     0.66867,     0.66967,     0.67067,     0.67167,\n",
       "           0.67267,     0.67367,     0.67467,     0.67568,     0.67668,     0.67768,     0.67868,     0.67968,     0.68068,     0.68168,     0.68268,     0.68368,     0.68468,     0.68569,     0.68669,     0.68769,     0.68869,     0.68969,     0.69069,     0.69169,     0.69269,     0.69369,     0.69469,      0.6957,\n",
       "            0.6967,      0.6977,      0.6987,      0.6997,      0.7007,      0.7017,      0.7027,      0.7037,      0.7047,     0.70571,     0.70671,     0.70771,     0.70871,     0.70971,     0.71071,     0.71171,     0.71271,     0.71371,     0.71471,     0.71572,     0.71672,     0.71772,     0.71872,     0.71972,\n",
       "           0.72072,     0.72172,     0.72272,     0.72372,     0.72472,     0.72573,     0.72673,     0.72773,     0.72873,     0.72973,     0.73073,     0.73173,     0.73273,     0.73373,     0.73473,     0.73574,     0.73674,     0.73774,     0.73874,     0.73974,     0.74074,     0.74174,     0.74274,     0.74374,\n",
       "           0.74474,     0.74575,     0.74675,     0.74775,     0.74875,     0.74975,     0.75075,     0.75175,     0.75275,     0.75375,     0.75475,     0.75576,     0.75676,     0.75776,     0.75876,     0.75976,     0.76076,     0.76176,     0.76276,     0.76376,     0.76476,     0.76577,     0.76677,     0.76777,\n",
       "           0.76877,     0.76977,     0.77077,     0.77177,     0.77277,     0.77377,     0.77477,     0.77578,     0.77678,     0.77778,     0.77878,     0.77978,     0.78078,     0.78178,     0.78278,     0.78378,     0.78478,     0.78579,     0.78679,     0.78779,     0.78879,     0.78979,     0.79079,     0.79179,\n",
       "           0.79279,     0.79379,     0.79479,      0.7958,      0.7968,      0.7978,      0.7988,      0.7998,      0.8008,      0.8018,      0.8028,      0.8038,      0.8048,     0.80581,     0.80681,     0.80781,     0.80881,     0.80981,     0.81081,     0.81181,     0.81281,     0.81381,     0.81481,     0.81582,\n",
       "           0.81682,     0.81782,     0.81882,     0.81982,     0.82082,     0.82182,     0.82282,     0.82382,     0.82482,     0.82583,     0.82683,     0.82783,     0.82883,     0.82983,     0.83083,     0.83183,     0.83283,     0.83383,     0.83483,     0.83584,     0.83684,     0.83784,     0.83884,     0.83984,\n",
       "           0.84084,     0.84184,     0.84284,     0.84384,     0.84484,     0.84585,     0.84685,     0.84785,     0.84885,     0.84985,     0.85085,     0.85185,     0.85285,     0.85385,     0.85485,     0.85586,     0.85686,     0.85786,     0.85886,     0.85986,     0.86086,     0.86186,     0.86286,     0.86386,\n",
       "           0.86486,     0.86587,     0.86687,     0.86787,     0.86887,     0.86987,     0.87087,     0.87187,     0.87287,     0.87387,     0.87487,     0.87588,     0.87688,     0.87788,     0.87888,     0.87988,     0.88088,     0.88188,     0.88288,     0.88388,     0.88488,     0.88589,     0.88689,     0.88789,\n",
       "           0.88889,     0.88989,     0.89089,     0.89189,     0.89289,     0.89389,     0.89489,      0.8959,      0.8969,      0.8979,      0.8989,      0.8999,      0.9009,      0.9019,      0.9029,      0.9039,      0.9049,     0.90591,     0.90691,     0.90791,     0.90891,     0.90991,     0.91091,     0.91191,\n",
       "           0.91291,     0.91391,     0.91491,     0.91592,     0.91692,     0.91792,     0.91892,     0.91992,     0.92092,     0.92192,     0.92292,     0.92392,     0.92492,     0.92593,     0.92693,     0.92793,     0.92893,     0.92993,     0.93093,     0.93193,     0.93293,     0.93393,     0.93493,     0.93594,\n",
       "           0.93694,     0.93794,     0.93894,     0.93994,     0.94094,     0.94194,     0.94294,     0.94394,     0.94494,     0.94595,     0.94695,     0.94795,     0.94895,     0.94995,     0.95095,     0.95195,     0.95295,     0.95395,     0.95495,     0.95596,     0.95696,     0.95796,     0.95896,     0.95996,\n",
       "           0.96096,     0.96196,     0.96296,     0.96396,     0.96496,     0.96597,     0.96697,     0.96797,     0.96897,     0.96997,     0.97097,     0.97197,     0.97297,     0.97397,     0.97497,     0.97598,     0.97698,     0.97798,     0.97898,     0.97998,     0.98098,     0.98198,     0.98298,     0.98398,\n",
       "           0.98498,     0.98599,     0.98699,     0.98799,     0.98899,     0.98999,     0.99099,     0.99199,     0.99299,     0.99399,     0.99499,       0.996,       0.997,       0.998,       0.999,           1]), array([[    0.84298,     0.84298,     0.87011,     0.90542,      0.9226,     0.93127,     0.94768,     0.95356,     0.95425,     0.95493,     0.95561,      0.9563,     0.95698,     0.95766,     0.95834,     0.95902,      0.9597,     0.96038,     0.96105,     0.96173,     0.96258,     0.96409,      0.9656,\n",
       "            0.96711,     0.96861,     0.97011,     0.97158,     0.97288,     0.97419,     0.97548,     0.97678,     0.97807,     0.97936,     0.98065,     0.98133,     0.98196,     0.98258,      0.9832,     0.98382,     0.98444,     0.98506,     0.98568,      0.9863,     0.98692,     0.98753,     0.98815,\n",
       "            0.98877,     0.98938,     0.98999,     0.99031,     0.99035,     0.99039,     0.99043,     0.99047,     0.99051,     0.99055,     0.99059,     0.99063,     0.99067,     0.99071,     0.99075,     0.99079,     0.99083,     0.99087,     0.99091,     0.99095,     0.99099,     0.99103,     0.99107,\n",
       "            0.99111,     0.99115,     0.99119,     0.99124,     0.99128,     0.99132,     0.99136,      0.9914,     0.99144,     0.99148,     0.99152,     0.99156,      0.9916,     0.99164,     0.99168,     0.99172,     0.99176,      0.9918,     0.99184,     0.99188,     0.99192,     0.99196,       0.992,\n",
       "            0.99204,     0.99208,     0.99212,     0.99216,      0.9922,     0.99224,     0.99228,     0.99232,     0.99236,      0.9924,     0.99244,     0.99248,     0.99252,     0.99256,      0.9926,     0.99264,     0.99268,     0.99272,     0.99276,      0.9928,     0.99284,     0.99288,     0.99292,\n",
       "            0.99296,       0.993,     0.99304,     0.99308,     0.99312,     0.99316,      0.9932,     0.99324,     0.99328,     0.99332,     0.99336,      0.9934,     0.99344,     0.99348,     0.99352,     0.99356,      0.9936,     0.99364,     0.99368,     0.99372,     0.99376,     0.99379,     0.99383,\n",
       "            0.99387,     0.99391,     0.99395,     0.99399,     0.99403,     0.99407,     0.99411,     0.99415,     0.99419,     0.99423,     0.99427,     0.99431,     0.99435,     0.99439,     0.99443,     0.99447,     0.99451,     0.99455,     0.99459,     0.99463,     0.99467,     0.99471,     0.99475,\n",
       "            0.99479,     0.99483,     0.99487,     0.99491,     0.99495,     0.99499,     0.99503,     0.99507,     0.99511,     0.99515,     0.99519,     0.99523,     0.99527,     0.99531,     0.99535,     0.99539,     0.99543,     0.99547,     0.99551,     0.99555,     0.99559,     0.99563,     0.99567,\n",
       "            0.99571,     0.99575,     0.99579,     0.99583,     0.99587,     0.99591,     0.99594,     0.99598,     0.99602,     0.99606,      0.9961,     0.99614,     0.99618,     0.99622,     0.99626,      0.9963,     0.99634,     0.99638,     0.99642,     0.99646,      0.9965,     0.99654,     0.99658,\n",
       "            0.99662,     0.99666,      0.9967,     0.99674,     0.99678,     0.99682,     0.99686,      0.9969,     0.99694,     0.99698,     0.99702,     0.99706,      0.9971,     0.99714,     0.99717,     0.99721,     0.99725,     0.99729,     0.99733,     0.99737,     0.99741,     0.99745,     0.99749,\n",
       "            0.99753,     0.99757,     0.99761,     0.99765,     0.99769,     0.99773,     0.99777,     0.99781,     0.99785,     0.99789,     0.99793,     0.99797,     0.99801,     0.99805,     0.99809,     0.99813,     0.99816,      0.9982,     0.99824,     0.99828,     0.99832,     0.99836,      0.9984,\n",
       "            0.99844,     0.99848,     0.99852,     0.99856,      0.9986,     0.99864,     0.99868,     0.99872,     0.99876,      0.9988,     0.99884,     0.99888,     0.99892,     0.99896,     0.99899,     0.99903,     0.99907,     0.99911,     0.99915,     0.99919,     0.99923,     0.99927,     0.99931,\n",
       "            0.99935,     0.99939,     0.99943,     0.99947,     0.99951,     0.99955,     0.99959,     0.99963,     0.99967,      0.9997,     0.99974,     0.99978,     0.99982,     0.99986,      0.9999,     0.99994,     0.99998,     0.99998,     0.99995,     0.99992,     0.99989,     0.99986,     0.99983,\n",
       "             0.9998,     0.99977,     0.99974,     0.99971,     0.99968,     0.99965,     0.99962,     0.99959,     0.99956,     0.99953,      0.9995,     0.99947,     0.99944,     0.99941,     0.99938,     0.99935,     0.99932,     0.99929,     0.99926,     0.99923,      0.9992,     0.99917,     0.99914,\n",
       "            0.99911,     0.99908,     0.99905,     0.99902,     0.99899,     0.99896,     0.99893,      0.9989,     0.99887,     0.99884,     0.99881,     0.99878,     0.99875,     0.99872,     0.99869,     0.99866,     0.99863,      0.9986,     0.99857,     0.99854,     0.99851,     0.99848,     0.99845,\n",
       "            0.99842,     0.99839,     0.99836,     0.99833,      0.9983,     0.99827,     0.99824,     0.99821,     0.99818,     0.99815,     0.99812,     0.99809,     0.99806,     0.99803,       0.998,     0.99797,     0.99794,     0.99791,     0.99788,     0.99785,     0.99782,     0.99779,     0.99776,\n",
       "            0.99773,      0.9977,     0.99767,     0.99764,     0.99761,     0.99758,     0.99755,     0.99752,     0.99749,     0.99746,     0.99743,      0.9974,     0.99737,     0.99734,      0.9973,     0.99727,     0.99724,     0.99721,     0.99718,     0.99715,     0.99712,     0.99709,     0.99706,\n",
       "            0.99703,       0.997,     0.99697,     0.99694,     0.99691,     0.99688,     0.99685,     0.99682,     0.99679,     0.99676,     0.99673,      0.9967,     0.99667,     0.99664,     0.99661,     0.99658,     0.99655,     0.99652,     0.99649,     0.99646,     0.99643,      0.9964,     0.99637,\n",
       "            0.99634,     0.99631,     0.99628,     0.99625,     0.99622,     0.99619,     0.99616,     0.99613,      0.9961,     0.99607,     0.99604,       0.996,     0.99597,     0.99594,     0.99591,     0.99588,     0.99585,     0.99582,     0.99579,     0.99576,     0.99573,      0.9957,     0.99567,\n",
       "            0.99564,     0.99561,     0.99558,     0.99555,     0.99552,     0.99549,     0.99546,     0.99543,      0.9954,     0.99537,     0.99534,     0.99531,     0.99528,     0.99525,     0.99522,     0.99519,     0.99516,     0.99513,      0.9951,     0.99507,     0.99504,     0.99501,     0.99497,\n",
       "            0.99494,     0.99491,     0.99488,     0.99485,     0.99482,     0.99479,     0.99476,     0.99473,      0.9947,     0.99467,     0.99464,     0.99461,     0.99458,     0.99455,     0.99452,     0.99449,     0.99446,     0.99443,      0.9944,     0.99437,     0.99434,     0.99431,     0.99428,\n",
       "            0.99425,     0.99422,     0.99419,     0.99416,     0.99412,     0.99409,     0.99406,     0.99403,       0.994,     0.99397,     0.99394,     0.99391,     0.99388,     0.99385,     0.99382,     0.99379,     0.99376,     0.99373,      0.9937,     0.99367,     0.99364,     0.99361,     0.99358,\n",
       "            0.99355,     0.99352,     0.99349,     0.99346,     0.99343,     0.99339,     0.99336,     0.99333,      0.9933,     0.99327,     0.99324,     0.99321,     0.99318,     0.99315,     0.99312,     0.99309,     0.99306,     0.99303,       0.993,     0.99297,     0.99294,     0.99291,     0.99288,\n",
       "            0.99285,     0.99282,     0.99279,     0.99276,     0.99273,     0.99269,     0.99266,     0.99263,      0.9926,     0.99257,     0.99254,     0.99251,     0.99248,     0.99245,     0.99242,     0.99239,     0.99236,     0.99233,      0.9923,     0.99227,     0.99224,     0.99221,     0.99218,\n",
       "            0.99215,     0.99212,     0.99208,     0.99205,     0.99202,     0.99199,     0.99196,     0.99193,      0.9919,     0.99187,     0.99184,     0.99181,     0.99178,     0.99175,     0.99172,     0.99169,     0.99166,     0.99163,      0.9916,     0.99157,     0.99154,      0.9915,     0.99147,\n",
       "            0.99144,     0.99141,     0.99138,     0.99135,     0.99132,     0.99129,     0.99126,     0.99123,      0.9912,     0.99117,     0.99114,     0.99111,     0.99108,     0.99105,     0.99102,     0.99099,     0.99095,     0.99092,     0.99089,     0.99086,     0.99083,      0.9908,     0.99077,\n",
       "            0.99074,     0.99071,     0.99068,     0.99065,     0.99062,     0.99059,     0.99056,     0.99053,      0.9905,     0.99047,     0.99043,      0.9904,     0.99037,     0.99034,     0.99031,     0.99028,     0.99025,     0.99022,     0.99019,     0.99016,     0.99013,     0.99009,     0.98989,\n",
       "            0.98968,     0.98947,     0.98927,     0.98906,     0.98886,     0.98865,     0.98844,     0.98824,     0.98803,     0.98782,     0.98762,     0.98741,      0.9872,       0.987,     0.98679,     0.98658,     0.98638,     0.98617,     0.98596,     0.98575,     0.98555,     0.98534,     0.98513,\n",
       "            0.98492,     0.98472,     0.98451,      0.9843,     0.98409,     0.98388,     0.98368,     0.98347,     0.98326,     0.98305,     0.98284,     0.98263,     0.98243,     0.98222,     0.98201,      0.9818,     0.98159,     0.98138,     0.98117,     0.98096,     0.98075,     0.98054,     0.98033,\n",
       "            0.98012,      0.9798,     0.97931,     0.97883,     0.97834,     0.97785,     0.97736,     0.97688,     0.97639,      0.9759,     0.97541,     0.97492,     0.97443,     0.97394,     0.97344,     0.97295,     0.97246,     0.97197,     0.97147,     0.97098,     0.97048,     0.96999,     0.96961,\n",
       "            0.96939,     0.96918,     0.96896,     0.96874,     0.96853,     0.96831,      0.9681,     0.96788,     0.96766,     0.96745,     0.96723,     0.96701,     0.96679,     0.96658,     0.96636,     0.96614,     0.96593,     0.96571,     0.96549,     0.96527,     0.96506,     0.96484,     0.96462,\n",
       "             0.9644,     0.96418,     0.96397,     0.96375,     0.96353,     0.96331,     0.96309,     0.96287,     0.96266,     0.96244,     0.96222,       0.962,     0.96178,     0.96156,     0.96134,     0.96112,      0.9609,     0.96068,     0.96046,     0.96024,     0.96002,     0.95981,     0.95959,\n",
       "            0.95937,     0.95896,     0.95767,     0.95638,     0.95508,     0.95378,     0.95248,     0.95117,     0.94987,     0.94855,     0.94793,     0.94737,     0.94681,     0.94625,     0.94568,     0.94512,     0.94455,     0.94398,     0.94342,     0.94285,     0.94228,     0.94171,     0.94115,\n",
       "            0.94058,     0.94001,     0.93943,     0.93886,     0.93829,     0.93772,     0.93722,     0.93676,     0.93631,     0.93586,      0.9354,     0.93495,     0.93449,     0.93403,     0.93358,     0.93312,     0.93266,      0.9322,     0.93175,     0.93129,     0.93083,     0.93037,     0.92991,\n",
       "            0.92945,     0.92899,     0.92853,     0.92807,      0.9276,     0.92714,     0.92668,     0.92201,     0.91362,     0.91167,      0.9097,     0.90772,     0.90574,     0.90375,     0.90186,     0.90001,     0.89814,     0.89627,     0.89439,     0.89251,     0.88961,     0.88489,     0.88013,\n",
       "            0.87721,     0.87478,     0.87234,     0.86988,     0.86742,      0.8655,     0.86382,     0.86214,     0.86045,     0.85875,     0.85705,     0.85535,     0.83884,     0.81268,     0.80942,     0.80614,     0.80284,     0.79901,     0.79207,     0.78365,     0.76891,     0.76386,     0.75878,\n",
       "            0.73945,     0.73645,     0.73343,     0.73039,     0.72735,     0.72223,     0.71021,     0.69565,     0.67734,     0.65692,     0.63724,      0.6299,     0.62248,     0.61313,     0.60341,     0.57374,     0.54085,     0.52522,     0.50673,     0.47896,     0.45251,     0.44227,     0.43189,\n",
       "            0.42264,     0.41343,     0.38688,     0.34775,      0.3244,     0.31861,     0.31278,     0.30691,     0.30099,     0.29116,     0.28042,     0.24161,     0.20097,     0.18532,     0.17688,     0.17393,     0.17097,       0.168,     0.16502,     0.16203,     0.15904,     0.15603,     0.15301,\n",
       "            0.14998,     0.14694,     0.13672,     0.11942,    0.074683,    0.071561,    0.068429,    0.065287,    0.062134,    0.058971,    0.055798,    0.052615,    0.049421,    0.046217,    0.043002,    0.039776,           0,           0,           0,           0,           0,           0,           0,\n",
       "                  0,           0,           0,           0,           0,           0,           0,           0,           0,           0,           0,           0,           0,           0,           0,           0,           0,           0,           0,           0,           0,           0,           0,\n",
       "                  0,           0,           0,           0,           0,           0,           0,           0,           0,           0,           0,           0,           0,           0,           0,           0,           0,           0,           0,           0,           0,           0,           0,\n",
       "                  0,           0,           0,           0,           0,           0,           0,           0,           0,           0,           0,           0,           0,           0,           0,           0,           0,           0,           0,           0,           0,           0,           0,\n",
       "                  0,           0,           0,           0,           0,           0,           0,           0,           0,           0,           0,           0,           0,           0,           0,           0,           0,           0,           0,           0,           0,           0,           0,\n",
       "                  0,           0,           0,           0,           0,           0,           0,           0,           0,           0,           0]]), 'Confidence', 'F1'], [array([          0,    0.001001,    0.002002,    0.003003,    0.004004,    0.005005,    0.006006,    0.007007,    0.008008,    0.009009,     0.01001,    0.011011,    0.012012,    0.013013,    0.014014,    0.015015,    0.016016,    0.017017,    0.018018,    0.019019,     0.02002,    0.021021,    0.022022,    0.023023,\n",
       "          0.024024,    0.025025,    0.026026,    0.027027,    0.028028,    0.029029,     0.03003,    0.031031,    0.032032,    0.033033,    0.034034,    0.035035,    0.036036,    0.037037,    0.038038,    0.039039,     0.04004,    0.041041,    0.042042,    0.043043,    0.044044,    0.045045,    0.046046,    0.047047,\n",
       "          0.048048,    0.049049,     0.05005,    0.051051,    0.052052,    0.053053,    0.054054,    0.055055,    0.056056,    0.057057,    0.058058,    0.059059,     0.06006,    0.061061,    0.062062,    0.063063,    0.064064,    0.065065,    0.066066,    0.067067,    0.068068,    0.069069,     0.07007,    0.071071,\n",
       "          0.072072,    0.073073,    0.074074,    0.075075,    0.076076,    0.077077,    0.078078,    0.079079,     0.08008,    0.081081,    0.082082,    0.083083,    0.084084,    0.085085,    0.086086,    0.087087,    0.088088,    0.089089,     0.09009,    0.091091,    0.092092,    0.093093,    0.094094,    0.095095,\n",
       "          0.096096,    0.097097,    0.098098,    0.099099,      0.1001,      0.1011,      0.1021,      0.1031,      0.1041,     0.10511,     0.10611,     0.10711,     0.10811,     0.10911,     0.11011,     0.11111,     0.11211,     0.11311,     0.11411,     0.11512,     0.11612,     0.11712,     0.11812,     0.11912,\n",
       "           0.12012,     0.12112,     0.12212,     0.12312,     0.12412,     0.12513,     0.12613,     0.12713,     0.12813,     0.12913,     0.13013,     0.13113,     0.13213,     0.13313,     0.13413,     0.13514,     0.13614,     0.13714,     0.13814,     0.13914,     0.14014,     0.14114,     0.14214,     0.14314,\n",
       "           0.14414,     0.14515,     0.14615,     0.14715,     0.14815,     0.14915,     0.15015,     0.15115,     0.15215,     0.15315,     0.15415,     0.15516,     0.15616,     0.15716,     0.15816,     0.15916,     0.16016,     0.16116,     0.16216,     0.16316,     0.16416,     0.16517,     0.16617,     0.16717,\n",
       "           0.16817,     0.16917,     0.17017,     0.17117,     0.17217,     0.17317,     0.17417,     0.17518,     0.17618,     0.17718,     0.17818,     0.17918,     0.18018,     0.18118,     0.18218,     0.18318,     0.18418,     0.18519,     0.18619,     0.18719,     0.18819,     0.18919,     0.19019,     0.19119,\n",
       "           0.19219,     0.19319,     0.19419,      0.1952,      0.1962,      0.1972,      0.1982,      0.1992,      0.2002,      0.2012,      0.2022,      0.2032,      0.2042,     0.20521,     0.20621,     0.20721,     0.20821,     0.20921,     0.21021,     0.21121,     0.21221,     0.21321,     0.21421,     0.21522,\n",
       "           0.21622,     0.21722,     0.21822,     0.21922,     0.22022,     0.22122,     0.22222,     0.22322,     0.22422,     0.22523,     0.22623,     0.22723,     0.22823,     0.22923,     0.23023,     0.23123,     0.23223,     0.23323,     0.23423,     0.23524,     0.23624,     0.23724,     0.23824,     0.23924,\n",
       "           0.24024,     0.24124,     0.24224,     0.24324,     0.24424,     0.24525,     0.24625,     0.24725,     0.24825,     0.24925,     0.25025,     0.25125,     0.25225,     0.25325,     0.25425,     0.25526,     0.25626,     0.25726,     0.25826,     0.25926,     0.26026,     0.26126,     0.26226,     0.26326,\n",
       "           0.26426,     0.26527,     0.26627,     0.26727,     0.26827,     0.26927,     0.27027,     0.27127,     0.27227,     0.27327,     0.27427,     0.27528,     0.27628,     0.27728,     0.27828,     0.27928,     0.28028,     0.28128,     0.28228,     0.28328,     0.28428,     0.28529,     0.28629,     0.28729,\n",
       "           0.28829,     0.28929,     0.29029,     0.29129,     0.29229,     0.29329,     0.29429,      0.2953,      0.2963,      0.2973,      0.2983,      0.2993,      0.3003,      0.3013,      0.3023,      0.3033,      0.3043,     0.30531,     0.30631,     0.30731,     0.30831,     0.30931,     0.31031,     0.31131,\n",
       "           0.31231,     0.31331,     0.31431,     0.31532,     0.31632,     0.31732,     0.31832,     0.31932,     0.32032,     0.32132,     0.32232,     0.32332,     0.32432,     0.32533,     0.32633,     0.32733,     0.32833,     0.32933,     0.33033,     0.33133,     0.33233,     0.33333,     0.33433,     0.33534,\n",
       "           0.33634,     0.33734,     0.33834,     0.33934,     0.34034,     0.34134,     0.34234,     0.34334,     0.34434,     0.34535,     0.34635,     0.34735,     0.34835,     0.34935,     0.35035,     0.35135,     0.35235,     0.35335,     0.35435,     0.35536,     0.35636,     0.35736,     0.35836,     0.35936,\n",
       "           0.36036,     0.36136,     0.36236,     0.36336,     0.36436,     0.36537,     0.36637,     0.36737,     0.36837,     0.36937,     0.37037,     0.37137,     0.37237,     0.37337,     0.37437,     0.37538,     0.37638,     0.37738,     0.37838,     0.37938,     0.38038,     0.38138,     0.38238,     0.38338,\n",
       "           0.38438,     0.38539,     0.38639,     0.38739,     0.38839,     0.38939,     0.39039,     0.39139,     0.39239,     0.39339,     0.39439,      0.3954,      0.3964,      0.3974,      0.3984,      0.3994,      0.4004,      0.4014,      0.4024,      0.4034,      0.4044,     0.40541,     0.40641,     0.40741,\n",
       "           0.40841,     0.40941,     0.41041,     0.41141,     0.41241,     0.41341,     0.41441,     0.41542,     0.41642,     0.41742,     0.41842,     0.41942,     0.42042,     0.42142,     0.42242,     0.42342,     0.42442,     0.42543,     0.42643,     0.42743,     0.42843,     0.42943,     0.43043,     0.43143,\n",
       "           0.43243,     0.43343,     0.43443,     0.43544,     0.43644,     0.43744,     0.43844,     0.43944,     0.44044,     0.44144,     0.44244,     0.44344,     0.44444,     0.44545,     0.44645,     0.44745,     0.44845,     0.44945,     0.45045,     0.45145,     0.45245,     0.45345,     0.45445,     0.45546,\n",
       "           0.45646,     0.45746,     0.45846,     0.45946,     0.46046,     0.46146,     0.46246,     0.46346,     0.46446,     0.46547,     0.46647,     0.46747,     0.46847,     0.46947,     0.47047,     0.47147,     0.47247,     0.47347,     0.47447,     0.47548,     0.47648,     0.47748,     0.47848,     0.47948,\n",
       "           0.48048,     0.48148,     0.48248,     0.48348,     0.48448,     0.48549,     0.48649,     0.48749,     0.48849,     0.48949,     0.49049,     0.49149,     0.49249,     0.49349,     0.49449,      0.4955,      0.4965,      0.4975,      0.4985,      0.4995,      0.5005,      0.5015,      0.5025,      0.5035,\n",
       "            0.5045,     0.50551,     0.50651,     0.50751,     0.50851,     0.50951,     0.51051,     0.51151,     0.51251,     0.51351,     0.51451,     0.51552,     0.51652,     0.51752,     0.51852,     0.51952,     0.52052,     0.52152,     0.52252,     0.52352,     0.52452,     0.52553,     0.52653,     0.52753,\n",
       "           0.52853,     0.52953,     0.53053,     0.53153,     0.53253,     0.53353,     0.53453,     0.53554,     0.53654,     0.53754,     0.53854,     0.53954,     0.54054,     0.54154,     0.54254,     0.54354,     0.54454,     0.54555,     0.54655,     0.54755,     0.54855,     0.54955,     0.55055,     0.55155,\n",
       "           0.55255,     0.55355,     0.55455,     0.55556,     0.55656,     0.55756,     0.55856,     0.55956,     0.56056,     0.56156,     0.56256,     0.56356,     0.56456,     0.56557,     0.56657,     0.56757,     0.56857,     0.56957,     0.57057,     0.57157,     0.57257,     0.57357,     0.57457,     0.57558,\n",
       "           0.57658,     0.57758,     0.57858,     0.57958,     0.58058,     0.58158,     0.58258,     0.58358,     0.58458,     0.58559,     0.58659,     0.58759,     0.58859,     0.58959,     0.59059,     0.59159,     0.59259,     0.59359,     0.59459,      0.5956,      0.5966,      0.5976,      0.5986,      0.5996,\n",
       "            0.6006,      0.6016,      0.6026,      0.6036,      0.6046,     0.60561,     0.60661,     0.60761,     0.60861,     0.60961,     0.61061,     0.61161,     0.61261,     0.61361,     0.61461,     0.61562,     0.61662,     0.61762,     0.61862,     0.61962,     0.62062,     0.62162,     0.62262,     0.62362,\n",
       "           0.62462,     0.62563,     0.62663,     0.62763,     0.62863,     0.62963,     0.63063,     0.63163,     0.63263,     0.63363,     0.63463,     0.63564,     0.63664,     0.63764,     0.63864,     0.63964,     0.64064,     0.64164,     0.64264,     0.64364,     0.64464,     0.64565,     0.64665,     0.64765,\n",
       "           0.64865,     0.64965,     0.65065,     0.65165,     0.65265,     0.65365,     0.65465,     0.65566,     0.65666,     0.65766,     0.65866,     0.65966,     0.66066,     0.66166,     0.66266,     0.66366,     0.66466,     0.66567,     0.66667,     0.66767,     0.66867,     0.66967,     0.67067,     0.67167,\n",
       "           0.67267,     0.67367,     0.67467,     0.67568,     0.67668,     0.67768,     0.67868,     0.67968,     0.68068,     0.68168,     0.68268,     0.68368,     0.68468,     0.68569,     0.68669,     0.68769,     0.68869,     0.68969,     0.69069,     0.69169,     0.69269,     0.69369,     0.69469,      0.6957,\n",
       "            0.6967,      0.6977,      0.6987,      0.6997,      0.7007,      0.7017,      0.7027,      0.7037,      0.7047,     0.70571,     0.70671,     0.70771,     0.70871,     0.70971,     0.71071,     0.71171,     0.71271,     0.71371,     0.71471,     0.71572,     0.71672,     0.71772,     0.71872,     0.71972,\n",
       "           0.72072,     0.72172,     0.72272,     0.72372,     0.72472,     0.72573,     0.72673,     0.72773,     0.72873,     0.72973,     0.73073,     0.73173,     0.73273,     0.73373,     0.73473,     0.73574,     0.73674,     0.73774,     0.73874,     0.73974,     0.74074,     0.74174,     0.74274,     0.74374,\n",
       "           0.74474,     0.74575,     0.74675,     0.74775,     0.74875,     0.74975,     0.75075,     0.75175,     0.75275,     0.75375,     0.75475,     0.75576,     0.75676,     0.75776,     0.75876,     0.75976,     0.76076,     0.76176,     0.76276,     0.76376,     0.76476,     0.76577,     0.76677,     0.76777,\n",
       "           0.76877,     0.76977,     0.77077,     0.77177,     0.77277,     0.77377,     0.77477,     0.77578,     0.77678,     0.77778,     0.77878,     0.77978,     0.78078,     0.78178,     0.78278,     0.78378,     0.78478,     0.78579,     0.78679,     0.78779,     0.78879,     0.78979,     0.79079,     0.79179,\n",
       "           0.79279,     0.79379,     0.79479,      0.7958,      0.7968,      0.7978,      0.7988,      0.7998,      0.8008,      0.8018,      0.8028,      0.8038,      0.8048,     0.80581,     0.80681,     0.80781,     0.80881,     0.80981,     0.81081,     0.81181,     0.81281,     0.81381,     0.81481,     0.81582,\n",
       "           0.81682,     0.81782,     0.81882,     0.81982,     0.82082,     0.82182,     0.82282,     0.82382,     0.82482,     0.82583,     0.82683,     0.82783,     0.82883,     0.82983,     0.83083,     0.83183,     0.83283,     0.83383,     0.83483,     0.83584,     0.83684,     0.83784,     0.83884,     0.83984,\n",
       "           0.84084,     0.84184,     0.84284,     0.84384,     0.84484,     0.84585,     0.84685,     0.84785,     0.84885,     0.84985,     0.85085,     0.85185,     0.85285,     0.85385,     0.85485,     0.85586,     0.85686,     0.85786,     0.85886,     0.85986,     0.86086,     0.86186,     0.86286,     0.86386,\n",
       "           0.86486,     0.86587,     0.86687,     0.86787,     0.86887,     0.86987,     0.87087,     0.87187,     0.87287,     0.87387,     0.87487,     0.87588,     0.87688,     0.87788,     0.87888,     0.87988,     0.88088,     0.88188,     0.88288,     0.88388,     0.88488,     0.88589,     0.88689,     0.88789,\n",
       "           0.88889,     0.88989,     0.89089,     0.89189,     0.89289,     0.89389,     0.89489,      0.8959,      0.8969,      0.8979,      0.8989,      0.8999,      0.9009,      0.9019,      0.9029,      0.9039,      0.9049,     0.90591,     0.90691,     0.90791,     0.90891,     0.90991,     0.91091,     0.91191,\n",
       "           0.91291,     0.91391,     0.91491,     0.91592,     0.91692,     0.91792,     0.91892,     0.91992,     0.92092,     0.92192,     0.92292,     0.92392,     0.92492,     0.92593,     0.92693,     0.92793,     0.92893,     0.92993,     0.93093,     0.93193,     0.93293,     0.93393,     0.93493,     0.93594,\n",
       "           0.93694,     0.93794,     0.93894,     0.93994,     0.94094,     0.94194,     0.94294,     0.94394,     0.94494,     0.94595,     0.94695,     0.94795,     0.94895,     0.94995,     0.95095,     0.95195,     0.95295,     0.95395,     0.95495,     0.95596,     0.95696,     0.95796,     0.95896,     0.95996,\n",
       "           0.96096,     0.96196,     0.96296,     0.96396,     0.96496,     0.96597,     0.96697,     0.96797,     0.96897,     0.96997,     0.97097,     0.97197,     0.97297,     0.97397,     0.97497,     0.97598,     0.97698,     0.97798,     0.97898,     0.97998,     0.98098,     0.98198,     0.98298,     0.98398,\n",
       "           0.98498,     0.98599,     0.98699,     0.98799,     0.98899,     0.98999,     0.99099,     0.99199,     0.99299,     0.99399,     0.99499,       0.996,       0.997,       0.998,       0.999,           1]), array([[    0.72857,     0.72857,     0.77009,     0.82718,     0.85632,     0.87138,     0.90056,     0.91124,      0.9125,     0.91375,       0.915,     0.91625,     0.91751,     0.91876,     0.92001,     0.92127,     0.92252,     0.92377,     0.92502,     0.92628,     0.92785,     0.93067,     0.93349,\n",
       "            0.93631,     0.93913,     0.94195,     0.94473,      0.9472,     0.94967,     0.95214,     0.95461,     0.95709,     0.95956,     0.96203,     0.96335,     0.96456,     0.96576,     0.96696,     0.96816,     0.96936,     0.97057,     0.97177,     0.97297,     0.97417,     0.97538,     0.97658,\n",
       "            0.97778,     0.97898,     0.98018,     0.98081,     0.98089,     0.98097,     0.98105,     0.98112,      0.9812,     0.98128,     0.98136,     0.98144,     0.98152,      0.9816,     0.98168,     0.98176,     0.98183,     0.98191,     0.98199,     0.98207,     0.98215,     0.98223,     0.98231,\n",
       "            0.98239,     0.98246,     0.98254,     0.98262,      0.9827,     0.98278,     0.98286,     0.98294,     0.98302,      0.9831,     0.98317,     0.98325,     0.98333,     0.98341,     0.98349,     0.98357,     0.98365,     0.98373,      0.9838,     0.98388,     0.98396,     0.98404,     0.98412,\n",
       "             0.9842,     0.98428,     0.98436,     0.98444,     0.98451,     0.98459,     0.98467,     0.98475,     0.98483,     0.98491,     0.98499,     0.98507,     0.98514,     0.98522,      0.9853,     0.98538,     0.98546,     0.98554,     0.98562,      0.9857,     0.98577,     0.98585,     0.98593,\n",
       "            0.98601,     0.98609,     0.98617,     0.98625,     0.98633,     0.98641,     0.98648,     0.98656,     0.98664,     0.98672,      0.9868,     0.98688,     0.98696,     0.98704,     0.98711,     0.98719,     0.98727,     0.98735,     0.98743,     0.98751,     0.98759,     0.98767,     0.98775,\n",
       "            0.98782,      0.9879,     0.98798,     0.98806,     0.98814,     0.98822,      0.9883,     0.98838,     0.98845,     0.98853,     0.98861,     0.98869,     0.98877,     0.98885,     0.98893,     0.98901,     0.98909,     0.98916,     0.98924,     0.98932,      0.9894,     0.98948,     0.98956,\n",
       "            0.98964,     0.98972,     0.98979,     0.98987,     0.98995,     0.99003,     0.99011,     0.99019,     0.99027,     0.99035,     0.99042,      0.9905,     0.99058,     0.99066,     0.99074,     0.99082,      0.9909,     0.99098,     0.99106,     0.99113,     0.99121,     0.99129,     0.99137,\n",
       "            0.99145,     0.99153,     0.99161,     0.99169,     0.99176,     0.99184,     0.99192,       0.992,     0.99208,     0.99216,     0.99224,     0.99232,      0.9924,     0.99247,     0.99255,     0.99263,     0.99271,     0.99279,     0.99287,     0.99295,     0.99303,      0.9931,     0.99318,\n",
       "            0.99326,     0.99334,     0.99342,      0.9935,     0.99358,     0.99366,     0.99374,     0.99381,     0.99389,     0.99397,     0.99405,     0.99413,     0.99421,     0.99429,     0.99437,     0.99444,     0.99452,      0.9946,     0.99468,     0.99476,     0.99484,     0.99492,       0.995,\n",
       "            0.99507,     0.99515,     0.99523,     0.99531,     0.99539,     0.99547,     0.99555,     0.99563,     0.99571,     0.99578,     0.99586,     0.99594,     0.99602,      0.9961,     0.99618,     0.99626,     0.99634,     0.99641,     0.99649,     0.99657,     0.99665,     0.99673,     0.99681,\n",
       "            0.99689,     0.99697,     0.99705,     0.99712,      0.9972,     0.99728,     0.99736,     0.99744,     0.99752,      0.9976,     0.99768,     0.99775,     0.99783,     0.99791,     0.99799,     0.99807,     0.99815,     0.99823,     0.99831,     0.99839,     0.99846,     0.99854,     0.99862,\n",
       "             0.9987,     0.99878,     0.99886,     0.99894,     0.99902,     0.99909,     0.99917,     0.99925,     0.99933,     0.99941,     0.99949,     0.99957,     0.99965,     0.99972,      0.9998,     0.99988,     0.99996,           1,           1,           1,           1,           1,           1,\n",
       "                  1,           1,           1,           1,           1,           1,           1,           1,           1,           1,           1,           1,           1,           1,           1,           1,           1,           1,           1,           1,           1,           1,           1,\n",
       "                  1,           1,           1,           1,           1,           1,           1,           1,           1,           1,           1,           1,           1,           1,           1,           1,           1,           1,           1,           1,           1,           1,           1,\n",
       "                  1,           1,           1,           1,           1,           1,           1,           1,           1,           1,           1,           1,           1,           1,           1,           1,           1,           1,           1,           1,           1,           1,           1,\n",
       "                  1,           1,           1,           1,           1,           1,           1,           1,           1,           1,           1,           1,           1,           1,           1,           1,           1,           1,           1,           1,           1,           1,           1,\n",
       "                  1,           1,           1,           1,           1,           1,           1,           1,           1,           1,           1,           1,           1,           1,           1,           1,           1,           1,           1,           1,           1,           1,           1,\n",
       "                  1,           1,           1,           1,           1,           1,           1,           1,           1,           1,           1,           1,           1,           1,           1,           1,           1,           1,           1,           1,           1,           1,           1,\n",
       "                  1,           1,           1,           1,           1,           1,           1,           1,           1,           1,           1,           1,           1,           1,           1,           1,           1,           1,           1,           1,           1,           1,           1,\n",
       "                  1,           1,           1,           1,           1,           1,           1,           1,           1,           1,           1,           1,           1,           1,           1,           1,           1,           1,           1,           1,           1,           1,           1,\n",
       "                  1,           1,           1,           1,           1,           1,           1,           1,           1,           1,           1,           1,           1,           1,           1,           1,           1,           1,           1,           1,           1,           1,           1,\n",
       "                  1,           1,           1,           1,           1,           1,           1,           1,           1,           1,           1,           1,           1,           1,           1,           1,           1,           1,           1,           1,           1,           1,           1,\n",
       "                  1,           1,           1,           1,           1,           1,           1,           1,           1,           1,           1,           1,           1,           1,           1,           1,           1,           1,           1,           1,           1,           1,           1,\n",
       "                  1,           1,           1,           1,           1,           1,           1,           1,           1,           1,           1,           1,           1,           1,           1,           1,           1,           1,           1,           1,           1,           1,           1,\n",
       "                  1,           1,           1,           1,           1,           1,           1,           1,           1,           1,           1,           1,           1,           1,           1,           1,           1,           1,           1,           1,           1,           1,           1,\n",
       "                  1,           1,           1,           1,           1,           1,           1,           1,           1,           1,           1,           1,           1,           1,           1,           1,           1,           1,           1,           1,           1,           1,           1,\n",
       "                  1,           1,           1,           1,           1,           1,           1,           1,           1,           1,           1,           1,           1,           1,           1,           1,           1,           1,           1,           1,           1,           1,           1,\n",
       "                  1,           1,           1,           1,           1,           1,           1,           1,           1,           1,           1,           1,           1,           1,           1,           1,           1,           1,           1,           1,           1,           1,           1,\n",
       "                  1,           1,           1,           1,           1,           1,           1,           1,           1,           1,           1,           1,           1,           1,           1,           1,           1,           1,           1,           1,           1,           1,           1,\n",
       "                  1,           1,           1,           1,           1,           1,           1,           1,           1,           1,           1,           1,           1,           1,           1,           1,           1,           1,           1,           1,           1,           1,           1,\n",
       "                  1,           1,           1,           1,           1,           1,           1,           1,           1,           1,           1,           1,           1,           1,           1,           1,           1,           1,           1,           1,           1,           1,           1,\n",
       "                  1,           1,           1,           1,           1,           1,           1,           1,           1,           1,           1,           1,           1,           1,           1,           1,           1,           1,           1,           1,           1,           1,           1,\n",
       "                  1,           1,           1,           1,           1,           1,           1,           1,           1,           1,           1,           1,           1,           1,           1,           1,           1,           1,           1,           1,           1,           1,           1,\n",
       "                  1,           1,           1,           1,           1,           1,           1,           1,           1,           1,           1,           1,           1,           1,           1,           1,           1,           1,           1,           1,           1,           1,           1,\n",
       "                  1,           1,           1,           1,           1,           1,           1,           1,           1,           1,           1,           1,           1,           1,           1,           1,           1,           1,           1,           1,           1,           1,           1,\n",
       "                  1,           1,           1,           1,           1,           1,           1,           1,           1,           1,           1,           1,           1,           1,           1,           1,           1,           1,           1,           1,           1,           1,           1,\n",
       "                  1,           1,           1,           1,           1,           1,           1,           1,           1,           1,           1,           1,           1,           1,           1,           1,           1,           1,           1,           1,           1,           1,           1,\n",
       "                  1,           1,           1,           1,           1,           1,           1,           1,           1,           1,           1,           1,           1,           1,           1,           1,           1,           1,           1,           1,           1,           1,           1,\n",
       "                  1,           1,           1,           1,           1,           1,           1,           1,           1,           1,           1,           1,           1,           1,           1,           1,           1,           1,           1,           1,           1,           1,           1,\n",
       "                  1,           1,           1,           1,           1,           1,           1,           1,           1,           1,           1,           1,           1,           1,           1,           1,           1,           1,           1,           1,           1,           1,           1,\n",
       "                  1,           1,           1,           1,           1,           1,           1,           1,           1,           1,           1,           1,           1,           1,           1,           1,           1,           1,           1,           1,           1,           1,           1,\n",
       "                  1,           1,           1,           1,           1,           1,           1,           1,           1,           1,           1,           1,           1,           1,           1,           1,           1,           1,           1,           1,           1,           1,           1,\n",
       "                  1,           1,           1,           1,           1,           1,           1,           1,           1,           1,           1]]), 'Confidence', 'Precision'], [array([          0,    0.001001,    0.002002,    0.003003,    0.004004,    0.005005,    0.006006,    0.007007,    0.008008,    0.009009,     0.01001,    0.011011,    0.012012,    0.013013,    0.014014,    0.015015,    0.016016,    0.017017,    0.018018,    0.019019,     0.02002,    0.021021,    0.022022,    0.023023,\n",
       "          0.024024,    0.025025,    0.026026,    0.027027,    0.028028,    0.029029,     0.03003,    0.031031,    0.032032,    0.033033,    0.034034,    0.035035,    0.036036,    0.037037,    0.038038,    0.039039,     0.04004,    0.041041,    0.042042,    0.043043,    0.044044,    0.045045,    0.046046,    0.047047,\n",
       "          0.048048,    0.049049,     0.05005,    0.051051,    0.052052,    0.053053,    0.054054,    0.055055,    0.056056,    0.057057,    0.058058,    0.059059,     0.06006,    0.061061,    0.062062,    0.063063,    0.064064,    0.065065,    0.066066,    0.067067,    0.068068,    0.069069,     0.07007,    0.071071,\n",
       "          0.072072,    0.073073,    0.074074,    0.075075,    0.076076,    0.077077,    0.078078,    0.079079,     0.08008,    0.081081,    0.082082,    0.083083,    0.084084,    0.085085,    0.086086,    0.087087,    0.088088,    0.089089,     0.09009,    0.091091,    0.092092,    0.093093,    0.094094,    0.095095,\n",
       "          0.096096,    0.097097,    0.098098,    0.099099,      0.1001,      0.1011,      0.1021,      0.1031,      0.1041,     0.10511,     0.10611,     0.10711,     0.10811,     0.10911,     0.11011,     0.11111,     0.11211,     0.11311,     0.11411,     0.11512,     0.11612,     0.11712,     0.11812,     0.11912,\n",
       "           0.12012,     0.12112,     0.12212,     0.12312,     0.12412,     0.12513,     0.12613,     0.12713,     0.12813,     0.12913,     0.13013,     0.13113,     0.13213,     0.13313,     0.13413,     0.13514,     0.13614,     0.13714,     0.13814,     0.13914,     0.14014,     0.14114,     0.14214,     0.14314,\n",
       "           0.14414,     0.14515,     0.14615,     0.14715,     0.14815,     0.14915,     0.15015,     0.15115,     0.15215,     0.15315,     0.15415,     0.15516,     0.15616,     0.15716,     0.15816,     0.15916,     0.16016,     0.16116,     0.16216,     0.16316,     0.16416,     0.16517,     0.16617,     0.16717,\n",
       "           0.16817,     0.16917,     0.17017,     0.17117,     0.17217,     0.17317,     0.17417,     0.17518,     0.17618,     0.17718,     0.17818,     0.17918,     0.18018,     0.18118,     0.18218,     0.18318,     0.18418,     0.18519,     0.18619,     0.18719,     0.18819,     0.18919,     0.19019,     0.19119,\n",
       "           0.19219,     0.19319,     0.19419,      0.1952,      0.1962,      0.1972,      0.1982,      0.1992,      0.2002,      0.2012,      0.2022,      0.2032,      0.2042,     0.20521,     0.20621,     0.20721,     0.20821,     0.20921,     0.21021,     0.21121,     0.21221,     0.21321,     0.21421,     0.21522,\n",
       "           0.21622,     0.21722,     0.21822,     0.21922,     0.22022,     0.22122,     0.22222,     0.22322,     0.22422,     0.22523,     0.22623,     0.22723,     0.22823,     0.22923,     0.23023,     0.23123,     0.23223,     0.23323,     0.23423,     0.23524,     0.23624,     0.23724,     0.23824,     0.23924,\n",
       "           0.24024,     0.24124,     0.24224,     0.24324,     0.24424,     0.24525,     0.24625,     0.24725,     0.24825,     0.24925,     0.25025,     0.25125,     0.25225,     0.25325,     0.25425,     0.25526,     0.25626,     0.25726,     0.25826,     0.25926,     0.26026,     0.26126,     0.26226,     0.26326,\n",
       "           0.26426,     0.26527,     0.26627,     0.26727,     0.26827,     0.26927,     0.27027,     0.27127,     0.27227,     0.27327,     0.27427,     0.27528,     0.27628,     0.27728,     0.27828,     0.27928,     0.28028,     0.28128,     0.28228,     0.28328,     0.28428,     0.28529,     0.28629,     0.28729,\n",
       "           0.28829,     0.28929,     0.29029,     0.29129,     0.29229,     0.29329,     0.29429,      0.2953,      0.2963,      0.2973,      0.2983,      0.2993,      0.3003,      0.3013,      0.3023,      0.3033,      0.3043,     0.30531,     0.30631,     0.30731,     0.30831,     0.30931,     0.31031,     0.31131,\n",
       "           0.31231,     0.31331,     0.31431,     0.31532,     0.31632,     0.31732,     0.31832,     0.31932,     0.32032,     0.32132,     0.32232,     0.32332,     0.32432,     0.32533,     0.32633,     0.32733,     0.32833,     0.32933,     0.33033,     0.33133,     0.33233,     0.33333,     0.33433,     0.33534,\n",
       "           0.33634,     0.33734,     0.33834,     0.33934,     0.34034,     0.34134,     0.34234,     0.34334,     0.34434,     0.34535,     0.34635,     0.34735,     0.34835,     0.34935,     0.35035,     0.35135,     0.35235,     0.35335,     0.35435,     0.35536,     0.35636,     0.35736,     0.35836,     0.35936,\n",
       "           0.36036,     0.36136,     0.36236,     0.36336,     0.36436,     0.36537,     0.36637,     0.36737,     0.36837,     0.36937,     0.37037,     0.37137,     0.37237,     0.37337,     0.37437,     0.37538,     0.37638,     0.37738,     0.37838,     0.37938,     0.38038,     0.38138,     0.38238,     0.38338,\n",
       "           0.38438,     0.38539,     0.38639,     0.38739,     0.38839,     0.38939,     0.39039,     0.39139,     0.39239,     0.39339,     0.39439,      0.3954,      0.3964,      0.3974,      0.3984,      0.3994,      0.4004,      0.4014,      0.4024,      0.4034,      0.4044,     0.40541,     0.40641,     0.40741,\n",
       "           0.40841,     0.40941,     0.41041,     0.41141,     0.41241,     0.41341,     0.41441,     0.41542,     0.41642,     0.41742,     0.41842,     0.41942,     0.42042,     0.42142,     0.42242,     0.42342,     0.42442,     0.42543,     0.42643,     0.42743,     0.42843,     0.42943,     0.43043,     0.43143,\n",
       "           0.43243,     0.43343,     0.43443,     0.43544,     0.43644,     0.43744,     0.43844,     0.43944,     0.44044,     0.44144,     0.44244,     0.44344,     0.44444,     0.44545,     0.44645,     0.44745,     0.44845,     0.44945,     0.45045,     0.45145,     0.45245,     0.45345,     0.45445,     0.45546,\n",
       "           0.45646,     0.45746,     0.45846,     0.45946,     0.46046,     0.46146,     0.46246,     0.46346,     0.46446,     0.46547,     0.46647,     0.46747,     0.46847,     0.46947,     0.47047,     0.47147,     0.47247,     0.47347,     0.47447,     0.47548,     0.47648,     0.47748,     0.47848,     0.47948,\n",
       "           0.48048,     0.48148,     0.48248,     0.48348,     0.48448,     0.48549,     0.48649,     0.48749,     0.48849,     0.48949,     0.49049,     0.49149,     0.49249,     0.49349,     0.49449,      0.4955,      0.4965,      0.4975,      0.4985,      0.4995,      0.5005,      0.5015,      0.5025,      0.5035,\n",
       "            0.5045,     0.50551,     0.50651,     0.50751,     0.50851,     0.50951,     0.51051,     0.51151,     0.51251,     0.51351,     0.51451,     0.51552,     0.51652,     0.51752,     0.51852,     0.51952,     0.52052,     0.52152,     0.52252,     0.52352,     0.52452,     0.52553,     0.52653,     0.52753,\n",
       "           0.52853,     0.52953,     0.53053,     0.53153,     0.53253,     0.53353,     0.53453,     0.53554,     0.53654,     0.53754,     0.53854,     0.53954,     0.54054,     0.54154,     0.54254,     0.54354,     0.54454,     0.54555,     0.54655,     0.54755,     0.54855,     0.54955,     0.55055,     0.55155,\n",
       "           0.55255,     0.55355,     0.55455,     0.55556,     0.55656,     0.55756,     0.55856,     0.55956,     0.56056,     0.56156,     0.56256,     0.56356,     0.56456,     0.56557,     0.56657,     0.56757,     0.56857,     0.56957,     0.57057,     0.57157,     0.57257,     0.57357,     0.57457,     0.57558,\n",
       "           0.57658,     0.57758,     0.57858,     0.57958,     0.58058,     0.58158,     0.58258,     0.58358,     0.58458,     0.58559,     0.58659,     0.58759,     0.58859,     0.58959,     0.59059,     0.59159,     0.59259,     0.59359,     0.59459,      0.5956,      0.5966,      0.5976,      0.5986,      0.5996,\n",
       "            0.6006,      0.6016,      0.6026,      0.6036,      0.6046,     0.60561,     0.60661,     0.60761,     0.60861,     0.60961,     0.61061,     0.61161,     0.61261,     0.61361,     0.61461,     0.61562,     0.61662,     0.61762,     0.61862,     0.61962,     0.62062,     0.62162,     0.62262,     0.62362,\n",
       "           0.62462,     0.62563,     0.62663,     0.62763,     0.62863,     0.62963,     0.63063,     0.63163,     0.63263,     0.63363,     0.63463,     0.63564,     0.63664,     0.63764,     0.63864,     0.63964,     0.64064,     0.64164,     0.64264,     0.64364,     0.64464,     0.64565,     0.64665,     0.64765,\n",
       "           0.64865,     0.64965,     0.65065,     0.65165,     0.65265,     0.65365,     0.65465,     0.65566,     0.65666,     0.65766,     0.65866,     0.65966,     0.66066,     0.66166,     0.66266,     0.66366,     0.66466,     0.66567,     0.66667,     0.66767,     0.66867,     0.66967,     0.67067,     0.67167,\n",
       "           0.67267,     0.67367,     0.67467,     0.67568,     0.67668,     0.67768,     0.67868,     0.67968,     0.68068,     0.68168,     0.68268,     0.68368,     0.68468,     0.68569,     0.68669,     0.68769,     0.68869,     0.68969,     0.69069,     0.69169,     0.69269,     0.69369,     0.69469,      0.6957,\n",
       "            0.6967,      0.6977,      0.6987,      0.6997,      0.7007,      0.7017,      0.7027,      0.7037,      0.7047,     0.70571,     0.70671,     0.70771,     0.70871,     0.70971,     0.71071,     0.71171,     0.71271,     0.71371,     0.71471,     0.71572,     0.71672,     0.71772,     0.71872,     0.71972,\n",
       "           0.72072,     0.72172,     0.72272,     0.72372,     0.72472,     0.72573,     0.72673,     0.72773,     0.72873,     0.72973,     0.73073,     0.73173,     0.73273,     0.73373,     0.73473,     0.73574,     0.73674,     0.73774,     0.73874,     0.73974,     0.74074,     0.74174,     0.74274,     0.74374,\n",
       "           0.74474,     0.74575,     0.74675,     0.74775,     0.74875,     0.74975,     0.75075,     0.75175,     0.75275,     0.75375,     0.75475,     0.75576,     0.75676,     0.75776,     0.75876,     0.75976,     0.76076,     0.76176,     0.76276,     0.76376,     0.76476,     0.76577,     0.76677,     0.76777,\n",
       "           0.76877,     0.76977,     0.77077,     0.77177,     0.77277,     0.77377,     0.77477,     0.77578,     0.77678,     0.77778,     0.77878,     0.77978,     0.78078,     0.78178,     0.78278,     0.78378,     0.78478,     0.78579,     0.78679,     0.78779,     0.78879,     0.78979,     0.79079,     0.79179,\n",
       "           0.79279,     0.79379,     0.79479,      0.7958,      0.7968,      0.7978,      0.7988,      0.7998,      0.8008,      0.8018,      0.8028,      0.8038,      0.8048,     0.80581,     0.80681,     0.80781,     0.80881,     0.80981,     0.81081,     0.81181,     0.81281,     0.81381,     0.81481,     0.81582,\n",
       "           0.81682,     0.81782,     0.81882,     0.81982,     0.82082,     0.82182,     0.82282,     0.82382,     0.82482,     0.82583,     0.82683,     0.82783,     0.82883,     0.82983,     0.83083,     0.83183,     0.83283,     0.83383,     0.83483,     0.83584,     0.83684,     0.83784,     0.83884,     0.83984,\n",
       "           0.84084,     0.84184,     0.84284,     0.84384,     0.84484,     0.84585,     0.84685,     0.84785,     0.84885,     0.84985,     0.85085,     0.85185,     0.85285,     0.85385,     0.85485,     0.85586,     0.85686,     0.85786,     0.85886,     0.85986,     0.86086,     0.86186,     0.86286,     0.86386,\n",
       "           0.86486,     0.86587,     0.86687,     0.86787,     0.86887,     0.86987,     0.87087,     0.87187,     0.87287,     0.87387,     0.87487,     0.87588,     0.87688,     0.87788,     0.87888,     0.87988,     0.88088,     0.88188,     0.88288,     0.88388,     0.88488,     0.88589,     0.88689,     0.88789,\n",
       "           0.88889,     0.88989,     0.89089,     0.89189,     0.89289,     0.89389,     0.89489,      0.8959,      0.8969,      0.8979,      0.8989,      0.8999,      0.9009,      0.9019,      0.9029,      0.9039,      0.9049,     0.90591,     0.90691,     0.90791,     0.90891,     0.90991,     0.91091,     0.91191,\n",
       "           0.91291,     0.91391,     0.91491,     0.91592,     0.91692,     0.91792,     0.91892,     0.91992,     0.92092,     0.92192,     0.92292,     0.92392,     0.92492,     0.92593,     0.92693,     0.92793,     0.92893,     0.92993,     0.93093,     0.93193,     0.93293,     0.93393,     0.93493,     0.93594,\n",
       "           0.93694,     0.93794,     0.93894,     0.93994,     0.94094,     0.94194,     0.94294,     0.94394,     0.94494,     0.94595,     0.94695,     0.94795,     0.94895,     0.94995,     0.95095,     0.95195,     0.95295,     0.95395,     0.95495,     0.95596,     0.95696,     0.95796,     0.95896,     0.95996,\n",
       "           0.96096,     0.96196,     0.96296,     0.96396,     0.96496,     0.96597,     0.96697,     0.96797,     0.96897,     0.96997,     0.97097,     0.97197,     0.97297,     0.97397,     0.97497,     0.97598,     0.97698,     0.97798,     0.97898,     0.97998,     0.98098,     0.98198,     0.98298,     0.98398,\n",
       "           0.98498,     0.98599,     0.98699,     0.98799,     0.98899,     0.98999,     0.99099,     0.99199,     0.99299,     0.99399,     0.99499,       0.996,       0.997,       0.998,       0.999,           1]), array([[          1,           1,           1,           1,           1,           1,           1,           1,           1,           1,           1,           1,           1,           1,           1,           1,           1,           1,           1,           1,           1,           1,           1,\n",
       "                  1,           1,           1,           1,           1,           1,           1,           1,           1,           1,           1,           1,           1,           1,           1,           1,           1,           1,           1,           1,           1,           1,           1,\n",
       "                  1,           1,           1,           1,           1,           1,           1,           1,           1,           1,           1,           1,           1,           1,           1,           1,           1,           1,           1,           1,           1,           1,           1,\n",
       "                  1,           1,           1,           1,           1,           1,           1,           1,           1,           1,           1,           1,           1,           1,           1,           1,           1,           1,           1,           1,           1,           1,           1,\n",
       "                  1,           1,           1,           1,           1,           1,           1,           1,           1,           1,           1,           1,           1,           1,           1,           1,           1,           1,           1,           1,           1,           1,           1,\n",
       "                  1,           1,           1,           1,           1,           1,           1,           1,           1,           1,           1,           1,           1,           1,           1,           1,           1,           1,           1,           1,           1,           1,           1,\n",
       "                  1,           1,           1,           1,           1,           1,           1,           1,           1,           1,           1,           1,           1,           1,           1,           1,           1,           1,           1,           1,           1,           1,           1,\n",
       "                  1,           1,           1,           1,           1,           1,           1,           1,           1,           1,           1,           1,           1,           1,           1,           1,           1,           1,           1,           1,           1,           1,           1,\n",
       "                  1,           1,           1,           1,           1,           1,           1,           1,           1,           1,           1,           1,           1,           1,           1,           1,           1,           1,           1,           1,           1,           1,           1,\n",
       "                  1,           1,           1,           1,           1,           1,           1,           1,           1,           1,           1,           1,           1,           1,           1,           1,           1,           1,           1,           1,           1,           1,           1,\n",
       "                  1,           1,           1,           1,           1,           1,           1,           1,           1,           1,           1,           1,           1,           1,           1,           1,           1,           1,           1,           1,           1,           1,           1,\n",
       "                  1,           1,           1,           1,           1,           1,           1,           1,           1,           1,           1,           1,           1,           1,           1,           1,           1,           1,           1,           1,           1,           1,           1,\n",
       "                  1,           1,           1,           1,           1,           1,           1,           1,           1,           1,           1,           1,           1,           1,           1,           1,           1,     0.99997,     0.99991,     0.99985,     0.99979,     0.99973,     0.99967,\n",
       "            0.99961,     0.99955,     0.99949,     0.99943,     0.99937,     0.99931,     0.99925,     0.99919,     0.99913,     0.99907,     0.99901,     0.99895,     0.99889,     0.99883,     0.99877,     0.99871,     0.99865,     0.99859,     0.99853,     0.99847,     0.99841,     0.99835,     0.99829,\n",
       "            0.99823,     0.99817,     0.99811,     0.99805,     0.99799,     0.99793,     0.99787,     0.99781,     0.99775,     0.99769,     0.99763,     0.99757,     0.99751,     0.99745,     0.99739,     0.99733,     0.99727,     0.99721,     0.99715,     0.99709,     0.99703,     0.99697,     0.99691,\n",
       "            0.99685,     0.99679,     0.99673,     0.99667,     0.99661,     0.99655,     0.99649,     0.99643,     0.99637,     0.99631,     0.99625,     0.99619,     0.99613,     0.99607,     0.99601,     0.99595,     0.99589,     0.99583,     0.99577,     0.99571,     0.99565,     0.99559,     0.99552,\n",
       "            0.99546,      0.9954,     0.99534,     0.99528,     0.99522,     0.99516,      0.9951,     0.99504,     0.99498,     0.99492,     0.99486,      0.9948,     0.99474,     0.99468,     0.99462,     0.99456,      0.9945,     0.99444,     0.99438,     0.99432,     0.99426,      0.9942,     0.99414,\n",
       "            0.99408,     0.99402,     0.99396,      0.9939,     0.99384,     0.99378,     0.99372,     0.99366,      0.9936,     0.99354,     0.99348,     0.99342,     0.99336,      0.9933,     0.99324,     0.99318,     0.99312,     0.99306,       0.993,     0.99294,     0.99288,     0.99282,     0.99276,\n",
       "             0.9927,     0.99264,     0.99258,     0.99252,     0.99246,      0.9924,     0.99234,     0.99228,     0.99222,     0.99216,      0.9921,     0.99204,     0.99198,     0.99192,     0.99186,      0.9918,     0.99174,     0.99168,     0.99162,     0.99156,      0.9915,     0.99144,     0.99138,\n",
       "            0.99132,     0.99126,      0.9912,     0.99114,     0.99108,     0.99102,     0.99096,      0.9909,     0.99084,     0.99078,     0.99072,     0.99066,      0.9906,     0.99054,     0.99048,     0.99042,     0.99036,      0.9903,     0.99024,     0.99018,     0.99012,     0.99006,        0.99,\n",
       "            0.98994,     0.98988,     0.98982,     0.98976,      0.9897,     0.98964,     0.98958,     0.98952,     0.98946,      0.9894,     0.98934,     0.98928,     0.98922,     0.98916,      0.9891,     0.98904,     0.98898,     0.98892,     0.98886,      0.9888,     0.98874,     0.98868,     0.98862,\n",
       "            0.98856,      0.9885,     0.98844,     0.98838,     0.98832,     0.98826,      0.9882,     0.98814,     0.98808,     0.98802,     0.98796,      0.9879,     0.98784,     0.98778,     0.98772,     0.98766,      0.9876,     0.98754,     0.98748,     0.98742,     0.98736,      0.9873,     0.98724,\n",
       "            0.98718,     0.98712,     0.98706,       0.987,     0.98694,     0.98688,     0.98682,     0.98676,      0.9867,     0.98664,     0.98658,     0.98652,     0.98646,      0.9864,     0.98634,     0.98628,     0.98622,     0.98616,      0.9861,     0.98604,     0.98598,     0.98592,     0.98586,\n",
       "             0.9858,     0.98574,     0.98568,     0.98562,     0.98556,      0.9855,     0.98544,     0.98538,     0.98532,     0.98525,     0.98519,     0.98513,     0.98507,     0.98501,     0.98495,     0.98489,     0.98483,     0.98477,     0.98471,     0.98465,     0.98459,     0.98453,     0.98447,\n",
       "            0.98441,     0.98435,     0.98429,     0.98423,     0.98417,     0.98411,     0.98405,     0.98399,     0.98393,     0.98387,     0.98381,     0.98375,     0.98369,     0.98363,     0.98357,     0.98351,     0.98345,     0.98339,     0.98333,     0.98327,     0.98321,     0.98315,     0.98309,\n",
       "            0.98303,     0.98297,     0.98291,     0.98285,     0.98279,     0.98273,     0.98267,     0.98261,     0.98255,     0.98249,     0.98243,     0.98237,     0.98231,     0.98225,     0.98219,     0.98213,     0.98207,     0.98201,     0.98195,     0.98189,     0.98183,     0.98177,     0.98171,\n",
       "            0.98165,     0.98159,     0.98153,     0.98147,     0.98141,     0.98135,     0.98129,     0.98123,     0.98117,     0.98111,     0.98105,     0.98099,     0.98093,     0.98087,     0.98081,     0.98075,     0.98069,     0.98063,     0.98057,     0.98051,     0.98045,     0.98038,     0.97998,\n",
       "            0.97957,     0.97917,     0.97877,     0.97836,     0.97796,     0.97756,     0.97715,     0.97675,     0.97635,     0.97594,     0.97554,     0.97514,     0.97473,     0.97433,     0.97393,     0.97352,     0.97312,     0.97272,     0.97231,     0.97191,     0.97151,      0.9711,      0.9707,\n",
       "             0.9703,     0.96989,     0.96949,     0.96909,     0.96868,     0.96828,     0.96788,     0.96747,     0.96707,     0.96667,     0.96626,     0.96586,     0.96546,     0.96505,     0.96465,     0.96425,     0.96384,     0.96344,     0.96304,     0.96263,     0.96223,     0.96183,     0.96142,\n",
       "            0.96102,      0.9604,     0.95946,     0.95853,      0.9576,     0.95666,     0.95573,      0.9548,     0.95386,     0.95293,       0.952,     0.95106,     0.95013,     0.94919,     0.94826,     0.94733,     0.94639,     0.94546,     0.94453,     0.94359,     0.94266,     0.94172,     0.94101,\n",
       "             0.9406,      0.9402,     0.93979,     0.93938,     0.93898,     0.93857,     0.93816,     0.93776,     0.93735,     0.93694,     0.93654,     0.93613,     0.93572,     0.93532,     0.93491,      0.9345,      0.9341,     0.93369,     0.93329,     0.93288,     0.93247,     0.93207,     0.93166,\n",
       "            0.93125,     0.93085,     0.93044,     0.93003,     0.92963,     0.92922,     0.92881,     0.92841,       0.928,     0.92759,     0.92719,     0.92678,     0.92637,     0.92597,     0.92556,     0.92516,     0.92475,     0.92434,     0.92394,     0.92353,     0.92312,     0.92272,     0.92231,\n",
       "             0.9219,     0.92115,     0.91877,      0.9164,     0.91402,     0.91165,     0.90927,     0.90689,     0.90452,     0.90214,     0.90102,     0.90001,     0.89899,     0.89797,     0.89696,     0.89594,     0.89493,     0.89391,      0.8929,     0.89188,     0.89086,     0.88985,     0.88883,\n",
       "            0.88782,      0.8868,     0.88579,     0.88477,     0.88376,     0.88274,     0.88186,     0.88105,     0.88025,     0.87944,     0.87864,     0.87784,     0.87703,     0.87623,     0.87543,     0.87462,     0.87382,     0.87302,     0.87221,     0.87141,     0.87061,      0.8698,       0.869,\n",
       "             0.8682,     0.86739,     0.86659,     0.86579,     0.86498,     0.86418,     0.86338,      0.8553,     0.84098,     0.83767,     0.83435,     0.83104,     0.82772,     0.82441,     0.82127,     0.81819,     0.81512,     0.81204,     0.80896,     0.80589,     0.80117,     0.79355,     0.78593,\n",
       "            0.78128,     0.77743,     0.77358,     0.76973,     0.76588,     0.76289,     0.76029,     0.75768,     0.75507,     0.75247,     0.74986,     0.74725,     0.72242,     0.68447,     0.67985,     0.67524,     0.67062,     0.66529,     0.65572,     0.64426,     0.62457,     0.61795,     0.61132,\n",
       "            0.58661,     0.58284,     0.57907,     0.57529,     0.57152,     0.56523,     0.55064,     0.53333,      0.5121,     0.48911,     0.46761,     0.45975,     0.45189,      0.4421,     0.43206,     0.40227,     0.37066,     0.35613,     0.33935,     0.31489,     0.29242,     0.28392,     0.27542,\n",
       "            0.26794,     0.26058,     0.23984,     0.21047,      0.1936,     0.18949,     0.18538,     0.18127,     0.17716,     0.17038,     0.16307,      0.1374,     0.11171,     0.10212,    0.097022,     0.09525,    0.093477,    0.091705,    0.089932,    0.088159,    0.086387,    0.084614,    0.082842,\n",
       "           0.081069,    0.079297,    0.073377,    0.063504,     0.03879,    0.037108,    0.035426,    0.033745,    0.032063,    0.030382,      0.0287,    0.027018,    0.025337,    0.023655,    0.021973,    0.020292,           0,           0,           0,           0,           0,           0,           0,\n",
       "                  0,           0,           0,           0,           0,           0,           0,           0,           0,           0,           0,           0,           0,           0,           0,           0,           0,           0,           0,           0,           0,           0,           0,\n",
       "                  0,           0,           0,           0,           0,           0,           0,           0,           0,           0,           0,           0,           0,           0,           0,           0,           0,           0,           0,           0,           0,           0,           0,\n",
       "                  0,           0,           0,           0,           0,           0,           0,           0,           0,           0,           0,           0,           0,           0,           0,           0,           0,           0,           0,           0,           0,           0,           0,\n",
       "                  0,           0,           0,           0,           0,           0,           0,           0,           0,           0,           0,           0,           0,           0,           0,           0,           0,           0,           0,           0,           0,           0,           0,\n",
       "                  0,           0,           0,           0,           0,           0,           0,           0,           0,           0,           0]]), 'Confidence', 'Recall']]\n",
       "fitness: np.float64(0.7374392594182119)\n",
       "keys: ['metrics/precision(B)', 'metrics/recall(B)', 'metrics/mAP50(B)', 'metrics/mAP50-95(B)']\n",
       "maps: array([    0.70882,     0.70882])\n",
       "names: {0: 'skier', 1: 'viewer'}\n",
       "plot: True\n",
       "results_dict: {'metrics/precision(B)': np.float64(1.0), 'metrics/recall(B)': np.float64(0.9996089910146961), 'metrics/mAP50(B)': np.float64(0.995), 'metrics/mAP50-95(B)': np.float64(0.7088213993535687), 'fitness': np.float64(0.7374392594182119)}\n",
       "save_dir: WindowsPath('runs/detect/skier_tracking5')\n",
       "speed: {'preprocess': 1.5096980347937228, 'inference': 64.05548431326214, 'loss': 8.039048635492138e-05, 'postprocess': 0.6785274519785947}\n",
       "task: 'detect'"
      ]
     },
     "execution_count": 31,
     "metadata": {},
     "output_type": "execute_result"
    }
   ],
   "source": [
    "from ultralytics import YOLO\n",
    "\n",
    "model_skier = YOLO(\"yolov8n.pt\")  \n",
    "model_skier.train(\n",
    "    data=\"dataset/data.yaml\",\n",
    "    epochs=100,\n",
    "    imgsz=480,  \n",
    "    batch=16,\n",
    "    name=\"skier_tracking\"\n",
    ")"
   ]
  },
  {
   "cell_type": "code",
   "execution_count": 42,
   "id": "1d624b3e",
   "metadata": {},
   "outputs": [
    {
     "name": "stdout",
     "output_type": "stream",
     "text": [
      "\n"
     ]
    },
    {
     "ename": "FileNotFoundError",
     "evalue": "'custom_tracker.yaml' does not exist",
     "output_type": "error",
     "traceback": [
      "\u001b[31m---------------------------------------------------------------------------\u001b[39m",
      "\u001b[31mFileNotFoundError\u001b[39m                         Traceback (most recent call last)",
      "\u001b[36mCell\u001b[39m\u001b[36m \u001b[39m\u001b[32mIn[42]\u001b[39m\u001b[32m, line 7\u001b[39m\n\u001b[32m      4\u001b[39m success, frame = cap.read()\n\u001b[32m      5\u001b[39m \u001b[38;5;28;01mif\u001b[39;00m success:\n\u001b[32m----> \u001b[39m\u001b[32m7\u001b[39m     results = \u001b[43mmodel\u001b[49m\u001b[43m.\u001b[49m\u001b[43mtrack\u001b[49m\u001b[43m(\u001b[49m\u001b[43mframe\u001b[49m\u001b[43m,\u001b[49m\u001b[43m \u001b[49m\u001b[43mpersist\u001b[49m\u001b[43m=\u001b[49m\u001b[38;5;28;43;01mTrue\u001b[39;49;00m\u001b[43m,\u001b[49m\u001b[43m \u001b[49m\u001b[43mtracker\u001b[49m\u001b[43m=\u001b[49m\u001b[33;43m\"\u001b[39;49m\u001b[33;43mcustom_tracker.yaml\u001b[39;49m\u001b[33;43m\"\u001b[39;49m\u001b[43m \u001b[49m\u001b[43m)\u001b[49m\n\u001b[32m      9\u001b[39m     \u001b[38;5;66;03m# Visualize the results\u001b[39;00m\n\u001b[32m     10\u001b[39m     annotated_frame = results[\u001b[32m0\u001b[39m].plot()\n",
      "\u001b[36mFile \u001b[39m\u001b[32mc:\\Users\\Dell\\AppData\\Local\\Programs\\Python\\Python313\\Lib\\site-packages\\ultralytics\\engine\\model.py:599\u001b[39m, in \u001b[36mModel.track\u001b[39m\u001b[34m(self, source, stream, persist, **kwargs)\u001b[39m\n\u001b[32m    597\u001b[39m kwargs[\u001b[33m\"\u001b[39m\u001b[33mbatch\u001b[39m\u001b[33m\"\u001b[39m] = kwargs.get(\u001b[33m\"\u001b[39m\u001b[33mbatch\u001b[39m\u001b[33m\"\u001b[39m) \u001b[38;5;129;01mor\u001b[39;00m \u001b[32m1\u001b[39m  \u001b[38;5;66;03m# batch-size 1 for tracking in videos\u001b[39;00m\n\u001b[32m    598\u001b[39m kwargs[\u001b[33m\"\u001b[39m\u001b[33mmode\u001b[39m\u001b[33m\"\u001b[39m] = \u001b[33m\"\u001b[39m\u001b[33mtrack\u001b[39m\u001b[33m\"\u001b[39m\n\u001b[32m--> \u001b[39m\u001b[32m599\u001b[39m \u001b[38;5;28;01mreturn\u001b[39;00m \u001b[38;5;28;43mself\u001b[39;49m\u001b[43m.\u001b[49m\u001b[43mpredict\u001b[49m\u001b[43m(\u001b[49m\u001b[43msource\u001b[49m\u001b[43m=\u001b[49m\u001b[43msource\u001b[49m\u001b[43m,\u001b[49m\u001b[43m \u001b[49m\u001b[43mstream\u001b[49m\u001b[43m=\u001b[49m\u001b[43mstream\u001b[49m\u001b[43m,\u001b[49m\u001b[43m \u001b[49m\u001b[43m*\u001b[49m\u001b[43m*\u001b[49m\u001b[43mkwargs\u001b[49m\u001b[43m)\u001b[49m\n",
      "\u001b[36mFile \u001b[39m\u001b[32mc:\\Users\\Dell\\AppData\\Local\\Programs\\Python\\Python313\\Lib\\site-packages\\ultralytics\\engine\\model.py:555\u001b[39m, in \u001b[36mModel.predict\u001b[39m\u001b[34m(self, source, stream, predictor, **kwargs)\u001b[39m\n\u001b[32m    553\u001b[39m \u001b[38;5;28;01mif\u001b[39;00m prompts \u001b[38;5;129;01mand\u001b[39;00m \u001b[38;5;28mhasattr\u001b[39m(\u001b[38;5;28mself\u001b[39m.predictor, \u001b[33m\"\u001b[39m\u001b[33mset_prompts\u001b[39m\u001b[33m\"\u001b[39m):  \u001b[38;5;66;03m# for SAM-type models\u001b[39;00m\n\u001b[32m    554\u001b[39m     \u001b[38;5;28mself\u001b[39m.predictor.set_prompts(prompts)\n\u001b[32m--> \u001b[39m\u001b[32m555\u001b[39m \u001b[38;5;28;01mreturn\u001b[39;00m \u001b[38;5;28mself\u001b[39m.predictor.predict_cli(source=source) \u001b[38;5;28;01mif\u001b[39;00m is_cli \u001b[38;5;28;01melse\u001b[39;00m \u001b[38;5;28;43mself\u001b[39;49m\u001b[43m.\u001b[49m\u001b[43mpredictor\u001b[49m\u001b[43m(\u001b[49m\u001b[43msource\u001b[49m\u001b[43m=\u001b[49m\u001b[43msource\u001b[49m\u001b[43m,\u001b[49m\u001b[43m \u001b[49m\u001b[43mstream\u001b[49m\u001b[43m=\u001b[49m\u001b[43mstream\u001b[49m\u001b[43m)\u001b[49m\n",
      "\u001b[36mFile \u001b[39m\u001b[32mc:\\Users\\Dell\\AppData\\Local\\Programs\\Python\\Python313\\Lib\\site-packages\\ultralytics\\engine\\predictor.py:227\u001b[39m, in \u001b[36mBasePredictor.__call__\u001b[39m\u001b[34m(self, source, model, stream, *args, **kwargs)\u001b[39m\n\u001b[32m    225\u001b[39m     \u001b[38;5;28;01mreturn\u001b[39;00m \u001b[38;5;28mself\u001b[39m.stream_inference(source, model, *args, **kwargs)\n\u001b[32m    226\u001b[39m \u001b[38;5;28;01melse\u001b[39;00m:\n\u001b[32m--> \u001b[39m\u001b[32m227\u001b[39m     \u001b[38;5;28;01mreturn\u001b[39;00m \u001b[38;5;28;43mlist\u001b[39;49m\u001b[43m(\u001b[49m\u001b[38;5;28;43mself\u001b[39;49m\u001b[43m.\u001b[49m\u001b[43mstream_inference\u001b[49m\u001b[43m(\u001b[49m\u001b[43msource\u001b[49m\u001b[43m,\u001b[49m\u001b[43m \u001b[49m\u001b[43mmodel\u001b[49m\u001b[43m,\u001b[49m\u001b[43m \u001b[49m\u001b[43m*\u001b[49m\u001b[43margs\u001b[49m\u001b[43m,\u001b[49m\u001b[43m \u001b[49m\u001b[43m*\u001b[49m\u001b[43m*\u001b[49m\u001b[43mkwargs\u001b[49m\u001b[43m)\u001b[49m\u001b[43m)\u001b[49m\n",
      "\u001b[36mFile \u001b[39m\u001b[32mc:\\Users\\Dell\\AppData\\Local\\Programs\\Python\\Python313\\Lib\\site-packages\\torch\\utils\\_contextlib.py:36\u001b[39m, in \u001b[36m_wrap_generator.<locals>.generator_context\u001b[39m\u001b[34m(*args, **kwargs)\u001b[39m\n\u001b[32m     33\u001b[39m \u001b[38;5;28;01mtry\u001b[39;00m:\n\u001b[32m     34\u001b[39m     \u001b[38;5;66;03m# Issuing `None` to a generator fires it up\u001b[39;00m\n\u001b[32m     35\u001b[39m     \u001b[38;5;28;01mwith\u001b[39;00m ctx_factory():\n\u001b[32m---> \u001b[39m\u001b[32m36\u001b[39m         response = \u001b[43mgen\u001b[49m\u001b[43m.\u001b[49m\u001b[43msend\u001b[49m\u001b[43m(\u001b[49m\u001b[38;5;28;43;01mNone\u001b[39;49;00m\u001b[43m)\u001b[49m\n\u001b[32m     38\u001b[39m     \u001b[38;5;28;01mwhile\u001b[39;00m \u001b[38;5;28;01mTrue\u001b[39;00m:\n\u001b[32m     39\u001b[39m         \u001b[38;5;28;01mtry\u001b[39;00m:\n\u001b[32m     40\u001b[39m             \u001b[38;5;66;03m# Forward the response to our caller and get its next request\u001b[39;00m\n",
      "\u001b[36mFile \u001b[39m\u001b[32mc:\\Users\\Dell\\AppData\\Local\\Programs\\Python\\Python313\\Lib\\site-packages\\ultralytics\\engine\\predictor.py:319\u001b[39m, in \u001b[36mBasePredictor.stream_inference\u001b[39m\u001b[34m(self, source, model, *args, **kwargs)\u001b[39m\n\u001b[32m    313\u001b[39m \u001b[38;5;28mself\u001b[39m.seen, \u001b[38;5;28mself\u001b[39m.windows, \u001b[38;5;28mself\u001b[39m.batch = \u001b[32m0\u001b[39m, [], \u001b[38;5;28;01mNone\u001b[39;00m\n\u001b[32m    314\u001b[39m profilers = (\n\u001b[32m    315\u001b[39m     ops.Profile(device=\u001b[38;5;28mself\u001b[39m.device),\n\u001b[32m    316\u001b[39m     ops.Profile(device=\u001b[38;5;28mself\u001b[39m.device),\n\u001b[32m    317\u001b[39m     ops.Profile(device=\u001b[38;5;28mself\u001b[39m.device),\n\u001b[32m    318\u001b[39m )\n\u001b[32m--> \u001b[39m\u001b[32m319\u001b[39m \u001b[38;5;28;43mself\u001b[39;49m\u001b[43m.\u001b[49m\u001b[43mrun_callbacks\u001b[49m\u001b[43m(\u001b[49m\u001b[33;43m\"\u001b[39;49m\u001b[33;43mon_predict_start\u001b[39;49m\u001b[33;43m\"\u001b[39;49m\u001b[43m)\u001b[49m\n\u001b[32m    320\u001b[39m \u001b[38;5;28;01mfor\u001b[39;00m \u001b[38;5;28mself\u001b[39m.batch \u001b[38;5;129;01min\u001b[39;00m \u001b[38;5;28mself\u001b[39m.dataset:\n\u001b[32m    321\u001b[39m     \u001b[38;5;28mself\u001b[39m.run_callbacks(\u001b[33m\"\u001b[39m\u001b[33mon_predict_batch_start\u001b[39m\u001b[33m\"\u001b[39m)\n",
      "\u001b[36mFile \u001b[39m\u001b[32mc:\\Users\\Dell\\AppData\\Local\\Programs\\Python\\Python313\\Lib\\site-packages\\ultralytics\\engine\\predictor.py:507\u001b[39m, in \u001b[36mBasePredictor.run_callbacks\u001b[39m\u001b[34m(self, event)\u001b[39m\n\u001b[32m    505\u001b[39m \u001b[38;5;250m\u001b[39m\u001b[33;03m\"\"\"Run all registered callbacks for a specific event.\"\"\"\u001b[39;00m\n\u001b[32m    506\u001b[39m \u001b[38;5;28;01mfor\u001b[39;00m callback \u001b[38;5;129;01min\u001b[39;00m \u001b[38;5;28mself\u001b[39m.callbacks.get(event, []):\n\u001b[32m--> \u001b[39m\u001b[32m507\u001b[39m     \u001b[43mcallback\u001b[49m\u001b[43m(\u001b[49m\u001b[38;5;28;43mself\u001b[39;49m\u001b[43m)\u001b[49m\n",
      "\u001b[36mFile \u001b[39m\u001b[32mc:\\Users\\Dell\\AppData\\Local\\Programs\\Python\\Python313\\Lib\\site-packages\\ultralytics\\trackers\\track.py:37\u001b[39m, in \u001b[36mon_predict_start\u001b[39m\u001b[34m(predictor, persist)\u001b[39m\n\u001b[32m     34\u001b[39m \u001b[38;5;28;01mif\u001b[39;00m \u001b[38;5;28mhasattr\u001b[39m(predictor, \u001b[33m\"\u001b[39m\u001b[33mtrackers\u001b[39m\u001b[33m\"\u001b[39m) \u001b[38;5;129;01mand\u001b[39;00m persist:\n\u001b[32m     35\u001b[39m     \u001b[38;5;28;01mreturn\u001b[39;00m\n\u001b[32m---> \u001b[39m\u001b[32m37\u001b[39m tracker = \u001b[43mcheck_yaml\u001b[49m\u001b[43m(\u001b[49m\u001b[43mpredictor\u001b[49m\u001b[43m.\u001b[49m\u001b[43margs\u001b[49m\u001b[43m.\u001b[49m\u001b[43mtracker\u001b[49m\u001b[43m)\u001b[49m\n\u001b[32m     38\u001b[39m cfg = IterableSimpleNamespace(**YAML.load(tracker))\n\u001b[32m     40\u001b[39m \u001b[38;5;28;01mif\u001b[39;00m cfg.tracker_type \u001b[38;5;129;01mnot\u001b[39;00m \u001b[38;5;129;01min\u001b[39;00m {\u001b[33m\"\u001b[39m\u001b[33mbytetrack\u001b[39m\u001b[33m\"\u001b[39m, \u001b[33m\"\u001b[39m\u001b[33mbotsort\u001b[39m\u001b[33m\"\u001b[39m}:\n",
      "\u001b[36mFile \u001b[39m\u001b[32mc:\\Users\\Dell\\AppData\\Local\\Programs\\Python\\Python313\\Lib\\site-packages\\ultralytics\\utils\\checks.py:586\u001b[39m, in \u001b[36mcheck_yaml\u001b[39m\u001b[34m(file, suffix, hard)\u001b[39m\n\u001b[32m    574\u001b[39m \u001b[38;5;28;01mdef\u001b[39;00m\u001b[38;5;250m \u001b[39m\u001b[34mcheck_yaml\u001b[39m(file, suffix=(\u001b[33m\"\u001b[39m\u001b[33m.yaml\u001b[39m\u001b[33m\"\u001b[39m, \u001b[33m\"\u001b[39m\u001b[33m.yml\u001b[39m\u001b[33m\"\u001b[39m), hard=\u001b[38;5;28;01mTrue\u001b[39;00m):\n\u001b[32m    575\u001b[39m \u001b[38;5;250m    \u001b[39m\u001b[33;03m\"\"\"\u001b[39;00m\n\u001b[32m    576\u001b[39m \u001b[33;03m    Search/download YAML file (if necessary) and return path, checking suffix.\u001b[39;00m\n\u001b[32m    577\u001b[39m \n\u001b[32m   (...)\u001b[39m\u001b[32m    584\u001b[39m \u001b[33;03m        (str): Path to the YAML file.\u001b[39;00m\n\u001b[32m    585\u001b[39m \u001b[33;03m    \"\"\"\u001b[39;00m\n\u001b[32m--> \u001b[39m\u001b[32m586\u001b[39m     \u001b[38;5;28;01mreturn\u001b[39;00m \u001b[43mcheck_file\u001b[49m\u001b[43m(\u001b[49m\u001b[43mfile\u001b[49m\u001b[43m,\u001b[49m\u001b[43m \u001b[49m\u001b[43msuffix\u001b[49m\u001b[43m,\u001b[49m\u001b[43m \u001b[49m\u001b[43mhard\u001b[49m\u001b[43m=\u001b[49m\u001b[43mhard\u001b[49m\u001b[43m)\u001b[49m\n",
      "\u001b[36mFile \u001b[39m\u001b[32mc:\\Users\\Dell\\AppData\\Local\\Programs\\Python\\Python313\\Lib\\site-packages\\ultralytics\\utils\\checks.py:568\u001b[39m, in \u001b[36mcheck_file\u001b[39m\u001b[34m(file, suffix, download, download_dir, hard)\u001b[39m\n\u001b[32m    566\u001b[39m files = glob.glob(\u001b[38;5;28mstr\u001b[39m(ROOT / \u001b[33m\"\u001b[39m\u001b[33m**\u001b[39m\u001b[33m\"\u001b[39m / file), recursive=\u001b[38;5;28;01mTrue\u001b[39;00m) \u001b[38;5;129;01mor\u001b[39;00m glob.glob(\u001b[38;5;28mstr\u001b[39m(ROOT.parent / file))  \u001b[38;5;66;03m# find file\u001b[39;00m\n\u001b[32m    567\u001b[39m \u001b[38;5;28;01mif\u001b[39;00m \u001b[38;5;129;01mnot\u001b[39;00m files \u001b[38;5;129;01mand\u001b[39;00m hard:\n\u001b[32m--> \u001b[39m\u001b[32m568\u001b[39m     \u001b[38;5;28;01mraise\u001b[39;00m \u001b[38;5;167;01mFileNotFoundError\u001b[39;00m(\u001b[33mf\u001b[39m\u001b[33m\"\u001b[39m\u001b[33m'\u001b[39m\u001b[38;5;132;01m{\u001b[39;00mfile\u001b[38;5;132;01m}\u001b[39;00m\u001b[33m'\u001b[39m\u001b[33m does not exist\u001b[39m\u001b[33m\"\u001b[39m)\n\u001b[32m    569\u001b[39m \u001b[38;5;28;01melif\u001b[39;00m \u001b[38;5;28mlen\u001b[39m(files) > \u001b[32m1\u001b[39m \u001b[38;5;129;01mand\u001b[39;00m hard:\n\u001b[32m    570\u001b[39m     \u001b[38;5;28;01mraise\u001b[39;00m \u001b[38;5;167;01mFileNotFoundError\u001b[39;00m(\u001b[33mf\u001b[39m\u001b[33m\"\u001b[39m\u001b[33mMultiple files match \u001b[39m\u001b[33m'\u001b[39m\u001b[38;5;132;01m{\u001b[39;00mfile\u001b[38;5;132;01m}\u001b[39;00m\u001b[33m'\u001b[39m\u001b[33m, specify exact path: \u001b[39m\u001b[38;5;132;01m{\u001b[39;00mfiles\u001b[38;5;132;01m}\u001b[39;00m\u001b[33m\"\u001b[39m)\n",
      "\u001b[31mFileNotFoundError\u001b[39m: 'custom_tracker.yaml' does not exist"
     ]
    }
   ],
   "source": [
    "cap = cv2.VideoCapture(\"IMG_4434.mp4\")\n",
    "\n",
    "while cap.isOpened():\n",
    "    success, frame = cap.read()\n",
    "    if success:\n",
    "        \n",
    "        results = model.track(frame, persist=True, tracker=\"custom_tracker.yaml\" )\n",
    "\n",
    "        # Visualize the results\n",
    "        annotated_frame = results[0].plot()\n",
    "        cv2.imshow(\"Tracking\", annotated_frame)\n",
    "\n",
    "        if cv2.waitKey(1) & 0xFF == ord(\"q\"):\n",
    "            break\n",
    "    else:\n",
    "        break\n",
    "\n",
    "cap.release()\n",
    "cv2.destroyAllWindows()"
   ]
  },
  {
   "cell_type": "code",
   "execution_count": null,
   "id": "dd082bf1",
   "metadata": {},
   "outputs": [],
   "source": [
    "from ultralytics import YOLO\n",
    "import cv2\n",
    "import os\n",
    "\n",
    "# Загрузка предобученной модели\n",
    "model = YOLO(\"yolov8n.pt\") \n",
    "\n",
    "input_folder = \"dataset/frames\"\n",
    "output_folder = \"dataset/labels\"\n",
    "os.makedirs(output_folder, exist_ok=True)\n",
    "\n",
    "for img_name in os.listdir(input_folder):\n",
    "    img_path = os.path.join(input_folder, img_name)\n",
    "    results = model.predict(img_path, conf=0.5)\n",
    "    \n",
    "    # Генерация YOLO аннотаций\n",
    "    label_path = os.path.join(output_folder, os.path.splitext(img_name)[0] + \".txt\")\n",
    "    with open(label_path, \"w\") as f:\n",
    "        for box in results[0].boxes:\n",
    "            cls = int(box.cls)\n",
    "            xywhn = box.xywhn[0].tolist()\n",
    "            f.write(f\"{cls} {' '.join(map(str, xywhn))}\\n\")"
   ]
  },
  {
   "cell_type": "code",
   "execution_count": null,
   "id": "98ccf68b",
   "metadata": {},
   "outputs": [
    {
     "name": "stderr",
     "output_type": "stream",
     "text": [
      "<>:9: SyntaxWarning: invalid escape sequence '\\d'\n",
      "<>:9: SyntaxWarning: invalid escape sequence '\\d'\n",
      "C:\\Users\\Dell\\AppData\\Local\\Temp\\ipykernel_204684\\193456225.py:9: SyntaxWarning: invalid escape sequence '\\d'\n",
      "  auto_annotate(data=\"C:\\ИТМО\\НИР 2\\data\\Video_go_cart.mp4\",\n"
     ]
    },
    {
     "name": "stdout",
     "output_type": "stream",
     "text": [
      "Downloading https://github.com/ultralytics/assets/releases/download/v8.3.0/yolo11x.pt to 'yolo11x.pt'...\n"
     ]
    },
    {
     "name": "stderr",
     "output_type": "stream",
     "text": [
      "100%|██████████| 109M/109M [00:20<00:00, 5.50MB/s] \n"
     ]
    },
    {
     "name": "stdout",
     "output_type": "stream",
     "text": [
      "Downloading https://github.com/ultralytics/assets/releases/download/v8.3.0/sam_b.pt to 'sam_b.pt'...\n"
     ]
    },
    {
     "name": "stderr",
     "output_type": "stream",
     "text": [
      "100%|██████████| 358M/358M [01:01<00:00, 6.06MB/s] \n"
     ]
    },
    {
     "name": "stdout",
     "output_type": "stream",
     "text": [
      "\n",
      "video 1/1 (frame 1/892) C:\\\\ 2\\data\\Video_go_cart.mp4: 384x640 (no detections), 917.9ms\n",
      "video 1/1 (frame 2/892) C:\\\\ 2\\data\\Video_go_cart.mp4: 384x640 (no detections), 822.1ms\n",
      "video 1/1 (frame 3/892) C:\\\\ 2\\data\\Video_go_cart.mp4: 384x640 (no detections), 734.9ms\n",
      "video 1/1 (frame 4/892) C:\\\\ 2\\data\\Video_go_cart.mp4: 384x640 (no detections), 1016.4ms\n",
      "video 1/1 (frame 5/892) C:\\\\ 2\\data\\Video_go_cart.mp4: 384x640 (no detections), 739.7ms\n",
      "video 1/1 (frame 6/892) C:\\\\ 2\\data\\Video_go_cart.mp4: 384x640 (no detections), 717.4ms\n",
      "video 1/1 (frame 7/892) C:\\\\ 2\\data\\Video_go_cart.mp4: 384x640 1 kite, 731.9ms\n",
      "video 1/1 (frame 8/892) C:\\\\ 2\\data\\Video_go_cart.mp4: 384x640 (no detections), 1034.4ms\n",
      "video 1/1 (frame 9/892) C:\\\\ 2\\data\\Video_go_cart.mp4: 384x640 1 tie, 840.5ms\n",
      "video 1/1 (frame 10/892) C:\\\\ 2\\data\\Video_go_cart.mp4: 384x640 1 tie, 778.7ms\n",
      "video 1/1 (frame 11/892) C:\\\\ 2\\data\\Video_go_cart.mp4: 384x640 1 tie, 725.5ms\n",
      "video 1/1 (frame 12/892) C:\\\\ 2\\data\\Video_go_cart.mp4: 384x640 1 tie, 727.9ms\n",
      "video 1/1 (frame 13/892) C:\\\\ 2\\data\\Video_go_cart.mp4: 384x640 (no detections), 738.9ms\n",
      "video 1/1 (frame 14/892) C:\\\\ 2\\data\\Video_go_cart.mp4: 384x640 (no detections), 719.6ms\n",
      "video 1/1 (frame 15/892) C:\\\\ 2\\data\\Video_go_cart.mp4: 384x640 (no detections), 697.9ms\n",
      "video 1/1 (frame 16/892) C:\\\\ 2\\data\\Video_go_cart.mp4: 384x640 (no detections), 690.3ms\n",
      "video 1/1 (frame 17/892) C:\\\\ 2\\data\\Video_go_cart.mp4: 384x640 1 kite, 727.5ms\n",
      "video 1/1 (frame 18/892) C:\\\\ 2\\data\\Video_go_cart.mp4: 384x640 (no detections), 727.0ms\n",
      "video 1/1 (frame 19/892) C:\\\\ 2\\data\\Video_go_cart.mp4: 384x640 (no detections), 761.0ms\n",
      "video 1/1 (frame 20/892) C:\\\\ 2\\data\\Video_go_cart.mp4: 384x640 (no detections), 858.2ms\n",
      "video 1/1 (frame 21/892) C:\\\\ 2\\data\\Video_go_cart.mp4: 384x640 (no detections), 691.0ms\n",
      "video 1/1 (frame 22/892) C:\\\\ 2\\data\\Video_go_cart.mp4: 384x640 1 airplane, 704.6ms\n",
      "video 1/1 (frame 23/892) C:\\\\ 2\\data\\Video_go_cart.mp4: 384x640 1 airplane, 724.9ms\n",
      "video 1/1 (frame 24/892) C:\\\\ 2\\data\\Video_go_cart.mp4: 384x640 1 airplane, 755.3ms\n",
      "video 1/1 (frame 25/892) C:\\\\ 2\\data\\Video_go_cart.mp4: 384x640 1 airplane, 868.1ms\n",
      "video 1/1 (frame 26/892) C:\\\\ 2\\data\\Video_go_cart.mp4: 384x640 1 airplane, 737.1ms\n",
      "video 1/1 (frame 27/892) C:\\\\ 2\\data\\Video_go_cart.mp4: 384x640 (no detections), 731.5ms\n",
      "video 1/1 (frame 28/892) C:\\\\ 2\\data\\Video_go_cart.mp4: 384x640 1 airplane, 715.6ms\n",
      "video 1/1 (frame 29/892) C:\\\\ 2\\data\\Video_go_cart.mp4: 384x640 (no detections), 774.9ms\n",
      "video 1/1 (frame 30/892) C:\\\\ 2\\data\\Video_go_cart.mp4: 384x640 (no detections), 732.3ms\n",
      "video 1/1 (frame 31/892) C:\\\\ 2\\data\\Video_go_cart.mp4: 384x640 (no detections), 864.3ms\n",
      "video 1/1 (frame 32/892) C:\\\\ 2\\data\\Video_go_cart.mp4: 384x640 (no detections), 816.1ms\n",
      "video 1/1 (frame 33/892) C:\\\\ 2\\data\\Video_go_cart.mp4: 384x640 (no detections), 789.5ms\n",
      "video 1/1 (frame 34/892) C:\\\\ 2\\data\\Video_go_cart.mp4: 384x640 1 airplane, 787.3ms\n",
      "video 1/1 (frame 35/892) C:\\\\ 2\\data\\Video_go_cart.mp4: 384x640 1 airplane, 768.1ms\n",
      "video 1/1 (frame 36/892) C:\\\\ 2\\data\\Video_go_cart.mp4: 384x640 1 airplane, 775.0ms\n",
      "video 1/1 (frame 37/892) C:\\\\ 2\\data\\Video_go_cart.mp4: 384x640 1 airplane, 743.5ms\n",
      "video 1/1 (frame 38/892) C:\\\\ 2\\data\\Video_go_cart.mp4: 384x640 1 airplane, 779.7ms\n",
      "video 1/1 (frame 39/892) C:\\\\ 2\\data\\Video_go_cart.mp4: 384x640 1 airplane, 725.9ms\n",
      "video 1/1 (frame 40/892) C:\\\\ 2\\data\\Video_go_cart.mp4: 384x640 (no detections), 764.0ms\n",
      "video 1/1 (frame 41/892) C:\\\\ 2\\data\\Video_go_cart.mp4: 384x640 (no detections), 766.4ms\n",
      "video 1/1 (frame 42/892) C:\\\\ 2\\data\\Video_go_cart.mp4: 384x640 (no detections), 718.0ms\n",
      "video 1/1 (frame 43/892) C:\\\\ 2\\data\\Video_go_cart.mp4: 384x640 (no detections), 812.5ms\n",
      "video 1/1 (frame 44/892) C:\\\\ 2\\data\\Video_go_cart.mp4: 384x640 (no detections), 980.1ms\n",
      "video 1/1 (frame 45/892) C:\\\\ 2\\data\\Video_go_cart.mp4: 384x640 (no detections), 804.8ms\n",
      "video 1/1 (frame 46/892) C:\\\\ 2\\data\\Video_go_cart.mp4: 384x640 (no detections), 787.3ms\n",
      "video 1/1 (frame 47/892) C:\\\\ 2\\data\\Video_go_cart.mp4: 384x640 (no detections), 707.1ms\n",
      "video 1/1 (frame 48/892) C:\\\\ 2\\data\\Video_go_cart.mp4: 384x640 (no detections), 692.9ms\n",
      "video 1/1 (frame 49/892) C:\\\\ 2\\data\\Video_go_cart.mp4: 384x640 (no detections), 685.3ms\n",
      "video 1/1 (frame 50/892) C:\\\\ 2\\data\\Video_go_cart.mp4: 384x640 (no detections), 726.8ms\n",
      "video 1/1 (frame 51/892) C:\\\\ 2\\data\\Video_go_cart.mp4: 384x640 (no detections), 686.1ms\n",
      "video 1/1 (frame 52/892) C:\\\\ 2\\data\\Video_go_cart.mp4: 384x640 (no detections), 705.2ms\n",
      "video 1/1 (frame 53/892) C:\\\\ 2\\data\\Video_go_cart.mp4: 384x640 (no detections), 735.4ms\n",
      "video 1/1 (frame 54/892) C:\\\\ 2\\data\\Video_go_cart.mp4: 384x640 (no detections), 678.8ms\n",
      "video 1/1 (frame 55/892) C:\\\\ 2\\data\\Video_go_cart.mp4: 384x640 (no detections), 694.5ms\n",
      "video 1/1 (frame 56/892) C:\\\\ 2\\data\\Video_go_cart.mp4: 384x640 (no detections), 690.4ms\n",
      "video 1/1 (frame 57/892) C:\\\\ 2\\data\\Video_go_cart.mp4: 384x640 (no detections), 719.5ms\n",
      "video 1/1 (frame 58/892) C:\\\\ 2\\data\\Video_go_cart.mp4: 384x640 (no detections), 684.7ms\n",
      "video 1/1 (frame 59/892) C:\\\\ 2\\data\\Video_go_cart.mp4: 384x640 1 train, 688.3ms\n",
      "video 1/1 (frame 60/892) C:\\\\ 2\\data\\Video_go_cart.mp4: 384x640 (no detections), 778.5ms\n",
      "video 1/1 (frame 61/892) C:\\\\ 2\\data\\Video_go_cart.mp4: 384x640 1 train, 722.2ms\n",
      "video 1/1 (frame 62/892) C:\\\\ 2\\data\\Video_go_cart.mp4: 384x640 1 train, 732.9ms\n",
      "video 1/1 (frame 63/892) C:\\\\ 2\\data\\Video_go_cart.mp4: 384x640 1 train, 723.6ms\n",
      "video 1/1 (frame 64/892) C:\\\\ 2\\data\\Video_go_cart.mp4: 384x640 1 train, 751.2ms\n",
      "video 1/1 (frame 65/892) C:\\\\ 2\\data\\Video_go_cart.mp4: 384x640 1 train, 764.1ms\n",
      "video 1/1 (frame 66/892) C:\\\\ 2\\data\\Video_go_cart.mp4: 384x640 1 train, 737.9ms\n",
      "video 1/1 (frame 67/892) C:\\\\ 2\\data\\Video_go_cart.mp4: 384x640 (no detections), 787.0ms\n",
      "video 1/1 (frame 68/892) C:\\\\ 2\\data\\Video_go_cart.mp4: 384x640 1 train, 732.4ms\n",
      "video 1/1 (frame 69/892) C:\\\\ 2\\data\\Video_go_cart.mp4: 384x640 (no detections), 795.5ms\n",
      "video 1/1 (frame 70/892) C:\\\\ 2\\data\\Video_go_cart.mp4: 384x640 (no detections), 751.4ms\n",
      "video 1/1 (frame 71/892) C:\\\\ 2\\data\\Video_go_cart.mp4: 384x640 1 train, 697.8ms\n",
      "video 1/1 (frame 72/892) C:\\\\ 2\\data\\Video_go_cart.mp4: 384x640 1 train, 739.1ms\n",
      "video 1/1 (frame 73/892) C:\\\\ 2\\data\\Video_go_cart.mp4: 384x640 1 train, 733.4ms\n",
      "video 1/1 (frame 74/892) C:\\\\ 2\\data\\Video_go_cart.mp4: 384x640 (no detections), 844.6ms\n",
      "video 1/1 (frame 75/892) C:\\\\ 2\\data\\Video_go_cart.mp4: 384x640 1 train, 784.6ms\n",
      "video 1/1 (frame 76/892) C:\\\\ 2\\data\\Video_go_cart.mp4: 384x640 1 train, 777.3ms\n",
      "video 1/1 (frame 77/892) C:\\\\ 2\\data\\Video_go_cart.mp4: 384x640 (no detections), 825.9ms\n",
      "video 1/1 (frame 78/892) C:\\\\ 2\\data\\Video_go_cart.mp4: 384x640 1 train, 809.8ms\n",
      "video 1/1 (frame 79/892) C:\\\\ 2\\data\\Video_go_cart.mp4: 384x640 (no detections), 990.9ms\n",
      "video 1/1 (frame 80/892) C:\\\\ 2\\data\\Video_go_cart.mp4: 384x640 1 train, 1016.8ms\n",
      "video 1/1 (frame 81/892) C:\\\\ 2\\data\\Video_go_cart.mp4: 384x640 (no detections), 1063.3ms\n",
      "video 1/1 (frame 82/892) C:\\\\ 2\\data\\Video_go_cart.mp4: 384x640 (no detections), 894.7ms\n",
      "video 1/1 (frame 83/892) C:\\\\ 2\\data\\Video_go_cart.mp4: 384x640 (no detections), 856.5ms\n",
      "video 1/1 (frame 84/892) C:\\\\ 2\\data\\Video_go_cart.mp4: 384x640 (no detections), 902.1ms\n",
      "video 1/1 (frame 85/892) C:\\\\ 2\\data\\Video_go_cart.mp4: 384x640 (no detections), 708.1ms\n",
      "video 1/1 (frame 86/892) C:\\\\ 2\\data\\Video_go_cart.mp4: 384x640 (no detections), 728.9ms\n",
      "video 1/1 (frame 87/892) C:\\\\ 2\\data\\Video_go_cart.mp4: 384x640 (no detections), 700.1ms\n",
      "video 1/1 (frame 88/892) C:\\\\ 2\\data\\Video_go_cart.mp4: 384x640 (no detections), 729.4ms\n",
      "video 1/1 (frame 89/892) C:\\\\ 2\\data\\Video_go_cart.mp4: 384x640 (no detections), 727.1ms\n",
      "video 1/1 (frame 90/892) C:\\\\ 2\\data\\Video_go_cart.mp4: 384x640 1 train, 733.4ms\n",
      "video 1/1 (frame 91/892) C:\\\\ 2\\data\\Video_go_cart.mp4: 384x640 (no detections), 1020.4ms\n",
      "video 1/1 (frame 92/892) C:\\\\ 2\\data\\Video_go_cart.mp4: 384x640 (no detections), 780.5ms\n",
      "video 1/1 (frame 93/892) C:\\\\ 2\\data\\Video_go_cart.mp4: 384x640 (no detections), 751.4ms\n",
      "video 1/1 (frame 94/892) C:\\\\ 2\\data\\Video_go_cart.mp4: 384x640 (no detections), 718.2ms\n",
      "video 1/1 (frame 95/892) C:\\\\ 2\\data\\Video_go_cart.mp4: 384x640 (no detections), 716.4ms\n",
      "video 1/1 (frame 96/892) C:\\\\ 2\\data\\Video_go_cart.mp4: 384x640 1 train, 776.4ms\n",
      "video 1/1 (frame 97/892) C:\\\\ 2\\data\\Video_go_cart.mp4: 384x640 (no detections), 773.2ms\n",
      "video 1/1 (frame 98/892) C:\\\\ 2\\data\\Video_go_cart.mp4: 384x640 (no detections), 788.6ms\n",
      "video 1/1 (frame 99/892) C:\\\\ 2\\data\\Video_go_cart.mp4: 384x640 (no detections), 775.8ms\n",
      "video 1/1 (frame 100/892) C:\\\\ 2\\data\\Video_go_cart.mp4: 384x640 (no detections), 943.8ms\n",
      "video 1/1 (frame 101/892) C:\\\\ 2\\data\\Video_go_cart.mp4: 384x640 (no detections), 868.0ms\n",
      "video 1/1 (frame 102/892) C:\\\\ 2\\data\\Video_go_cart.mp4: 384x640 1 train, 781.3ms\n",
      "video 1/1 (frame 103/892) C:\\\\ 2\\data\\Video_go_cart.mp4: 384x640 (no detections), 950.3ms\n",
      "video 1/1 (frame 104/892) C:\\\\ 2\\data\\Video_go_cart.mp4: 384x640 (no detections), 754.2ms\n",
      "video 1/1 (frame 105/892) C:\\\\ 2\\data\\Video_go_cart.mp4: 384x640 (no detections), 735.2ms\n",
      "video 1/1 (frame 106/892) C:\\\\ 2\\data\\Video_go_cart.mp4: 384x640 (no detections), 707.4ms\n",
      "video 1/1 (frame 107/892) C:\\\\ 2\\data\\Video_go_cart.mp4: 384x640 (no detections), 757.3ms\n",
      "video 1/1 (frame 108/892) C:\\\\ 2\\data\\Video_go_cart.mp4: 384x640 1 train, 773.0ms\n",
      "video 1/1 (frame 109/892) C:\\\\ 2\\data\\Video_go_cart.mp4: 384x640 (no detections), 980.2ms\n",
      "video 1/1 (frame 110/892) C:\\\\ 2\\data\\Video_go_cart.mp4: 384x640 (no detections), 851.7ms\n",
      "video 1/1 (frame 111/892) C:\\\\ 2\\data\\Video_go_cart.mp4: 384x640 (no detections), 827.8ms\n",
      "video 1/1 (frame 112/892) C:\\\\ 2\\data\\Video_go_cart.mp4: 384x640 (no detections), 853.7ms\n",
      "video 1/1 (frame 113/892) C:\\\\ 2\\data\\Video_go_cart.mp4: 384x640 (no detections), 763.4ms\n",
      "video 1/1 (frame 114/892) C:\\\\ 2\\data\\Video_go_cart.mp4: 384x640 (no detections), 757.8ms\n",
      "video 1/1 (frame 115/892) C:\\\\ 2\\data\\Video_go_cart.mp4: 384x640 (no detections), 865.2ms\n",
      "video 1/1 (frame 116/892) C:\\\\ 2\\data\\Video_go_cart.mp4: 384x640 (no detections), 850.7ms\n",
      "video 1/1 (frame 117/892) C:\\\\ 2\\data\\Video_go_cart.mp4: 384x640 (no detections), 891.2ms\n",
      "video 1/1 (frame 118/892) C:\\\\ 2\\data\\Video_go_cart.mp4: 384x640 (no detections), 915.8ms\n",
      "video 1/1 (frame 119/892) C:\\\\ 2\\data\\Video_go_cart.mp4: 384x640 (no detections), 783.2ms\n",
      "video 1/1 (frame 120/892) C:\\\\ 2\\data\\Video_go_cart.mp4: 384x640 (no detections), 841.9ms\n",
      "video 1/1 (frame 121/892) C:\\\\ 2\\data\\Video_go_cart.mp4: 384x640 (no detections), 754.4ms\n",
      "video 1/1 (frame 122/892) C:\\\\ 2\\data\\Video_go_cart.mp4: 384x640 (no detections), 832.6ms\n",
      "video 1/1 (frame 123/892) C:\\\\ 2\\data\\Video_go_cart.mp4: 384x640 (no detections), 891.7ms\n",
      "video 1/1 (frame 124/892) C:\\\\ 2\\data\\Video_go_cart.mp4: 384x640 (no detections), 875.0ms\n",
      "video 1/1 (frame 125/892) C:\\\\ 2\\data\\Video_go_cart.mp4: 384x640 (no detections), 794.9ms\n",
      "video 1/1 (frame 126/892) C:\\\\ 2\\data\\Video_go_cart.mp4: 384x640 (no detections), 771.0ms\n",
      "video 1/1 (frame 127/892) C:\\\\ 2\\data\\Video_go_cart.mp4: 384x640 (no detections), 793.2ms\n",
      "video 1/1 (frame 128/892) C:\\\\ 2\\data\\Video_go_cart.mp4: 384x640 (no detections), 900.3ms\n",
      "video 1/1 (frame 129/892) C:\\\\ 2\\data\\Video_go_cart.mp4: 384x640 (no detections), 787.5ms\n",
      "video 1/1 (frame 130/892) C:\\\\ 2\\data\\Video_go_cart.mp4: 384x640 (no detections), 775.5ms\n",
      "video 1/1 (frame 131/892) C:\\\\ 2\\data\\Video_go_cart.mp4: 384x640 (no detections), 759.9ms\n",
      "video 1/1 (frame 132/892) C:\\\\ 2\\data\\Video_go_cart.mp4: 384x640 (no detections), 815.3ms\n",
      "video 1/1 (frame 133/892) C:\\\\ 2\\data\\Video_go_cart.mp4: 384x640 (no detections), 748.5ms\n",
      "video 1/1 (frame 134/892) C:\\\\ 2\\data\\Video_go_cart.mp4: 384x640 (no detections), 939.3ms\n",
      "video 1/1 (frame 135/892) C:\\\\ 2\\data\\Video_go_cart.mp4: 384x640 1 train, 770.9ms\n",
      "video 1/1 (frame 136/892) C:\\\\ 2\\data\\Video_go_cart.mp4: 384x640 1 boat, 806.0ms\n",
      "video 1/1 (frame 137/892) C:\\\\ 2\\data\\Video_go_cart.mp4: 384x640 2 boats, 781.8ms\n",
      "video 1/1 (frame 138/892) C:\\\\ 2\\data\\Video_go_cart.mp4: 384x640 1 boat, 817.6ms\n",
      "video 1/1 (frame 139/892) C:\\\\ 2\\data\\Video_go_cart.mp4: 384x640 (no detections), 764.1ms\n",
      "video 1/1 (frame 140/892) C:\\\\ 2\\data\\Video_go_cart.mp4: 384x640 1 boat, 730.3ms\n",
      "video 1/1 (frame 141/892) C:\\\\ 2\\data\\Video_go_cart.mp4: 384x640 1 boat, 1158.5ms\n",
      "video 1/1 (frame 142/892) C:\\\\ 2\\data\\Video_go_cart.mp4: 384x640 1 boat, 1167.8ms\n",
      "video 1/1 (frame 143/892) C:\\\\ 2\\data\\Video_go_cart.mp4: 384x640 1 boat, 737.3ms\n",
      "video 1/1 (frame 144/892) C:\\\\ 2\\data\\Video_go_cart.mp4: 384x640 1 boat, 830.1ms\n",
      "video 1/1 (frame 145/892) C:\\\\ 2\\data\\Video_go_cart.mp4: 384x640 1 boat, 785.9ms\n",
      "video 1/1 (frame 146/892) C:\\\\ 2\\data\\Video_go_cart.mp4: 384x640 1 car, 1 boat, 843.2ms\n",
      "video 1/1 (frame 147/892) C:\\\\ 2\\data\\Video_go_cart.mp4: 384x640 1 car, 1 boat, 820.7ms\n",
      "video 1/1 (frame 148/892) C:\\\\ 2\\data\\Video_go_cart.mp4: 384x640 3 boats, 871.4ms\n",
      "video 1/1 (frame 149/892) C:\\\\ 2\\data\\Video_go_cart.mp4: 384x640 3 boats, 755.6ms\n",
      "video 1/1 (frame 150/892) C:\\\\ 2\\data\\Video_go_cart.mp4: 384x640 1 bus, 2 boats, 808.1ms\n",
      "video 1/1 (frame 151/892) C:\\\\ 2\\data\\Video_go_cart.mp4: 384x640 3 boats, 813.7ms\n",
      "video 1/1 (frame 152/892) C:\\\\ 2\\data\\Video_go_cart.mp4: 384x640 1 airplane, 3 boats, 832.8ms\n",
      "video 1/1 (frame 153/892) C:\\\\ 2\\data\\Video_go_cart.mp4: 384x640 1 airplane, 2 boats, 736.2ms\n",
      "video 1/1 (frame 154/892) C:\\\\ 2\\data\\Video_go_cart.mp4: 384x640 1 car, 1 boat, 915.3ms\n",
      "video 1/1 (frame 155/892) C:\\\\ 2\\data\\Video_go_cart.mp4: 384x640 1 car, 1 boat, 814.7ms\n",
      "video 1/1 (frame 156/892) C:\\\\ 2\\data\\Video_go_cart.mp4: 384x640 1 airplane, 2 boats, 767.8ms\n",
      "video 1/1 (frame 157/892) C:\\\\ 2\\data\\Video_go_cart.mp4: 384x640 3 boats, 888.8ms\n",
      "video 1/1 (frame 158/892) C:\\\\ 2\\data\\Video_go_cart.mp4: 384x640 1 airplane, 2 boats, 810.1ms\n",
      "video 1/1 (frame 159/892) C:\\\\ 2\\data\\Video_go_cart.mp4: 384x640 1 boat, 806.3ms\n",
      "video 1/1 (frame 160/892) C:\\\\ 2\\data\\Video_go_cart.mp4: 384x640 2 boats, 790.4ms\n",
      "video 1/1 (frame 161/892) C:\\\\ 2\\data\\Video_go_cart.mp4: 384x640 2 boats, 782.1ms\n",
      "video 1/1 (frame 162/892) C:\\\\ 2\\data\\Video_go_cart.mp4: 384x640 2 boats, 807.9ms\n",
      "video 1/1 (frame 163/892) C:\\\\ 2\\data\\Video_go_cart.mp4: 384x640 2 boats, 853.4ms\n",
      "video 1/1 (frame 164/892) C:\\\\ 2\\data\\Video_go_cart.mp4: 384x640 2 boats, 769.1ms\n",
      "video 1/1 (frame 165/892) C:\\\\ 2\\data\\Video_go_cart.mp4: 384x640 2 boats, 908.7ms\n",
      "video 1/1 (frame 166/892) C:\\\\ 2\\data\\Video_go_cart.mp4: 384x640 1 boat, 1086.8ms\n",
      "video 1/1 (frame 167/892) C:\\\\ 2\\data\\Video_go_cart.mp4: 384x640 1 truck, 1 boat, 786.3ms\n",
      "video 1/1 (frame 168/892) C:\\\\ 2\\data\\Video_go_cart.mp4: 384x640 1 boat, 2 baseball bats, 789.0ms\n",
      "video 1/1 (frame 169/892) C:\\\\ 2\\data\\Video_go_cart.mp4: 384x640 1 boat, 915.7ms\n",
      "video 1/1 (frame 170/892) C:\\\\ 2\\data\\Video_go_cart.mp4: 384x640 1 person, 1 boat, 837.5ms\n",
      "video 1/1 (frame 171/892) C:\\\\ 2\\data\\Video_go_cart.mp4: 384x640 1 person, 2 boats, 882.8ms\n",
      "video 1/1 (frame 172/892) C:\\\\ 2\\data\\Video_go_cart.mp4: 384x640 1 person, 2 boats, 918.1ms\n",
      "video 1/1 (frame 173/892) C:\\\\ 2\\data\\Video_go_cart.mp4: 384x640 (no detections), 917.5ms\n",
      "video 1/1 (frame 174/892) C:\\\\ 2\\data\\Video_go_cart.mp4: 384x640 1 boat, 1 baseball bat, 869.3ms\n",
      "video 1/1 (frame 175/892) C:\\\\ 2\\data\\Video_go_cart.mp4: 384x640 1 boat, 872.2ms\n",
      "video 1/1 (frame 176/892) C:\\\\ 2\\data\\Video_go_cart.mp4: 384x640 1 boat, 781.0ms\n",
      "video 1/1 (frame 177/892) C:\\\\ 2\\data\\Video_go_cart.mp4: 384x640 2 boats, 1179.2ms\n",
      "video 1/1 (frame 178/892) C:\\\\ 2\\data\\Video_go_cart.mp4: 384x640 1 person, 2 boats, 906.4ms\n",
      "video 1/1 (frame 179/892) C:\\\\ 2\\data\\Video_go_cart.mp4: 384x640 1 person, 2 boats, 927.6ms\n",
      "video 1/1 (frame 180/892) C:\\\\ 2\\data\\Video_go_cart.mp4: 384x640 1 person, 2 boats, 908.6ms\n",
      "video 1/1 (frame 181/892) C:\\\\ 2\\data\\Video_go_cart.mp4: 384x640 1 person, 1 boat, 745.6ms\n",
      "video 1/1 (frame 182/892) C:\\\\ 2\\data\\Video_go_cart.mp4: 384x640 (no detections), 761.9ms\n",
      "video 1/1 (frame 183/892) C:\\\\ 2\\data\\Video_go_cart.mp4: 384x640 1 person, 2 boats, 736.2ms\n",
      "video 1/1 (frame 184/892) C:\\\\ 2\\data\\Video_go_cart.mp4: 384x640 (no detections), 807.8ms\n",
      "video 1/1 (frame 185/892) C:\\\\ 2\\data\\Video_go_cart.mp4: 384x640 1 boat, 746.7ms\n",
      "video 1/1 (frame 186/892) C:\\\\ 2\\data\\Video_go_cart.mp4: 384x640 1 person, 1 airplane, 3 boats, 744.5ms\n",
      "video 1/1 (frame 187/892) C:\\\\ 2\\data\\Video_go_cart.mp4: 384x640 1 boat, 862.8ms\n",
      "video 1/1 (frame 188/892) C:\\\\ 2\\data\\Video_go_cart.mp4: 384x640 2 airplanes, 1 boat, 874.4ms\n",
      "video 1/1 (frame 189/892) C:\\\\ 2\\data\\Video_go_cart.mp4: 384x640 2 airplanes, 1131.6ms\n",
      "video 1/1 (frame 190/892) C:\\\\ 2\\data\\Video_go_cart.mp4: 384x640 1 boat, 1009.3ms\n",
      "video 1/1 (frame 191/892) C:\\\\ 2\\data\\Video_go_cart.mp4: 384x640 1 boat, 1 surfboard, 1 chair, 860.8ms\n",
      "video 1/1 (frame 192/892) C:\\\\ 2\\data\\Video_go_cart.mp4: 384x640 1 airplane, 1 boat, 1 chair, 834.0ms\n",
      "video 1/1 (frame 193/892) C:\\\\ 2\\data\\Video_go_cart.mp4: 384x640 1 boat, 1 surfboard, 1 bowl, 1 chair, 765.7ms\n",
      "video 1/1 (frame 194/892) C:\\\\ 2\\data\\Video_go_cart.mp4: 384x640 1 person, 2 boats, 2 surfboards, 1 bowl, 1 chair, 784.7ms\n",
      "video 1/1 (frame 195/892) C:\\\\ 2\\data\\Video_go_cart.mp4: 384x640 1 person, 5 boats, 1 surfboard, 2 bowls, 1 chair, 816.8ms\n",
      "video 1/1 (frame 196/892) C:\\\\ 2\\data\\Video_go_cart.mp4: 384x640 1 person, 2 boats, 1 bowl, 1 chair, 920.1ms\n",
      "video 1/1 (frame 197/892) C:\\\\ 2\\data\\Video_go_cart.mp4: 384x640 2 boats, 1 chair, 935.8ms\n",
      "video 1/1 (frame 198/892) C:\\\\ 2\\data\\Video_go_cart.mp4: 384x640 1 person, 2 boats, 809.7ms\n",
      "video 1/1 (frame 199/892) C:\\\\ 2\\data\\Video_go_cart.mp4: 384x640 2 boats, 1 surfboard, 804.6ms\n",
      "video 1/1 (frame 200/892) C:\\\\ 2\\data\\Video_go_cart.mp4: 384x640 1 person, 1 boat, 1 skis, 1 surfboard, 899.2ms\n",
      "video 1/1 (frame 201/892) C:\\\\ 2\\data\\Video_go_cart.mp4: 384x640 3 boats, 846.1ms\n",
      "video 1/1 (frame 202/892) C:\\\\ 2\\data\\Video_go_cart.mp4: 384x640 1 boat, 1 skis, 2 surfboards, 839.9ms\n",
      "video 1/1 (frame 203/892) C:\\\\ 2\\data\\Video_go_cart.mp4: 384x640 5 boats, 1 chair, 908.0ms\n",
      "video 1/1 (frame 204/892) C:\\\\ 2\\data\\Video_go_cart.mp4: 384x640 4 boats, 1 chair, 800.5ms\n",
      "video 1/1 (frame 205/892) C:\\\\ 2\\data\\Video_go_cart.mp4: 384x640 5 boats, 1 chair, 846.4ms\n",
      "video 1/1 (frame 206/892) C:\\\\ 2\\data\\Video_go_cart.mp4: 384x640 4 boats, 1 chair, 1051.3ms\n",
      "video 1/1 (frame 207/892) C:\\\\ 2\\data\\Video_go_cart.mp4: 384x640 1 airplane, 3 boats, 1 chair, 775.6ms\n",
      "video 1/1 (frame 208/892) C:\\\\ 2\\data\\Video_go_cart.mp4: 384x640 4 boats, 1 chair, 773.2ms\n",
      "video 1/1 (frame 209/892) C:\\\\ 2\\data\\Video_go_cart.mp4: 384x640 2 boats, 1 kite, 1 chair, 1107.2ms\n",
      "video 1/1 (frame 210/892) C:\\\\ 2\\data\\Video_go_cart.mp4: 384x640 2 boats, 1 kite, 1141.0ms\n",
      "video 1/1 (frame 211/892) C:\\\\ 2\\data\\Video_go_cart.mp4: 384x640 1 boat, 1 kite, 1005.4ms\n",
      "video 1/1 (frame 212/892) C:\\\\ 2\\data\\Video_go_cart.mp4: 384x640 1 airplane, 2 boats, 1 kite, 1261.1ms\n",
      "video 1/1 (frame 213/892) C:\\\\ 2\\data\\Video_go_cart.mp4: 384x640 1 car, 1 airplane, 2 boats, 851.3ms\n",
      "video 1/1 (frame 214/892) C:\\\\ 2\\data\\Video_go_cart.mp4: 384x640 1 car, 1 airplane, 1 kite, 955.2ms\n",
      "video 1/1 (frame 215/892) C:\\\\ 2\\data\\Video_go_cart.mp4: 384x640 1 airplane, 1 kite, 991.2ms\n",
      "video 1/1 (frame 216/892) C:\\\\ 2\\data\\Video_go_cart.mp4: 384x640 1 car, 1 airplane, 1 umbrella, 1 kite, 849.8ms\n",
      "video 1/1 (frame 217/892) C:\\\\ 2\\data\\Video_go_cart.mp4: 384x640 1 person, 1 airplane, 1 umbrella, 1 kite, 815.5ms\n",
      "video 1/1 (frame 218/892) C:\\\\ 2\\data\\Video_go_cart.mp4: 384x640 1 car, 1 boat, 788.4ms\n",
      "video 1/1 (frame 219/892) C:\\\\ 2\\data\\Video_go_cart.mp4: 384x640 (no detections), 897.0ms\n",
      "video 1/1 (frame 220/892) C:\\\\ 2\\data\\Video_go_cart.mp4: 384x640 2 cars, 1 bed, 1063.4ms\n",
      "video 1/1 (frame 221/892) C:\\\\ 2\\data\\Video_go_cart.mp4: 384x640 3 cars, 1 bed, 816.9ms\n",
      "video 1/1 (frame 222/892) C:\\\\ 2\\data\\Video_go_cart.mp4: 384x640 2 cars, 1 cup, 1 bed, 838.5ms\n",
      "video 1/1 (frame 223/892) C:\\\\ 2\\data\\Video_go_cart.mp4: 384x640 2 cars, 904.8ms\n",
      "video 1/1 (frame 224/892) C:\\\\ 2\\data\\Video_go_cart.mp4: 384x640 2 cars, 1 bed, 812.7ms\n",
      "video 1/1 (frame 225/892) C:\\\\ 2\\data\\Video_go_cart.mp4: 384x640 3 cars, 1 bed, 778.4ms\n",
      "video 1/1 (frame 226/892) C:\\\\ 2\\data\\Video_go_cart.mp4: 384x640 2 cars, 824.7ms\n",
      "video 1/1 (frame 227/892) C:\\\\ 2\\data\\Video_go_cart.mp4: 384x640 2 cars, 790.0ms\n",
      "video 1/1 (frame 228/892) C:\\\\ 2\\data\\Video_go_cart.mp4: 384x640 2 cars, 781.4ms\n",
      "video 1/1 (frame 229/892) C:\\\\ 2\\data\\Video_go_cart.mp4: 384x640 2 cars, 812.4ms\n",
      "video 1/1 (frame 230/892) C:\\\\ 2\\data\\Video_go_cart.mp4: 384x640 1 person, 3 boats, 800.8ms\n",
      "video 1/1 (frame 231/892) C:\\\\ 2\\data\\Video_go_cart.mp4: 384x640 1 boat, 805.4ms\n",
      "video 1/1 (frame 232/892) C:\\\\ 2\\data\\Video_go_cart.mp4: 384x640 1 boat, 811.0ms\n",
      "video 1/1 (frame 233/892) C:\\\\ 2\\data\\Video_go_cart.mp4: 384x640 1 boat, 867.9ms\n",
      "video 1/1 (frame 234/892) C:\\\\ 2\\data\\Video_go_cart.mp4: 384x640 1 car, 2 boats, 981.6ms\n",
      "video 1/1 (frame 235/892) C:\\\\ 2\\data\\Video_go_cart.mp4: 384x640 1 car, 1144.0ms\n",
      "video 1/1 (frame 236/892) C:\\\\ 2\\data\\Video_go_cart.mp4: 384x640 (no detections), 1464.9ms\n",
      "video 1/1 (frame 237/892) C:\\\\ 2\\data\\Video_go_cart.mp4: 384x640 (no detections), 1411.0ms\n",
      "video 1/1 (frame 238/892) C:\\\\ 2\\data\\Video_go_cart.mp4: 384x640 1 person, 1 boat, 1238.8ms\n",
      "video 1/1 (frame 239/892) C:\\\\ 2\\data\\Video_go_cart.mp4: 384x640 (no detections), 1079.1ms\n",
      "video 1/1 (frame 240/892) C:\\\\ 2\\data\\Video_go_cart.mp4: 384x640 (no detections), 1242.5ms\n",
      "video 1/1 (frame 241/892) C:\\\\ 2\\data\\Video_go_cart.mp4: 384x640 1 boat, 907.8ms\n",
      "video 1/1 (frame 242/892) C:\\\\ 2\\data\\Video_go_cart.mp4: 384x640 (no detections), 779.5ms\n",
      "video 1/1 (frame 243/892) C:\\\\ 2\\data\\Video_go_cart.mp4: 384x640 (no detections), 754.6ms\n",
      "video 1/1 (frame 244/892) C:\\\\ 2\\data\\Video_go_cart.mp4: 384x640 1 train, 741.4ms\n",
      "video 1/1 (frame 245/892) C:\\\\ 2\\data\\Video_go_cart.mp4: 384x640 (no detections), 795.6ms\n",
      "video 1/1 (frame 246/892) C:\\\\ 2\\data\\Video_go_cart.mp4: 384x640 1 train, 789.9ms\n",
      "video 1/1 (frame 247/892) C:\\\\ 2\\data\\Video_go_cart.mp4: 384x640 1 train, 787.9ms\n",
      "video 1/1 (frame 248/892) C:\\\\ 2\\data\\Video_go_cart.mp4: 384x640 1 train, 775.9ms\n",
      "video 1/1 (frame 249/892) C:\\\\ 2\\data\\Video_go_cart.mp4: 384x640 (no detections), 760.7ms\n",
      "video 1/1 (frame 250/892) C:\\\\ 2\\data\\Video_go_cart.mp4: 384x640 (no detections), 746.7ms\n",
      "video 1/1 (frame 251/892) C:\\\\ 2\\data\\Video_go_cart.mp4: 384x640 1 train, 771.7ms\n",
      "video 1/1 (frame 252/892) C:\\\\ 2\\data\\Video_go_cart.mp4: 384x640 1 train, 792.1ms\n",
      "video 1/1 (frame 253/892) C:\\\\ 2\\data\\Video_go_cart.mp4: 384x640 1 cell phone, 808.7ms\n",
      "video 1/1 (frame 254/892) C:\\\\ 2\\data\\Video_go_cart.mp4: 384x640 1 cell phone, 789.3ms\n",
      "video 1/1 (frame 255/892) C:\\\\ 2\\data\\Video_go_cart.mp4: 384x640 1 train, 935.7ms\n",
      "video 1/1 (frame 256/892) C:\\\\ 2\\data\\Video_go_cart.mp4: 384x640 1 cell phone, 856.6ms\n",
      "video 1/1 (frame 257/892) C:\\\\ 2\\data\\Video_go_cart.mp4: 384x640 1 cell phone, 811.5ms\n",
      "video 1/1 (frame 258/892) C:\\\\ 2\\data\\Video_go_cart.mp4: 384x640 1 cell phone, 843.3ms\n",
      "video 1/1 (frame 259/892) C:\\\\ 2\\data\\Video_go_cart.mp4: 384x640 (no detections), 862.0ms\n",
      "video 1/1 (frame 260/892) C:\\\\ 2\\data\\Video_go_cart.mp4: 384x640 1 remote, 814.9ms\n",
      "video 1/1 (frame 261/892) C:\\\\ 2\\data\\Video_go_cart.mp4: 384x640 1 remote, 887.4ms\n",
      "video 1/1 (frame 262/892) C:\\\\ 2\\data\\Video_go_cart.mp4: 384x640 (no detections), 779.1ms\n",
      "video 1/1 (frame 263/892) C:\\\\ 2\\data\\Video_go_cart.mp4: 384x640 (no detections), 795.8ms\n",
      "video 1/1 (frame 264/892) C:\\\\ 2\\data\\Video_go_cart.mp4: 384x640 1 train, 836.3ms\n",
      "video 1/1 (frame 265/892) C:\\\\ 2\\data\\Video_go_cart.mp4: 384x640 1 train, 780.5ms\n",
      "video 1/1 (frame 266/892) C:\\\\ 2\\data\\Video_go_cart.mp4: 384x640 (no detections), 784.1ms\n",
      "video 1/1 (frame 267/892) C:\\\\ 2\\data\\Video_go_cart.mp4: 384x640 (no detections), 747.0ms\n",
      "video 1/1 (frame 268/892) C:\\\\ 2\\data\\Video_go_cart.mp4: 384x640 (no detections), 742.7ms\n",
      "video 1/1 (frame 269/892) C:\\\\ 2\\data\\Video_go_cart.mp4: 384x640 (no detections), 761.9ms\n",
      "video 1/1 (frame 270/892) C:\\\\ 2\\data\\Video_go_cart.mp4: 384x640 (no detections), 772.3ms\n",
      "video 1/1 (frame 271/892) C:\\\\ 2\\data\\Video_go_cart.mp4: 384x640 (no detections), 735.0ms\n",
      "video 1/1 (frame 272/892) C:\\\\ 2\\data\\Video_go_cart.mp4: 384x640 (no detections), 760.1ms\n",
      "video 1/1 (frame 273/892) C:\\\\ 2\\data\\Video_go_cart.mp4: 384x640 (no detections), 721.5ms\n",
      "video 1/1 (frame 274/892) C:\\\\ 2\\data\\Video_go_cart.mp4: 384x640 (no detections), 729.8ms\n",
      "video 1/1 (frame 275/892) C:\\\\ 2\\data\\Video_go_cart.mp4: 384x640 (no detections), 738.2ms\n",
      "video 1/1 (frame 276/892) C:\\\\ 2\\data\\Video_go_cart.mp4: 384x640 1 cell phone, 732.8ms\n",
      "video 1/1 (frame 277/892) C:\\\\ 2\\data\\Video_go_cart.mp4: 384x640 (no detections), 765.7ms\n",
      "video 1/1 (frame 278/892) C:\\\\ 2\\data\\Video_go_cart.mp4: 384x640 (no detections), 775.6ms\n",
      "video 1/1 (frame 279/892) C:\\\\ 2\\data\\Video_go_cart.mp4: 384x640 (no detections), 752.4ms\n",
      "video 1/1 (frame 280/892) C:\\\\ 2\\data\\Video_go_cart.mp4: 384x640 1 cell phone, 738.3ms\n",
      "video 1/1 (frame 281/892) C:\\\\ 2\\data\\Video_go_cart.mp4: 384x640 1 cell phone, 796.8ms\n",
      "video 1/1 (frame 282/892) C:\\\\ 2\\data\\Video_go_cart.mp4: 384x640 1 cell phone, 796.0ms\n",
      "video 1/1 (frame 283/892) C:\\\\ 2\\data\\Video_go_cart.mp4: 384x640 1 remote, 784.7ms\n",
      "video 1/1 (frame 284/892) C:\\\\ 2\\data\\Video_go_cart.mp4: 384x640 1 remote, 1 scissors, 859.5ms\n",
      "video 1/1 (frame 285/892) C:\\\\ 2\\data\\Video_go_cart.mp4: 384x640 1 remote, 783.6ms\n",
      "video 1/1 (frame 286/892) C:\\\\ 2\\data\\Video_go_cart.mp4: 384x640 1 remote, 806.3ms\n",
      "video 1/1 (frame 287/892) C:\\\\ 2\\data\\Video_go_cart.mp4: 384x640 1 remote, 837.8ms\n",
      "video 1/1 (frame 288/892) C:\\\\ 2\\data\\Video_go_cart.mp4: 384x640 1 remote, 878.0ms\n",
      "video 1/1 (frame 289/892) C:\\\\ 2\\data\\Video_go_cart.mp4: 384x640 1 remote, 1 scissors, 812.5ms\n",
      "video 1/1 (frame 290/892) C:\\\\ 2\\data\\Video_go_cart.mp4: 384x640 1 remote, 1 scissors, 780.3ms\n",
      "video 1/1 (frame 291/892) C:\\\\ 2\\data\\Video_go_cart.mp4: 384x640 1 remote, 785.1ms\n",
      "video 1/1 (frame 292/892) C:\\\\ 2\\data\\Video_go_cart.mp4: 384x640 1 remote, 832.9ms\n",
      "video 1/1 (frame 293/892) C:\\\\ 2\\data\\Video_go_cart.mp4: 384x640 1 remote, 804.8ms\n",
      "video 1/1 (frame 294/892) C:\\\\ 2\\data\\Video_go_cart.mp4: 384x640 1 remote, 769.2ms\n",
      "video 1/1 (frame 295/892) C:\\\\ 2\\data\\Video_go_cart.mp4: 384x640 1 remote, 1 toothbrush, 795.6ms\n",
      "video 1/1 (frame 296/892) C:\\\\ 2\\data\\Video_go_cart.mp4: 384x640 1 remote, 2 toothbrushs, 788.6ms\n",
      "video 1/1 (frame 297/892) C:\\\\ 2\\data\\Video_go_cart.mp4: 384x640 1 remote, 1 toothbrush, 769.6ms\n",
      "video 1/1 (frame 298/892) C:\\\\ 2\\data\\Video_go_cart.mp4: 384x640 1 toothbrush, 761.3ms\n",
      "video 1/1 (frame 299/892) C:\\\\ 2\\data\\Video_go_cart.mp4: 384x640 1 toothbrush, 802.4ms\n",
      "video 1/1 (frame 300/892) C:\\\\ 2\\data\\Video_go_cart.mp4: 384x640 (no detections), 758.8ms\n",
      "video 1/1 (frame 301/892) C:\\\\ 2\\data\\Video_go_cart.mp4: 384x640 1 toothbrush, 723.4ms\n",
      "video 1/1 (frame 302/892) C:\\\\ 2\\data\\Video_go_cart.mp4: 384x640 (no detections), 792.9ms\n",
      "video 1/1 (frame 303/892) C:\\\\ 2\\data\\Video_go_cart.mp4: 384x640 (no detections), 775.7ms\n",
      "video 1/1 (frame 304/892) C:\\\\ 2\\data\\Video_go_cart.mp4: 384x640 (no detections), 751.6ms\n",
      "video 1/1 (frame 305/892) C:\\\\ 2\\data\\Video_go_cart.mp4: 384x640 (no detections), 743.2ms\n",
      "video 1/1 (frame 306/892) C:\\\\ 2\\data\\Video_go_cart.mp4: 384x640 (no detections), 758.1ms\n",
      "video 1/1 (frame 307/892) C:\\\\ 2\\data\\Video_go_cart.mp4: 384x640 (no detections), 767.8ms\n",
      "video 1/1 (frame 308/892) C:\\\\ 2\\data\\Video_go_cart.mp4: 384x640 (no detections), 764.0ms\n",
      "video 1/1 (frame 309/892) C:\\\\ 2\\data\\Video_go_cart.mp4: 384x640 (no detections), 788.1ms\n",
      "video 1/1 (frame 310/892) C:\\\\ 2\\data\\Video_go_cart.mp4: 384x640 (no detections), 774.7ms\n",
      "video 1/1 (frame 311/892) C:\\\\ 2\\data\\Video_go_cart.mp4: 384x640 1 toothbrush, 769.8ms\n",
      "video 1/1 (frame 312/892) C:\\\\ 2\\data\\Video_go_cart.mp4: 384x640 (no detections), 873.6ms\n",
      "video 1/1 (frame 313/892) C:\\\\ 2\\data\\Video_go_cart.mp4: 384x640 1 knife, 748.7ms\n",
      "video 1/1 (frame 314/892) C:\\\\ 2\\data\\Video_go_cart.mp4: 384x640 1 knife, 752.6ms\n",
      "video 1/1 (frame 315/892) C:\\\\ 2\\data\\Video_go_cart.mp4: 384x640 1 knife, 850.2ms\n",
      "video 1/1 (frame 316/892) C:\\\\ 2\\data\\Video_go_cart.mp4: 384x640 1 knife, 788.6ms\n",
      "video 1/1 (frame 317/892) C:\\\\ 2\\data\\Video_go_cart.mp4: 384x640 1 knife, 766.2ms\n",
      "video 1/1 (frame 318/892) C:\\\\ 2\\data\\Video_go_cart.mp4: 384x640 1 knife, 758.2ms\n",
      "video 1/1 (frame 319/892) C:\\\\ 2\\data\\Video_go_cart.mp4: 384x640 1 knife, 737.7ms\n",
      "video 1/1 (frame 320/892) C:\\\\ 2\\data\\Video_go_cart.mp4: 384x640 (no detections), 737.4ms\n",
      "video 1/1 (frame 321/892) C:\\\\ 2\\data\\Video_go_cart.mp4: 384x640 1 remote, 1 scissors, 786.5ms\n",
      "video 1/1 (frame 322/892) C:\\\\ 2\\data\\Video_go_cart.mp4: 384x640 1 scissors, 1 toothbrush, 841.2ms\n",
      "video 1/1 (frame 323/892) C:\\\\ 2\\data\\Video_go_cart.mp4: 384x640 (no detections), 763.2ms\n",
      "video 1/1 (frame 324/892) C:\\\\ 2\\data\\Video_go_cart.mp4: 384x640 (no detections), 710.2ms\n",
      "video 1/1 (frame 325/892) C:\\\\ 2\\data\\Video_go_cart.mp4: 384x640 (no detections), 721.9ms\n",
      "video 1/1 (frame 326/892) C:\\\\ 2\\data\\Video_go_cart.mp4: 384x640 1 keyboard, 726.7ms\n",
      "video 1/1 (frame 327/892) C:\\\\ 2\\data\\Video_go_cart.mp4: 384x640 1 keyboard, 770.9ms\n",
      "video 1/1 (frame 328/892) C:\\\\ 2\\data\\Video_go_cart.mp4: 384x640 1 bed, 765.5ms\n",
      "video 1/1 (frame 329/892) C:\\\\ 2\\data\\Video_go_cart.mp4: 384x640 1 keyboard, 942.7ms\n",
      "video 1/1 (frame 330/892) C:\\\\ 2\\data\\Video_go_cart.mp4: 384x640 1 keyboard, 794.5ms\n",
      "video 1/1 (frame 331/892) C:\\\\ 2\\data\\Video_go_cart.mp4: 384x640 1 baseball bat, 863.7ms\n",
      "video 1/1 (frame 332/892) C:\\\\ 2\\data\\Video_go_cart.mp4: 384x640 1 baseball bat, 824.8ms\n",
      "video 1/1 (frame 333/892) C:\\\\ 2\\data\\Video_go_cart.mp4: 384x640 1 train, 863.2ms\n",
      "video 1/1 (frame 334/892) C:\\\\ 2\\data\\Video_go_cart.mp4: 384x640 1 baseball bat, 769.6ms\n",
      "video 1/1 (frame 335/892) C:\\\\ 2\\data\\Video_go_cart.mp4: 384x640 1 baseball bat, 830.5ms\n",
      "video 1/1 (frame 336/892) C:\\\\ 2\\data\\Video_go_cart.mp4: 384x640 1 baseball bat, 764.4ms\n",
      "video 1/1 (frame 337/892) C:\\\\ 2\\data\\Video_go_cart.mp4: 384x640 1 baseball bat, 857.7ms\n",
      "video 1/1 (frame 338/892) C:\\\\ 2\\data\\Video_go_cart.mp4: 384x640 (no detections), 770.9ms\n",
      "video 1/1 (frame 339/892) C:\\\\ 2\\data\\Video_go_cart.mp4: 384x640 (no detections), 749.8ms\n",
      "video 1/1 (frame 340/892) C:\\\\ 2\\data\\Video_go_cart.mp4: 384x640 (no detections), 770.5ms\n",
      "video 1/1 (frame 341/892) C:\\\\ 2\\data\\Video_go_cart.mp4: 384x640 (no detections), 753.7ms\n",
      "video 1/1 (frame 342/892) C:\\\\ 2\\data\\Video_go_cart.mp4: 384x640 (no detections), 750.2ms\n",
      "video 1/1 (frame 343/892) C:\\\\ 2\\data\\Video_go_cart.mp4: 384x640 (no detections), 797.3ms\n",
      "video 1/1 (frame 344/892) C:\\\\ 2\\data\\Video_go_cart.mp4: 384x640 (no detections), 773.4ms\n",
      "video 1/1 (frame 345/892) C:\\\\ 2\\data\\Video_go_cart.mp4: 384x640 (no detections), 733.5ms\n",
      "video 1/1 (frame 346/892) C:\\\\ 2\\data\\Video_go_cart.mp4: 384x640 (no detections), 738.9ms\n",
      "video 1/1 (frame 347/892) C:\\\\ 2\\data\\Video_go_cart.mp4: 384x640 (no detections), 1104.9ms\n",
      "video 1/1 (frame 348/892) C:\\\\ 2\\data\\Video_go_cart.mp4: 384x640 (no detections), 1058.8ms\n",
      "video 1/1 (frame 349/892) C:\\\\ 2\\data\\Video_go_cart.mp4: 384x640 (no detections), 741.4ms\n",
      "video 1/1 (frame 350/892) C:\\\\ 2\\data\\Video_go_cart.mp4: 384x640 (no detections), 729.0ms\n",
      "video 1/1 (frame 351/892) C:\\\\ 2\\data\\Video_go_cart.mp4: 384x640 (no detections), 733.1ms\n",
      "video 1/1 (frame 352/892) C:\\\\ 2\\data\\Video_go_cart.mp4: 384x640 (no detections), 755.2ms\n",
      "video 1/1 (frame 353/892) C:\\\\ 2\\data\\Video_go_cart.mp4: 384x640 (no detections), 720.0ms\n",
      "video 1/1 (frame 354/892) C:\\\\ 2\\data\\Video_go_cart.mp4: 384x640 (no detections), 722.4ms\n",
      "video 1/1 (frame 355/892) C:\\\\ 2\\data\\Video_go_cart.mp4: 384x640 (no detections), 790.2ms\n",
      "video 1/1 (frame 356/892) C:\\\\ 2\\data\\Video_go_cart.mp4: 384x640 (no detections), 725.1ms\n",
      "video 1/1 (frame 357/892) C:\\\\ 2\\data\\Video_go_cart.mp4: 384x640 (no detections), 740.8ms\n",
      "video 1/1 (frame 358/892) C:\\\\ 2\\data\\Video_go_cart.mp4: 384x640 (no detections), 777.3ms\n",
      "video 1/1 (frame 359/892) C:\\\\ 2\\data\\Video_go_cart.mp4: 384x640 (no detections), 827.6ms\n",
      "video 1/1 (frame 360/892) C:\\\\ 2\\data\\Video_go_cart.mp4: 384x640 (no detections), 798.1ms\n",
      "video 1/1 (frame 361/892) C:\\\\ 2\\data\\Video_go_cart.mp4: 384x640 (no detections), 781.1ms\n",
      "video 1/1 (frame 362/892) C:\\\\ 2\\data\\Video_go_cart.mp4: 384x640 (no detections), 729.0ms\n",
      "video 1/1 (frame 363/892) C:\\\\ 2\\data\\Video_go_cart.mp4: 384x640 (no detections), 721.3ms\n",
      "video 1/1 (frame 364/892) C:\\\\ 2\\data\\Video_go_cart.mp4: 384x640 (no detections), 742.2ms\n",
      "video 1/1 (frame 365/892) C:\\\\ 2\\data\\Video_go_cart.mp4: 384x640 1 train, 731.6ms\n",
      "video 1/1 (frame 366/892) C:\\\\ 2\\data\\Video_go_cart.mp4: 384x640 1 train, 843.2ms\n",
      "video 1/1 (frame 367/892) C:\\\\ 2\\data\\Video_go_cart.mp4: 384x640 (no detections), 737.3ms\n",
      "video 1/1 (frame 368/892) C:\\\\ 2\\data\\Video_go_cart.mp4: 384x640 (no detections), 850.8ms\n",
      "video 1/1 (frame 369/892) C:\\\\ 2\\data\\Video_go_cart.mp4: 384x640 (no detections), 814.5ms\n",
      "video 1/1 (frame 370/892) C:\\\\ 2\\data\\Video_go_cart.mp4: 384x640 (no detections), 793.9ms\n",
      "video 1/1 (frame 371/892) C:\\\\ 2\\data\\Video_go_cart.mp4: 384x640 (no detections), 790.6ms\n",
      "video 1/1 (frame 372/892) C:\\\\ 2\\data\\Video_go_cart.mp4: 384x640 (no detections), 772.1ms\n",
      "video 1/1 (frame 373/892) C:\\\\ 2\\data\\Video_go_cart.mp4: 384x640 (no detections), 778.8ms\n",
      "video 1/1 (frame 374/892) C:\\\\ 2\\data\\Video_go_cart.mp4: 384x640 (no detections), 787.2ms\n",
      "video 1/1 (frame 375/892) C:\\\\ 2\\data\\Video_go_cart.mp4: 384x640 (no detections), 711.9ms\n",
      "video 1/1 (frame 376/892) C:\\\\ 2\\data\\Video_go_cart.mp4: 384x640 (no detections), 721.2ms\n",
      "video 1/1 (frame 377/892) C:\\\\ 2\\data\\Video_go_cart.mp4: 384x640 (no detections), 741.3ms\n",
      "video 1/1 (frame 378/892) C:\\\\ 2\\data\\Video_go_cart.mp4: 384x640 (no detections), 731.0ms\n",
      "video 1/1 (frame 379/892) C:\\\\ 2\\data\\Video_go_cart.mp4: 384x640 (no detections), 746.9ms\n",
      "video 1/1 (frame 380/892) C:\\\\ 2\\data\\Video_go_cart.mp4: 384x640 1 keyboard, 728.4ms\n",
      "video 1/1 (frame 381/892) C:\\\\ 2\\data\\Video_go_cart.mp4: 384x640 (no detections), 776.3ms\n",
      "video 1/1 (frame 382/892) C:\\\\ 2\\data\\Video_go_cart.mp4: 384x640 (no detections), 727.5ms\n",
      "video 1/1 (frame 383/892) C:\\\\ 2\\data\\Video_go_cart.mp4: 384x640 1 tennis racket, 721.8ms\n",
      "video 1/1 (frame 384/892) C:\\\\ 2\\data\\Video_go_cart.mp4: 384x640 (no detections), 757.3ms\n",
      "video 1/1 (frame 385/892) C:\\\\ 2\\data\\Video_go_cart.mp4: 384x640 (no detections), 795.4ms\n",
      "video 1/1 (frame 386/892) C:\\\\ 2\\data\\Video_go_cart.mp4: 384x640 1 tennis racket, 800.8ms\n",
      "video 1/1 (frame 387/892) C:\\\\ 2\\data\\Video_go_cart.mp4: 384x640 1 tennis racket, 750.5ms\n",
      "video 1/1 (frame 388/892) C:\\\\ 2\\data\\Video_go_cart.mp4: 384x640 1 tennis racket, 746.7ms\n",
      "video 1/1 (frame 389/892) C:\\\\ 2\\data\\Video_go_cart.mp4: 384x640 1 tennis racket, 769.0ms\n",
      "video 1/1 (frame 390/892) C:\\\\ 2\\data\\Video_go_cart.mp4: 384x640 1 tennis racket, 772.3ms\n",
      "video 1/1 (frame 391/892) C:\\\\ 2\\data\\Video_go_cart.mp4: 384x640 1 tennis racket, 733.4ms\n",
      "video 1/1 (frame 392/892) C:\\\\ 2\\data\\Video_go_cart.mp4: 384x640 1 tennis racket, 743.7ms\n",
      "video 1/1 (frame 393/892) C:\\\\ 2\\data\\Video_go_cart.mp4: 384x640 1 tennis racket, 815.3ms\n",
      "video 1/1 (frame 394/892) C:\\\\ 2\\data\\Video_go_cart.mp4: 384x640 1 tennis racket, 775.5ms\n",
      "video 1/1 (frame 395/892) C:\\\\ 2\\data\\Video_go_cart.mp4: 384x640 1 tennis racket, 816.6ms\n",
      "video 1/1 (frame 396/892) C:\\\\ 2\\data\\Video_go_cart.mp4: 384x640 1 tennis racket, 812.5ms\n",
      "video 1/1 (frame 397/892) C:\\\\ 2\\data\\Video_go_cart.mp4: 384x640 2 tennis rackets, 1066.6ms\n",
      "video 1/1 (frame 398/892) C:\\\\ 2\\data\\Video_go_cart.mp4: 384x640 2 tennis rackets, 842.1ms\n",
      "video 1/1 (frame 399/892) C:\\\\ 2\\data\\Video_go_cart.mp4: 384x640 2 tennis rackets, 863.3ms\n",
      "video 1/1 (frame 400/892) C:\\\\ 2\\data\\Video_go_cart.mp4: 384x640 2 tennis rackets, 874.3ms\n",
      "video 1/1 (frame 401/892) C:\\\\ 2\\data\\Video_go_cart.mp4: 384x640 2 tennis rackets, 845.0ms\n",
      "video 1/1 (frame 402/892) C:\\\\ 2\\data\\Video_go_cart.mp4: 384x640 1 tennis racket, 957.5ms\n",
      "video 1/1 (frame 403/892) C:\\\\ 2\\data\\Video_go_cart.mp4: 384x640 2 tennis rackets, 785.1ms\n",
      "video 1/1 (frame 404/892) C:\\\\ 2\\data\\Video_go_cart.mp4: 384x640 1 tennis racket, 738.9ms\n",
      "video 1/1 (frame 405/892) C:\\\\ 2\\data\\Video_go_cart.mp4: 384x640 2 tennis rackets, 819.6ms\n",
      "video 1/1 (frame 406/892) C:\\\\ 2\\data\\Video_go_cart.mp4: 384x640 2 tennis rackets, 780.5ms\n",
      "video 1/1 (frame 407/892) C:\\\\ 2\\data\\Video_go_cart.mp4: 384x640 2 tennis rackets, 971.6ms\n",
      "video 1/1 (frame 408/892) C:\\\\ 2\\data\\Video_go_cart.mp4: 384x640 1 baseball bat, 2 tennis rackets, 793.2ms\n",
      "video 1/1 (frame 409/892) C:\\\\ 2\\data\\Video_go_cart.mp4: 384x640 1 baseball bat, 2 tennis rackets, 816.9ms\n",
      "video 1/1 (frame 410/892) C:\\\\ 2\\data\\Video_go_cart.mp4: 384x640 1 baseball bat, 2 tennis rackets, 826.5ms\n",
      "video 1/1 (frame 411/892) C:\\\\ 2\\data\\Video_go_cart.mp4: 384x640 1 baseball bat, 1 tennis racket, 798.9ms\n",
      "video 1/1 (frame 412/892) C:\\\\ 2\\data\\Video_go_cart.mp4: 384x640 (no detections), 1018.5ms\n",
      "video 1/1 (frame 413/892) C:\\\\ 2\\data\\Video_go_cart.mp4: 384x640 1 baseball bat, 997.6ms\n",
      "video 1/1 (frame 414/892) C:\\\\ 2\\data\\Video_go_cart.mp4: 384x640 1 baseball bat, 1 tennis racket, 809.7ms\n",
      "video 1/1 (frame 415/892) C:\\\\ 2\\data\\Video_go_cart.mp4: 384x640 1 baseball bat, 997.2ms\n",
      "video 1/1 (frame 416/892) C:\\\\ 2\\data\\Video_go_cart.mp4: 384x640 1 baseball bat, 1 tennis racket, 1113.9ms\n",
      "video 1/1 (frame 417/892) C:\\\\ 2\\data\\Video_go_cart.mp4: 384x640 (no detections), 1108.4ms\n",
      "video 1/1 (frame 418/892) C:\\\\ 2\\data\\Video_go_cart.mp4: 384x640 1 baseball bat, 1118.9ms\n",
      "video 1/1 (frame 419/892) C:\\\\ 2\\data\\Video_go_cart.mp4: 384x640 1 baseball bat, 1 skateboard, 971.4ms\n",
      "video 1/1 (frame 420/892) C:\\\\ 2\\data\\Video_go_cart.mp4: 384x640 (no detections), 1033.8ms\n",
      "video 1/1 (frame 421/892) C:\\\\ 2\\data\\Video_go_cart.mp4: 384x640 1 car, 943.4ms\n",
      "video 1/1 (frame 422/892) C:\\\\ 2\\data\\Video_go_cart.mp4: 384x640 1 car, 1 boat, 932.4ms\n",
      "video 1/1 (frame 423/892) C:\\\\ 2\\data\\Video_go_cart.mp4: 384x640 1 car, 1 boat, 968.5ms\n",
      "video 1/1 (frame 424/892) C:\\\\ 2\\data\\Video_go_cart.mp4: 384x640 2 boats, 997.7ms\n",
      "video 1/1 (frame 425/892) C:\\\\ 2\\data\\Video_go_cart.mp4: 384x640 2 boats, 962.4ms\n",
      "video 1/1 (frame 426/892) C:\\\\ 2\\data\\Video_go_cart.mp4: 384x640 1 boat, 1005.6ms\n",
      "video 1/1 (frame 427/892) C:\\\\ 2\\data\\Video_go_cart.mp4: 384x640 1 car, 1 baseball bat, 981.2ms\n",
      "video 1/1 (frame 428/892) C:\\\\ 2\\data\\Video_go_cart.mp4: 384x640 1 car, 1 baseball bat, 938.5ms\n",
      "video 1/1 (frame 429/892) C:\\\\ 2\\data\\Video_go_cart.mp4: 384x640 1 car, 1 baseball bat, 786.3ms\n",
      "video 1/1 (frame 430/892) C:\\\\ 2\\data\\Video_go_cart.mp4: 384x640 1 car, 1 baseball bat, 1052.9ms\n",
      "video 1/1 (frame 431/892) C:\\\\ 2\\data\\Video_go_cart.mp4: 384x640 1 car, 2 baseball bats, 1 tennis racket, 935.6ms\n",
      "video 1/1 (frame 432/892) C:\\\\ 2\\data\\Video_go_cart.mp4: 384x640 1 car, 1 baseball bat, 1 tennis racket, 1007.2ms\n",
      "video 1/1 (frame 433/892) C:\\\\ 2\\data\\Video_go_cart.mp4: 384x640 1 car, 1 boat, 1 tennis racket, 813.8ms\n",
      "video 1/1 (frame 434/892) C:\\\\ 2\\data\\Video_go_cart.mp4: 384x640 1 tennis racket, 1066.8ms\n",
      "video 1/1 (frame 435/892) C:\\\\ 2\\data\\Video_go_cart.mp4: 384x640 1 car, 1 boat, 1 tennis racket, 844.1ms\n",
      "video 1/1 (frame 436/892) C:\\\\ 2\\data\\Video_go_cart.mp4: 384x640 1 car, 1 boat, 1 tennis racket, 908.2ms\n",
      "video 1/1 (frame 437/892) C:\\\\ 2\\data\\Video_go_cart.mp4: 384x640 1 boat, 1 tennis racket, 815.2ms\n",
      "video 1/1 (frame 438/892) C:\\\\ 2\\data\\Video_go_cart.mp4: 384x640 1 boat, 1 tennis racket, 852.5ms\n",
      "video 1/1 (frame 439/892) C:\\\\ 2\\data\\Video_go_cart.mp4: 384x640 1 boat, 1 tennis racket, 818.5ms\n",
      "video 1/1 (frame 440/892) C:\\\\ 2\\data\\Video_go_cart.mp4: 384x640 1 tennis racket, 830.3ms\n",
      "video 1/1 (frame 441/892) C:\\\\ 2\\data\\Video_go_cart.mp4: 384x640 1 boat, 1 tennis racket, 831.1ms\n",
      "video 1/1 (frame 442/892) C:\\\\ 2\\data\\Video_go_cart.mp4: 384x640 2 tennis rackets, 815.8ms\n",
      "video 1/1 (frame 443/892) C:\\\\ 2\\data\\Video_go_cart.mp4: 384x640 1 tennis racket, 810.4ms\n",
      "video 1/1 (frame 444/892) C:\\\\ 2\\data\\Video_go_cart.mp4: 384x640 1 boat, 1 tennis racket, 778.8ms\n",
      "video 1/1 (frame 445/892) C:\\\\ 2\\data\\Video_go_cart.mp4: 384x640 1 boat, 1 tennis racket, 946.7ms\n",
      "video 1/1 (frame 446/892) C:\\\\ 2\\data\\Video_go_cart.mp4: 384x640 1 boat, 1 tennis racket, 860.6ms\n",
      "video 1/1 (frame 447/892) C:\\\\ 2\\data\\Video_go_cart.mp4: 384x640 1 boat, 1 tennis racket, 822.4ms\n",
      "video 1/1 (frame 448/892) C:\\\\ 2\\data\\Video_go_cart.mp4: 384x640 1 boat, 787.2ms\n",
      "video 1/1 (frame 449/892) C:\\\\ 2\\data\\Video_go_cart.mp4: 384x640 1 boat, 844.7ms\n",
      "video 1/1 (frame 450/892) C:\\\\ 2\\data\\Video_go_cart.mp4: 384x640 1 boat, 833.0ms\n",
      "video 1/1 (frame 451/892) C:\\\\ 2\\data\\Video_go_cart.mp4: 384x640 1 car, 1 boat, 835.5ms\n",
      "video 1/1 (frame 452/892) C:\\\\ 2\\data\\Video_go_cart.mp4: 384x640 1 boat, 862.9ms\n",
      "video 1/1 (frame 453/892) C:\\\\ 2\\data\\Video_go_cart.mp4: 384x640 1 boat, 792.9ms\n",
      "video 1/1 (frame 454/892) C:\\\\ 2\\data\\Video_go_cart.mp4: 384x640 1 boat, 780.2ms\n",
      "video 1/1 (frame 455/892) C:\\\\ 2\\data\\Video_go_cart.mp4: 384x640 1 boat, 783.0ms\n",
      "video 1/1 (frame 456/892) C:\\\\ 2\\data\\Video_go_cart.mp4: 384x640 1 car, 1 boat, 770.3ms\n",
      "video 1/1 (frame 457/892) C:\\\\ 2\\data\\Video_go_cart.mp4: 384x640 1 boat, 786.8ms\n",
      "video 1/1 (frame 458/892) C:\\\\ 2\\data\\Video_go_cart.mp4: 384x640 1 person, 3 boats, 901.9ms\n",
      "video 1/1 (frame 459/892) C:\\\\ 2\\data\\Video_go_cart.mp4: 384x640 1 person, 1 motorcycle, 747.9ms\n",
      "video 1/1 (frame 460/892) C:\\\\ 2\\data\\Video_go_cart.mp4: 384x640 1 person, 1 motorcycle, 1 boat, 751.5ms\n",
      "video 1/1 (frame 461/892) C:\\\\ 2\\data\\Video_go_cart.mp4: 384x640 1 person, 1 motorcycle, 778.6ms\n",
      "video 1/1 (frame 462/892) C:\\\\ 2\\data\\Video_go_cart.mp4: 384x640 1 person, 1 motorcycle, 826.5ms\n",
      "video 1/1 (frame 463/892) C:\\\\ 2\\data\\Video_go_cart.mp4: 384x640 1 person, 1 motorcycle, 825.3ms\n",
      "video 1/1 (frame 464/892) C:\\\\ 2\\data\\Video_go_cart.mp4: 384x640 1 person, 2 cars, 899.0ms\n",
      "video 1/1 (frame 465/892) C:\\\\ 2\\data\\Video_go_cart.mp4: 384x640 1 person, 1 car, 1 motorcycle, 900.2ms\n",
      "video 1/1 (frame 466/892) C:\\\\ 2\\data\\Video_go_cart.mp4: 384x640 1 person, 1 car, 1 motorcycle, 775.3ms\n",
      "video 1/1 (frame 467/892) C:\\\\ 2\\data\\Video_go_cart.mp4: 384x640 1 person, 1 car, 1 motorcycle, 1 bus, 771.1ms\n",
      "video 1/1 (frame 468/892) C:\\\\ 2\\data\\Video_go_cart.mp4: 384x640 1 car, 783.0ms\n",
      "video 1/1 (frame 469/892) C:\\\\ 2\\data\\Video_go_cart.mp4: 384x640 1 person, 776.2ms\n",
      "video 1/1 (frame 470/892) C:\\\\ 2\\data\\Video_go_cart.mp4: 384x640 (no detections), 834.5ms\n",
      "video 1/1 (frame 471/892) C:\\\\ 2\\data\\Video_go_cart.mp4: 384x640 1 baseball bat, 791.5ms\n",
      "video 1/1 (frame 472/892) C:\\\\ 2\\data\\Video_go_cart.mp4: 384x640 1 person, 801.5ms\n",
      "video 1/1 (frame 473/892) C:\\\\ 2\\data\\Video_go_cart.mp4: 384x640 1 baseball bat, 830.2ms\n",
      "video 1/1 (frame 474/892) C:\\\\ 2\\data\\Video_go_cart.mp4: 384x640 1 skateboard, 1 cell phone, 793.9ms\n",
      "video 1/1 (frame 475/892) C:\\\\ 2\\data\\Video_go_cart.mp4: 384x640 1 baseball bat, 1 tennis racket, 802.8ms\n",
      "video 1/1 (frame 476/892) C:\\\\ 2\\data\\Video_go_cart.mp4: 384x640 1 baseball bat, 1 tennis racket, 1 cell phone, 773.1ms\n",
      "video 1/1 (frame 477/892) C:\\\\ 2\\data\\Video_go_cart.mp4: 384x640 2 tennis rackets, 867.9ms\n",
      "video 1/1 (frame 478/892) C:\\\\ 2\\data\\Video_go_cart.mp4: 384x640 2 tennis rackets, 777.1ms\n",
      "video 1/1 (frame 479/892) C:\\\\ 2\\data\\Video_go_cart.mp4: 384x640 2 tennis rackets, 749.0ms\n",
      "video 1/1 (frame 480/892) C:\\\\ 2\\data\\Video_go_cart.mp4: 384x640 2 tennis rackets, 788.6ms\n",
      "video 1/1 (frame 481/892) C:\\\\ 2\\data\\Video_go_cart.mp4: 384x640 2 tennis rackets, 798.9ms\n",
      "video 1/1 (frame 482/892) C:\\\\ 2\\data\\Video_go_cart.mp4: 384x640 (no detections), 789.3ms\n",
      "video 1/1 (frame 483/892) C:\\\\ 2\\data\\Video_go_cart.mp4: 384x640 (no detections), 726.3ms\n",
      "video 1/1 (frame 484/892) C:\\\\ 2\\data\\Video_go_cart.mp4: 384x640 (no detections), 756.7ms\n",
      "video 1/1 (frame 485/892) C:\\\\ 2\\data\\Video_go_cart.mp4: 384x640 1 boat, 733.3ms\n",
      "video 1/1 (frame 486/892) C:\\\\ 2\\data\\Video_go_cart.mp4: 384x640 1 boat, 746.4ms\n",
      "video 1/1 (frame 487/892) C:\\\\ 2\\data\\Video_go_cart.mp4: 384x640 1 boat, 785.0ms\n",
      "video 1/1 (frame 488/892) C:\\\\ 2\\data\\Video_go_cart.mp4: 384x640 1 car, 1 boat, 773.6ms\n",
      "video 1/1 (frame 489/892) C:\\\\ 2\\data\\Video_go_cart.mp4: 384x640 1 car, 1 boat, 1 cell phone, 754.2ms\n",
      "video 1/1 (frame 490/892) C:\\\\ 2\\data\\Video_go_cart.mp4: 384x640 1 car, 795.0ms\n",
      "video 1/1 (frame 491/892) C:\\\\ 2\\data\\Video_go_cart.mp4: 384x640 1 boat, 754.9ms\n",
      "video 1/1 (frame 492/892) C:\\\\ 2\\data\\Video_go_cart.mp4: 384x640 1 boat, 764.3ms\n",
      "video 1/1 (frame 493/892) C:\\\\ 2\\data\\Video_go_cart.mp4: 384x640 1 boat, 770.8ms\n",
      "video 1/1 (frame 494/892) C:\\\\ 2\\data\\Video_go_cart.mp4: 384x640 1 boat, 777.9ms\n",
      "video 1/1 (frame 495/892) C:\\\\ 2\\data\\Video_go_cart.mp4: 384x640 1 boat, 1015.5ms\n",
      "video 1/1 (frame 496/892) C:\\\\ 2\\data\\Video_go_cart.mp4: 384x640 1 boat, 1109.5ms\n",
      "video 1/1 (frame 497/892) C:\\\\ 2\\data\\Video_go_cart.mp4: 384x640 1 boat, 896.6ms\n",
      "video 1/1 (frame 498/892) C:\\\\ 2\\data\\Video_go_cart.mp4: 384x640 1 boat, 933.8ms\n",
      "video 1/1 (frame 499/892) C:\\\\ 2\\data\\Video_go_cart.mp4: 384x640 1 boat, 873.9ms\n",
      "video 1/1 (frame 500/892) C:\\\\ 2\\data\\Video_go_cart.mp4: 384x640 1 boat, 1048.1ms\n",
      "video 1/1 (frame 501/892) C:\\\\ 2\\data\\Video_go_cart.mp4: 384x640 1 boat, 989.1ms\n",
      "video 1/1 (frame 502/892) C:\\\\ 2\\data\\Video_go_cart.mp4: 384x640 (no detections), 1060.8ms\n",
      "video 1/1 (frame 503/892) C:\\\\ 2\\data\\Video_go_cart.mp4: 384x640 (no detections), 779.8ms\n",
      "video 1/1 (frame 504/892) C:\\\\ 2\\data\\Video_go_cart.mp4: 384x640 (no detections), 856.2ms\n",
      "video 1/1 (frame 505/892) C:\\\\ 2\\data\\Video_go_cart.mp4: 384x640 (no detections), 789.0ms\n",
      "video 1/1 (frame 506/892) C:\\\\ 2\\data\\Video_go_cart.mp4: 384x640 (no detections), 781.7ms\n",
      "video 1/1 (frame 507/892) C:\\\\ 2\\data\\Video_go_cart.mp4: 384x640 (no detections), 828.5ms\n",
      "video 1/1 (frame 508/892) C:\\\\ 2\\data\\Video_go_cart.mp4: 384x640 (no detections), 791.4ms\n",
      "video 1/1 (frame 509/892) C:\\\\ 2\\data\\Video_go_cart.mp4: 384x640 (no detections), 778.4ms\n",
      "video 1/1 (frame 510/892) C:\\\\ 2\\data\\Video_go_cart.mp4: 384x640 (no detections), 772.8ms\n",
      "video 1/1 (frame 511/892) C:\\\\ 2\\data\\Video_go_cart.mp4: 384x640 (no detections), 792.5ms\n",
      "video 1/1 (frame 512/892) C:\\\\ 2\\data\\Video_go_cart.mp4: 384x640 (no detections), 865.2ms\n",
      "video 1/1 (frame 513/892) C:\\\\ 2\\data\\Video_go_cart.mp4: 384x640 (no detections), 842.0ms\n",
      "video 1/1 (frame 514/892) C:\\\\ 2\\data\\Video_go_cart.mp4: 384x640 (no detections), 754.6ms\n",
      "video 1/1 (frame 515/892) C:\\\\ 2\\data\\Video_go_cart.mp4: 384x640 (no detections), 938.8ms\n",
      "video 1/1 (frame 516/892) C:\\\\ 2\\data\\Video_go_cart.mp4: 384x640 (no detections), 879.9ms\n",
      "video 1/1 (frame 517/892) C:\\\\ 2\\data\\Video_go_cart.mp4: 384x640 (no detections), 888.3ms\n",
      "video 1/1 (frame 518/892) C:\\\\ 2\\data\\Video_go_cart.mp4: 384x640 (no detections), 848.1ms\n",
      "video 1/1 (frame 519/892) C:\\\\ 2\\data\\Video_go_cart.mp4: 384x640 (no detections), 736.5ms\n",
      "video 1/1 (frame 520/892) C:\\\\ 2\\data\\Video_go_cart.mp4: 384x640 (no detections), 746.7ms\n",
      "video 1/1 (frame 521/892) C:\\\\ 2\\data\\Video_go_cart.mp4: 384x640 (no detections), 746.6ms\n",
      "video 1/1 (frame 522/892) C:\\\\ 2\\data\\Video_go_cart.mp4: 384x640 (no detections), 798.7ms\n",
      "video 1/1 (frame 523/892) C:\\\\ 2\\data\\Video_go_cart.mp4: 384x640 (no detections), 925.4ms\n",
      "video 1/1 (frame 524/892) C:\\\\ 2\\data\\Video_go_cart.mp4: 384x640 (no detections), 897.4ms\n",
      "video 1/1 (frame 525/892) C:\\\\ 2\\data\\Video_go_cart.mp4: 384x640 (no detections), 959.8ms\n",
      "video 1/1 (frame 526/892) C:\\\\ 2\\data\\Video_go_cart.mp4: 384x640 (no detections), 1062.8ms\n",
      "video 1/1 (frame 527/892) C:\\\\ 2\\data\\Video_go_cart.mp4: 384x640 (no detections), 1017.8ms\n",
      "video 1/1 (frame 528/892) C:\\\\ 2\\data\\Video_go_cart.mp4: 384x640 1 car, 770.0ms\n",
      "video 1/1 (frame 529/892) C:\\\\ 2\\data\\Video_go_cart.mp4: 384x640 1 car, 777.9ms\n",
      "video 1/1 (frame 530/892) C:\\\\ 2\\data\\Video_go_cart.mp4: 384x640 (no detections), 836.1ms\n",
      "video 1/1 (frame 531/892) C:\\\\ 2\\data\\Video_go_cart.mp4: 384x640 (no detections), 781.6ms\n",
      "video 1/1 (frame 532/892) C:\\\\ 2\\data\\Video_go_cart.mp4: 384x640 1 car, 1 airplane, 761.8ms\n",
      "video 1/1 (frame 533/892) C:\\\\ 2\\data\\Video_go_cart.mp4: 384x640 1 car, 753.3ms\n",
      "video 1/1 (frame 534/892) C:\\\\ 2\\data\\Video_go_cart.mp4: 384x640 1 car, 813.2ms\n",
      "video 1/1 (frame 535/892) C:\\\\ 2\\data\\Video_go_cart.mp4: 384x640 1 car, 924.6ms\n",
      "video 1/1 (frame 536/892) C:\\\\ 2\\data\\Video_go_cart.mp4: 384x640 1 airplane, 836.3ms\n",
      "video 1/1 (frame 537/892) C:\\\\ 2\\data\\Video_go_cart.mp4: 384x640 (no detections), 910.7ms\n",
      "video 1/1 (frame 538/892) C:\\\\ 2\\data\\Video_go_cart.mp4: 384x640 (no detections), 767.5ms\n",
      "video 1/1 (frame 539/892) C:\\\\ 2\\data\\Video_go_cart.mp4: 384x640 (no detections), 759.4ms\n",
      "video 1/1 (frame 540/892) C:\\\\ 2\\data\\Video_go_cart.mp4: 384x640 (no detections), 733.8ms\n",
      "video 1/1 (frame 541/892) C:\\\\ 2\\data\\Video_go_cart.mp4: 384x640 (no detections), 748.6ms\n",
      "video 1/1 (frame 542/892) C:\\\\ 2\\data\\Video_go_cart.mp4: 384x640 (no detections), 793.0ms\n",
      "video 1/1 (frame 543/892) C:\\\\ 2\\data\\Video_go_cart.mp4: 384x640 (no detections), 776.7ms\n",
      "video 1/1 (frame 544/892) C:\\\\ 2\\data\\Video_go_cart.mp4: 384x640 (no detections), 758.5ms\n",
      "video 1/1 (frame 545/892) C:\\\\ 2\\data\\Video_go_cart.mp4: 384x640 (no detections), 783.0ms\n",
      "video 1/1 (frame 546/892) C:\\\\ 2\\data\\Video_go_cart.mp4: 384x640 1 boat, 753.5ms\n",
      "video 1/1 (frame 547/892) C:\\\\ 2\\data\\Video_go_cart.mp4: 384x640 1 boat, 850.0ms\n",
      "video 1/1 (frame 548/892) C:\\\\ 2\\data\\Video_go_cart.mp4: 384x640 1 boat, 777.9ms\n",
      "video 1/1 (frame 549/892) C:\\\\ 2\\data\\Video_go_cart.mp4: 384x640 1 baseball bat, 813.8ms\n",
      "video 1/1 (frame 550/892) C:\\\\ 2\\data\\Video_go_cart.mp4: 384x640 1 baseball bat, 913.5ms\n",
      "video 1/1 (frame 551/892) C:\\\\ 2\\data\\Video_go_cart.mp4: 384x640 (no detections), 864.0ms\n",
      "video 1/1 (frame 552/892) C:\\\\ 2\\data\\Video_go_cart.mp4: 384x640 (no detections), 934.0ms\n",
      "video 1/1 (frame 553/892) C:\\\\ 2\\data\\Video_go_cart.mp4: 384x640 (no detections), 791.8ms\n",
      "video 1/1 (frame 554/892) C:\\\\ 2\\data\\Video_go_cart.mp4: 384x640 1 boat, 821.5ms\n",
      "video 1/1 (frame 555/892) C:\\\\ 2\\data\\Video_go_cart.mp4: 384x640 1 boat, 863.3ms\n",
      "video 1/1 (frame 556/892) C:\\\\ 2\\data\\Video_go_cart.mp4: 384x640 (no detections), 776.1ms\n",
      "video 1/1 (frame 557/892) C:\\\\ 2\\data\\Video_go_cart.mp4: 384x640 (no detections), 785.5ms\n",
      "video 1/1 (frame 558/892) C:\\\\ 2\\data\\Video_go_cart.mp4: 384x640 (no detections), 776.5ms\n",
      "video 1/1 (frame 559/892) C:\\\\ 2\\data\\Video_go_cart.mp4: 384x640 1 cell phone, 767.9ms\n",
      "video 1/1 (frame 560/892) C:\\\\ 2\\data\\Video_go_cart.mp4: 384x640 1 cell phone, 830.7ms\n",
      "video 1/1 (frame 561/892) C:\\\\ 2\\data\\Video_go_cart.mp4: 384x640 1 cell phone, 787.8ms\n",
      "video 1/1 (frame 562/892) C:\\\\ 2\\data\\Video_go_cart.mp4: 384x640 1 cell phone, 858.7ms\n",
      "video 1/1 (frame 563/892) C:\\\\ 2\\data\\Video_go_cart.mp4: 384x640 1 cell phone, 827.6ms\n",
      "video 1/1 (frame 564/892) C:\\\\ 2\\data\\Video_go_cart.mp4: 384x640 1 cell phone, 834.3ms\n",
      "video 1/1 (frame 565/892) C:\\\\ 2\\data\\Video_go_cart.mp4: 384x640 1 cell phone, 803.4ms\n",
      "video 1/1 (frame 566/892) C:\\\\ 2\\data\\Video_go_cart.mp4: 384x640 1 cell phone, 817.9ms\n",
      "video 1/1 (frame 567/892) C:\\\\ 2\\data\\Video_go_cart.mp4: 384x640 (no detections), 926.6ms\n",
      "video 1/1 (frame 568/892) C:\\\\ 2\\data\\Video_go_cart.mp4: 384x640 (no detections), 810.1ms\n",
      "video 1/1 (frame 569/892) C:\\\\ 2\\data\\Video_go_cart.mp4: 384x640 1 motorcycle, 855.5ms\n",
      "video 1/1 (frame 570/892) C:\\\\ 2\\data\\Video_go_cart.mp4: 384x640 1 cell phone, 857.7ms\n",
      "video 1/1 (frame 571/892) C:\\\\ 2\\data\\Video_go_cart.mp4: 384x640 (no detections), 1009.8ms\n",
      "video 1/1 (frame 572/892) C:\\\\ 2\\data\\Video_go_cart.mp4: 384x640 (no detections), 968.1ms\n",
      "video 1/1 (frame 573/892) C:\\\\ 2\\data\\Video_go_cart.mp4: 384x640 (no detections), 846.3ms\n",
      "video 1/1 (frame 574/892) C:\\\\ 2\\data\\Video_go_cart.mp4: 384x640 1 suitcase, 980.1ms\n",
      "video 1/1 (frame 575/892) C:\\\\ 2\\data\\Video_go_cart.mp4: 384x640 1 skateboard, 817.8ms\n",
      "video 1/1 (frame 576/892) C:\\\\ 2\\data\\Video_go_cart.mp4: 384x640 1 skateboard, 987.7ms\n",
      "video 1/1 (frame 577/892) C:\\\\ 2\\data\\Video_go_cart.mp4: 384x640 1 skateboard, 961.8ms\n",
      "video 1/1 (frame 578/892) C:\\\\ 2\\data\\Video_go_cart.mp4: 384x640 1 skateboard, 963.6ms\n",
      "video 1/1 (frame 579/892) C:\\\\ 2\\data\\Video_go_cart.mp4: 384x640 (no detections), 1191.0ms\n",
      "video 1/1 (frame 580/892) C:\\\\ 2\\data\\Video_go_cart.mp4: 384x640 (no detections), 1286.3ms\n",
      "video 1/1 (frame 581/892) C:\\\\ 2\\data\\Video_go_cart.mp4: 384x640 (no detections), 1052.3ms\n",
      "video 1/1 (frame 582/892) C:\\\\ 2\\data\\Video_go_cart.mp4: 384x640 (no detections), 1031.1ms\n",
      "video 1/1 (frame 583/892) C:\\\\ 2\\data\\Video_go_cart.mp4: 384x640 (no detections), 936.5ms\n",
      "video 1/1 (frame 584/892) C:\\\\ 2\\data\\Video_go_cart.mp4: 384x640 1 baseball bat, 1 toothbrush, 1016.8ms\n",
      "video 1/1 (frame 585/892) C:\\\\ 2\\data\\Video_go_cart.mp4: 384x640 1 toothbrush, 830.6ms\n",
      "video 1/1 (frame 586/892) C:\\\\ 2\\data\\Video_go_cart.mp4: 384x640 1 toothbrush, 866.0ms\n",
      "video 1/1 (frame 587/892) C:\\\\ 2\\data\\Video_go_cart.mp4: 384x640 1 toothbrush, 827.6ms\n",
      "video 1/1 (frame 588/892) C:\\\\ 2\\data\\Video_go_cart.mp4: 384x640 1 toothbrush, 803.6ms\n",
      "video 1/1 (frame 589/892) C:\\\\ 2\\data\\Video_go_cart.mp4: 384x640 1 toothbrush, 817.4ms\n",
      "video 1/1 (frame 590/892) C:\\\\ 2\\data\\Video_go_cart.mp4: 384x640 1 toothbrush, 799.9ms\n",
      "video 1/1 (frame 591/892) C:\\\\ 2\\data\\Video_go_cart.mp4: 384x640 (no detections), 819.1ms\n",
      "video 1/1 (frame 592/892) C:\\\\ 2\\data\\Video_go_cart.mp4: 384x640 1 scissors, 1 toothbrush, 780.4ms\n",
      "video 1/1 (frame 593/892) C:\\\\ 2\\data\\Video_go_cart.mp4: 384x640 1 toothbrush, 789.2ms\n",
      "video 1/1 (frame 594/892) C:\\\\ 2\\data\\Video_go_cart.mp4: 384x640 1 scissors, 821.4ms\n",
      "video 1/1 (frame 595/892) C:\\\\ 2\\data\\Video_go_cart.mp4: 384x640 1 scissors, 967.2ms\n",
      "video 1/1 (frame 596/892) C:\\\\ 2\\data\\Video_go_cart.mp4: 384x640 1 baseball bat, 868.1ms\n",
      "video 1/1 (frame 597/892) C:\\\\ 2\\data\\Video_go_cart.mp4: 384x640 1 baseball bat, 794.6ms\n",
      "video 1/1 (frame 598/892) C:\\\\ 2\\data\\Video_go_cart.mp4: 384x640 1 baseball bat, 816.8ms\n",
      "video 1/1 (frame 599/892) C:\\\\ 2\\data\\Video_go_cart.mp4: 384x640 1 scissors, 1018.6ms\n",
      "video 1/1 (frame 600/892) C:\\\\ 2\\data\\Video_go_cart.mp4: 384x640 (no detections), 798.4ms\n",
      "video 1/1 (frame 601/892) C:\\\\ 2\\data\\Video_go_cart.mp4: 384x640 1 boat, 816.3ms\n",
      "video 1/1 (frame 602/892) C:\\\\ 2\\data\\Video_go_cart.mp4: 384x640 1 boat, 794.0ms\n",
      "video 1/1 (frame 603/892) C:\\\\ 2\\data\\Video_go_cart.mp4: 384x640 1 boat, 823.0ms\n",
      "video 1/1 (frame 604/892) C:\\\\ 2\\data\\Video_go_cart.mp4: 384x640 1 boat, 918.6ms\n",
      "video 1/1 (frame 605/892) C:\\\\ 2\\data\\Video_go_cart.mp4: 384x640 1 boat, 902.2ms\n",
      "video 1/1 (frame 606/892) C:\\\\ 2\\data\\Video_go_cart.mp4: 384x640 1 boat, 1462.1ms\n",
      "video 1/1 (frame 607/892) C:\\\\ 2\\data\\Video_go_cart.mp4: 384x640 1 boat, 866.7ms\n",
      "video 1/1 (frame 608/892) C:\\\\ 2\\data\\Video_go_cart.mp4: 384x640 (no detections), 929.3ms\n",
      "video 1/1 (frame 609/892) C:\\\\ 2\\data\\Video_go_cart.mp4: 384x640 1 kite, 887.2ms\n",
      "video 1/1 (frame 610/892) C:\\\\ 2\\data\\Video_go_cart.mp4: 384x640 (no detections), 901.2ms\n",
      "video 1/1 (frame 611/892) C:\\\\ 2\\data\\Video_go_cart.mp4: 384x640 1 kite, 849.6ms\n",
      "video 1/1 (frame 612/892) C:\\\\ 2\\data\\Video_go_cart.mp4: 384x640 (no detections), 789.9ms\n",
      "video 1/1 (frame 613/892) C:\\\\ 2\\data\\Video_go_cart.mp4: 384x640 (no detections), 837.3ms\n",
      "video 1/1 (frame 614/892) C:\\\\ 2\\data\\Video_go_cart.mp4: 384x640 (no detections), 971.7ms\n",
      "video 1/1 (frame 615/892) C:\\\\ 2\\data\\Video_go_cart.mp4: 384x640 (no detections), 830.5ms\n",
      "video 1/1 (frame 616/892) C:\\\\ 2\\data\\Video_go_cart.mp4: 384x640 (no detections), 776.3ms\n",
      "video 1/1 (frame 617/892) C:\\\\ 2\\data\\Video_go_cart.mp4: 384x640 1 person, 785.2ms\n",
      "video 1/1 (frame 618/892) C:\\\\ 2\\data\\Video_go_cart.mp4: 384x640 (no detections), 772.5ms\n",
      "video 1/1 (frame 619/892) C:\\\\ 2\\data\\Video_go_cart.mp4: 384x640 1 kite, 776.3ms\n",
      "video 1/1 (frame 620/892) C:\\\\ 2\\data\\Video_go_cart.mp4: 384x640 1 kite, 793.5ms\n",
      "video 1/1 (frame 621/892) C:\\\\ 2\\data\\Video_go_cart.mp4: 384x640 (no detections), 819.0ms\n",
      "video 1/1 (frame 622/892) C:\\\\ 2\\data\\Video_go_cart.mp4: 384x640 (no detections), 866.4ms\n",
      "video 1/1 (frame 623/892) C:\\\\ 2\\data\\Video_go_cart.mp4: 384x640 (no detections), 811.7ms\n",
      "video 1/1 (frame 624/892) C:\\\\ 2\\data\\Video_go_cart.mp4: 384x640 (no detections), 779.7ms\n",
      "video 1/1 (frame 625/892) C:\\\\ 2\\data\\Video_go_cart.mp4: 384x640 (no detections), 792.9ms\n",
      "video 1/1 (frame 626/892) C:\\\\ 2\\data\\Video_go_cart.mp4: 384x640 1 tennis racket, 772.5ms\n",
      "video 1/1 (frame 627/892) C:\\\\ 2\\data\\Video_go_cart.mp4: 384x640 (no detections), 749.4ms\n",
      "video 1/1 (frame 628/892) C:\\\\ 2\\data\\Video_go_cart.mp4: 384x640 (no detections), 782.3ms\n",
      "video 1/1 (frame 629/892) C:\\\\ 2\\data\\Video_go_cart.mp4: 384x640 (no detections), 814.2ms\n",
      "video 1/1 (frame 630/892) C:\\\\ 2\\data\\Video_go_cart.mp4: 384x640 1 baseball bat, 763.8ms\n",
      "video 1/1 (frame 631/892) C:\\\\ 2\\data\\Video_go_cart.mp4: 384x640 (no detections), 770.8ms\n",
      "video 1/1 (frame 632/892) C:\\\\ 2\\data\\Video_go_cart.mp4: 384x640 (no detections), 876.4ms\n",
      "video 1/1 (frame 633/892) C:\\\\ 2\\data\\Video_go_cart.mp4: 384x640 (no detections), 777.8ms\n",
      "video 1/1 (frame 634/892) C:\\\\ 2\\data\\Video_go_cart.mp4: 384x640 (no detections), 760.2ms\n",
      "video 1/1 (frame 635/892) C:\\\\ 2\\data\\Video_go_cart.mp4: 384x640 (no detections), 778.4ms\n",
      "video 1/1 (frame 636/892) C:\\\\ 2\\data\\Video_go_cart.mp4: 384x640 (no detections), 771.5ms\n",
      "video 1/1 (frame 637/892) C:\\\\ 2\\data\\Video_go_cart.mp4: 384x640 (no detections), 763.2ms\n",
      "video 1/1 (frame 638/892) C:\\\\ 2\\data\\Video_go_cart.mp4: 384x640 (no detections), 797.0ms\n",
      "video 1/1 (frame 639/892) C:\\\\ 2\\data\\Video_go_cart.mp4: 384x640 (no detections), 862.3ms\n",
      "video 1/1 (frame 640/892) C:\\\\ 2\\data\\Video_go_cart.mp4: 384x640 (no detections), 748.4ms\n",
      "video 1/1 (frame 641/892) C:\\\\ 2\\data\\Video_go_cart.mp4: 384x640 (no detections), 754.4ms\n",
      "video 1/1 (frame 642/892) C:\\\\ 2\\data\\Video_go_cart.mp4: 384x640 (no detections), 755.2ms\n",
      "video 1/1 (frame 643/892) C:\\\\ 2\\data\\Video_go_cart.mp4: 384x640 (no detections), 722.0ms\n",
      "video 1/1 (frame 644/892) C:\\\\ 2\\data\\Video_go_cart.mp4: 384x640 (no detections), 737.6ms\n",
      "video 1/1 (frame 645/892) C:\\\\ 2\\data\\Video_go_cart.mp4: 384x640 (no detections), 744.4ms\n",
      "video 1/1 (frame 646/892) C:\\\\ 2\\data\\Video_go_cart.mp4: 384x640 (no detections), 722.2ms\n",
      "video 1/1 (frame 647/892) C:\\\\ 2\\data\\Video_go_cart.mp4: 384x640 (no detections), 713.9ms\n",
      "video 1/1 (frame 648/892) C:\\\\ 2\\data\\Video_go_cart.mp4: 384x640 1 skateboard, 758.1ms\n",
      "video 1/1 (frame 649/892) C:\\\\ 2\\data\\Video_go_cart.mp4: 384x640 (no detections), 765.3ms\n",
      "video 1/1 (frame 650/892) C:\\\\ 2\\data\\Video_go_cart.mp4: 384x640 (no detections), 731.9ms\n",
      "video 1/1 (frame 651/892) C:\\\\ 2\\data\\Video_go_cart.mp4: 384x640 (no detections), 728.6ms\n",
      "video 1/1 (frame 652/892) C:\\\\ 2\\data\\Video_go_cart.mp4: 384x640 (no detections), 749.0ms\n",
      "video 1/1 (frame 653/892) C:\\\\ 2\\data\\Video_go_cart.mp4: 384x640 (no detections), 730.0ms\n",
      "video 1/1 (frame 654/892) C:\\\\ 2\\data\\Video_go_cart.mp4: 384x640 (no detections), 742.7ms\n",
      "video 1/1 (frame 655/892) C:\\\\ 2\\data\\Video_go_cart.mp4: 384x640 (no detections), 719.4ms\n",
      "video 1/1 (frame 656/892) C:\\\\ 2\\data\\Video_go_cart.mp4: 384x640 (no detections), 725.4ms\n",
      "video 1/1 (frame 657/892) C:\\\\ 2\\data\\Video_go_cart.mp4: 384x640 (no detections), 728.8ms\n",
      "video 1/1 (frame 658/892) C:\\\\ 2\\data\\Video_go_cart.mp4: 384x640 (no detections), 743.0ms\n",
      "video 1/1 (frame 659/892) C:\\\\ 2\\data\\Video_go_cart.mp4: 384x640 (no detections), 788.8ms\n",
      "video 1/1 (frame 660/892) C:\\\\ 2\\data\\Video_go_cart.mp4: 384x640 (no detections), 731.0ms\n",
      "video 1/1 (frame 661/892) C:\\\\ 2\\data\\Video_go_cart.mp4: 384x640 (no detections), 749.4ms\n",
      "video 1/1 (frame 662/892) C:\\\\ 2\\data\\Video_go_cart.mp4: 384x640 (no detections), 735.8ms\n",
      "video 1/1 (frame 663/892) C:\\\\ 2\\data\\Video_go_cart.mp4: 384x640 (no detections), 727.6ms\n",
      "video 1/1 (frame 664/892) C:\\\\ 2\\data\\Video_go_cart.mp4: 384x640 (no detections), 731.1ms\n",
      "video 1/1 (frame 665/892) C:\\\\ 2\\data\\Video_go_cart.mp4: 384x640 (no detections), 733.3ms\n",
      "video 1/1 (frame 666/892) C:\\\\ 2\\data\\Video_go_cart.mp4: 384x640 (no detections), 753.2ms\n",
      "video 1/1 (frame 667/892) C:\\\\ 2\\data\\Video_go_cart.mp4: 384x640 (no detections), 722.1ms\n",
      "video 1/1 (frame 668/892) C:\\\\ 2\\data\\Video_go_cart.mp4: 384x640 1 keyboard, 812.4ms\n",
      "video 1/1 (frame 669/892) C:\\\\ 2\\data\\Video_go_cart.mp4: 384x640 1 keyboard, 755.7ms\n",
      "video 1/1 (frame 670/892) C:\\\\ 2\\data\\Video_go_cart.mp4: 384x640 1 keyboard, 784.1ms\n",
      "video 1/1 (frame 671/892) C:\\\\ 2\\data\\Video_go_cart.mp4: 384x640 (no detections), 750.8ms\n",
      "video 1/1 (frame 672/892) C:\\\\ 2\\data\\Video_go_cart.mp4: 384x640 (no detections), 710.6ms\n",
      "video 1/1 (frame 673/892) C:\\\\ 2\\data\\Video_go_cart.mp4: 384x640 (no detections), 717.4ms\n",
      "video 1/1 (frame 674/892) C:\\\\ 2\\data\\Video_go_cart.mp4: 384x640 (no detections), 729.0ms\n",
      "video 1/1 (frame 675/892) C:\\\\ 2\\data\\Video_go_cart.mp4: 384x640 (no detections), 721.5ms\n",
      "video 1/1 (frame 676/892) C:\\\\ 2\\data\\Video_go_cart.mp4: 384x640 (no detections), 714.3ms\n",
      "video 1/1 (frame 677/892) C:\\\\ 2\\data\\Video_go_cart.mp4: 384x640 (no detections), 752.9ms\n",
      "video 1/1 (frame 678/892) C:\\\\ 2\\data\\Video_go_cart.mp4: 384x640 (no detections), 736.1ms\n",
      "video 1/1 (frame 679/892) C:\\\\ 2\\data\\Video_go_cart.mp4: 384x640 (no detections), 780.5ms\n",
      "video 1/1 (frame 680/892) C:\\\\ 2\\data\\Video_go_cart.mp4: 384x640 (no detections), 777.7ms\n",
      "video 1/1 (frame 681/892) C:\\\\ 2\\data\\Video_go_cart.mp4: 384x640 (no detections), 725.0ms\n",
      "video 1/1 (frame 682/892) C:\\\\ 2\\data\\Video_go_cart.mp4: 384x640 1 keyboard, 719.1ms\n",
      "video 1/1 (frame 683/892) C:\\\\ 2\\data\\Video_go_cart.mp4: 384x640 1 train, 765.9ms\n",
      "video 1/1 (frame 684/892) C:\\\\ 2\\data\\Video_go_cart.mp4: 384x640 1 train, 837.6ms\n",
      "video 1/1 (frame 685/892) C:\\\\ 2\\data\\Video_go_cart.mp4: 384x640 1 train, 739.0ms\n",
      "video 1/1 (frame 686/892) C:\\\\ 2\\data\\Video_go_cart.mp4: 384x640 1 keyboard, 760.7ms\n",
      "video 1/1 (frame 687/892) C:\\\\ 2\\data\\Video_go_cart.mp4: 384x640 1 keyboard, 775.6ms\n",
      "video 1/1 (frame 688/892) C:\\\\ 2\\data\\Video_go_cart.mp4: 384x640 (no detections), 826.5ms\n",
      "video 1/1 (frame 689/892) C:\\\\ 2\\data\\Video_go_cart.mp4: 384x640 1 skis, 735.4ms\n",
      "video 1/1 (frame 690/892) C:\\\\ 2\\data\\Video_go_cart.mp4: 384x640 1 tie, 739.5ms\n",
      "video 1/1 (frame 691/892) C:\\\\ 2\\data\\Video_go_cart.mp4: 384x640 (no detections), 776.3ms\n",
      "video 1/1 (frame 692/892) C:\\\\ 2\\data\\Video_go_cart.mp4: 384x640 1 tie, 715.8ms\n",
      "video 1/1 (frame 693/892) C:\\\\ 2\\data\\Video_go_cart.mp4: 384x640 (no detections), 817.9ms\n",
      "video 1/1 (frame 694/892) C:\\\\ 2\\data\\Video_go_cart.mp4: 384x640 (no detections), 769.6ms\n",
      "video 1/1 (frame 695/892) C:\\\\ 2\\data\\Video_go_cart.mp4: 384x640 1 umbrella, 720.8ms\n",
      "video 1/1 (frame 696/892) C:\\\\ 2\\data\\Video_go_cart.mp4: 384x640 (no detections), 774.2ms\n",
      "video 1/1 (frame 697/892) C:\\\\ 2\\data\\Video_go_cart.mp4: 384x640 1 airplane, 745.2ms\n",
      "video 1/1 (frame 698/892) C:\\\\ 2\\data\\Video_go_cart.mp4: 384x640 (no detections), 793.5ms\n",
      "video 1/1 (frame 699/892) C:\\\\ 2\\data\\Video_go_cart.mp4: 384x640 1 umbrella, 779.6ms\n",
      "video 1/1 (frame 700/892) C:\\\\ 2\\data\\Video_go_cart.mp4: 384x640 (no detections), 764.8ms\n",
      "video 1/1 (frame 701/892) C:\\\\ 2\\data\\Video_go_cart.mp4: 384x640 1 umbrella, 753.2ms\n",
      "video 1/1 (frame 702/892) C:\\\\ 2\\data\\Video_go_cart.mp4: 384x640 1 umbrella, 759.3ms\n",
      "video 1/1 (frame 703/892) C:\\\\ 2\\data\\Video_go_cart.mp4: 384x640 1 airplane, 1 umbrella, 830.8ms\n",
      "video 1/1 (frame 704/892) C:\\\\ 2\\data\\Video_go_cart.mp4: 384x640 1 airplane, 1206.1ms\n",
      "video 1/1 (frame 705/892) C:\\\\ 2\\data\\Video_go_cart.mp4: 384x640 1 airplane, 1207.6ms\n",
      "video 1/1 (frame 706/892) C:\\\\ 2\\data\\Video_go_cart.mp4: 384x640 1 airplane, 1251.5ms\n",
      "video 1/1 (frame 707/892) C:\\\\ 2\\data\\Video_go_cart.mp4: 384x640 (no detections), 1252.9ms\n",
      "video 1/1 (frame 708/892) C:\\\\ 2\\data\\Video_go_cart.mp4: 384x640 (no detections), 1301.5ms\n",
      "video 1/1 (frame 709/892) C:\\\\ 2\\data\\Video_go_cart.mp4: 384x640 (no detections), 1628.3ms\n",
      "video 1/1 (frame 710/892) C:\\\\ 2\\data\\Video_go_cart.mp4: 384x640 1 airplane, 1248.2ms\n",
      "video 1/1 (frame 711/892) C:\\\\ 2\\data\\Video_go_cart.mp4: 384x640 (no detections), 1275.1ms\n",
      "video 1/1 (frame 712/892) C:\\\\ 2\\data\\Video_go_cart.mp4: 384x640 (no detections), 1324.5ms\n",
      "video 1/1 (frame 713/892) C:\\\\ 2\\data\\Video_go_cart.mp4: 384x640 (no detections), 1263.2ms\n",
      "video 1/1 (frame 714/892) C:\\\\ 2\\data\\Video_go_cart.mp4: 384x640 (no detections), 1259.2ms\n",
      "video 1/1 (frame 715/892) C:\\\\ 2\\data\\Video_go_cart.mp4: 384x640 1 airplane, 1326.7ms\n",
      "video 1/1 (frame 716/892) C:\\\\ 2\\data\\Video_go_cart.mp4: 384x640 (no detections), 1443.1ms\n",
      "video 1/1 (frame 717/892) C:\\\\ 2\\data\\Video_go_cart.mp4: 384x640 (no detections), 1288.9ms\n",
      "video 1/1 (frame 718/892) C:\\\\ 2\\data\\Video_go_cart.mp4: 384x640 (no detections), 1304.7ms\n",
      "video 1/1 (frame 719/892) C:\\\\ 2\\data\\Video_go_cart.mp4: 384x640 (no detections), 1331.1ms\n",
      "video 1/1 (frame 720/892) C:\\\\ 2\\data\\Video_go_cart.mp4: 384x640 (no detections), 1258.1ms\n",
      "video 1/1 (frame 721/892) C:\\\\ 2\\data\\Video_go_cart.mp4: 384x640 (no detections), 1332.1ms\n",
      "video 1/1 (frame 722/892) C:\\\\ 2\\data\\Video_go_cart.mp4: 384x640 (no detections), 1274.7ms\n",
      "video 1/1 (frame 723/892) C:\\\\ 2\\data\\Video_go_cart.mp4: 384x640 (no detections), 1255.7ms\n",
      "video 1/1 (frame 724/892) C:\\\\ 2\\data\\Video_go_cart.mp4: 384x640 (no detections), 1350.1ms\n",
      "video 1/1 (frame 725/892) C:\\\\ 2\\data\\Video_go_cart.mp4: 384x640 (no detections), 1233.3ms\n",
      "video 1/1 (frame 726/892) C:\\\\ 2\\data\\Video_go_cart.mp4: 384x640 1 person, 1 skis, 1174.2ms\n",
      "video 1/1 (frame 727/892) C:\\\\ 2\\data\\Video_go_cart.mp4: 384x640 2 skiss, 753.0ms\n",
      "video 1/1 (frame 728/892) C:\\\\ 2\\data\\Video_go_cart.mp4: 384x640 1 skis, 831.1ms\n",
      "video 1/1 (frame 729/892) C:\\\\ 2\\data\\Video_go_cart.mp4: 384x640 1 person, 1 skis, 814.9ms\n",
      "video 1/1 (frame 730/892) C:\\\\ 2\\data\\Video_go_cart.mp4: 384x640 (no detections), 886.5ms\n",
      "video 1/1 (frame 731/892) C:\\\\ 2\\data\\Video_go_cart.mp4: 384x640 (no detections), 771.9ms\n",
      "video 1/1 (frame 732/892) C:\\\\ 2\\data\\Video_go_cart.mp4: 384x640 (no detections), 747.7ms\n",
      "video 1/1 (frame 733/892) C:\\\\ 2\\data\\Video_go_cart.mp4: 384x640 (no detections), 816.5ms\n",
      "video 1/1 (frame 734/892) C:\\\\ 2\\data\\Video_go_cart.mp4: 384x640 1 skis, 775.2ms\n",
      "video 1/1 (frame 735/892) C:\\\\ 2\\data\\Video_go_cart.mp4: 384x640 (no detections), 771.6ms\n",
      "video 1/1 (frame 736/892) C:\\\\ 2\\data\\Video_go_cart.mp4: 384x640 (no detections), 781.0ms\n",
      "video 1/1 (frame 737/892) C:\\\\ 2\\data\\Video_go_cart.mp4: 384x640 1 skateboard, 744.9ms\n",
      "video 1/1 (frame 738/892) C:\\\\ 2\\data\\Video_go_cart.mp4: 384x640 (no detections), 820.1ms\n",
      "video 1/1 (frame 739/892) C:\\\\ 2\\data\\Video_go_cart.mp4: 384x640 (no detections), 800.1ms\n",
      "video 1/1 (frame 740/892) C:\\\\ 2\\data\\Video_go_cart.mp4: 384x640 (no detections), 769.0ms\n",
      "video 1/1 (frame 741/892) C:\\\\ 2\\data\\Video_go_cart.mp4: 384x640 (no detections), 759.7ms\n",
      "video 1/1 (frame 742/892) C:\\\\ 2\\data\\Video_go_cart.mp4: 384x640 (no detections), 801.3ms\n",
      "video 1/1 (frame 743/892) C:\\\\ 2\\data\\Video_go_cart.mp4: 384x640 (no detections), 758.3ms\n",
      "video 1/1 (frame 744/892) C:\\\\ 2\\data\\Video_go_cart.mp4: 384x640 1 car, 778.3ms\n",
      "video 1/1 (frame 745/892) C:\\\\ 2\\data\\Video_go_cart.mp4: 384x640 (no detections), 835.0ms\n",
      "video 1/1 (frame 746/892) C:\\\\ 2\\data\\Video_go_cart.mp4: 384x640 1 airplane, 726.5ms\n",
      "video 1/1 (frame 747/892) C:\\\\ 2\\data\\Video_go_cart.mp4: 384x640 (no detections), 894.9ms\n",
      "video 1/1 (frame 748/892) C:\\\\ 2\\data\\Video_go_cart.mp4: 384x640 (no detections), 822.7ms\n",
      "video 1/1 (frame 749/892) C:\\\\ 2\\data\\Video_go_cart.mp4: 384x640 (no detections), 794.0ms\n",
      "video 1/1 (frame 750/892) C:\\\\ 2\\data\\Video_go_cart.mp4: 384x640 1 car, 833.1ms\n",
      "video 1/1 (frame 751/892) C:\\\\ 2\\data\\Video_go_cart.mp4: 384x640 1 car, 789.2ms\n",
      "video 1/1 (frame 752/892) C:\\\\ 2\\data\\Video_go_cart.mp4: 384x640 1 car, 793.5ms\n",
      "video 1/1 (frame 753/892) C:\\\\ 2\\data\\Video_go_cart.mp4: 384x640 1 car, 839.4ms\n",
      "video 1/1 (frame 754/892) C:\\\\ 2\\data\\Video_go_cart.mp4: 384x640 1 car, 1290.5ms\n",
      "video 1/1 (frame 755/892) C:\\\\ 2\\data\\Video_go_cart.mp4: 384x640 1 car, 1146.4ms\n",
      "video 1/1 (frame 756/892) C:\\\\ 2\\data\\Video_go_cart.mp4: 384x640 (no detections), 797.2ms\n",
      "video 1/1 (frame 757/892) C:\\\\ 2\\data\\Video_go_cart.mp4: 384x640 (no detections), 828.0ms\n",
      "video 1/1 (frame 758/892) C:\\\\ 2\\data\\Video_go_cart.mp4: 384x640 (no detections), 795.8ms\n",
      "video 1/1 (frame 759/892) C:\\\\ 2\\data\\Video_go_cart.mp4: 384x640 (no detections), 780.7ms\n",
      "video 1/1 (frame 760/892) C:\\\\ 2\\data\\Video_go_cart.mp4: 384x640 (no detections), 781.1ms\n",
      "video 1/1 (frame 761/892) C:\\\\ 2\\data\\Video_go_cart.mp4: 384x640 (no detections), 731.3ms\n",
      "video 1/1 (frame 762/892) C:\\\\ 2\\data\\Video_go_cart.mp4: 384x640 (no detections), 745.9ms\n",
      "video 1/1 (frame 763/892) C:\\\\ 2\\data\\Video_go_cart.mp4: 384x640 (no detections), 764.1ms\n",
      "video 1/1 (frame 764/892) C:\\\\ 2\\data\\Video_go_cart.mp4: 384x640 1 bus, 1 train, 751.1ms\n",
      "video 1/1 (frame 765/892) C:\\\\ 2\\data\\Video_go_cart.mp4: 384x640 1 train, 781.2ms\n",
      "video 1/1 (frame 766/892) C:\\\\ 2\\data\\Video_go_cart.mp4: 384x640 1 train, 828.5ms\n",
      "video 1/1 (frame 767/892) C:\\\\ 2\\data\\Video_go_cart.mp4: 384x640 1 train, 799.0ms\n",
      "video 1/1 (frame 768/892) C:\\\\ 2\\data\\Video_go_cart.mp4: 384x640 1 train, 814.0ms\n",
      "video 1/1 (frame 769/892) C:\\\\ 2\\data\\Video_go_cart.mp4: 384x640 1 train, 786.6ms\n",
      "video 1/1 (frame 770/892) C:\\\\ 2\\data\\Video_go_cart.mp4: 384x640 (no detections), 857.7ms\n",
      "video 1/1 (frame 771/892) C:\\\\ 2\\data\\Video_go_cart.mp4: 384x640 (no detections), 776.3ms\n",
      "video 1/1 (frame 772/892) C:\\\\ 2\\data\\Video_go_cart.mp4: 384x640 (no detections), 742.3ms\n",
      "video 1/1 (frame 773/892) C:\\\\ 2\\data\\Video_go_cart.mp4: 384x640 (no detections), 760.6ms\n",
      "video 1/1 (frame 774/892) C:\\\\ 2\\data\\Video_go_cart.mp4: 384x640 (no detections), 760.2ms\n",
      "video 1/1 (frame 775/892) C:\\\\ 2\\data\\Video_go_cart.mp4: 384x640 (no detections), 791.9ms\n",
      "video 1/1 (frame 776/892) C:\\\\ 2\\data\\Video_go_cart.mp4: 384x640 (no detections), 776.1ms\n",
      "video 1/1 (frame 777/892) C:\\\\ 2\\data\\Video_go_cart.mp4: 384x640 (no detections), 762.3ms\n",
      "video 1/1 (frame 778/892) C:\\\\ 2\\data\\Video_go_cart.mp4: 384x640 (no detections), 760.2ms\n",
      "video 1/1 (frame 779/892) C:\\\\ 2\\data\\Video_go_cart.mp4: 384x640 1 train, 779.7ms\n",
      "video 1/1 (frame 780/892) C:\\\\ 2\\data\\Video_go_cart.mp4: 384x640 (no detections), 783.4ms\n",
      "video 1/1 (frame 781/892) C:\\\\ 2\\data\\Video_go_cart.mp4: 384x640 (no detections), 760.3ms\n",
      "video 1/1 (frame 782/892) C:\\\\ 2\\data\\Video_go_cart.mp4: 384x640 (no detections), 772.4ms\n",
      "video 1/1 (frame 783/892) C:\\\\ 2\\data\\Video_go_cart.mp4: 384x640 (no detections), 752.5ms\n",
      "video 1/1 (frame 784/892) C:\\\\ 2\\data\\Video_go_cart.mp4: 384x640 (no detections), 747.1ms\n",
      "video 1/1 (frame 785/892) C:\\\\ 2\\data\\Video_go_cart.mp4: 384x640 1 tie, 760.9ms\n",
      "video 1/1 (frame 786/892) C:\\\\ 2\\data\\Video_go_cart.mp4: 384x640 1 tie, 829.2ms\n",
      "video 1/1 (frame 787/892) C:\\\\ 2\\data\\Video_go_cart.mp4: 384x640 1 tie, 817.9ms\n",
      "video 1/1 (frame 788/892) C:\\\\ 2\\data\\Video_go_cart.mp4: 384x640 (no detections), 912.9ms\n",
      "video 1/1 (frame 789/892) C:\\\\ 2\\data\\Video_go_cart.mp4: 384x640 1 tie, 857.7ms\n",
      "video 1/1 (frame 790/892) C:\\\\ 2\\data\\Video_go_cart.mp4: 384x640 (no detections), 816.2ms\n",
      "video 1/1 (frame 791/892) C:\\\\ 2\\data\\Video_go_cart.mp4: 384x640 (no detections), 783.4ms\n",
      "video 1/1 (frame 792/892) C:\\\\ 2\\data\\Video_go_cart.mp4: 384x640 1 tie, 756.6ms\n",
      "video 1/1 (frame 793/892) C:\\\\ 2\\data\\Video_go_cart.mp4: 384x640 (no detections), 814.0ms\n",
      "video 1/1 (frame 794/892) C:\\\\ 2\\data\\Video_go_cart.mp4: 384x640 (no detections), 777.1ms\n",
      "video 1/1 (frame 795/892) C:\\\\ 2\\data\\Video_go_cart.mp4: 384x640 (no detections), 771.3ms\n",
      "video 1/1 (frame 796/892) C:\\\\ 2\\data\\Video_go_cart.mp4: 384x640 (no detections), 760.2ms\n",
      "video 1/1 (frame 797/892) C:\\\\ 2\\data\\Video_go_cart.mp4: 384x640 (no detections), 773.7ms\n",
      "video 1/1 (frame 798/892) C:\\\\ 2\\data\\Video_go_cart.mp4: 384x640 (no detections), 764.0ms\n",
      "video 1/1 (frame 799/892) C:\\\\ 2\\data\\Video_go_cart.mp4: 384x640 (no detections), 783.9ms\n",
      "video 1/1 (frame 800/892) C:\\\\ 2\\data\\Video_go_cart.mp4: 384x640 (no detections), 773.1ms\n",
      "video 1/1 (frame 801/892) C:\\\\ 2\\data\\Video_go_cart.mp4: 384x640 1 kite, 767.4ms\n",
      "video 1/1 (frame 802/892) C:\\\\ 2\\data\\Video_go_cart.mp4: 384x640 1 kite, 789.3ms\n",
      "video 1/1 (frame 803/892) C:\\\\ 2\\data\\Video_go_cart.mp4: 384x640 1 kite, 800.1ms\n",
      "video 1/1 (frame 804/892) C:\\\\ 2\\data\\Video_go_cart.mp4: 384x640 1 kite, 958.2ms\n",
      "video 1/1 (frame 805/892) C:\\\\ 2\\data\\Video_go_cart.mp4: 384x640 1 kite, 945.9ms\n",
      "video 1/1 (frame 806/892) C:\\\\ 2\\data\\Video_go_cart.mp4: 384x640 1 kite, 867.5ms\n",
      "video 1/1 (frame 807/892) C:\\\\ 2\\data\\Video_go_cart.mp4: 384x640 1 kite, 836.0ms\n",
      "video 1/1 (frame 808/892) C:\\\\ 2\\data\\Video_go_cart.mp4: 384x640 (no detections), 793.0ms\n",
      "video 1/1 (frame 809/892) C:\\\\ 2\\data\\Video_go_cart.mp4: 384x640 (no detections), 768.5ms\n",
      "video 1/1 (frame 810/892) C:\\\\ 2\\data\\Video_go_cart.mp4: 384x640 (no detections), 791.1ms\n",
      "video 1/1 (frame 811/892) C:\\\\ 2\\data\\Video_go_cart.mp4: 384x640 (no detections), 763.6ms\n",
      "video 1/1 (frame 812/892) C:\\\\ 2\\data\\Video_go_cart.mp4: 384x640 (no detections), 759.0ms\n",
      "video 1/1 (frame 813/892) C:\\\\ 2\\data\\Video_go_cart.mp4: 384x640 (no detections), 782.5ms\n",
      "video 1/1 (frame 814/892) C:\\\\ 2\\data\\Video_go_cart.mp4: 384x640 (no detections), 777.4ms\n",
      "video 1/1 (frame 815/892) C:\\\\ 2\\data\\Video_go_cart.mp4: 384x640 (no detections), 763.3ms\n",
      "video 1/1 (frame 816/892) C:\\\\ 2\\data\\Video_go_cart.mp4: 384x640 (no detections), 769.7ms\n",
      "video 1/1 (frame 817/892) C:\\\\ 2\\data\\Video_go_cart.mp4: 384x640 (no detections), 867.0ms\n",
      "video 1/1 (frame 818/892) C:\\\\ 2\\data\\Video_go_cart.mp4: 384x640 (no detections), 828.3ms\n",
      "video 1/1 (frame 819/892) C:\\\\ 2\\data\\Video_go_cart.mp4: 384x640 (no detections), 772.1ms\n",
      "video 1/1 (frame 820/892) C:\\\\ 2\\data\\Video_go_cart.mp4: 384x640 (no detections), 785.0ms\n",
      "video 1/1 (frame 821/892) C:\\\\ 2\\data\\Video_go_cart.mp4: 384x640 (no detections), 802.4ms\n",
      "video 1/1 (frame 822/892) C:\\\\ 2\\data\\Video_go_cart.mp4: 384x640 1 scissors, 904.3ms\n",
      "video 1/1 (frame 823/892) C:\\\\ 2\\data\\Video_go_cart.mp4: 384x640 1 cell phone, 800.9ms\n",
      "video 1/1 (frame 824/892) C:\\\\ 2\\data\\Video_go_cart.mp4: 384x640 (no detections), 792.1ms\n",
      "video 1/1 (frame 825/892) C:\\\\ 2\\data\\Video_go_cart.mp4: 384x640 (no detections), 794.1ms\n",
      "video 1/1 (frame 826/892) C:\\\\ 2\\data\\Video_go_cart.mp4: 384x640 1 airplane, 780.5ms\n",
      "video 1/1 (frame 827/892) C:\\\\ 2\\data\\Video_go_cart.mp4: 384x640 (no detections), 921.3ms\n",
      "video 1/1 (frame 828/892) C:\\\\ 2\\data\\Video_go_cart.mp4: 384x640 (no detections), 974.2ms\n",
      "video 1/1 (frame 829/892) C:\\\\ 2\\data\\Video_go_cart.mp4: 384x640 (no detections), 984.9ms\n",
      "video 1/1 (frame 830/892) C:\\\\ 2\\data\\Video_go_cart.mp4: 384x640 (no detections), 909.3ms\n",
      "video 1/1 (frame 831/892) C:\\\\ 2\\data\\Video_go_cart.mp4: 384x640 (no detections), 866.7ms\n",
      "video 1/1 (frame 832/892) C:\\\\ 2\\data\\Video_go_cart.mp4: 384x640 (no detections), 984.5ms\n",
      "video 1/1 (frame 833/892) C:\\\\ 2\\data\\Video_go_cart.mp4: 384x640 (no detections), 975.2ms\n",
      "video 1/1 (frame 834/892) C:\\\\ 2\\data\\Video_go_cart.mp4: 384x640 (no detections), 831.4ms\n",
      "video 1/1 (frame 835/892) C:\\\\ 2\\data\\Video_go_cart.mp4: 384x640 (no detections), 937.1ms\n",
      "video 1/1 (frame 836/892) C:\\\\ 2\\data\\Video_go_cart.mp4: 384x640 (no detections), 928.7ms\n",
      "video 1/1 (frame 837/892) C:\\\\ 2\\data\\Video_go_cart.mp4: 384x640 (no detections), 882.2ms\n",
      "video 1/1 (frame 838/892) C:\\\\ 2\\data\\Video_go_cart.mp4: 384x640 (no detections), 916.2ms\n",
      "video 1/1 (frame 839/892) C:\\\\ 2\\data\\Video_go_cart.mp4: 384x640 (no detections), 863.3ms\n",
      "video 1/1 (frame 840/892) C:\\\\ 2\\data\\Video_go_cart.mp4: 384x640 (no detections), 878.8ms\n",
      "video 1/1 (frame 841/892) C:\\\\ 2\\data\\Video_go_cart.mp4: 384x640 (no detections), 890.1ms\n",
      "video 1/1 (frame 842/892) C:\\\\ 2\\data\\Video_go_cart.mp4: 384x640 (no detections), 1010.9ms\n",
      "video 1/1 (frame 843/892) C:\\\\ 2\\data\\Video_go_cart.mp4: 384x640 (no detections), 1004.0ms\n",
      "video 1/1 (frame 844/892) C:\\\\ 2\\data\\Video_go_cart.mp4: 384x640 (no detections), 1168.6ms\n",
      "video 1/1 (frame 845/892) C:\\\\ 2\\data\\Video_go_cart.mp4: 384x640 (no detections), 1081.4ms\n",
      "video 1/1 (frame 846/892) C:\\\\ 2\\data\\Video_go_cart.mp4: 384x640 (no detections), 959.2ms\n",
      "video 1/1 (frame 847/892) C:\\\\ 2\\data\\Video_go_cart.mp4: 384x640 (no detections), 1046.9ms\n",
      "video 1/1 (frame 848/892) C:\\\\ 2\\data\\Video_go_cart.mp4: 384x640 (no detections), 977.7ms\n",
      "video 1/1 (frame 849/892) C:\\\\ 2\\data\\Video_go_cart.mp4: 384x640 (no detections), 956.5ms\n",
      "video 1/1 (frame 850/892) C:\\\\ 2\\data\\Video_go_cart.mp4: 384x640 (no detections), 973.3ms\n",
      "video 1/1 (frame 851/892) C:\\\\ 2\\data\\Video_go_cart.mp4: 384x640 (no detections), 965.3ms\n",
      "video 1/1 (frame 852/892) C:\\\\ 2\\data\\Video_go_cart.mp4: 384x640 (no detections), 962.0ms\n",
      "video 1/1 (frame 853/892) C:\\\\ 2\\data\\Video_go_cart.mp4: 384x640 (no detections), 860.2ms\n",
      "video 1/1 (frame 854/892) C:\\\\ 2\\data\\Video_go_cart.mp4: 384x640 (no detections), 816.9ms\n",
      "video 1/1 (frame 855/892) C:\\\\ 2\\data\\Video_go_cart.mp4: 384x640 (no detections), 833.3ms\n",
      "video 1/1 (frame 856/892) C:\\\\ 2\\data\\Video_go_cart.mp4: 384x640 (no detections), 840.0ms\n",
      "video 1/1 (frame 857/892) C:\\\\ 2\\data\\Video_go_cart.mp4: 384x640 (no detections), 883.8ms\n",
      "video 1/1 (frame 858/892) C:\\\\ 2\\data\\Video_go_cart.mp4: 384x640 (no detections), 937.6ms\n",
      "video 1/1 (frame 859/892) C:\\\\ 2\\data\\Video_go_cart.mp4: 384x640 (no detections), 866.0ms\n",
      "video 1/1 (frame 860/892) C:\\\\ 2\\data\\Video_go_cart.mp4: 384x640 (no detections), 946.8ms\n",
      "video 1/1 (frame 861/892) C:\\\\ 2\\data\\Video_go_cart.mp4: 384x640 (no detections), 918.0ms\n",
      "video 1/1 (frame 862/892) C:\\\\ 2\\data\\Video_go_cart.mp4: 384x640 (no detections), 898.9ms\n",
      "video 1/1 (frame 863/892) C:\\\\ 2\\data\\Video_go_cart.mp4: 384x640 (no detections), 980.5ms\n",
      "video 1/1 (frame 864/892) C:\\\\ 2\\data\\Video_go_cart.mp4: 384x640 1 train, 920.5ms\n",
      "video 1/1 (frame 865/892) C:\\\\ 2\\data\\Video_go_cart.mp4: 384x640 (no detections), 833.0ms\n",
      "video 1/1 (frame 866/892) C:\\\\ 2\\data\\Video_go_cart.mp4: 384x640 (no detections), 806.4ms\n",
      "video 1/1 (frame 867/892) C:\\\\ 2\\data\\Video_go_cart.mp4: 384x640 (no detections), 872.3ms\n",
      "video 1/1 (frame 868/892) C:\\\\ 2\\data\\Video_go_cart.mp4: 384x640 (no detections), 799.7ms\n",
      "video 1/1 (frame 869/892) C:\\\\ 2\\data\\Video_go_cart.mp4: 384x640 (no detections), 808.3ms\n",
      "video 1/1 (frame 870/892) C:\\\\ 2\\data\\Video_go_cart.mp4: 384x640 (no detections), 816.1ms\n",
      "video 1/1 (frame 871/892) C:\\\\ 2\\data\\Video_go_cart.mp4: 384x640 (no detections), 789.9ms\n",
      "video 1/1 (frame 872/892) C:\\\\ 2\\data\\Video_go_cart.mp4: 384x640 1 train, 814.6ms\n",
      "video 1/1 (frame 873/892) C:\\\\ 2\\data\\Video_go_cart.mp4: 384x640 1 train, 831.3ms\n",
      "video 1/1 (frame 874/892) C:\\\\ 2\\data\\Video_go_cart.mp4: 384x640 1 train, 903.4ms\n",
      "video 1/1 (frame 875/892) C:\\\\ 2\\data\\Video_go_cart.mp4: 384x640 1 train, 942.2ms\n",
      "video 1/1 (frame 876/892) C:\\\\ 2\\data\\Video_go_cart.mp4: 384x640 1 train, 893.5ms\n",
      "video 1/1 (frame 877/892) C:\\\\ 2\\data\\Video_go_cart.mp4: 384x640 1 train, 828.0ms\n",
      "video 1/1 (frame 878/892) C:\\\\ 2\\data\\Video_go_cart.mp4: 384x640 1 train, 854.0ms\n",
      "video 1/1 (frame 879/892) C:\\\\ 2\\data\\Video_go_cart.mp4: 384x640 1 train, 833.5ms\n",
      "video 1/1 (frame 880/892) C:\\\\ 2\\data\\Video_go_cart.mp4: 384x640 1 train, 844.5ms\n",
      "video 1/1 (frame 881/892) C:\\\\ 2\\data\\Video_go_cart.mp4: 384x640 (no detections), 1020.4ms\n",
      "video 1/1 (frame 882/892) C:\\\\ 2\\data\\Video_go_cart.mp4: 384x640 1 bus, 869.7ms\n",
      "video 1/1 (frame 883/892) C:\\\\ 2\\data\\Video_go_cart.mp4: 384x640 1 car, 1 bus, 1 boat, 1116.6ms\n",
      "video 1/1 (frame 884/892) C:\\\\ 2\\data\\Video_go_cart.mp4: 384x640 1 car, 1 boat, 1030.9ms\n",
      "video 1/1 (frame 885/892) C:\\\\ 2\\data\\Video_go_cart.mp4: 384x640 1 car, 1 boat, 939.5ms\n",
      "video 1/1 (frame 886/892) C:\\\\ 2\\data\\Video_go_cart.mp4: 384x640 1 boat, 866.4ms\n",
      "video 1/1 (frame 887/892) C:\\\\ 2\\data\\Video_go_cart.mp4: 384x640 1 boat, 858.0ms\n",
      "video 1/1 (frame 888/892) C:\\\\ 2\\data\\Video_go_cart.mp4: 384x640 (no detections), 837.8ms\n",
      "video 1/1 (frame 889/892) C:\\\\ 2\\data\\Video_go_cart.mp4: 384x640 (no detections), 826.3ms\n",
      "video 1/1 (frame 890/892) C:\\\\ 2\\data\\Video_go_cart.mp4: 384x640 (no detections), 869.9ms\n",
      "video 1/1 (frame 891/892) C:\\\\ 2\\data\\Video_go_cart.mp4: 384x640 (no detections), 797.2ms\n",
      "video 1/1 (frame 892/892) C:\\\\ 2\\data\\Video_go_cart.mp4: 384x640 (no detections), 779.1ms\n",
      "Speed: 3.8ms preprocess, 837.7ms inference, 1.4ms postprocess per image at shape (1, 3, 384, 640)\n"
     ]
    }
   ],
   "source": [
    "from ultralytics.data.annotator import auto_annotate\n",
    "\n",
    "\n",
    "# return the annotation in the Ultralytics YOLO segmentation format.\n",
    "# output directory i.e assets_auto_annotate_labels\n",
    "auto_annotate(data=\"C:\\ИТМО\\НИР 2\\data\\Video_go_cart.mp4\",\n",
    "              det_model=\"yolo11x.pt\",\n",
    "              sam_model=\"sam_b.pt\")"
   ]
  },
  {
   "cell_type": "code",
   "execution_count": null,
   "id": "248e197d",
   "metadata": {},
   "outputs": [],
   "source": []
  }
 ],
 "metadata": {
  "kernelspec": {
   "display_name": "Python 3",
   "language": "python",
   "name": "python3"
  },
  "language_info": {
   "codemirror_mode": {
    "name": "ipython",
    "version": 3
   },
   "file_extension": ".py",
   "mimetype": "text/x-python",
   "name": "python",
   "nbconvert_exporter": "python",
   "pygments_lexer": "ipython3",
   "version": "3.13.3"
  }
 },
 "nbformat": 4,
 "nbformat_minor": 5
}
